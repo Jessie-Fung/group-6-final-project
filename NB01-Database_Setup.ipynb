{
 "cells": [
  {
   "cell_type": "markdown",
   "id": "83736cf2",
   "metadata": {},
   "source": [
    "# 1. 🤗 Set up a Postgres database to store the Huggingface Climate Policy Radar dataset.\n",
    "\n",
    "Refer to README.md for instructions on setting up the Postgres database."
   ]
  },
  {
   "cell_type": "code",
   "execution_count": null,
   "id": "0dd415c7",
   "metadata": {},
   "outputs": [],
   "source": [
    "import os\n",
    "import regex as re\n",
    "from tqdm.notebook import tqdm\n",
    "from dotenv import load_dotenv\n",
    "import pandas as pd\n",
    "import numpy as np\n",
    "import pgai\n",
    "import torch\n",
    "import glob\n",
    "from transformers import AutoTokenizer, AutoModel, AutoModelForMaskedLM\n",
    "from datasets import load_dataset, Features, Value\n",
    "from functions import generate_embeddings_for_text\n",
    "from sqlalchemy import create_engine, text\n",
    "\n",
    "tqdm.pandas()"
   ]
  },
  {
   "cell_type": "markdown",
   "id": "bd2c7a37",
   "metadata": {},
   "source": [
    "## 1. Load the Huggingface dataset."
   ]
  },
  {
   "cell_type": "code",
   "execution_count": 5,
   "id": "e4b6dc7b",
   "metadata": {},
   "outputs": [
    {
     "data": {
      "application/vnd.jupyter.widget-view+json": {
       "model_id": "8f76fafd81504fa08c83f7e0bdae61dd",
       "version_major": 2,
       "version_minor": 0
      },
      "text/plain": [
       "Resolving data files:   0%|          | 0/23 [00:00<?, ?it/s]"
      ]
     },
     "metadata": {},
     "output_type": "display_data"
    },
    {
     "data": {
      "application/vnd.jupyter.widget-view+json": {
       "model_id": "c96e2a81e2d341b69401857084187d08",
       "version_major": 2,
       "version_minor": 0
      },
      "text/plain": [
       "Loading dataset shards:   0%|          | 0/42 [00:00<?, ?it/s]"
      ]
     },
     "metadata": {},
     "output_type": "display_data"
    }
   ],
   "source": [
    "# Login using e.g. `huggingface-cli login` in the command line to access this dataset\n",
    "\n",
    "ds = load_dataset(\"ClimatePolicyRadar/all-document-text-data\")\n",
    "ds = ds[\"train\"]\n",
    "flat_ds = ds.flatten()"
   ]
  },
  {
   "cell_type": "markdown",
   "id": "c3982d64",
   "metadata": {},
   "source": [
    "## 2. Save 100000 chunks in the \"climate_policy_radar\" table.\n",
    "\n",
    "The table contains all documents from the Climate Policy Radar dataset, with each row representing a chunk and all associated metadata stored in individual columns."
   ]
  },
  {
   "cell_type": "code",
   "execution_count": null,
   "id": "6244adc8",
   "metadata": {},
   "outputs": [],
   "source": [
    "def store_database_batched(flat_ds, batch_size=10000):\n",
    "    \"\"\"\n",
    "    Store the flattened dataset into a PostgreSQL database using SQLAlchemy in chunks with progress bar.\n",
    "    \n",
    "    Args:\n",
    "        flat_ds (list): Flattened dataset to be stored.\n",
    "        chunk_size (int): Number of rows per chunk for batch insertion.\n",
    "    \"\"\"\n",
    "    load_dotenv()\n",
    "    from tqdm.notebook import tqdm as notebook_tqdm\n",
    "\n",
    "    df = pd.DataFrame(flat_ds)\n",
    "    engine = create_engine(os.getenv(\"DB_URL\"))\n",
    "\n",
    "    # Initialize table with first chunk\n",
    "    df.iloc[:0].to_sql('climate_policy_radar', engine, if_exists='replace', index=False)\n",
    "\n",
    "    # Iterate through chunks with progress bar\n",
    "    for i in notebook_tqdm(range(0, len(df), batch_size), desc=\"Inserting chunks to DB\"):\n",
    "        chunk = df.iloc[i:i+batch_size]\n",
    "        chunk.to_sql('climate_policy_radar', engine, if_exists='append', index=False)"
   ]
  },
  {
   "cell_type": "code",
   "execution_count": null,
   "id": "ad0db019",
   "metadata": {},
   "outputs": [],
   "source": [
    "store_database_batched(flat_ds)"
   ]
  }
 ],
 "metadata": {
  "kernelspec": {
   "display_name": ".venv",
   "language": "python",
   "name": "python3"
  },
  "language_info": {
   "codemirror_mode": {
    "name": "ipython",
    "version": 3
   },
   "file_extension": ".py",
   "mimetype": "text/x-python",
   "name": "python",
   "nbconvert_exporter": "python",
   "pygments_lexer": "ipython3",
   "version": "3.12.0"
  }
 },
 "nbformat": 4,
 "nbformat_minor": 5
}
