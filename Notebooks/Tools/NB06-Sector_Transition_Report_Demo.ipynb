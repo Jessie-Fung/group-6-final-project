{
 "cells": [
  {
   "cell_type": "markdown",
   "id": "229433f7",
   "metadata": {},
   "source": [
    "# Sector Transition Report Demo\n",
    "\n",
    "Aim Create short report on sectoral transition in given country and sector, answering key questions relevant to ASCOR analysts\n",
    "\n",
    "Input: sector, country\n",
    "\n",
    "Output: one paragraph answer to key questions\n",
    "\n",
    "Key questions:\n",
    "\n",
    "1. Have they set a net zero target?\n",
    "2. Have they quantified the level of their targets?\n",
    "3. (CHALLENGING) How has the legislation of this country changed in the past 50 years? Break into time periods, each evaluated by a different LLM and summarize\n",
    "\n",
    "Compile into markdown with enforced format\n",
    "\n",
    "Here is the markdown template \n",
    "\n",
    "ASCOR Sectoral Transition Report\n",
    "Executive Summary\n",
    "Country: [COUNTRY NAME]\n",
    "Sector: [SECTOR NAME]\n",
    "Key Findings\n",
    "1. Net Zero Target Assessment\n",
    "Question: Have they set a net zero target?\n",
    "\n",
    "[One paragraph response analyzing whether the specified country has established net zero commitments for the given sector. Include timeline details, scope of coverage, and any conditional aspects of the target.]\n",
    "\n",
    "Key Details:\n",
    "\n",
    "Target Date: [DATE or \"Not Set\"]\n",
    "Scope: [Economy-wide/Sectoral/Conditional]\n",
    "Legal Status: [Legally Binding/Policy Commitment/Aspirational]\n",
    "Confidence in Assessment:\n",
    "\n",
    "2. Legislative Evolution Assessment\n",
    "Question: How has the legislation of this country changed in the past 50 years?\n",
    "\n",
    "[One paragraph response analyzing the evolution of climate and sectoral legislation over the past five decades. Focus on major policy shifts, regulatory frameworks, and legislative milestones relevant to the specified sector.]\n",
    "\n",
    "Legislative Timeline:\n",
    "\n",
    "1970s-1980s: [Key developments]\n",
    "1990s-2000s: [Key developments]\n",
    "2010s-Present: [Key developments]\n",
    "Confidence in Assessment:"
   ]
  },
  {
   "cell_type": "markdown",
   "id": "cb282837",
   "metadata": {},
   "source": [
    "### 0. Setup\n"
   ]
  },
  {
   "cell_type": "code",
   "execution_count": null,
   "id": "0d6ab88c",
   "metadata": {},
   "outputs": [],
   "source": [
    "# Import necessary modules\n",
    "import sys\n",
    "import os\n",
    "from pathlib import Path\n",
    "\n",
    "# Get the absolute path of the project root directory\n",
    "notebook_dir = Path(os.getcwd())  \n",
    "project_root = notebook_dir.parent.parent  # Go up TWO levels instead of one\n",
    "\n",
    "# Add project root to Python path\n",
    "if str(project_root) not in sys.path:\n",
    "    sys.path.insert(0, str(project_root))\n",
    "    print(f\"Added {project_root} to sys.path\")\n",
    "\n",
    "\n",
    "from scripts.climate_policy_pipelines.sectoral_analysis.pipeline import (\n",
    "    generate_ascor_report, \n",
    "    format_report_as_markdown\n",
    ")"
   ]
  },
  {
   "cell_type": "markdown",
   "id": "f25b272d",
   "metadata": {},
   "source": [
    "## 1. Run It\n",
    "\n",
    "Lets see how it does for the US and the power sector:"
   ]
  },
  {
   "cell_type": "code",
   "execution_count": null,
   "id": "70cbd34e",
   "metadata": {},
   "outputs": [],
   "source": [
    "country = \"United States\"\n",
    "sector = \"Power\"\n",
    "\n",
    "report = generate_ascor_report(country=country, sector=sector)\n",
    "\n",
    "markdown_report = format_report_as_markdown(report)\n",
    "display(Markdown(markdown_report))"
   ]
  }
 ],
 "metadata": {
  "language_info": {
   "name": "python"
  }
 },
 "nbformat": 4,
 "nbformat_minor": 5
}
