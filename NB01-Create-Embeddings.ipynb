{
 "cells": [
  {
   "cell_type": "markdown",
   "id": "83736cf2",
   "metadata": {},
   "source": [
    "# 1. Set up the Huggingface Climate Policy Radar dataset."
   ]
  },
  {
   "cell_type": "code",
   "execution_count": 13,
   "id": "0dd415c7",
   "metadata": {},
   "outputs": [],
   "source": [
    "import os\n",
    "import regex as re\n",
    "from tqdm.notebook import tqdm\n",
    "from dotenv import load_dotenv\n",
    "import pandas as pd\n",
    "import numpy as np\n",
    "import torch\n",
    "import pgai\n",
    "from transformers import AutoTokenizer, AutoModel, AutoModelForMaskedLM\n",
    "from datasets import load_dataset, Features, Value\n",
    "from functions import generate_embeddings_for_text\n",
    "\n",
    "tqdm.pandas()"
   ]
  },
  {
   "cell_type": "code",
   "execution_count": 14,
   "id": "e4b6dc7b",
   "metadata": {},
   "outputs": [
    {
     "data": {
      "application/vnd.jupyter.widget-view+json": {
       "model_id": "93271bbe14844903bd6661fcbb16af2f",
       "version_major": 2,
       "version_minor": 0
      },
      "text/plain": [
       "Resolving data files:   0%|          | 0/23 [00:00<?, ?it/s]"
      ]
     },
     "metadata": {},
     "output_type": "display_data"
    },
    {
     "data": {
      "application/vnd.jupyter.widget-view+json": {
       "model_id": "0010eea3fd724b29a3729e0ccf54a14a",
       "version_major": 2,
       "version_minor": 0
      },
      "text/plain": [
       "Loading dataset shards:   0%|          | 0/42 [00:00<?, ?it/s]"
      ]
     },
     "metadata": {},
     "output_type": "display_data"
    }
   ],
   "source": [
    "# Login using e.g. `huggingface-cli login` in command line to access this dataset\n",
    "\n",
    "ds = load_dataset(\"ClimatePolicyRadar/all-document-text-data\")\n",
    "ds = ds[\"train\"]"
   ]
  },
  {
   "cell_type": "code",
   "execution_count": 15,
   "id": "d5735275",
   "metadata": {},
   "outputs": [
    {
     "data": {
      "text/plain": [
       "{'document_id': Value(dtype='string', id=None),\n",
       " 'document_metadata.collection_summary': Value(dtype='string', id=None),\n",
       " 'document_metadata.collection_title': Value(dtype='string', id=None),\n",
       " 'document_metadata.corpus_type_name': Value(dtype='string', id=None),\n",
       " 'document_metadata.corpus_import_id': Value(dtype='string', id=None),\n",
       " 'document_metadata.category': Value(dtype='string', id=None),\n",
       " 'document_metadata.description': Value(dtype='string', id=None),\n",
       " 'document_metadata.document_title': Value(dtype='string', id=None),\n",
       " 'document_metadata.family_import_id': Value(dtype='string', id=None),\n",
       " 'document_metadata.family_slug': Value(dtype='string', id=None),\n",
       " 'document_metadata.geographies': Sequence(feature=Value(dtype='string', id=None), length=-1, id=None),\n",
       " 'document_metadata.import_id': Value(dtype='string', id=None),\n",
       " 'document_metadata.languages': Sequence(feature=Value(dtype='string', id=None), length=-1, id=None),\n",
       " 'document_metadata.metadata': {'author': Sequence(feature=Value(dtype='string', id=None), length=-1, id=None),\n",
       "  'author_type': Sequence(feature=Value(dtype='string', id=None), length=-1, id=None),\n",
       "  'framework': Sequence(feature=Value(dtype='string', id=None), length=-1, id=None),\n",
       "  'hazard': Sequence(feature=Value(dtype='string', id=None), length=-1, id=None),\n",
       "  'instrument': Sequence(feature=Value(dtype='string', id=None), length=-1, id=None),\n",
       "  'keyword': Sequence(feature=Value(dtype='string', id=None), length=-1, id=None),\n",
       "  'sector': Sequence(feature=Value(dtype='string', id=None), length=-1, id=None),\n",
       "  'topic': Sequence(feature=Value(dtype='string', id=None), length=-1, id=None)},\n",
       " 'document_metadata.family_title': Value(dtype='string', id=None),\n",
       " 'document_metadata.publication_ts': Value(dtype='string', id=None),\n",
       " 'document_metadata.slug': Value(dtype='string', id=None),\n",
       " 'document_metadata.source': Value(dtype='string', id=None),\n",
       " 'document_metadata.source_url': Value(dtype='string', id=None),\n",
       " 'document_metadata.type': Value(dtype='string', id=None),\n",
       " 'document_cdn_object': Value(dtype='string', id=None),\n",
       " 'document_content_type': Value(dtype='string', id=None),\n",
       " 'document_md5_sum': Value(dtype='string', id=None),\n",
       " 'languages': Sequence(feature=Value(dtype='string', id=None), length=-1, id=None),\n",
       " 'document_metadata.translated': Value(dtype='bool', id=None),\n",
       " 'pdf_data_page_metadata.dimensions': Sequence(feature=Value(dtype='float64', id=None), length=-1, id=None),\n",
       " '_html_data.detected_title': Value(dtype='string', id=None),\n",
       " '_html_data.detected_date': Value(dtype='string', id=None),\n",
       " '_html_data.has_valid_text': Value(dtype='bool', id=None),\n",
       " 'pipeline_metadata.parser_metadata': {'azure_api_version': Value(dtype='string', id=None),\n",
       "  'azure_model_id': Value(dtype='string', id=None),\n",
       "  'parsing_date': Value(dtype='string', id=None)},\n",
       " 'text_block.text_block_id': Value(dtype='string', id=None),\n",
       " 'text_block.language': Value(dtype='string', id=None),\n",
       " 'text_block.type': Value(dtype='string', id=None),\n",
       " 'text_block.type_confidence': Value(dtype='float64', id=None),\n",
       " 'text_block.coords': Sequence(feature=Sequence(feature=Value(dtype='float64', id=None), length=-1, id=None), length=-1, id=None),\n",
       " 'text_block.page_number': Value(dtype='int64', id=None),\n",
       " 'text_block.text': Value(dtype='string', id=None),\n",
       " 'text_block.index': Value(dtype='int64', id=None)}"
      ]
     },
     "execution_count": 15,
     "metadata": {},
     "output_type": "execute_result"
    }
   ],
   "source": [
    "ds.features"
   ]
  },
  {
   "cell_type": "code",
   "execution_count": 16,
   "id": "2ad46e40",
   "metadata": {},
   "outputs": [],
   "source": [
    "flat_ds = ds.flatten()"
   ]
  },
  {
   "cell_type": "code",
   "execution_count": 17,
   "id": "a91f6e8d",
   "metadata": {},
   "outputs": [
    {
     "name": "stdout",
     "output_type": "stream",
     "text": [
      "<class 'str'>\n",
      "<class 'NoneType'>\n",
      "<class 'NoneType'>\n",
      "<class 'str'>\n",
      "<class 'str'>\n",
      "<class 'str'>\n",
      "<class 'str'>\n",
      "<class 'str'>\n",
      "<class 'str'>\n",
      "<class 'str'>\n",
      "<class 'list'>\n",
      "<class 'str'>\n",
      "<class 'list'>\n",
      "<class 'NoneType'>\n",
      "<class 'NoneType'>\n",
      "<class 'NoneType'>\n",
      "<class 'NoneType'>\n",
      "<class 'NoneType'>\n",
      "<class 'NoneType'>\n",
      "<class 'NoneType'>\n",
      "<class 'NoneType'>\n",
      "<class 'str'>\n",
      "<class 'str'>\n",
      "<class 'str'>\n",
      "<class 'str'>\n",
      "<class 'str'>\n",
      "<class 'str'>\n",
      "<class 'str'>\n",
      "<class 'str'>\n",
      "<class 'str'>\n",
      "<class 'list'>\n",
      "<class 'bool'>\n",
      "<class 'list'>\n",
      "<class 'NoneType'>\n",
      "<class 'NoneType'>\n",
      "<class 'NoneType'>\n",
      "<class 'str'>\n",
      "<class 'str'>\n",
      "<class 'str'>\n",
      "<class 'str'>\n",
      "<class 'str'>\n",
      "<class 'str'>\n",
      "<class 'float'>\n",
      "<class 'list'>\n",
      "<class 'int'>\n",
      "<class 'str'>\n",
      "<class 'int'>\n"
     ]
    }
   ],
   "source": [
    "for key in flat_ds.features.keys():\n",
    "    print(type(flat_ds[18:19][key][0]))"
   ]
  },
  {
   "cell_type": "markdown",
   "id": "c3982d64",
   "metadata": {},
   "source": [
    "## Save 100000 chunks in Postgres"
   ]
  },
  {
   "cell_type": "code",
   "execution_count": null,
   "id": "cbf79a6c",
   "metadata": {},
   "outputs": [
    {
     "data": {
      "text/plain": [
       "615"
      ]
     },
     "execution_count": 10,
     "metadata": {},
     "output_type": "execute_result"
    }
   ],
   "source": [
    "from sqlalchemy import create_engine\n",
    "batch_df = pd.DataFrame(flat_ds[:100000])\n",
    "# Set up the database connection using SQLAlchemy\n",
    "engine = create_engine(os.getenv(\"DB_URL\"))\n",
    "\n",
    "# Write the pandas DataFrame to the PostgreSQL database\n",
    "batch_df.to_sql('climate_policy_radar', engine, if_exists='replace', index=False)"
   ]
  },
  {
   "cell_type": "markdown",
   "id": "cba6fa35",
   "metadata": {},
   "source": [
    "## Attempt to change arrays to strings for entire dataset\n",
    "\n",
    "Just keeping this here for future reference. I don't think it's needed"
   ]
  },
  {
   "cell_type": "code",
   "execution_count": null,
   "id": "11704184",
   "metadata": {},
   "outputs": [],
   "source": [
    "def array_to_string(batch):\n",
    "    keys_to_process = [\n",
    "        \"document_metadata.geographies\",\n",
    "        \"document_metadata.languages\",\n",
    "        \"languages\",\n",
    "        \"pdf_data_page_metadata.dimensions\",\n",
    "        \"text_block.coords\"\n",
    "    ]\n",
    "    for key in keys_to_process:\n",
    "        # Convert numpy arrays to lists\n",
    "        batch[key] = [str(x) for x in batch[key]]\n",
    "    return batch"
   ]
  },
  {
   "cell_type": "code",
   "execution_count": null,
   "id": "5b8469ad",
   "metadata": {},
   "outputs": [],
   "source": [
    "# Apply the function to the dataset\n",
    "flat_ds = flat_ds.map(array_to_string, batched = True)"
   ]
  },
  {
   "cell_type": "markdown",
   "id": "471ce453",
   "metadata": {},
   "source": [
    "# 2. Embeddings generation\n",
    "\n",
    "## 2.1 Load climateBERT"
   ]
  },
  {
   "cell_type": "code",
   "execution_count": 11,
   "id": "00dd9a22",
   "metadata": {},
   "outputs": [],
   "source": [
    "EMBEDDING_MODEL_LOCAL_DIR = os.getenv('EMBEDDING_MODEL_LOCAL_DIR')\n",
    "EMBEDDING_MODEL = os.getenv(\"EMBEDDING_MODEL\")"
   ]
  },
  {
   "cell_type": "code",
   "execution_count": 12,
   "id": "9333973d",
   "metadata": {},
   "outputs": [
    {
     "name": "stderr",
     "output_type": "stream",
     "text": [
      "/Users/jessiefung/Desktop/DS205/group-6-final-project/.venv/lib/python3.12/site-packages/transformers/models/auto/tokenization_auto.py:732: FutureWarning: The `use_auth_token` argument is deprecated and will be removed in v5 of Transformers. Please use `token` instead.\n",
      "  warnings.warn(\n",
      "/Users/jessiefung/Desktop/DS205/group-6-final-project/.venv/lib/python3.12/site-packages/huggingface_hub/file_download.py:943: FutureWarning: `resume_download` is deprecated and will be removed in version 1.0.0. Downloads always resume when possible. If you want to force a new download, use `force_download=True`.\n",
      "  warnings.warn(\n",
      "/Users/jessiefung/Desktop/DS205/group-6-final-project/.venv/lib/python3.12/site-packages/transformers/models/auto/auto_factory.py:468: FutureWarning: The `use_auth_token` argument is deprecated and will be removed in v5 of Transformers. Please use `token` instead.\n",
      "  warnings.warn(\n"
     ]
    }
   ],
   "source": [
    "# Download\n",
    "tokenizer = AutoTokenizer.from_pretrained(EMBEDDING_MODEL, use_auth_token=False)\n",
    "model = AutoModelForMaskedLM.from_pretrained(EMBEDDING_MODEL, use_auth_token=False)\n",
    "\n",
    "# Save it to a  local_models folder\n",
    "tokenizer.save_pretrained(EMBEDDING_MODEL_LOCAL_DIR)\n",
    "model.save_pretrained(EMBEDDING_MODEL_LOCAL_DIR)"
   ]
  },
  {
   "cell_type": "code",
   "execution_count": 13,
   "id": "df923544",
   "metadata": {},
   "outputs": [
    {
     "name": "stderr",
     "output_type": "stream",
     "text": [
      "Special tokens have been added in the vocabulary, make sure the associated word embeddings are fine-tuned or trained.\n",
      "Some weights of RobertaModel were not initialized from the model checkpoint at local_model/climatebert/distilroberta-base-climate-f and are newly initialized: ['roberta.pooler.dense.bias', 'roberta.pooler.dense.weight']\n",
      "You should probably TRAIN this model on a down-stream task to be able to use it for predictions and inference.\n"
     ]
    }
   ],
   "source": [
    "# Load the embedding model\n",
    "tokenizer = AutoTokenizer.from_pretrained(EMBEDDING_MODEL_LOCAL_DIR)\n",
    "model = AutoModel.from_pretrained(EMBEDDING_MODEL_LOCAL_DIR)"
   ]
  },
  {
   "cell_type": "markdown",
   "id": "5dfdfcd7",
   "metadata": {},
   "source": [
    "### Attempt to select only documents by Albania\n",
    "This takes a really long time"
   ]
  },
  {
   "cell_type": "code",
   "execution_count": null,
   "id": "c3b691ad",
   "metadata": {},
   "outputs": [
    {
     "data": {
      "application/vnd.jupyter.widget-view+json": {
       "model_id": "794d96f55d8141a092611917750e1566",
       "version_major": 2,
       "version_minor": 0
      },
      "text/plain": [
       "  0%|          | 0/34185184 [00:00<?, ?it/s]"
      ]
     },
     "metadata": {},
     "output_type": "display_data"
    },
    {
     "ename": "",
     "evalue": "",
     "output_type": "error",
     "traceback": [
      "\u001b[1;31mThe Kernel crashed while executing code in the current cell or a previous cell. \n",
      "\u001b[1;31mPlease review the code in the cell(s) to identify a possible cause of the failure. \n",
      "\u001b[1;31mClick <a href='https://aka.ms/vscodeJupyterKernelCrash'>here</a> for more info. \n",
      "\u001b[1;31mView Jupyter <a href='command:jupyter.viewOutput'>log</a> for further details."
     ]
    }
   ],
   "source": [
    "filter = flat_ds[\"document_metadata.geographies\"].astype(str).progress_apply(\n",
    "    lambda x: bool(re.search(r\"ALB\", x))\n",
    ")\n",
    "alb_chunks = flat_ds[filter]"
   ]
  },
  {
   "cell_type": "markdown",
   "id": "644ece61",
   "metadata": {},
   "source": [
    "## 2.2 Save embeddings in csv\n",
    "Embeddings generated in batches of 1000 chunks.\n",
    "Note: obsolete, just ignore"
   ]
  },
  {
   "cell_type": "code",
   "execution_count": null,
   "id": "92703641",
   "metadata": {},
   "outputs": [
    {
     "data": {
      "application/vnd.jupyter.widget-view+json": {
       "model_id": "6b9f43e428cf4099a63d06db77f2f2b6",
       "version_major": 2,
       "version_minor": 0
      },
      "text/plain": [
       "  0%|          | 0/2 [00:00<?, ?it/s]"
      ]
     },
     "metadata": {},
     "output_type": "display_data"
    },
    {
     "data": {
      "application/vnd.jupyter.widget-view+json": {
       "model_id": "13df9e51743846abb9fb96770c7cad50",
       "version_major": 2,
       "version_minor": 0
      },
      "text/plain": [
       "  0%|          | 0/1000 [00:00<?, ?it/s]"
      ]
     },
     "metadata": {},
     "output_type": "display_data"
    },
    {
     "data": {
      "application/vnd.jupyter.widget-view+json": {
       "model_id": "caabfc0b6eef434cb7f3f43d582f7ea8",
       "version_major": 2,
       "version_minor": 0
      },
      "text/plain": [
       "  0%|          | 0/1000 [00:00<?, ?it/s]"
      ]
     },
     "metadata": {},
     "output_type": "display_data"
    }
   ],
   "source": [
    "# Ensure the \"data\" directory exists\n",
    "os.makedirs(\"data\", exist_ok=True)\n",
    "\n",
    "# Process embeddings in batches of 1000\n",
    "batch_size = 1000\n",
    "all_batches = (len(flat_ds) + batch_size - 1) // batch_size  # Calculate the number of batches\n",
    "num_batches = 2\n",
    "\n",
    "all_embeddings = []\n",
    "\n",
    "for i in tqdm(range(num_batches)):\n",
    "    start_idx = i * batch_size\n",
    "    end_idx = min((i + 1) * batch_size, len(flat_ds))\n",
    "    \n",
    "    # Generate embeddings for the current batch\n",
    "    batch_embeddings = flat_ds[start_idx:end_idx][\"text_block.text\"].progress_apply(\n",
    "        lambda text: generate_embeddings_for_text(text, model, tokenizer)\n",
    "    )\n",
    "    \n",
    "    all_embeddings.extend(batch_embeddings)\n",
    "\n",
    "# Create a DataFrame for all embeddings\n",
    "embeddings_df = pd.DataFrame({\n",
    "    \"document_id\": flat_ds[:num_batches*1000][\"document_id\"],\n",
    "    \"embeddings\": all_embeddings\n",
    "})\n",
    "\n",
    "# Save the DataFrame to a single CSV file\n",
    "embeddings_df.to_csv(\"data/embeddings.csv\", index=False)"
   ]
  },
  {
   "cell_type": "markdown",
   "id": "0356f563",
   "metadata": {},
   "source": [
    "Use DPR for question answering, using chunks[\"text_block.text\"] as context."
   ]
  }
 ],
 "metadata": {
  "kernelspec": {
   "display_name": ".venv",
   "language": "python",
   "name": "python3"
  },
  "language_info": {
   "codemirror_mode": {
    "name": "ipython",
    "version": 3
   },
   "file_extension": ".py",
   "mimetype": "text/x-python",
   "name": "python",
   "nbconvert_exporter": "python",
   "pygments_lexer": "ipython3",
   "version": "3.12.0"
  }
 },
 "nbformat": 4,
 "nbformat_minor": 5
}
