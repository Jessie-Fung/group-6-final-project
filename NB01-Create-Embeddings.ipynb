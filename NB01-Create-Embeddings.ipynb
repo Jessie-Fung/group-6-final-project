{
 "cells": [
  {
   "cell_type": "markdown",
   "id": "83736cf2",
   "metadata": {},
   "source": [
    "# 1. Set up the Huggingface Climate Policy Radar dataset."
   ]
  },
  {
   "cell_type": "code",
   "execution_count": 43,
   "id": "0dd415c7",
   "metadata": {},
   "outputs": [],
   "source": [
    "import os\n",
    "import regex as re\n",
    "from tqdm.notebook import tqdm\n",
    "from dotenv import load_dotenv\n",
    "import pandas as pd\n",
    "import numpy as np\n",
    "import pgai\n",
    "import torch\n",
    "from transformers import AutoTokenizer, AutoModel, AutoModelForMaskedLM\n",
    "from datasets import load_dataset, Features, Value\n",
    "from functions import generate_embeddings_for_text\n",
    "import glob\n",
    "\n",
    "tqdm.pandas()"
   ]
  },
  {
   "cell_type": "code",
   "execution_count": 2,
   "id": "e4b6dc7b",
   "metadata": {},
   "outputs": [
    {
     "data": {
      "application/vnd.jupyter.widget-view+json": {
       "model_id": "24c46f110dd54ac8b2cb29d290f83d14",
       "version_major": 2,
       "version_minor": 0
      },
      "text/plain": [
       "Resolving data files:   0%|          | 0/23 [00:00<?, ?it/s]"
      ]
     },
     "metadata": {},
     "output_type": "display_data"
    },
    {
     "data": {
      "application/vnd.jupyter.widget-view+json": {
       "model_id": "3da05ae6bec74db5acc1dbb0e1d19c61",
       "version_major": 2,
       "version_minor": 0
      },
      "text/plain": [
       "Loading dataset shards:   0%|          | 0/42 [00:00<?, ?it/s]"
      ]
     },
     "metadata": {},
     "output_type": "display_data"
    }
   ],
   "source": [
    "# Login using e.g. `huggingface-cli login` in command line to access this dataset\n",
    "\n",
    "ds = load_dataset(\"ClimatePolicyRadar/all-document-text-data\")\n",
    "ds = ds[\"train\"]"
   ]
  },
  {
   "cell_type": "code",
   "execution_count": 3,
   "id": "d5735275",
   "metadata": {},
   "outputs": [
    {
     "data": {
      "text/plain": [
       "{'document_id': Value(dtype='string', id=None),\n",
       " 'document_metadata.collection_summary': Value(dtype='string', id=None),\n",
       " 'document_metadata.collection_title': Value(dtype='string', id=None),\n",
       " 'document_metadata.corpus_type_name': Value(dtype='string', id=None),\n",
       " 'document_metadata.corpus_import_id': Value(dtype='string', id=None),\n",
       " 'document_metadata.category': Value(dtype='string', id=None),\n",
       " 'document_metadata.description': Value(dtype='string', id=None),\n",
       " 'document_metadata.document_title': Value(dtype='string', id=None),\n",
       " 'document_metadata.family_import_id': Value(dtype='string', id=None),\n",
       " 'document_metadata.family_slug': Value(dtype='string', id=None),\n",
       " 'document_metadata.geographies': Sequence(feature=Value(dtype='string', id=None), length=-1, id=None),\n",
       " 'document_metadata.import_id': Value(dtype='string', id=None),\n",
       " 'document_metadata.languages': Sequence(feature=Value(dtype='string', id=None), length=-1, id=None),\n",
       " 'document_metadata.metadata': {'author': Sequence(feature=Value(dtype='string', id=None), length=-1, id=None),\n",
       "  'author_type': Sequence(feature=Value(dtype='string', id=None), length=-1, id=None),\n",
       "  'framework': Sequence(feature=Value(dtype='string', id=None), length=-1, id=None),\n",
       "  'hazard': Sequence(feature=Value(dtype='string', id=None), length=-1, id=None),\n",
       "  'instrument': Sequence(feature=Value(dtype='string', id=None), length=-1, id=None),\n",
       "  'keyword': Sequence(feature=Value(dtype='string', id=None), length=-1, id=None),\n",
       "  'sector': Sequence(feature=Value(dtype='string', id=None), length=-1, id=None),\n",
       "  'topic': Sequence(feature=Value(dtype='string', id=None), length=-1, id=None)},\n",
       " 'document_metadata.family_title': Value(dtype='string', id=None),\n",
       " 'document_metadata.publication_ts': Value(dtype='string', id=None),\n",
       " 'document_metadata.slug': Value(dtype='string', id=None),\n",
       " 'document_metadata.source': Value(dtype='string', id=None),\n",
       " 'document_metadata.source_url': Value(dtype='string', id=None),\n",
       " 'document_metadata.type': Value(dtype='string', id=None),\n",
       " 'document_cdn_object': Value(dtype='string', id=None),\n",
       " 'document_content_type': Value(dtype='string', id=None),\n",
       " 'document_md5_sum': Value(dtype='string', id=None),\n",
       " 'languages': Sequence(feature=Value(dtype='string', id=None), length=-1, id=None),\n",
       " 'document_metadata.translated': Value(dtype='bool', id=None),\n",
       " 'pdf_data_page_metadata.dimensions': Sequence(feature=Value(dtype='float64', id=None), length=-1, id=None),\n",
       " '_html_data.detected_title': Value(dtype='string', id=None),\n",
       " '_html_data.detected_date': Value(dtype='string', id=None),\n",
       " '_html_data.has_valid_text': Value(dtype='bool', id=None),\n",
       " 'pipeline_metadata.parser_metadata': {'azure_api_version': Value(dtype='string', id=None),\n",
       "  'azure_model_id': Value(dtype='string', id=None),\n",
       "  'parsing_date': Value(dtype='string', id=None)},\n",
       " 'text_block.text_block_id': Value(dtype='string', id=None),\n",
       " 'text_block.language': Value(dtype='string', id=None),\n",
       " 'text_block.type': Value(dtype='string', id=None),\n",
       " 'text_block.type_confidence': Value(dtype='float64', id=None),\n",
       " 'text_block.coords': Sequence(feature=Sequence(feature=Value(dtype='float64', id=None), length=-1, id=None), length=-1, id=None),\n",
       " 'text_block.page_number': Value(dtype='int64', id=None),\n",
       " 'text_block.text': Value(dtype='string', id=None),\n",
       " 'text_block.index': Value(dtype='int64', id=None)}"
      ]
     },
     "execution_count": 3,
     "metadata": {},
     "output_type": "execute_result"
    }
   ],
   "source": [
    "ds.features"
   ]
  },
  {
   "cell_type": "code",
   "execution_count": 4,
   "id": "2ad46e40",
   "metadata": {},
   "outputs": [],
   "source": [
    "flat_ds = ds.flatten()"
   ]
  },
  {
   "cell_type": "code",
   "execution_count": 5,
   "id": "a91f6e8d",
   "metadata": {},
   "outputs": [
    {
     "name": "stdout",
     "output_type": "stream",
     "text": [
      "<class 'str'>\n",
      "<class 'NoneType'>\n",
      "<class 'NoneType'>\n",
      "<class 'str'>\n",
      "<class 'str'>\n",
      "<class 'str'>\n",
      "<class 'str'>\n",
      "<class 'str'>\n",
      "<class 'str'>\n",
      "<class 'str'>\n",
      "<class 'list'>\n",
      "<class 'str'>\n",
      "<class 'list'>\n",
      "<class 'NoneType'>\n",
      "<class 'NoneType'>\n",
      "<class 'NoneType'>\n",
      "<class 'NoneType'>\n",
      "<class 'NoneType'>\n",
      "<class 'NoneType'>\n",
      "<class 'NoneType'>\n",
      "<class 'NoneType'>\n",
      "<class 'str'>\n",
      "<class 'str'>\n",
      "<class 'str'>\n",
      "<class 'str'>\n",
      "<class 'str'>\n",
      "<class 'str'>\n",
      "<class 'str'>\n",
      "<class 'str'>\n",
      "<class 'str'>\n",
      "<class 'list'>\n",
      "<class 'bool'>\n",
      "<class 'list'>\n",
      "<class 'NoneType'>\n",
      "<class 'NoneType'>\n",
      "<class 'NoneType'>\n",
      "<class 'str'>\n",
      "<class 'str'>\n",
      "<class 'str'>\n",
      "<class 'str'>\n",
      "<class 'str'>\n",
      "<class 'str'>\n",
      "<class 'float'>\n",
      "<class 'list'>\n",
      "<class 'int'>\n",
      "<class 'str'>\n",
      "<class 'int'>\n"
     ]
    }
   ],
   "source": [
    "for key in flat_ds.features.keys():\n",
    "    print(type(flat_ds[18:19][key][0]))"
   ]
  },
  {
   "cell_type": "markdown",
   "id": "c3982d64",
   "metadata": {},
   "source": [
    "## Save 100000 chunks in Postgres"
   ]
  },
  {
   "cell_type": "code",
   "execution_count": null,
   "id": "cbf79a6c",
   "metadata": {},
   "outputs": [
    {
     "data": {
      "text/plain": [
       "615"
      ]
     },
     "execution_count": 6,
     "metadata": {},
     "output_type": "execute_result"
    }
   ],
   "source": [
    "from sqlalchemy import create_engine, text\n",
    "from dotenv import load_dotenv\n",
    "import os\n",
    "\n",
    "load_dotenv # This loads the .env file into os.environ\n",
    "batch_df = pd.DataFrame(flat_ds[:100000])\n",
    "# Set up the database connection using SQLAlchemy\n",
    "engine = create_engine(os.getenv(\"DB_URL\"))\n",
    "\n",
    "# Write the pandas DataFrame to the PostgreSQL database\n",
    "batch_df.to_sql('climate_policy_radar', engine, if_exists='replace', index=False)"
   ]
  },
  {
   "cell_type": "markdown",
   "id": "069f90c8",
   "metadata": {},
   "source": [
    "## Attempt to change arrays to strings for entire dataset\n",
    "\n",
    "Just keeping this here for future reference. I don't think it's needed"
   ]
  },
  {
   "cell_type": "code",
   "execution_count": 21,
   "id": "f93e9765",
   "metadata": {},
   "outputs": [],
   "source": [
    "def array_to_string(batch):\n",
    "    keys_to_process = [\n",
    "        \"document_metadata.geographies\",\n",
    "        \"document_metadata.languages\",\n",
    "        \"languages\",\n",
    "        \"pdf_data_page_metadata.dimensions\",\n",
    "        \"text_block.coords\"\n",
    "    ]\n",
    "    for key in keys_to_process:\n",
    "        # Convert numpy arrays to lists\n",
    "        batch[key] = [str(x) for x in batch[key]]\n",
    "    return batch"
   ]
  },
  {
   "cell_type": "code",
   "execution_count": null,
   "id": "1cf46f4a",
   "metadata": {},
   "outputs": [],
   "source": [
    "# Apply the function to the dataset. This takes the longest time\n",
    "flat_ds = flat_ds.map(array_to_string, batched = True)"
   ]
  },
  {
   "cell_type": "markdown",
   "id": "dabedc82",
   "metadata": {},
   "source": [
    "## Read the data from the database\n",
    "\n",
    "So it's easier to access the data in case the kernel crashes and had to re-run the codes again"
   ]
  },
  {
   "cell_type": "code",
   "execution_count": 7,
   "id": "19defae6",
   "metadata": {},
   "outputs": [
    {
     "data": {
      "text/html": [
       "<div>\n",
       "<style scoped>\n",
       "    .dataframe tbody tr th:only-of-type {\n",
       "        vertical-align: middle;\n",
       "    }\n",
       "\n",
       "    .dataframe tbody tr th {\n",
       "        vertical-align: top;\n",
       "    }\n",
       "\n",
       "    .dataframe thead th {\n",
       "        text-align: right;\n",
       "    }\n",
       "</style>\n",
       "<table border=\"1\" class=\"dataframe\">\n",
       "  <thead>\n",
       "    <tr style=\"text-align: right;\">\n",
       "      <th></th>\n",
       "      <th>document_id</th>\n",
       "      <th>document_metadata.collection_summary</th>\n",
       "      <th>document_metadata.collection_title</th>\n",
       "      <th>document_metadata.corpus_type_name</th>\n",
       "      <th>document_metadata.corpus_import_id</th>\n",
       "      <th>document_metadata.category</th>\n",
       "      <th>document_metadata.description</th>\n",
       "      <th>document_metadata.document_title</th>\n",
       "      <th>document_metadata.family_import_id</th>\n",
       "      <th>document_metadata.family_slug</th>\n",
       "      <th>...</th>\n",
       "      <th>pipeline_metadata.parser_metadata.azure_model_id</th>\n",
       "      <th>pipeline_metadata.parser_metadata.parsing_date</th>\n",
       "      <th>text_block.text_block_id</th>\n",
       "      <th>text_block.language</th>\n",
       "      <th>text_block.type</th>\n",
       "      <th>text_block.type_confidence</th>\n",
       "      <th>text_block.coords</th>\n",
       "      <th>text_block.page_number</th>\n",
       "      <th>text_block.text</th>\n",
       "      <th>text_block.index</th>\n",
       "    </tr>\n",
       "  </thead>\n",
       "  <tbody>\n",
       "    <tr>\n",
       "      <th>0</th>\n",
       "      <td>CCLW.document.i00000002.n0000</td>\n",
       "      <td>None</td>\n",
       "      <td>None</td>\n",
       "      <td>Laws and Policies</td>\n",
       "      <td>CCLW.corpus.i00000001.n0000</td>\n",
       "      <td>Executive</td>\n",
       "      <td>&lt;p&gt;&lt;span style=\"font-size: 10pt;font-family: A...</td>\n",
       "      <td>National Energy and Climate Plan 2019 Draft</td>\n",
       "      <td>CCLW.family.i00000001.n0000</td>\n",
       "      <td>national-energy-and-climate-plan_8a4f</td>\n",
       "      <td>...</td>\n",
       "      <td>prebuilt-document</td>\n",
       "      <td>2023-12-11T11:43:23.509480</td>\n",
       "      <td>0</td>\n",
       "      <td>en</td>\n",
       "      <td>title</td>\n",
       "      <td>1.0</td>\n",
       "      <td>{{70.452,123.7392},{524.1816,123.7392},{524.18...</td>\n",
       "      <td>0.0</td>\n",
       "      <td>Draft of the National Energy and Climate Plan ...</td>\n",
       "      <td>0</td>\n",
       "    </tr>\n",
       "    <tr>\n",
       "      <th>1</th>\n",
       "      <td>CCLW.document.i00000002.n0000</td>\n",
       "      <td>None</td>\n",
       "      <td>None</td>\n",
       "      <td>Laws and Policies</td>\n",
       "      <td>CCLW.corpus.i00000001.n0000</td>\n",
       "      <td>Executive</td>\n",
       "      <td>&lt;p&gt;&lt;span style=\"font-size: 10pt;font-family: A...</td>\n",
       "      <td>National Energy and Climate Plan 2019 Draft</td>\n",
       "      <td>CCLW.family.i00000001.n0000</td>\n",
       "      <td>national-energy-and-climate-plan_8a4f</td>\n",
       "      <td>...</td>\n",
       "      <td>prebuilt-document</td>\n",
       "      <td>2023-12-11T11:43:23.509480</td>\n",
       "      <td>1</td>\n",
       "      <td>en</td>\n",
       "      <td>Text</td>\n",
       "      <td>1.0</td>\n",
       "      <td>{{69.7176,208.4256},{124.21440000000001,208.79...</td>\n",
       "      <td>0.0</td>\n",
       "      <td>July 2021</td>\n",
       "      <td>1</td>\n",
       "    </tr>\n",
       "    <tr>\n",
       "      <th>2</th>\n",
       "      <td>CCLW.document.i00000002.n0000</td>\n",
       "      <td>None</td>\n",
       "      <td>None</td>\n",
       "      <td>Laws and Policies</td>\n",
       "      <td>CCLW.corpus.i00000001.n0000</td>\n",
       "      <td>Executive</td>\n",
       "      <td>&lt;p&gt;&lt;span style=\"font-size: 10pt;font-family: A...</td>\n",
       "      <td>National Energy and Climate Plan 2019 Draft</td>\n",
       "      <td>CCLW.family.i00000001.n0000</td>\n",
       "      <td>national-energy-and-climate-plan_8a4f</td>\n",
       "      <td>...</td>\n",
       "      <td>prebuilt-document</td>\n",
       "      <td>2023-12-11T11:43:23.509480</td>\n",
       "      <td>2</td>\n",
       "      <td>en</td>\n",
       "      <td>Text</td>\n",
       "      <td>1.0</td>\n",
       "      <td>{{217.1952,685.1376},{286.1856,685.1376},{286....</td>\n",
       "      <td>0.0</td>\n",
       "      <td>REPUBLIKA SHOIPERISE</td>\n",
       "      <td>2</td>\n",
       "    </tr>\n",
       "    <tr>\n",
       "      <th>3</th>\n",
       "      <td>CCLW.document.i00000002.n0000</td>\n",
       "      <td>None</td>\n",
       "      <td>None</td>\n",
       "      <td>Laws and Policies</td>\n",
       "      <td>CCLW.corpus.i00000001.n0000</td>\n",
       "      <td>Executive</td>\n",
       "      <td>&lt;p&gt;&lt;span style=\"font-size: 10pt;font-family: A...</td>\n",
       "      <td>National Energy and Climate Plan 2019 Draft</td>\n",
       "      <td>CCLW.family.i00000001.n0000</td>\n",
       "      <td>national-energy-and-climate-plan_8a4f</td>\n",
       "      <td>...</td>\n",
       "      <td>prebuilt-document</td>\n",
       "      <td>2023-12-11T11:43:23.509480</td>\n",
       "      <td>3</td>\n",
       "      <td>en</td>\n",
       "      <td>Text</td>\n",
       "      <td>1.0</td>\n",
       "      <td>{{195.2928,690.6096},{308.448,690.6096},{308.4...</td>\n",
       "      <td>0.0</td>\n",
       "      <td>MINISTRIA E TURIZMIT DHE MJEDISIT</td>\n",
       "      <td>3</td>\n",
       "    </tr>\n",
       "    <tr>\n",
       "      <th>4</th>\n",
       "      <td>CCLW.document.i00000002.n0000</td>\n",
       "      <td>None</td>\n",
       "      <td>None</td>\n",
       "      <td>Laws and Policies</td>\n",
       "      <td>CCLW.corpus.i00000001.n0000</td>\n",
       "      <td>Executive</td>\n",
       "      <td>&lt;p&gt;&lt;span style=\"font-size: 10pt;font-family: A...</td>\n",
       "      <td>National Energy and Climate Plan 2019 Draft</td>\n",
       "      <td>CCLW.family.i00000001.n0000</td>\n",
       "      <td>national-energy-and-climate-plan_8a4f</td>\n",
       "      <td>...</td>\n",
       "      <td>prebuilt-document</td>\n",
       "      <td>2023-12-11T11:43:23.509480</td>\n",
       "      <td>4</td>\n",
       "      <td>en</td>\n",
       "      <td>Text</td>\n",
       "      <td>1.0</td>\n",
       "      <td>{{76.9968,708.5015999999999},{182.88,708.1344}...</td>\n",
       "      <td>0.0</td>\n",
       "      <td>MINISTRIA E INFRASTRUKTURĒS DHE ENERGJISE</td>\n",
       "      <td>4</td>\n",
       "    </tr>\n",
       "  </tbody>\n",
       "</table>\n",
       "<p>5 rows × 47 columns</p>\n",
       "</div>"
      ],
      "text/plain": [
       "                     document_id document_metadata.collection_summary  \\\n",
       "0  CCLW.document.i00000002.n0000                                 None   \n",
       "1  CCLW.document.i00000002.n0000                                 None   \n",
       "2  CCLW.document.i00000002.n0000                                 None   \n",
       "3  CCLW.document.i00000002.n0000                                 None   \n",
       "4  CCLW.document.i00000002.n0000                                 None   \n",
       "\n",
       "  document_metadata.collection_title document_metadata.corpus_type_name  \\\n",
       "0                               None                  Laws and Policies   \n",
       "1                               None                  Laws and Policies   \n",
       "2                               None                  Laws and Policies   \n",
       "3                               None                  Laws and Policies   \n",
       "4                               None                  Laws and Policies   \n",
       "\n",
       "  document_metadata.corpus_import_id document_metadata.category  \\\n",
       "0        CCLW.corpus.i00000001.n0000                  Executive   \n",
       "1        CCLW.corpus.i00000001.n0000                  Executive   \n",
       "2        CCLW.corpus.i00000001.n0000                  Executive   \n",
       "3        CCLW.corpus.i00000001.n0000                  Executive   \n",
       "4        CCLW.corpus.i00000001.n0000                  Executive   \n",
       "\n",
       "                       document_metadata.description  \\\n",
       "0  <p><span style=\"font-size: 10pt;font-family: A...   \n",
       "1  <p><span style=\"font-size: 10pt;font-family: A...   \n",
       "2  <p><span style=\"font-size: 10pt;font-family: A...   \n",
       "3  <p><span style=\"font-size: 10pt;font-family: A...   \n",
       "4  <p><span style=\"font-size: 10pt;font-family: A...   \n",
       "\n",
       "               document_metadata.document_title  \\\n",
       "0  National Energy and Climate Plan 2019 Draft    \n",
       "1  National Energy and Climate Plan 2019 Draft    \n",
       "2  National Energy and Climate Plan 2019 Draft    \n",
       "3  National Energy and Climate Plan 2019 Draft    \n",
       "4  National Energy and Climate Plan 2019 Draft    \n",
       "\n",
       "  document_metadata.family_import_id          document_metadata.family_slug  \\\n",
       "0        CCLW.family.i00000001.n0000  national-energy-and-climate-plan_8a4f   \n",
       "1        CCLW.family.i00000001.n0000  national-energy-and-climate-plan_8a4f   \n",
       "2        CCLW.family.i00000001.n0000  national-energy-and-climate-plan_8a4f   \n",
       "3        CCLW.family.i00000001.n0000  national-energy-and-climate-plan_8a4f   \n",
       "4        CCLW.family.i00000001.n0000  national-energy-and-climate-plan_8a4f   \n",
       "\n",
       "   ... pipeline_metadata.parser_metadata.azure_model_id  \\\n",
       "0  ...                                prebuilt-document   \n",
       "1  ...                                prebuilt-document   \n",
       "2  ...                                prebuilt-document   \n",
       "3  ...                                prebuilt-document   \n",
       "4  ...                                prebuilt-document   \n",
       "\n",
       "  pipeline_metadata.parser_metadata.parsing_date text_block.text_block_id  \\\n",
       "0                     2023-12-11T11:43:23.509480                        0   \n",
       "1                     2023-12-11T11:43:23.509480                        1   \n",
       "2                     2023-12-11T11:43:23.509480                        2   \n",
       "3                     2023-12-11T11:43:23.509480                        3   \n",
       "4                     2023-12-11T11:43:23.509480                        4   \n",
       "\n",
       "  text_block.language text_block.type text_block.type_confidence  \\\n",
       "0                  en           title                        1.0   \n",
       "1                  en            Text                        1.0   \n",
       "2                  en            Text                        1.0   \n",
       "3                  en            Text                        1.0   \n",
       "4                  en            Text                        1.0   \n",
       "\n",
       "                                   text_block.coords text_block.page_number  \\\n",
       "0  {{70.452,123.7392},{524.1816,123.7392},{524.18...                    0.0   \n",
       "1  {{69.7176,208.4256},{124.21440000000001,208.79...                    0.0   \n",
       "2  {{217.1952,685.1376},{286.1856,685.1376},{286....                    0.0   \n",
       "3  {{195.2928,690.6096},{308.448,690.6096},{308.4...                    0.0   \n",
       "4  {{76.9968,708.5015999999999},{182.88,708.1344}...                    0.0   \n",
       "\n",
       "                                     text_block.text text_block.index  \n",
       "0  Draft of the National Energy and Climate Plan ...                0  \n",
       "1                                          July 2021                1  \n",
       "2                               REPUBLIKA SHOIPERISE                2  \n",
       "3                  MINISTRIA E TURIZMIT DHE MJEDISIT                3  \n",
       "4          MINISTRIA E INFRASTRUKTURĒS DHE ENERGJISE                4  \n",
       "\n",
       "[5 rows x 47 columns]"
      ]
     },
     "execution_count": 7,
     "metadata": {},
     "output_type": "execute_result"
    }
   ],
   "source": [
    "# Read the table\n",
    "df = pd.read_sql(\"SELECT * FROM climate_policy_radar\", engine)\n",
    "df.head()\n"
   ]
  },
  {
   "cell_type": "markdown",
   "id": "471ce453",
   "metadata": {},
   "source": [
    "# 2. Embeddings generation\n",
    "\n",
    "## 2.1 Load climateBERT"
   ]
  },
  {
   "cell_type": "code",
   "execution_count": 8,
   "id": "00dd9a22",
   "metadata": {},
   "outputs": [],
   "source": [
    "EMBEDDING_MODEL_LOCAL_DIR = os.getenv('EMBEDDING_MODEL_LOCAL_DIR')\n",
    "EMBEDDING_MODEL = os.getenv(\"EMBEDDING_MODEL\")"
   ]
  },
  {
   "cell_type": "code",
   "execution_count": null,
   "id": "9333973d",
   "metadata": {},
   "outputs": [
    {
     "name": "stderr",
     "output_type": "stream",
     "text": [
      "/Users/arielliu/group-6-final-project/project-env/lib/python3.12/site-packages/transformers/models/auto/tokenization_auto.py:778: FutureWarning: The `use_auth_token` argument is deprecated and will be removed in v5 of Transformers. Please use `token` instead.\n",
      "  warnings.warn(\n",
      "/Users/arielliu/group-6-final-project/project-env/lib/python3.12/site-packages/transformers/models/auto/auto_factory.py:469: FutureWarning: The `use_auth_token` argument is deprecated and will be removed in v5 of Transformers. Please use `token` instead.\n",
      "  warnings.warn(\n"
     ]
    }
   ],
   "source": [
    "# Download\n",
    "tokenizer = AutoTokenizer.from_pretrained(EMBEDDING_MODEL, use_auth_token=False)\n",
    "model = AutoModelForMaskedLM.from_pretrained(EMBEDDING_MODEL, use_auth_token=False)\n",
    "\n",
    "# Save it to a  local_models folder\n",
    "tokenizer.save_pretrained(EMBEDDING_MODEL_LOCAL_DIR)\n",
    "model.save_pretrained(EMBEDDING_MODEL_LOCAL_DIR)"
   ]
  },
  {
   "cell_type": "code",
   "execution_count": 9,
   "id": "df923544",
   "metadata": {},
   "outputs": [
    {
     "name": "stderr",
     "output_type": "stream",
     "text": [
      "Special tokens have been added in the vocabulary, make sure the associated word embeddings are fine-tuned or trained.\n",
      "Some weights of RobertaModel were not initialized from the model checkpoint at local_model/climatebert/distilroberta-base-climate-f and are newly initialized: ['roberta.pooler.dense.bias', 'roberta.pooler.dense.weight']\n",
      "You should probably TRAIN this model on a down-stream task to be able to use it for predictions and inference.\n"
     ]
    }
   ],
   "source": [
    "# Load the embedding model\n",
    "tokenizer = AutoTokenizer.from_pretrained(EMBEDDING_MODEL_LOCAL_DIR)\n",
    "model = AutoModel.from_pretrained(EMBEDDING_MODEL_LOCAL_DIR)"
   ]
  },
  {
   "cell_type": "markdown",
   "id": "58698bc0",
   "metadata": {},
   "source": [
    "### Checking existing documents' country\n"
   ]
  },
  {
   "cell_type": "code",
   "execution_count": 10,
   "id": "8cf481da",
   "metadata": {},
   "outputs": [
    {
     "name": "stdout",
     "output_type": "stream",
     "text": [
      "   document_metadata.geographies\n",
      "0                          {SRB}\n",
      "1                          {MKD}\n",
      "2                          {GBR}\n",
      "3                          {TUV}\n",
      "4                          {FRA}\n",
      "5                          {ALB}\n",
      "6                          {EUR}\n",
      "7                          {MNE}\n",
      "8                          {AZE}\n",
      "9                          {CAN}\n",
      "10                         {JPN}\n",
      "11                         {BRA}\n",
      "12                         {DEU}\n",
      "13                         {XKX}\n",
      "14                         {CHN}\n",
      "15                         {ZAF}\n",
      "16                         {BIH}\n",
      "17                         {IRL}\n"
     ]
    }
   ],
   "source": [
    "query = \"\"\"\n",
    "SELECT DISTINCT \"document_metadata.geographies\"\n",
    "FROM climate_policy_radar\n",
    "WHERE \"document_metadata.geographies\" IS NOT NULL;\n",
    "\"\"\"\n",
    "\n",
    "geos = pd.read_sql(query, engine)\n",
    "print(geos)\n"
   ]
  },
  {
   "cell_type": "markdown",
   "id": "5dfdfcd7",
   "metadata": {},
   "source": [
    "### Attempt to select only documents by Albania\n",
    "Testing using Albania for now - This takes a really long time"
   ]
  },
  {
   "cell_type": "code",
   "execution_count": 11,
   "id": "5d2c6a8c",
   "metadata": {},
   "outputs": [
    {
     "name": "stderr",
     "output_type": "stream",
     "text": [
      "Filtering for ALB: 100%|██████████| 100000/100000 [00:00<00:00, 894725.68it/s]\n"
     ]
    }
   ],
   "source": [
    "# This one worked\n",
    "from tqdm import tqdm\n",
    "\n",
    "geos = df[\"document_metadata.geographies\"]\n",
    "filter = [\"ALB\" in str(x) for x in tqdm(geos, desc=\"Filtering for ALB\")]\n",
    "alb_chunks = df[filter]"
   ]
  },
  {
   "cell_type": "code",
   "execution_count": 12,
   "id": "066f56a2",
   "metadata": {},
   "outputs": [
    {
     "data": {
      "text/html": [
       "<div>\n",
       "<style scoped>\n",
       "    .dataframe tbody tr th:only-of-type {\n",
       "        vertical-align: middle;\n",
       "    }\n",
       "\n",
       "    .dataframe tbody tr th {\n",
       "        vertical-align: top;\n",
       "    }\n",
       "\n",
       "    .dataframe thead th {\n",
       "        text-align: right;\n",
       "    }\n",
       "</style>\n",
       "<table border=\"1\" class=\"dataframe\">\n",
       "  <thead>\n",
       "    <tr style=\"text-align: right;\">\n",
       "      <th></th>\n",
       "      <th>document_id</th>\n",
       "      <th>document_metadata.geographies</th>\n",
       "      <th>text_block.text</th>\n",
       "    </tr>\n",
       "  </thead>\n",
       "  <tbody>\n",
       "    <tr>\n",
       "      <th>0</th>\n",
       "      <td>CCLW.document.i00000002.n0000</td>\n",
       "      <td>{ALB}</td>\n",
       "      <td>Draft of the National Energy and Climate Plan ...</td>\n",
       "    </tr>\n",
       "    <tr>\n",
       "      <th>1</th>\n",
       "      <td>CCLW.document.i00000002.n0000</td>\n",
       "      <td>{ALB}</td>\n",
       "      <td>July 2021</td>\n",
       "    </tr>\n",
       "    <tr>\n",
       "      <th>2</th>\n",
       "      <td>CCLW.document.i00000002.n0000</td>\n",
       "      <td>{ALB}</td>\n",
       "      <td>REPUBLIKA SHOIPERISE</td>\n",
       "    </tr>\n",
       "    <tr>\n",
       "      <th>3</th>\n",
       "      <td>CCLW.document.i00000002.n0000</td>\n",
       "      <td>{ALB}</td>\n",
       "      <td>MINISTRIA E TURIZMIT DHE MJEDISIT</td>\n",
       "    </tr>\n",
       "    <tr>\n",
       "      <th>4</th>\n",
       "      <td>CCLW.document.i00000002.n0000</td>\n",
       "      <td>{ALB}</td>\n",
       "      <td>MINISTRIA E INFRASTRUKTURĒS DHE ENERGJISE</td>\n",
       "    </tr>\n",
       "    <tr>\n",
       "      <th>5</th>\n",
       "      <td>CCLW.document.i00000002.n0000</td>\n",
       "      <td>{ALB}</td>\n",
       "      <td>german cooperation DEUTSCHE ZUSAMMENARBEIT</td>\n",
       "    </tr>\n",
       "    <tr>\n",
       "      <th>6</th>\n",
       "      <td>CCLW.document.i00000002.n0000</td>\n",
       "      <td>{ALB}</td>\n",
       "      <td>Implemented by giz</td>\n",
       "    </tr>\n",
       "    <tr>\n",
       "      <th>7</th>\n",
       "      <td>CCLW.document.i00000002.n0000</td>\n",
       "      <td>{ALB}</td>\n",
       "      <td>Deutsche Gesellschaft Für Internationale Zusam...</td>\n",
       "    </tr>\n",
       "    <tr>\n",
       "      <th>8</th>\n",
       "      <td>CCLW.document.i00000002.n0000</td>\n",
       "      <td>{ALB}</td>\n",
       "      <td>Responsible for this document: Ministry of Inf...</td>\n",
       "    </tr>\n",
       "    <tr>\n",
       "      <th>9</th>\n",
       "      <td>CCLW.document.i00000002.n0000</td>\n",
       "      <td>{ALB}</td>\n",
       "      <td>Purpose of this document: Submission to Energy...</td>\n",
       "    </tr>\n",
       "  </tbody>\n",
       "</table>\n",
       "</div>"
      ],
      "text/plain": [
       "                     document_id document_metadata.geographies  \\\n",
       "0  CCLW.document.i00000002.n0000                         {ALB}   \n",
       "1  CCLW.document.i00000002.n0000                         {ALB}   \n",
       "2  CCLW.document.i00000002.n0000                         {ALB}   \n",
       "3  CCLW.document.i00000002.n0000                         {ALB}   \n",
       "4  CCLW.document.i00000002.n0000                         {ALB}   \n",
       "5  CCLW.document.i00000002.n0000                         {ALB}   \n",
       "6  CCLW.document.i00000002.n0000                         {ALB}   \n",
       "7  CCLW.document.i00000002.n0000                         {ALB}   \n",
       "8  CCLW.document.i00000002.n0000                         {ALB}   \n",
       "9  CCLW.document.i00000002.n0000                         {ALB}   \n",
       "\n",
       "                                     text_block.text  \n",
       "0  Draft of the National Energy and Climate Plan ...  \n",
       "1                                          July 2021  \n",
       "2                               REPUBLIKA SHOIPERISE  \n",
       "3                  MINISTRIA E TURIZMIT DHE MJEDISIT  \n",
       "4          MINISTRIA E INFRASTRUKTURĒS DHE ENERGJISE  \n",
       "5         german cooperation DEUTSCHE ZUSAMMENARBEIT  \n",
       "6                                 Implemented by giz  \n",
       "7  Deutsche Gesellschaft Für Internationale Zusam...  \n",
       "8  Responsible for this document: Ministry of Inf...  \n",
       "9  Purpose of this document: Submission to Energy...  "
      ]
     },
     "execution_count": 12,
     "metadata": {},
     "output_type": "execute_result"
    }
   ],
   "source": [
    "alb_chunks[[\"document_id\", \"document_metadata.geographies\", \"text_block.text\"]].head(10)"
   ]
  },
  {
   "cell_type": "code",
   "execution_count": null,
   "id": "c3b691ad",
   "metadata": {},
   "outputs": [],
   "source": [
    "# #took too long for me\n",
    "# #DOUBLE CHECK LATER\n",
    "\n",
    "# filter = flat_ds[\"document_metadata.geographies\"].astype(str).progress_apply(\n",
    "#     lambda x: bool(re.search(r\"ALB\", x))\n",
    "# )\n",
    "# alb_chunks = flat_ds[filter]"
   ]
  },
  {
   "cell_type": "markdown",
   "id": "644ece61",
   "metadata": {},
   "source": [
    "## 2.2 Save embeddings in csv\n",
    "Embeddings generated in batches of 1000 chunks.\n",
    "Note: obsolete, just ignore"
   ]
  },
  {
   "cell_type": "code",
   "execution_count": null,
   "id": "92703641",
   "metadata": {},
   "outputs": [
    {
     "data": {
      "application/vnd.jupyter.widget-view+json": {
       "model_id": "6b9f43e428cf4099a63d06db77f2f2b6",
       "version_major": 2,
       "version_minor": 0
      },
      "text/plain": [
       "  0%|          | 0/2 [00:00<?, ?it/s]"
      ]
     },
     "metadata": {},
     "output_type": "display_data"
    },
    {
     "data": {
      "application/vnd.jupyter.widget-view+json": {
       "model_id": "13df9e51743846abb9fb96770c7cad50",
       "version_major": 2,
       "version_minor": 0
      },
      "text/plain": [
       "  0%|          | 0/1000 [00:00<?, ?it/s]"
      ]
     },
     "metadata": {},
     "output_type": "display_data"
    },
    {
     "data": {
      "application/vnd.jupyter.widget-view+json": {
       "model_id": "caabfc0b6eef434cb7f3f43d582f7ea8",
       "version_major": 2,
       "version_minor": 0
      },
      "text/plain": [
       "  0%|          | 0/1000 [00:00<?, ?it/s]"
      ]
     },
     "metadata": {},
     "output_type": "display_data"
    }
   ],
   "source": [
    "# # Ensure the \"data\" directory exists\n",
    "# os.makedirs(\"data\", exist_ok=True)\n",
    "\n",
    "# # Process embeddings in batches of 1000\n",
    "# batch_size = 1000\n",
    "# all_batches = (len(flat_ds) + batch_size - 1) // batch_size  # Calculate the number of batches\n",
    "# num_batches = 2\n",
    "\n",
    "# all_embeddings = []\n",
    "\n",
    "# for i in tqdm(range(num_batches)):\n",
    "#     start_idx = i * batch_size\n",
    "#     end_idx = min((i + 1) * batch_size, len(flat_ds))\n",
    "    \n",
    "#     # Generate embeddings for the current batch\n",
    "#     batch_embeddings = flat_ds[start_idx:end_idx][\"text_block.text\"].progress_apply(\n",
    "#         lambda text: generate_embeddings_for_text(text, model, tokenizer)\n",
    "#     )\n",
    "    \n",
    "#     all_embeddings.extend(batch_embeddings)\n",
    "\n",
    "# # Create a DataFrame for all embeddings\n",
    "# embeddings_df = pd.DataFrame({\n",
    "#     \"document_id\": flat_ds[:num_batches*1000][\"document_id\"],\n",
    "#     \"embeddings\": all_embeddings\n",
    "#     \"country_code\": flat_ds[:num_batches*1000][\"document_metadata.geographies\"].str.extract(r\"\\{(\\w+)\\}\")[0],\n",
    "# })\n",
    "\n",
    "# # Save the DataFrame to a single CSV file\n",
    "# embeddings_df.to_csv(\"data/embeddings.csv\", index=False)"
   ]
  },
  {
   "cell_type": "markdown",
   "id": "0356f563",
   "metadata": {},
   "source": [
    "Use DPR for question answering, using chunks[\"text_block.text\"] as context."
   ]
  },
  {
   "cell_type": "code",
   "execution_count": null,
   "id": "d3fb0720",
   "metadata": {},
   "outputs": [
    {
     "name": "stderr",
     "output_type": "stream",
     "text": [
      "Generating Embeddings:   0%|          | 0/14 [00:00<?, ?it/s]"
     ]
    },
    {
     "data": {
      "application/vnd.jupyter.widget-view+json": {
       "model_id": "6a3cb7e186214d4083dc0b5e315e66c3",
       "version_major": 2,
       "version_minor": 0
      },
      "text/plain": [
       "  0%|          | 0/1000 [00:00<?, ?it/s]"
      ]
     },
     "metadata": {},
     "output_type": "display_data"
    },
    {
     "name": "stderr",
     "output_type": "stream",
     "text": [
      "Generating Embeddings:   7%|▋         | 1/14 [00:30<06:32, 30.18s/it]"
     ]
    },
    {
     "data": {
      "application/vnd.jupyter.widget-view+json": {
       "model_id": "f71fca3e598f495ca7dcc910bb38d7a4",
       "version_major": 2,
       "version_minor": 0
      },
      "text/plain": [
       "  0%|          | 0/1000 [00:00<?, ?it/s]"
      ]
     },
     "metadata": {},
     "output_type": "display_data"
    },
    {
     "name": "stderr",
     "output_type": "stream",
     "text": [
      "Generating Embeddings:  14%|█▍        | 2/14 [01:06<06:46, 33.91s/it]"
     ]
    },
    {
     "data": {
      "application/vnd.jupyter.widget-view+json": {
       "model_id": "459d48771c974c18a67b47e6c092bba5",
       "version_major": 2,
       "version_minor": 0
      },
      "text/plain": [
       "  0%|          | 0/1000 [00:00<?, ?it/s]"
      ]
     },
     "metadata": {},
     "output_type": "display_data"
    },
    {
     "name": "stderr",
     "output_type": "stream",
     "text": [
      "Generating Embeddings:  21%|██▏       | 3/14 [01:30<05:23, 29.40s/it]"
     ]
    },
    {
     "data": {
      "application/vnd.jupyter.widget-view+json": {
       "model_id": "ddc419aa991b41c38c2102bfe18d07eb",
       "version_major": 2,
       "version_minor": 0
      },
      "text/plain": [
       "  0%|          | 0/1000 [00:00<?, ?it/s]"
      ]
     },
     "metadata": {},
     "output_type": "display_data"
    },
    {
     "name": "stderr",
     "output_type": "stream",
     "text": [
      "Generating Embeddings:  29%|██▊       | 4/14 [01:56<04:38, 27.87s/it]"
     ]
    },
    {
     "data": {
      "application/vnd.jupyter.widget-view+json": {
       "model_id": "5f34a0be32864366badfc86d03164ab1",
       "version_major": 2,
       "version_minor": 0
      },
      "text/plain": [
       "  0%|          | 0/1000 [00:00<?, ?it/s]"
      ]
     },
     "metadata": {},
     "output_type": "display_data"
    },
    {
     "name": "stderr",
     "output_type": "stream",
     "text": [
      "Generating Embeddings:  36%|███▌      | 5/14 [02:19<03:55, 26.22s/it]"
     ]
    },
    {
     "data": {
      "application/vnd.jupyter.widget-view+json": {
       "model_id": "9e5a5f73aecd4623b4485ba0eee23c9d",
       "version_major": 2,
       "version_minor": 0
      },
      "text/plain": [
       "  0%|          | 0/1000 [00:00<?, ?it/s]"
      ]
     },
     "metadata": {},
     "output_type": "display_data"
    },
    {
     "name": "stderr",
     "output_type": "stream",
     "text": [
      "Generating Embeddings:  43%|████▎     | 6/14 [02:42<03:19, 24.98s/it]"
     ]
    },
    {
     "data": {
      "application/vnd.jupyter.widget-view+json": {
       "model_id": "f447aa4b832c4ea58dd5aaa545e71778",
       "version_major": 2,
       "version_minor": 0
      },
      "text/plain": [
       "  0%|          | 0/1000 [00:00<?, ?it/s]"
      ]
     },
     "metadata": {},
     "output_type": "display_data"
    },
    {
     "name": "stderr",
     "output_type": "stream",
     "text": [
      "Generating Embeddings:  50%|█████     | 7/14 [03:01<02:42, 23.15s/it]"
     ]
    },
    {
     "data": {
      "application/vnd.jupyter.widget-view+json": {
       "model_id": "64fe29e5db5f4cfca0940d0a0eefb083",
       "version_major": 2,
       "version_minor": 0
      },
      "text/plain": [
       "  0%|          | 0/1000 [00:00<?, ?it/s]"
      ]
     },
     "metadata": {},
     "output_type": "display_data"
    },
    {
     "name": "stderr",
     "output_type": "stream",
     "text": [
      "Generating Embeddings:  57%|█████▋    | 8/14 [03:25<02:19, 23.26s/it]"
     ]
    },
    {
     "data": {
      "application/vnd.jupyter.widget-view+json": {
       "model_id": "c86745e374574ffeaebefc0edcc11af7",
       "version_major": 2,
       "version_minor": 0
      },
      "text/plain": [
       "  0%|          | 0/1000 [00:00<?, ?it/s]"
      ]
     },
     "metadata": {},
     "output_type": "display_data"
    },
    {
     "name": "stderr",
     "output_type": "stream",
     "text": [
      "Generating Embeddings:  64%|██████▍   | 9/14 [03:50<01:59, 23.83s/it]"
     ]
    },
    {
     "data": {
      "application/vnd.jupyter.widget-view+json": {
       "model_id": "d1227c100a4248e9b7f4b9f16ebec730",
       "version_major": 2,
       "version_minor": 0
      },
      "text/plain": [
       "  0%|          | 0/1000 [00:00<?, ?it/s]"
      ]
     },
     "metadata": {},
     "output_type": "display_data"
    },
    {
     "name": "stderr",
     "output_type": "stream",
     "text": [
      "Generating Embeddings:  71%|███████▏  | 10/14 [04:12<01:33, 23.46s/it]"
     ]
    },
    {
     "data": {
      "application/vnd.jupyter.widget-view+json": {
       "model_id": "c1416f69a4be4c398f5a87ae98861abb",
       "version_major": 2,
       "version_minor": 0
      },
      "text/plain": [
       "  0%|          | 0/1000 [00:00<?, ?it/s]"
      ]
     },
     "metadata": {},
     "output_type": "display_data"
    },
    {
     "name": "stderr",
     "output_type": "stream",
     "text": [
      "Generating Embeddings:  79%|███████▊  | 11/14 [04:33<01:07, 22.49s/it]"
     ]
    },
    {
     "data": {
      "application/vnd.jupyter.widget-view+json": {
       "model_id": "dbdac48d00f54c7facc66ad6bb1ff496",
       "version_major": 2,
       "version_minor": 0
      },
      "text/plain": [
       "  0%|          | 0/1000 [00:00<?, ?it/s]"
      ]
     },
     "metadata": {},
     "output_type": "display_data"
    },
    {
     "name": "stderr",
     "output_type": "stream",
     "text": [
      "Generating Embeddings:  86%|████████▌ | 12/14 [04:53<00:44, 22.00s/it]"
     ]
    },
    {
     "data": {
      "application/vnd.jupyter.widget-view+json": {
       "model_id": "fcaf804f96c54fcdb36d6f1ee4734adc",
       "version_major": 2,
       "version_minor": 0
      },
      "text/plain": [
       "  0%|          | 0/1000 [00:00<?, ?it/s]"
      ]
     },
     "metadata": {},
     "output_type": "display_data"
    },
    {
     "name": "stderr",
     "output_type": "stream",
     "text": [
      "Generating Embeddings:  93%|█████████▎| 13/14 [05:14<00:21, 21.49s/it]"
     ]
    },
    {
     "data": {
      "application/vnd.jupyter.widget-view+json": {
       "model_id": "fa988c43024e4518bee213ebae346f6c",
       "version_major": 2,
       "version_minor": 0
      },
      "text/plain": [
       "  0%|          | 0/797 [00:00<?, ?it/s]"
      ]
     },
     "metadata": {},
     "output_type": "display_data"
    },
    {
     "name": "stderr",
     "output_type": "stream",
     "text": [
      "Generating Embeddings: 100%|██████████| 14/14 [05:36<00:00, 24.01s/it]\n"
     ]
    }
   ],
   "source": [
    "\n",
    "# Ensure the \"data\" directory exists\n",
    "os.makedirs(\"data\", exist_ok=True)\n",
    "\n",
    "# Use the filtered dataset, can add more columns if need to, for now only texts and doc_ids are present\n",
    "texts = alb_chunks[\"text_block.text\"]\n",
    "doc_ids = alb_chunks[\"document_id\"]\n",
    "\n",
    "# Batch processing setup\n",
    "batch_size = 1000\n",
    "num_batches = (len(texts) + batch_size - 1) // batch_size\n",
    "\n",
    "all_embeddings = []\n",
    "all_doc_ids = []\n",
    "\n",
    "for i in tqdm(range(num_batches), desc=\"Generating Embeddings\"):\n",
    "    start_idx = i * batch_size\n",
    "    end_idx = min((i + 1) * batch_size, len(texts))\n",
    "    \n",
    "    batch_texts = texts.iloc[start_idx:end_idx]\n",
    "    batch_ids = doc_ids.iloc[start_idx:end_idx]\n",
    "    \n",
    "    batch_embeddings = batch_texts.progress_apply(\n",
    "        lambda text: generate_embeddings_for_text(text, model, tokenizer)\n",
    "    )\n",
    "    \n",
    "    all_embeddings.extend(batch_embeddings)\n",
    "    all_doc_ids.extend(batch_ids)\n",
    "\n",
    "# Create a DataFrame for all embeddings\n",
    "embeddings_df = pd.DataFrame({\n",
    "    \"document_id\": all_doc_ids,\n",
    "    \"embedding\": all_embeddings\n",
    "})\n",
    "\n",
    "# Save to CSV\n",
    "embeddings_df.to_csv(\"data/albania_embeddings.csv\", index=False)\n"
   ]
  },
  {
   "cell_type": "markdown",
   "id": "c5910cda",
   "metadata": {},
   "source": [
    "### Embedding all documents for all countries\n",
    "\n",
    "Now that I've tested with Albania and it worked, I'll generate embeddings with all documents and save them into csv files first. I will then save them into the database.\n",
    "\n",
    "This block of code takes a long time. It's a replication of the code for Albania but ensures each csv file has the country name and embeddings for that specific country is saved into their respective csv file.\n",
    "\n",
    "The rows that do not have string values are skipped (it should not be a problem because the column selected should always have a string value normally)"
   ]
  },
  {
   "cell_type": "code",
   "execution_count": null,
   "id": "26231559",
   "metadata": {},
   "outputs": [
    {
     "name": "stderr",
     "output_type": "stream",
     "text": [
      "Filtering by country: 100%|██████████| 18/18 [00:01<00:00, 13.82it/s]\n"
     ]
    }
   ],
   "source": [
    "# Make sure column is string for filtering\n",
    "df[\"document_metadata.geographies\"] = df[\"document_metadata.geographies\"].astype(str)\n",
    "\n",
    "# Extract 3-letter codes like 'ALB', 'DEU', etc.\n",
    "df[\"country_code\"] = df[\"document_metadata.geographies\"].str.extract(r\"\\{(\\w+)\\}\")\n",
    "\n",
    "# Get all unique codes\n",
    "country_codes = df[\"country_code\"].dropna().unique()\n",
    "\n",
    "# Store each country chunk in a dictionary\n",
    "country_chunks = {}\n",
    "\n",
    "for code in tqdm(country_codes, desc=\"Filtering by country\"):\n",
    "    country_chunks[code] = df[df[\"country_code\"] == code]"
   ]
  },
  {
   "cell_type": "code",
   "execution_count": 25,
   "id": "1c0e5baf",
   "metadata": {},
   "outputs": [
    {
     "name": "stdout",
     "output_type": "stream",
     "text": [
      "18\n",
      "ALB: 13797 documents\n",
      "BIH: 16552 documents\n",
      "ZAF: 11132 documents\n",
      "FRA: 351 documents\n",
      "MNE: 3152 documents\n",
      "XKX: 5314 documents\n",
      "MKD: 14146 documents\n",
      "SRB: 9976 documents\n",
      "EUR: 3840 documents\n",
      "TUV: 4896 documents\n",
      "BRA: 1067 documents\n",
      "CAN: 91 documents\n",
      "DEU: 126 documents\n",
      "CHN: 644 documents\n",
      "AZE: 7206 documents\n",
      "JPN: 119 documents\n",
      "IRL: 3 documents\n",
      "GBR: 249 documents\n"
     ]
    }
   ],
   "source": [
    "print(len(country_chunks))\n",
    "\n",
    "#how many documents for each country\n",
    "for code, chunk in country_chunks.items():\n",
    "    print(f\"{code}: {len(chunk)} documents\")"
   ]
  },
  {
   "cell_type": "code",
   "execution_count": null,
   "id": "dd43d5d3",
   "metadata": {},
   "outputs": [
    {
     "name": "stderr",
     "output_type": "stream",
     "text": [
      "Generating country embeddings:   0%|          | 0/18 [00:00<?, ?it/s]"
     ]
    },
    {
     "data": {
      "application/vnd.jupyter.widget-view+json": {
       "model_id": "12bed9ece74c452387829a9b9658e5bd",
       "version_major": 2,
       "version_minor": 0
      },
      "text/plain": [
       "  0%|          | 0/10000 [00:00<?, ?it/s]"
      ]
     },
     "metadata": {},
     "output_type": "display_data"
    },
    {
     "name": "stderr",
     "output_type": "stream",
     "text": []
    },
    {
     "data": {
      "application/vnd.jupyter.widget-view+json": {
       "model_id": "0b6ea4a85d48461a8116cd396936f133",
       "version_major": 2,
       "version_minor": 0
      },
      "text/plain": [
       "  0%|          | 0/3797 [00:00<?, ?it/s]"
      ]
     },
     "metadata": {},
     "output_type": "display_data"
    },
    {
     "name": "stderr",
     "output_type": "stream",
     "text": [
      "Generating country embeddings:   6%|▌         | 1/18 [06:03<1:42:53, 363.15s/it]"
     ]
    },
    {
     "data": {
      "application/vnd.jupyter.widget-view+json": {
       "model_id": "3681a7665cb54cfcaa28ee826ed3f5fa",
       "version_major": 2,
       "version_minor": 0
      },
      "text/plain": [
       "  0%|          | 0/10000 [00:00<?, ?it/s]"
      ]
     },
     "metadata": {},
     "output_type": "display_data"
    },
    {
     "name": "stderr",
     "output_type": "stream",
     "text": []
    },
    {
     "data": {
      "application/vnd.jupyter.widget-view+json": {
       "model_id": "ee4c38ec671a4c3ca26280b4ae0a2f0c",
       "version_major": 2,
       "version_minor": 0
      },
      "text/plain": [
       "  0%|          | 0/6552 [00:00<?, ?it/s]"
      ]
     },
     "metadata": {},
     "output_type": "display_data"
    },
    {
     "name": "stderr",
     "output_type": "stream",
     "text": [
      "Generating country embeddings:  11%|█         | 2/18 [14:03<1:55:17, 432.35s/it]"
     ]
    },
    {
     "data": {
      "application/vnd.jupyter.widget-view+json": {
       "model_id": "75b26675f95c4694bbd08c5abc78824b",
       "version_major": 2,
       "version_minor": 0
      },
      "text/plain": [
       "  0%|          | 0/10000 [00:00<?, ?it/s]"
      ]
     },
     "metadata": {},
     "output_type": "display_data"
    },
    {
     "name": "stderr",
     "output_type": "stream",
     "text": []
    },
    {
     "data": {
      "application/vnd.jupyter.widget-view+json": {
       "model_id": "7dff6e0356ba4e16990fe9a6e2398b96",
       "version_major": 2,
       "version_minor": 0
      },
      "text/plain": [
       "  0%|          | 0/1132 [00:00<?, ?it/s]"
      ]
     },
     "metadata": {},
     "output_type": "display_data"
    },
    {
     "name": "stderr",
     "output_type": "stream",
     "text": [
      "Generating country embeddings:  17%|█▋        | 3/18 [20:48<1:44:54, 419.62s/it]"
     ]
    },
    {
     "data": {
      "application/vnd.jupyter.widget-view+json": {
       "model_id": "8efcd170596a464cb097239edc3b7ccc",
       "version_major": 2,
       "version_minor": 0
      },
      "text/plain": [
       "  0%|          | 0/351 [00:00<?, ?it/s]"
      ]
     },
     "metadata": {},
     "output_type": "display_data"
    },
    {
     "name": "stderr",
     "output_type": "stream",
     "text": [
      "Generating country embeddings:  22%|██▏       | 4/18 [21:14<1:01:40, 264.31s/it]"
     ]
    },
    {
     "data": {
      "application/vnd.jupyter.widget-view+json": {
       "model_id": "ae5a595ff08e4e7a8f9d61147ccd3082",
       "version_major": 2,
       "version_minor": 0
      },
      "text/plain": [
       "  0%|          | 0/3148 [00:00<?, ?it/s]"
      ]
     },
     "metadata": {},
     "output_type": "display_data"
    },
    {
     "name": "stderr",
     "output_type": "stream",
     "text": [
      "Generating country embeddings:  28%|██▊       | 5/18 [24:15<50:46, 234.38s/it]  "
     ]
    },
    {
     "data": {
      "application/vnd.jupyter.widget-view+json": {
       "model_id": "235bc0cab0f846c7b25bc533323c8b80",
       "version_major": 2,
       "version_minor": 0
      },
      "text/plain": [
       "  0%|          | 0/5314 [00:00<?, ?it/s]"
      ]
     },
     "metadata": {},
     "output_type": "display_data"
    },
    {
     "name": "stderr",
     "output_type": "stream",
     "text": [
      "Generating country embeddings:  33%|███▎      | 6/18 [27:45<45:12, 226.03s/it]"
     ]
    },
    {
     "data": {
      "application/vnd.jupyter.widget-view+json": {
       "model_id": "3ee8da81cf4e4b359e1b229874fb1d6c",
       "version_major": 2,
       "version_minor": 0
      },
      "text/plain": [
       "  0%|          | 0/10000 [00:00<?, ?it/s]"
      ]
     },
     "metadata": {},
     "output_type": "display_data"
    },
    {
     "name": "stderr",
     "output_type": "stream",
     "text": []
    },
    {
     "data": {
      "application/vnd.jupyter.widget-view+json": {
       "model_id": "a8c8690389114707bf49cdc083a9c4f7",
       "version_major": 2,
       "version_minor": 0
      },
      "text/plain": [
       "  0%|          | 0/4144 [00:00<?, ?it/s]"
      ]
     },
     "metadata": {},
     "output_type": "display_data"
    },
    {
     "name": "stderr",
     "output_type": "stream",
     "text": [
      "Generating country embeddings:  39%|███▉      | 7/18 [42:13<1:19:52, 435.69s/it]"
     ]
    },
    {
     "data": {
      "application/vnd.jupyter.widget-view+json": {
       "model_id": "28094167affe4da3a777fdb087375c67",
       "version_major": 2,
       "version_minor": 0
      },
      "text/plain": [
       "  0%|          | 0/9974 [00:00<?, ?it/s]"
      ]
     },
     "metadata": {},
     "output_type": "display_data"
    },
    {
     "name": "stderr",
     "output_type": "stream",
     "text": [
      "Generating country embeddings:  44%|████▍     | 8/18 [53:55<1:26:44, 520.47s/it]"
     ]
    },
    {
     "data": {
      "application/vnd.jupyter.widget-view+json": {
       "model_id": "1df6b99efc0947889a279fde8aa80d5c",
       "version_major": 2,
       "version_minor": 0
      },
      "text/plain": [
       "  0%|          | 0/3840 [00:00<?, ?it/s]"
      ]
     },
     "metadata": {},
     "output_type": "display_data"
    },
    {
     "name": "stderr",
     "output_type": "stream",
     "text": [
      "Generating country embeddings:  50%|█████     | 9/18 [57:09<1:02:47, 418.60s/it]"
     ]
    },
    {
     "data": {
      "application/vnd.jupyter.widget-view+json": {
       "model_id": "2b0b8c3fe9354305be2b67fe7771bd32",
       "version_major": 2,
       "version_minor": 0
      },
      "text/plain": [
       "  0%|          | 0/4896 [00:00<?, ?it/s]"
      ]
     },
     "metadata": {},
     "output_type": "display_data"
    },
    {
     "name": "stderr",
     "output_type": "stream",
     "text": [
      "Generating country embeddings:  56%|█████▌    | 10/18 [59:07<43:25, 325.67s/it] "
     ]
    },
    {
     "data": {
      "application/vnd.jupyter.widget-view+json": {
       "model_id": "84b83fff0df8411a91d530034c8012de",
       "version_major": 2,
       "version_minor": 0
      },
      "text/plain": [
       "  0%|          | 0/1065 [00:00<?, ?it/s]"
      ]
     },
     "metadata": {},
     "output_type": "display_data"
    },
    {
     "name": "stderr",
     "output_type": "stream",
     "text": [
      "Generating country embeddings:  61%|██████    | 11/18 [59:50<27:55, 239.32s/it]"
     ]
    },
    {
     "data": {
      "application/vnd.jupyter.widget-view+json": {
       "model_id": "e7f10ec80142440e9e1ccdc77dc37c3d",
       "version_major": 2,
       "version_minor": 0
      },
      "text/plain": [
       "  0%|          | 0/89 [00:00<?, ?it/s]"
      ]
     },
     "metadata": {},
     "output_type": "display_data"
    },
    {
     "name": "stderr",
     "output_type": "stream",
     "text": [
      "Generating country embeddings:  67%|██████▋   | 12/18 [59:55<16:47, 167.99s/it]"
     ]
    },
    {
     "data": {
      "application/vnd.jupyter.widget-view+json": {
       "model_id": "64bf4e6ad29a4d049437ad8a5c700f4f",
       "version_major": 2,
       "version_minor": 0
      },
      "text/plain": [
       "  0%|          | 0/126 [00:00<?, ?it/s]"
      ]
     },
     "metadata": {},
     "output_type": "display_data"
    },
    {
     "name": "stderr",
     "output_type": "stream",
     "text": [
      "Generating country embeddings:  72%|███████▏  | 13/18 [1:00:02<09:56, 119.28s/it]"
     ]
    },
    {
     "data": {
      "application/vnd.jupyter.widget-view+json": {
       "model_id": "f336b6ce692c406ea2c70b639d4fb60e",
       "version_major": 2,
       "version_minor": 0
      },
      "text/plain": [
       "  0%|          | 0/644 [00:00<?, ?it/s]"
      ]
     },
     "metadata": {},
     "output_type": "display_data"
    },
    {
     "name": "stderr",
     "output_type": "stream",
     "text": [
      "Generating country embeddings:  78%|███████▊  | 14/18 [1:01:03<06:46, 101.70s/it]"
     ]
    },
    {
     "data": {
      "application/vnd.jupyter.widget-view+json": {
       "model_id": "85e88c205057436e87ce769028b29a3e",
       "version_major": 2,
       "version_minor": 0
      },
      "text/plain": [
       "  0%|          | 0/7206 [00:00<?, ?it/s]"
      ]
     },
     "metadata": {},
     "output_type": "display_data"
    },
    {
     "name": "stderr",
     "output_type": "stream",
     "text": [
      "Generating country embeddings:  83%|████████▎ | 15/18 [1:05:45<07:48, 156.00s/it]"
     ]
    },
    {
     "data": {
      "application/vnd.jupyter.widget-view+json": {
       "model_id": "a4247378046342a09f3644ade28140df",
       "version_major": 2,
       "version_minor": 0
      },
      "text/plain": [
       "  0%|          | 0/119 [00:00<?, ?it/s]"
      ]
     },
     "metadata": {},
     "output_type": "display_data"
    },
    {
     "name": "stderr",
     "output_type": "stream",
     "text": [
      "Generating country embeddings:  89%|████████▉ | 16/18 [1:05:51<03:41, 110.77s/it]"
     ]
    },
    {
     "data": {
      "application/vnd.jupyter.widget-view+json": {
       "model_id": "a59e1eac158543edbde67bae386c30f2",
       "version_major": 2,
       "version_minor": 0
      },
      "text/plain": [
       "  0%|          | 0/3 [00:00<?, ?it/s]"
      ]
     },
     "metadata": {},
     "output_type": "display_data"
    },
    {
     "name": "stderr",
     "output_type": "stream",
     "text": [
      "Generating country embeddings:  94%|█████████▍| 17/18 [1:05:51<01:17, 77.53s/it] "
     ]
    },
    {
     "data": {
      "application/vnd.jupyter.widget-view+json": {
       "model_id": "670acd879f7349c6afa2752e598c40cb",
       "version_major": 2,
       "version_minor": 0
      },
      "text/plain": [
       "  0%|          | 0/249 [00:00<?, ?it/s]"
      ]
     },
     "metadata": {},
     "output_type": "display_data"
    },
    {
     "name": "stderr",
     "output_type": "stream",
     "text": [
      "Generating country embeddings: 100%|██████████| 18/18 [1:06:00<00:00, 220.04s/it]\n"
     ]
    }
   ],
   "source": [
    "# Ensure the \"data\" directory exists\n",
    "os.makedirs(\"data\", exist_ok=True)\n",
    "\n",
    "# Batch size for embedding\n",
    "batch_size = 10000\n",
    "\n",
    "# Loop through each country's data in the dictionary\n",
    "for code, chunk in tqdm(country_chunks.items(), desc=\"Generating country embeddings\"):\n",
    "    texts = chunk[\"text_block.text\"]\n",
    "    doc_ids = chunk[\"document_id\"]\n",
    "\n",
    "    num_batches = (len(texts) + batch_size - 1) // batch_size\n",
    "\n",
    "    all_embeddings = []\n",
    "    all_doc_ids = []\n",
    "\n",
    "    for i in tqdm(range(num_batches), desc=f\"Embedding {code}\", leave=False):\n",
    "        start_idx = i * batch_size\n",
    "        end_idx = min((i + 1) * batch_size, len(texts))\n",
    "\n",
    "        batch_texts = texts.iloc[start_idx:end_idx]\n",
    "        batch_ids = doc_ids.iloc[start_idx:end_idx]\n",
    "\n",
    "        # Reset index so they stay aligned after filtering\n",
    "        batch_texts = batch_texts.reset_index(drop=True)\n",
    "        batch_ids = batch_ids.reset_index(drop=True)\n",
    "\n",
    "        # Filter out invalid texts\n",
    "        mask = batch_texts.apply(lambda x: isinstance(x, str) and x.strip() != \"\")\n",
    "        batch_texts = batch_texts[mask]\n",
    "        batch_ids = batch_ids[mask]\n",
    "\n",
    "\n",
    "        batch_embeddings = batch_texts.progress_apply(\n",
    "            lambda text: generate_embeddings_for_text(text, model, tokenizer)\n",
    "        )\n",
    "\n",
    "        all_embeddings.extend(batch_embeddings)\n",
    "        all_doc_ids.extend(batch_ids)\n",
    "\n",
    "    # Save to DataFrame\n",
    "    embeddings_df = pd.DataFrame({\n",
    "        \"document_id\": all_doc_ids,\n",
    "        \"embedding\": all_embeddings\n",
    "    })\n",
    "\n",
    "    # Save to CSV using the country code (e.g. alb_embeddings.csv)\n",
    "    filename = f\"data/{code.lower()}_embeddings.csv\"\n",
    "    embeddings_df.to_csv(filename, index=False)\n"
   ]
  },
  {
   "cell_type": "markdown",
   "id": "b1e57c87",
   "metadata": {},
   "source": [
    "# 3. Saving the embeddings into the database"
   ]
  },
  {
   "cell_type": "code",
   "execution_count": null,
   "id": "06678cff",
   "metadata": {},
   "outputs": [
    {
     "name": "stdout",
     "output_type": "stream",
     "text": [
      "✅ Table 'document_embeddings' created (or already exists) in public schema.\n"
     ]
    }
   ],
   "source": [
    "load_dotenv()\n",
    "engine = create_engine(os.getenv(\"DB_URL\"))\n",
    "\n",
    "# Load and run SQL file\n",
    "with open(\"create_table.sql\", \"r\") as file:\n",
    "    sql_commands = file.read()\n",
    "\n",
    "with engine.begin() as conn:  # use begin() for implicit commit\n",
    "    conn.execute(text(create_table_sql))\n",
    "\n",
    "print(\"✅ Table 'document_embeddings' created (or already exists) in public schema.\")"
   ]
  },
  {
   "cell_type": "code",
   "execution_count": null,
   "id": "246a598a",
   "metadata": {},
   "outputs": [
    {
     "name": "stdout",
     "output_type": "stream",
     "text": [
      "768\n"
     ]
    }
   ],
   "source": [
    "# Make sure the dimentions of the embeddings are correct\n",
    "df = pd.read_csv(\"data/alb_embeddings.csv\")\n",
    "print(len(eval(df[\"embedding\"][0])))  # Check how many dimensions\n"
   ]
  },
  {
   "cell_type": "code",
   "execution_count": 53,
   "id": "cd050196",
   "metadata": {},
   "outputs": [
    {
     "ename": "ProgrammingError",
     "evalue": "(psycopg2.errors.SyntaxError) syntax error at or near \"-\"\nLINE 3: ...CCLW.document.i00000004.n0000', 'BIH', ARRAY[ARRAY-0.0395717...\n                                                             ^\n\n[SQL: \n            INSERT INTO document_embeddings (document_id, country_code, embedding)\n            VALUES (%(document_id)s, %(country_code)s, ARRAY[ARRAY-0.03957175835967064, 0.06338946521282196, 0.028361350297927856, -0.10575797408819199, 0.01713615655899048, -0.016073910519480705, -0.0431273952126503, 0.01931213214993477, 0.09040458500385284, -0.07266988605260849, 0.016095779836177826, 0.08826948702335358, -0.001592898741364479, -0.055431511253118515, 0.008327774703502655, 0.09592875093221664, 0.006416813470423222, 0.08755200356245041, 0.05708659440279007, -0.0314825214445591, -0.11328034102916718, 0.07778917998075485, 0.09363071620464325, 0.07077360153198242, 0.03861020505428314, 0.026525933295488358, -0.008160434663295746, 0.045409973710775375, 0.06601568311452866, -0.01884964480996132, -0.10273757576942444, -0.08917813003063202, 0.07605835795402527, 0.0245533250272274, -0.010040080174803734, 0.07939748466014862, 0.010620202869176865, 0.007267214357852936, -0.06479272246360779, 0.03498169779777527, -0.03534463047981262, 0.02750881388783455, 0.03476047143340111, -0.01816025748848915, 0.08508478105068207, 0.06974437087774277, 0.07848687469959259, 0.018769096583127975, -0.0076122283935546875, -0.05208718776702881, -0.01594211906194687, 0.07711665332317352, 0.037863701581954956, -0.012768261134624481, -0.0409088097512722, 0.07133087515830994, 0.005411561578512192, 0.11100782454013824, 0.018701892346143723, -0.018510274589061737, -0.07646166533231735, -0.19356754422187805, -0.0336117185652256, 0.0021980255842208862, 0.035359807312488556, -0.04568193480372429, 0.0500054731965065, 0.030020780861377716, 0.010037560015916824, 0.024419676512479782, -0.02478320151567459, -0.027414916083216667, 0.0396273136138916, -0.0721483826637268, 0.006707243621349335, 0.0408756360411644, 0.005860380828380585, 0.9381948709487915, -0.0519334077835083, 0.07862873375415802, 0.04265187680721283, -0.09060950577259064, 0.3947744071483612, 0.09206067025661469, 0.014317236840724945, -0.06035977229475975, 0.06498116254806519, 0.048997532576322556, -0.017111830413341522, 0.03183643892407417, -0.0002550855278968811, 0.032208096235990524, -0.073503278195858, -0.01610301062464714, 0.01976410485804081, 0.03444892168045044, 0.01358981803059578, 0.05545547604560852, 0.023494940251111984, -0.0636565238237381, 0.04208434745669365, -0.060725197196006775, 0.03290194645524025, 0.06866736710071564, 0.005713760852813721, -0.02618156373500824, 0.04668118804693222, -0.04189913347363472, 0.05432543158531189, 0.04623384401202202, 0.00837107002735138, 0.055428843945264816, 0.06566374003887177, 0.028812553733587265, 0.060684338212013245, 0.01802719198167324, -0.06380288302898407, 0.03342659771442413, 0.1877727210521698, 0.0644659772515297, 0.08499184250831604, 0.09022685885429382, 0.05631563067436218, 0.006324291229248047, -0.06725937873125076, -0.0017078295350074768, -0.061463385820388794, 0.14378635585308075, -0.03707684203982353, -0.03580338507890701, 0.04241500794887543, -0.1317022293806076, 0.0906328409910202, 0.12080784142017365, 0.08145276457071304, 0.018607329577207565, 0.02535601705312729, -0.004765741527080536, 0.06346625089645386, 0.0647466704249382, 0.08209484070539474, -0.06650024652481079, 0.006017673760652542, -0.015025626868009567, 0.0973689928650856, 0.09164291620254517, -0.03977186605334282, -0.07211756706237793, -0.009448304772377014, -0.003253220347687602, 0.08249394595623016, -0.05990321561694145, -0.013864221051335335, -0.01646725833415985, -0.09965524822473526, 0.6349496245384216, 0.14885911345481873, -0.00846610963344574, -0.00474170595407486, 0.015021875500679016, 0.14330926537513733, 0.0196889229118824, 0.0055047329515218735, 0.013526074588298798, 0.027032136917114258, -0.008236546069383621, 0.02328966185450554, -0.006161842495203018, 0.030984897166490555, 0.0018306449055671692, 0.008810242637991905, 0.04211830347776413, -0.0944255143404007, 0.003260992467403412, -0.019277825951576233, 0.00796167179942131, 0.11685483157634735, -0.008612588047981262, -0.05491459369659424, 0.05529772862792015, -0.056134164333343506, 0.04465550556778908, -0.09087717533111572, 0.04059602692723274, -0.018167797476053238, -0.003004811704158783, -0.026568666100502014, 0.0228091012686491, 0.11004513502120972, 0.04261970520019531, 0.05435376241803169, -0.05884398892521858, 0.010817542672157288, 0.023300915956497192, -0.02199804037809372, 0.08745762705802917, -0.02612055093050003, -0.012252803891897202, 0.07665475457906723, 0.05630671977996826, -0.00869525596499443, -0.09492900967597961, 0.12237302958965302, -0.06929217278957367, 0.09516408294439316, 0.05638366937637329, -0.06117621809244156, 0.1375335156917572, -0.009560022503137589, -0.07113591581583023, -0.009812746196985245, 0.11152279376983643, 0.011607436463236809, 0.03347545489668846, 0.04289500042796135, -0.09001660346984863, 0.007114045321941376, 0.21338559687137604, 0.06233808025717735, 0.009754229336977005, 0.12603969871997833, 0.022849995642900467, -0.020478084683418274, 0.07118260860443115, 0.014592364430427551, 0.06710486114025116, 0.056377165019512177, 0.02920987457036972, 0.03419572487473488, 0.07435912638902664, -0.014294654130935669, -0.008036717772483826, -0.04944053664803505, 0.05906623601913452, 0.08459679037332535, -0.07761384546756744, -0.02822679653763771, 0.02288772538304329, -0.03655896335840225, -0.05415184423327446, -0.06546288728713989, 0.10750961303710938, 0.06791126728057861, 0.16194114089012146, 0.07065458595752716, 0.09624715149402618, 0.031461190432310104, 0.10624342411756516, 0.010582514107227325, 0.0606272853910923, 0.0019421037286520004, -0.03746689856052399, 0.08718664944171906, 0.002957519143819809, -0.0659080445766449, 0.0171841848641634, -0.06151130795478821, 0.013554129749536514, -0.0006283791735768318, -0.04995117336511612, 0.03573513403534889, -0.024263059720396996, 0.016900036484003067, 0.019153054803609848, -0.06950683146715164, -0.06266938149929047, -0.0757206529378891, 0.07078728079795837, 0.06141451373696327, -0.04612138494849205, 0.08813969045877457, -0.04774877056479454, 0.045716866850852966, -0.02440350502729416, 0.05067431926727295, 0.11102542281150818, 0.07198499143123627, 0.057745419442653656, 0.042383234947919846, -0.028417423367500305, -0.045622993260622025, -0.00020670145750045776, -0.1018238291144371, 0.09008244425058365, 0.025214146822690964, -0.032327115535736084, -0.007198397070169449, 0.030533842742443085, 0.04046804457902908, 0.0018157362937927246, 0.01493581011891365, 0.02554469183087349, -0.0674794614315033, 0.09423410892486572, -0.02225782535970211, -0.004341784864664078, 0.06814546883106232, -0.006032079458236694, -0.06067752093076706, -0.06936287879943848, -0.08534123748540878, -0.0904577448964119, -0.049484800547361374, -0.10174713283777237, 0.02513793110847473, -0.0058412738144397736, 0.010134276002645493, -0.01939595490694046, 0.041235096752643585, 0.07740148901939392, -0.11920865625143051, -0.07192986458539963, -0.006640871986746788, 0.09157858788967133, -0.03381969779729843, 0.03557167202234268, -0.015505265444517136, -0.03490489348769188, 0.08518590033054352, 0.03198358416557312, 0.016719412058591843, 0.05668283998966217, 0.06332175433635712, 0.03563288226723671, 0.04877549409866333, 0.13342009484767914, 0.08641549944877625, 0.07693961262702942, 0.023368943482637405, 0.530616283416748, -0.32494986057281494, -0.010798897594213486, 0.07356926798820496, 0.03048718348145485, 0.11398075520992279, 0.026948150247335434, 0.05998695641756058, 0.05995318666100502, 0.15932103991508484, 0.12414237856864929, -0.02633345127105713, -0.031076140701770782, -0.029038511216640472, 0.05623072385787964, 0.08156374096870422, 0.02224394865334034, 0.09539063274860382, 0.017712587490677834, -0.03299418464303017, 0.008230798877775669, 0.04969315603375435, 0.10082488507032394, 0.0002742372453212738, -0.016291411593556404, 0.024019695818424225, 0.06962649524211884, 0.04770928993821144, 0.0533561035990715, 0.04549004137516022, -0.05120089277625084, 0.05479113385081291, -0.031982917338609695, 0.04257182776927948, 0.006288901902735233, 0.10047949850559235, -0.037513431161642075, -0.01964637264609337, 0.0681658536195755, 0.05486041307449341, 0.04773133993148804, 0.04960736632347107, 0.022901836782693863, 0.06009671092033386, 0.028634333983063698, 0.05384881794452667, 0.015500679612159729, 0.02383986860513687, 0.044513039290905, -0.041236668825149536, 0.21220427751541138, 0.03225693106651306, 0.059554070234298706, -0.04055684059858322, 0.0035461299121379852, 0.174188032746315, 0.026010222733020782, 0.07735083997249603, -0.016869492828845978, 0.05575154721736908, -0.01968234032392502, 0.04968946427106857, 0.0036408454179763794, -0.03206793591380119, -0.03648626059293747, 0.08995530009269714, 0.05756811425089836, -0.05626624822616577, -0.07047021389007568, 0.003099631518125534, -0.06167234480381012, -0.017919234931468964, 0.02293502911925316, -0.0687122493982315, 0.03194352611899376, 0.08243967592716217, 0.07796937227249146, -0.06206688657402992, -0.044605400413274765, -0.0045350342988967896, -0.09029309451580048, 0.057078853249549866, 0.08350073546171188, 0.08581896871328354, -0.012010190635919571, 0.06348671019077301, -0.02005504071712494, -0.02936524711549282, 0.01960677281022072, -0.0038895420730113983, 0.0012574493885040283, 0.00425112247467041, 0.07101040333509445, 0.09849069267511368, -0.007175754755735397, -0.002396378666162491, -0.04840308800339699, 0.10975361615419388, -0.15741467475891113, -0.0441756471991539, -0.06122719496488571, 0.0016593486070632935, 0.06147242709994316, -0.10257621854543686, 0.026873257011175156, 0.05989387258887291, -0.025717608630657196, 0.030667513608932495, -0.022213008254766464, -0.0843997374176979, -0.06348282098770142, 0.041214436292648315, -0.045243725180625916, -0.008553430438041687, 0.1831098198890686, 0.02254212275147438, 0.02263501100242138, 0.1001041978597641, -0.010846827179193497, 0.050408847630023956, 0.037127476185560226, -0.06080145761370659, 0.06607002019882202, -0.001368863508105278, -0.24698707461357117, 0.10473926365375519, 0.19825634360313416, 0.05586211755871773, 0.07117919623851776, -0.10085460543632507, 0.017754800617694855, 0.02760046347975731, 0.17601919174194336, 0.006336864084005356, 0.00705583393573761, 0.017731554806232452, -0.0030527263879776, -0.0036849789321422577, 0.043964896351099014, 0.03862587362527847, 0.030167197808623314, 0.09248398244380951, 0.10776790976524353, -0.019394485279917717, -0.03224978595972061, -0.011558767408132553, 0.03637230768799782, -0.03499908745288849, -0.022624652832746506, 0.04547920823097229, -0.02355216071009636, -0.08669573068618774, 0.06563198566436768, 0.06826318055391312, 0.057934798300266266, 0.010228349827229977, -0.005859449505805969, 0.02312515303492546, 0.055970609188079834, 0.00992562621831894, -0.0014027506113052368, -0.10397161543369293, -0.022814728319644928, 0.11759190261363983, 0.13100621104240417, 0.5008354783058167, 0.1011701375246048, 0.3724170923233032, -0.014473605901002884, 0.07995954155921936, 0.00291481614112854, 0.040398359298706055, -0.03385539725422859, -0.000762108713388443, -0.05502067133784294, 0.024903440847992897, 0.12011533975601196, -0.12237170338630676, -0.05596155673265457, 0.11269714683294296, -0.0018630214035511017, -0.023201899603009224, -0.023302927613258362, 0.22692082822322845, 0.008876752108335495, 0.012258660048246384, -0.0036928877234458923, 0.12920986115932465, -0.053224049508571625, -0.04997982829809189, 0.053935423493385315, 0.03535677120089531, -0.0162096805870533, -0.016349326819181442, -0.02638918161392212, -0.03474506363272667, -0.020037977024912834, -0.0027733519673347473, 0.004120800644159317, 0.06458060443401337, -0.03201769292354584, -0.02657010778784752, -0.08473619073629379, 0.11455222964286804, 0.040673740208148956, 0.02296760305762291, 0.1033797413110733, 0.028986722230911255, -0.00218125618994236, -0.02179758995771408, -0.005173426121473312, -0.0508178174495697, 0.0748014822602272, 0.0710773766040802, 0.03862875699996948, 0.1360073983669281, 0.05922914668917656, -0.004011578857898712, -0.035407401621341705, 0.0953054130077362, 0.1072535514831543, 0.013868693262338638, -1.0404859781265259, 0.008572179824113846, 0.12625358998775482, -0.023907754570245743, 0.04206971079111099, 0.06515859067440033, 0.03463897481560707, -0.07333546876907349, 0.06661748886108398, 0.009866029024124146, 0.0840582475066185, -0.013203531503677368, 0.1023084968328476, -0.1014629602432251, 0.03071758709847927, 0.12163759768009186, -0.008407138288021088, -0.02470521256327629, 0.03376907482743263, -0.21764366328716278, 0.03834023326635361, 0.05393892526626587, 0.13364562392234802, -0.019977569580078125, 0.08102593570947647, 0.0785892978310585, -0.011250939220190048, 0.042702145874500275, 0.10782895237207413, -0.01920948550105095, 0.09689150750637054, 0.011797018349170685, -0.04092412441968918, 0.042842961847782135, 0.09228263795375824, 0.10148723423480988, 0.07021410018205643, 10.838075637817383, -0.03633015975356102, -0.0063912831246852875, 0.01366189494729042, 0.06772810220718384, -0.10232272744178772, 0.08365140855312347, -0.04652111977338791, 0.06340117752552032, 0.08948367089033127, -0.016687743365764618, -0.013631682842969894, 0.01786808855831623, -0.0017002522945404053, 0.0025266259908676147, -0.0084700807929039, 0.016989249736070633, -0.019615959376096725, 0.027798522263765335, -0.005369976162910461, -0.07135835289955139, 0.028503596782684326, 0.11511203646659851, -0.057109128683805466, -0.02424616925418377, 0.1532299816608429, 0.12073501199483871, -0.0077199786901474, -0.05797984078526497, 0.02074747532606125, 0.06074333190917969, 0.049487750977277756, 0.06330239772796631, 0.038706857711076736, 0.1045287549495697, -0.014578020200133324, -0.028517086058855057, 0.09507513791322708, 0.019363094121217728, 0.011663567274808884, 0.10847269743680954, 0.015901077538728714, 0.07749252766370773, 0.10642430186271667, 0.0285620279610157, 0.04083096981048584, 0.12117013335227966, 0.09223520755767822, 0.05740297958254814, 0.019477155059576035, 0.03634848818182945, -0.004934780299663544, 0.1362578421831131, 0.013179594650864601, -0.037638403475284576, -0.07164473831653595, 0.030592933297157288, -0.013279743492603302, 0.07429824769496918, 0.02461077645421028, -0.0003330595791339874, 0.09098503738641739, 0.03409966081380844, 0.13036203384399414, 0.047144122421741486, 0.05794946849346161, 0.09170106053352356, 0.106241375207901, -0.06811761856079102, -0.020869113504886627, 0.09878043085336685, -0.13613633811473846, 0.028444770723581314, -0.03426199406385422, -0.05079783499240875, 0.021771714091300964, 0.025238826870918274, 0.018371932208538055, -0.008234899491071701, -0.038696229457855225, 0.11967597901821136, 0.018246226012706757, -0.07709024101495743, -0.01842588558793068, 0.0697682648897171, 0.09480146318674088, -0.017784863710403442, 0.07524827122688293, 0.02816363424062729, -0.05999119207262993, 0.0686882957816124, -0.0449671670794487, -0.005431480705738068, -0.004616670310497284, 0.042956024408340454, -0.08259984105825424, 0.02837383933365345, -0.07588709890842438, 0.032089702785015106, 0.06417842209339142, 0.0035163648426532745, 0.04907029867172241, 0.05775686353445053, 0.12000459432601929, 0.023516077548265457, 0.03482275456190109, 0.0012039989233016968, 0.019557636231184006, 0.029281089082360268, 0.0834575891494751, 0.0021601635962724686, -0.005618158727884293, 0.0411161445081234, -0.11430571973323822, 0.0431954525411129, 0.013372255489230156, -0.03515911102294922, -0.037089671939611435, 0.06296312808990479, 0.091233029961586, -0.008356988430023193, -0.029102269560098648, -0.04753977060317993, 0.09020531177520752, 0.07632946223020554, -0.010097332298755646, -0.07338481396436691, 0.011153299361467361, -0.053036585450172424, -0.04483472928404808, -0.001207347959280014, 0.0785905048251152, 0.11368201673030853, -0.044870030134916306, 0.10633157938718796, 0.006839364767074585, -0.013609826564788818, 0.05563489347696304, 0.04543202370405197, 0.10772936046123505, -0.027662035077810287, 0.046452075242996216, 0.08127939701080322, -0.06132978945970535, 0.010663159191608429, 0.08945038914680481, -0.0028303563594818115, -0.01641407236456871, 0.10206350684165955, -0.03911895304918289, 0.012275174260139465, 0.054434649646282196, 0.0032044146209955215, 0.024296000599861145, 0.0010965950787067413, -0.06606739014387131, -0.07169681787490845, 0.1140751764178276, -0.005438387393951416, 0.011046167463064194, -0.012322865426540375, 0.021174971014261246, 0.10653138160705566, -0.0006009526550769806, -0.025326520204544067, 0.027917031198740005, -0.025899354368448257, 0.025248803198337555, 0.11777587234973907, -0.02980343997478485, 0.00048717111349105835, 0.001087278127670288, -0.1232876405119896, -0.0847553163766861, 0.009478297084569931, 0.06675538420677185, 0.08640553802251816, -0.21355432271957397, -0.07074439525604248, -0.013479523360729218]::vector)\n            ON CONFLICT (document_id) DO NOTHING;\n        ]\n[parameters: {'document_id': 'CCLW.document.i00000004.n0000', 'country_code': 'BIH'}]\n(Background on this error at: https://sqlalche.me/e/20/f405)",
     "output_type": "error",
     "traceback": [
      "\u001b[31m---------------------------------------------------------------------------\u001b[39m",
      "\u001b[31mSyntaxError\u001b[39m                               Traceback (most recent call last)",
      "\u001b[36mFile \u001b[39m\u001b[32m~/group-6-final-project/project-env/lib/python3.12/site-packages/sqlalchemy/engine/base.py:1970\u001b[39m, in \u001b[36mConnection._exec_single_context\u001b[39m\u001b[34m(self, dialect, context, statement, parameters)\u001b[39m\n\u001b[32m   1969\u001b[39m     \u001b[38;5;28;01mif\u001b[39;00m \u001b[38;5;129;01mnot\u001b[39;00m evt_handled:\n\u001b[32m-> \u001b[39m\u001b[32m1970\u001b[39m         \u001b[38;5;28;43mself\u001b[39;49m\u001b[43m.\u001b[49m\u001b[43mdialect\u001b[49m\u001b[43m.\u001b[49m\u001b[43mdo_execute\u001b[49m\u001b[43m(\u001b[49m\n\u001b[32m   1971\u001b[39m \u001b[43m            \u001b[49m\u001b[43mcursor\u001b[49m\u001b[43m,\u001b[49m\u001b[43m \u001b[49m\u001b[43mstr_statement\u001b[49m\u001b[43m,\u001b[49m\u001b[43m \u001b[49m\u001b[43meffective_parameters\u001b[49m\u001b[43m,\u001b[49m\u001b[43m \u001b[49m\u001b[43mcontext\u001b[49m\n\u001b[32m   1972\u001b[39m \u001b[43m        \u001b[49m\u001b[43m)\u001b[49m\n\u001b[32m   1974\u001b[39m \u001b[38;5;28;01mif\u001b[39;00m \u001b[38;5;28mself\u001b[39m._has_events \u001b[38;5;129;01mor\u001b[39;00m \u001b[38;5;28mself\u001b[39m.engine._has_events:\n",
      "\u001b[36mFile \u001b[39m\u001b[32m~/group-6-final-project/project-env/lib/python3.12/site-packages/sqlalchemy/engine/default.py:924\u001b[39m, in \u001b[36mDefaultDialect.do_execute\u001b[39m\u001b[34m(self, cursor, statement, parameters, context)\u001b[39m\n\u001b[32m    923\u001b[39m \u001b[38;5;28;01mdef\u001b[39;00m\u001b[38;5;250m \u001b[39m\u001b[34mdo_execute\u001b[39m(\u001b[38;5;28mself\u001b[39m, cursor, statement, parameters, context=\u001b[38;5;28;01mNone\u001b[39;00m):\n\u001b[32m--> \u001b[39m\u001b[32m924\u001b[39m     \u001b[43mcursor\u001b[49m\u001b[43m.\u001b[49m\u001b[43mexecute\u001b[49m\u001b[43m(\u001b[49m\u001b[43mstatement\u001b[49m\u001b[43m,\u001b[49m\u001b[43m \u001b[49m\u001b[43mparameters\u001b[49m\u001b[43m)\u001b[49m\n",
      "\u001b[31mSyntaxError\u001b[39m: syntax error at or near \"-\"\nLINE 3: ...CCLW.document.i00000004.n0000', 'BIH', ARRAY[ARRAY-0.0395717...\n                                                             ^\n",
      "\nThe above exception was the direct cause of the following exception:\n",
      "\u001b[31mProgrammingError\u001b[39m                          Traceback (most recent call last)",
      "\u001b[36mCell\u001b[39m\u001b[36m \u001b[39m\u001b[32mIn[53]\u001b[39m\u001b[32m, line 54\u001b[39m\n\u001b[32m     46\u001b[39m         embedding_sql = \u001b[33mf\u001b[39m\u001b[33m\"\u001b[39m\u001b[33mARRAY[\u001b[39m\u001b[38;5;132;01m{\u001b[39;00membedding_str\u001b[38;5;132;01m}\u001b[39;00m\u001b[33m]::vector\u001b[39m\u001b[33m\"\u001b[39m\n\u001b[32m     48\u001b[39m         sql = \u001b[33mf\u001b[39m\u001b[33m\"\"\"\u001b[39m\n\u001b[32m     49\u001b[39m \u001b[33m            INSERT INTO document_embeddings (document_id, country_code, embedding)\u001b[39m\n\u001b[32m     50\u001b[39m \u001b[33m            VALUES (:document_id, :country_code, \u001b[39m\u001b[38;5;132;01m{\u001b[39;00membedding_sql\u001b[38;5;132;01m}\u001b[39;00m\u001b[33m)\u001b[39m\n\u001b[32m     51\u001b[39m \u001b[33m            ON CONFLICT (document_id) DO NOTHING;\u001b[39m\n\u001b[32m     52\u001b[39m \u001b[33m        \u001b[39m\u001b[33m\"\"\"\u001b[39m\n\u001b[32m---> \u001b[39m\u001b[32m54\u001b[39m         \u001b[43mconn\u001b[49m\u001b[43m.\u001b[49m\u001b[43mexecute\u001b[49m\u001b[43m(\u001b[49m\u001b[43mtext\u001b[49m\u001b[43m(\u001b[49m\u001b[43msql\u001b[49m\u001b[43m)\u001b[49m\u001b[43m,\u001b[49m\u001b[43m \u001b[49m\u001b[43m{\u001b[49m\n\u001b[32m     55\u001b[39m \u001b[43m            \u001b[49m\u001b[33;43m\"\u001b[39;49m\u001b[33;43mdocument_id\u001b[39;49m\u001b[33;43m\"\u001b[39;49m\u001b[43m:\u001b[49m\u001b[43m \u001b[49m\u001b[43mrow\u001b[49m\u001b[43m[\u001b[49m\u001b[33;43m\"\u001b[39;49m\u001b[33;43mdocument_id\u001b[39;49m\u001b[33;43m\"\u001b[39;49m\u001b[43m]\u001b[49m\u001b[43m,\u001b[49m\n\u001b[32m     56\u001b[39m \u001b[43m            \u001b[49m\u001b[33;43m\"\u001b[39;49m\u001b[33;43mcountry_code\u001b[39;49m\u001b[33;43m\"\u001b[39;49m\u001b[43m:\u001b[49m\u001b[43m \u001b[49m\u001b[43mrow\u001b[49m\u001b[43m[\u001b[49m\u001b[33;43m\"\u001b[39;49m\u001b[33;43mcountry_code\u001b[39;49m\u001b[33;43m\"\u001b[39;49m\u001b[43m]\u001b[49m\n\u001b[32m     57\u001b[39m \u001b[43m        \u001b[49m\u001b[43m}\u001b[49m\u001b[43m)\u001b[49m\n\u001b[32m     59\u001b[39m \u001b[38;5;28mprint\u001b[39m(\u001b[33m\"\u001b[39m\u001b[33m✅ All embeddings uploaded successfully.\u001b[39m\u001b[33m\"\u001b[39m)\n\u001b[32m     65\u001b[39m \u001b[38;5;28mprint\u001b[39m(\u001b[33m\"\u001b[39m\u001b[33m✅ All embeddings uploaded to database.\u001b[39m\u001b[33m\"\u001b[39m)\n",
      "\u001b[36mFile \u001b[39m\u001b[32m~/group-6-final-project/project-env/lib/python3.12/site-packages/sqlalchemy/engine/base.py:1421\u001b[39m, in \u001b[36mConnection.execute\u001b[39m\u001b[34m(self, statement, parameters, execution_options)\u001b[39m\n\u001b[32m   1419\u001b[39m     \u001b[38;5;28;01mraise\u001b[39;00m exc.ObjectNotExecutableError(statement) \u001b[38;5;28;01mfrom\u001b[39;00m\u001b[38;5;250m \u001b[39m\u001b[34;01merr\u001b[39;00m\n\u001b[32m   1420\u001b[39m \u001b[38;5;28;01melse\u001b[39;00m:\n\u001b[32m-> \u001b[39m\u001b[32m1421\u001b[39m     \u001b[38;5;28;01mreturn\u001b[39;00m \u001b[43mmeth\u001b[49m\u001b[43m(\u001b[49m\n\u001b[32m   1422\u001b[39m \u001b[43m        \u001b[49m\u001b[38;5;28;43mself\u001b[39;49m\u001b[43m,\u001b[49m\n\u001b[32m   1423\u001b[39m \u001b[43m        \u001b[49m\u001b[43mdistilled_parameters\u001b[49m\u001b[43m,\u001b[49m\n\u001b[32m   1424\u001b[39m \u001b[43m        \u001b[49m\u001b[43mexecution_options\u001b[49m\u001b[43m \u001b[49m\u001b[38;5;129;43;01mor\u001b[39;49;00m\u001b[43m \u001b[49m\u001b[43mNO_OPTIONS\u001b[49m\u001b[43m,\u001b[49m\n\u001b[32m   1425\u001b[39m \u001b[43m    \u001b[49m\u001b[43m)\u001b[49m\n",
      "\u001b[36mFile \u001b[39m\u001b[32m~/group-6-final-project/project-env/lib/python3.12/site-packages/sqlalchemy/sql/elements.py:514\u001b[39m, in \u001b[36mClauseElement._execute_on_connection\u001b[39m\u001b[34m(self, connection, distilled_params, execution_options)\u001b[39m\n\u001b[32m    512\u001b[39m     \u001b[38;5;28;01mif\u001b[39;00m TYPE_CHECKING:\n\u001b[32m    513\u001b[39m         \u001b[38;5;28;01massert\u001b[39;00m \u001b[38;5;28misinstance\u001b[39m(\u001b[38;5;28mself\u001b[39m, Executable)\n\u001b[32m--> \u001b[39m\u001b[32m514\u001b[39m     \u001b[38;5;28;01mreturn\u001b[39;00m \u001b[43mconnection\u001b[49m\u001b[43m.\u001b[49m\u001b[43m_execute_clauseelement\u001b[49m\u001b[43m(\u001b[49m\n\u001b[32m    515\u001b[39m \u001b[43m        \u001b[49m\u001b[38;5;28;43mself\u001b[39;49m\u001b[43m,\u001b[49m\u001b[43m \u001b[49m\u001b[43mdistilled_params\u001b[49m\u001b[43m,\u001b[49m\u001b[43m \u001b[49m\u001b[43mexecution_options\u001b[49m\n\u001b[32m    516\u001b[39m \u001b[43m    \u001b[49m\u001b[43m)\u001b[49m\n\u001b[32m    517\u001b[39m \u001b[38;5;28;01melse\u001b[39;00m:\n\u001b[32m    518\u001b[39m     \u001b[38;5;28;01mraise\u001b[39;00m exc.ObjectNotExecutableError(\u001b[38;5;28mself\u001b[39m)\n",
      "\u001b[36mFile \u001b[39m\u001b[32m~/group-6-final-project/project-env/lib/python3.12/site-packages/sqlalchemy/engine/base.py:1643\u001b[39m, in \u001b[36mConnection._execute_clauseelement\u001b[39m\u001b[34m(self, elem, distilled_parameters, execution_options)\u001b[39m\n\u001b[32m   1631\u001b[39m compiled_cache: Optional[CompiledCacheType] = execution_options.get(\n\u001b[32m   1632\u001b[39m     \u001b[33m\"\u001b[39m\u001b[33mcompiled_cache\u001b[39m\u001b[33m\"\u001b[39m, \u001b[38;5;28mself\u001b[39m.engine._compiled_cache\n\u001b[32m   1633\u001b[39m )\n\u001b[32m   1635\u001b[39m compiled_sql, extracted_params, cache_hit = elem._compile_w_cache(\n\u001b[32m   1636\u001b[39m     dialect=dialect,\n\u001b[32m   1637\u001b[39m     compiled_cache=compiled_cache,\n\u001b[32m   (...)\u001b[39m\u001b[32m   1641\u001b[39m     linting=\u001b[38;5;28mself\u001b[39m.dialect.compiler_linting | compiler.WARN_LINTING,\n\u001b[32m   1642\u001b[39m )\n\u001b[32m-> \u001b[39m\u001b[32m1643\u001b[39m ret = \u001b[38;5;28;43mself\u001b[39;49m\u001b[43m.\u001b[49m\u001b[43m_execute_context\u001b[49m\u001b[43m(\u001b[49m\n\u001b[32m   1644\u001b[39m \u001b[43m    \u001b[49m\u001b[43mdialect\u001b[49m\u001b[43m,\u001b[49m\n\u001b[32m   1645\u001b[39m \u001b[43m    \u001b[49m\u001b[43mdialect\u001b[49m\u001b[43m.\u001b[49m\u001b[43mexecution_ctx_cls\u001b[49m\u001b[43m.\u001b[49m\u001b[43m_init_compiled\u001b[49m\u001b[43m,\u001b[49m\n\u001b[32m   1646\u001b[39m \u001b[43m    \u001b[49m\u001b[43mcompiled_sql\u001b[49m\u001b[43m,\u001b[49m\n\u001b[32m   1647\u001b[39m \u001b[43m    \u001b[49m\u001b[43mdistilled_parameters\u001b[49m\u001b[43m,\u001b[49m\n\u001b[32m   1648\u001b[39m \u001b[43m    \u001b[49m\u001b[43mexecution_options\u001b[49m\u001b[43m,\u001b[49m\n\u001b[32m   1649\u001b[39m \u001b[43m    \u001b[49m\u001b[43mcompiled_sql\u001b[49m\u001b[43m,\u001b[49m\n\u001b[32m   1650\u001b[39m \u001b[43m    \u001b[49m\u001b[43mdistilled_parameters\u001b[49m\u001b[43m,\u001b[49m\n\u001b[32m   1651\u001b[39m \u001b[43m    \u001b[49m\u001b[43melem\u001b[49m\u001b[43m,\u001b[49m\n\u001b[32m   1652\u001b[39m \u001b[43m    \u001b[49m\u001b[43mextracted_params\u001b[49m\u001b[43m,\u001b[49m\n\u001b[32m   1653\u001b[39m \u001b[43m    \u001b[49m\u001b[43mcache_hit\u001b[49m\u001b[43m=\u001b[49m\u001b[43mcache_hit\u001b[49m\u001b[43m,\u001b[49m\n\u001b[32m   1654\u001b[39m \u001b[43m\u001b[49m\u001b[43m)\u001b[49m\n\u001b[32m   1655\u001b[39m \u001b[38;5;28;01mif\u001b[39;00m has_events:\n\u001b[32m   1656\u001b[39m     \u001b[38;5;28mself\u001b[39m.dispatch.after_execute(\n\u001b[32m   1657\u001b[39m         \u001b[38;5;28mself\u001b[39m,\n\u001b[32m   1658\u001b[39m         elem,\n\u001b[32m   (...)\u001b[39m\u001b[32m   1662\u001b[39m         ret,\n\u001b[32m   1663\u001b[39m     )\n",
      "\u001b[36mFile \u001b[39m\u001b[32m~/group-6-final-project/project-env/lib/python3.12/site-packages/sqlalchemy/engine/base.py:1849\u001b[39m, in \u001b[36mConnection._execute_context\u001b[39m\u001b[34m(self, dialect, constructor, statement, parameters, execution_options, *args, **kw)\u001b[39m\n\u001b[32m   1847\u001b[39m     \u001b[38;5;28;01mreturn\u001b[39;00m \u001b[38;5;28mself\u001b[39m._exec_insertmany_context(dialect, context)\n\u001b[32m   1848\u001b[39m \u001b[38;5;28;01melse\u001b[39;00m:\n\u001b[32m-> \u001b[39m\u001b[32m1849\u001b[39m     \u001b[38;5;28;01mreturn\u001b[39;00m \u001b[38;5;28;43mself\u001b[39;49m\u001b[43m.\u001b[49m\u001b[43m_exec_single_context\u001b[49m\u001b[43m(\u001b[49m\n\u001b[32m   1850\u001b[39m \u001b[43m        \u001b[49m\u001b[43mdialect\u001b[49m\u001b[43m,\u001b[49m\u001b[43m \u001b[49m\u001b[43mcontext\u001b[49m\u001b[43m,\u001b[49m\u001b[43m \u001b[49m\u001b[43mstatement\u001b[49m\u001b[43m,\u001b[49m\u001b[43m \u001b[49m\u001b[43mparameters\u001b[49m\n\u001b[32m   1851\u001b[39m \u001b[43m    \u001b[49m\u001b[43m)\u001b[49m\n",
      "\u001b[36mFile \u001b[39m\u001b[32m~/group-6-final-project/project-env/lib/python3.12/site-packages/sqlalchemy/engine/base.py:1989\u001b[39m, in \u001b[36mConnection._exec_single_context\u001b[39m\u001b[34m(self, dialect, context, statement, parameters)\u001b[39m\n\u001b[32m   1986\u001b[39m     result = context._setup_result_proxy()\n\u001b[32m   1988\u001b[39m \u001b[38;5;28;01mexcept\u001b[39;00m \u001b[38;5;167;01mBaseException\u001b[39;00m \u001b[38;5;28;01mas\u001b[39;00m e:\n\u001b[32m-> \u001b[39m\u001b[32m1989\u001b[39m     \u001b[38;5;28;43mself\u001b[39;49m\u001b[43m.\u001b[49m\u001b[43m_handle_dbapi_exception\u001b[49m\u001b[43m(\u001b[49m\n\u001b[32m   1990\u001b[39m \u001b[43m        \u001b[49m\u001b[43me\u001b[49m\u001b[43m,\u001b[49m\u001b[43m \u001b[49m\u001b[43mstr_statement\u001b[49m\u001b[43m,\u001b[49m\u001b[43m \u001b[49m\u001b[43meffective_parameters\u001b[49m\u001b[43m,\u001b[49m\u001b[43m \u001b[49m\u001b[43mcursor\u001b[49m\u001b[43m,\u001b[49m\u001b[43m \u001b[49m\u001b[43mcontext\u001b[49m\n\u001b[32m   1991\u001b[39m \u001b[43m    \u001b[49m\u001b[43m)\u001b[49m\n\u001b[32m   1993\u001b[39m \u001b[38;5;28;01mreturn\u001b[39;00m result\n",
      "\u001b[36mFile \u001b[39m\u001b[32m~/group-6-final-project/project-env/lib/python3.12/site-packages/sqlalchemy/engine/base.py:2356\u001b[39m, in \u001b[36mConnection._handle_dbapi_exception\u001b[39m\u001b[34m(self, e, statement, parameters, cursor, context, is_sub_exec)\u001b[39m\n\u001b[32m   2354\u001b[39m \u001b[38;5;28;01melif\u001b[39;00m should_wrap:\n\u001b[32m   2355\u001b[39m     \u001b[38;5;28;01massert\u001b[39;00m sqlalchemy_exception \u001b[38;5;129;01mis\u001b[39;00m \u001b[38;5;129;01mnot\u001b[39;00m \u001b[38;5;28;01mNone\u001b[39;00m\n\u001b[32m-> \u001b[39m\u001b[32m2356\u001b[39m     \u001b[38;5;28;01mraise\u001b[39;00m sqlalchemy_exception.with_traceback(exc_info[\u001b[32m2\u001b[39m]) \u001b[38;5;28;01mfrom\u001b[39;00m\u001b[38;5;250m \u001b[39m\u001b[34;01me\u001b[39;00m\n\u001b[32m   2357\u001b[39m \u001b[38;5;28;01melse\u001b[39;00m:\n\u001b[32m   2358\u001b[39m     \u001b[38;5;28;01massert\u001b[39;00m exc_info[\u001b[32m1\u001b[39m] \u001b[38;5;129;01mis\u001b[39;00m \u001b[38;5;129;01mnot\u001b[39;00m \u001b[38;5;28;01mNone\u001b[39;00m\n",
      "\u001b[36mFile \u001b[39m\u001b[32m~/group-6-final-project/project-env/lib/python3.12/site-packages/sqlalchemy/engine/base.py:1970\u001b[39m, in \u001b[36mConnection._exec_single_context\u001b[39m\u001b[34m(self, dialect, context, statement, parameters)\u001b[39m\n\u001b[32m   1968\u001b[39m                 \u001b[38;5;28;01mbreak\u001b[39;00m\n\u001b[32m   1969\u001b[39m     \u001b[38;5;28;01mif\u001b[39;00m \u001b[38;5;129;01mnot\u001b[39;00m evt_handled:\n\u001b[32m-> \u001b[39m\u001b[32m1970\u001b[39m         \u001b[38;5;28;43mself\u001b[39;49m\u001b[43m.\u001b[49m\u001b[43mdialect\u001b[49m\u001b[43m.\u001b[49m\u001b[43mdo_execute\u001b[49m\u001b[43m(\u001b[49m\n\u001b[32m   1971\u001b[39m \u001b[43m            \u001b[49m\u001b[43mcursor\u001b[49m\u001b[43m,\u001b[49m\u001b[43m \u001b[49m\u001b[43mstr_statement\u001b[49m\u001b[43m,\u001b[49m\u001b[43m \u001b[49m\u001b[43meffective_parameters\u001b[49m\u001b[43m,\u001b[49m\u001b[43m \u001b[49m\u001b[43mcontext\u001b[49m\n\u001b[32m   1972\u001b[39m \u001b[43m        \u001b[49m\u001b[43m)\u001b[49m\n\u001b[32m   1974\u001b[39m \u001b[38;5;28;01mif\u001b[39;00m \u001b[38;5;28mself\u001b[39m._has_events \u001b[38;5;129;01mor\u001b[39;00m \u001b[38;5;28mself\u001b[39m.engine._has_events:\n\u001b[32m   1975\u001b[39m     \u001b[38;5;28mself\u001b[39m.dispatch.after_cursor_execute(\n\u001b[32m   1976\u001b[39m         \u001b[38;5;28mself\u001b[39m,\n\u001b[32m   1977\u001b[39m         cursor,\n\u001b[32m   (...)\u001b[39m\u001b[32m   1981\u001b[39m         context.executemany,\n\u001b[32m   1982\u001b[39m     )\n",
      "\u001b[36mFile \u001b[39m\u001b[32m~/group-6-final-project/project-env/lib/python3.12/site-packages/sqlalchemy/engine/default.py:924\u001b[39m, in \u001b[36mDefaultDialect.do_execute\u001b[39m\u001b[34m(self, cursor, statement, parameters, context)\u001b[39m\n\u001b[32m    923\u001b[39m \u001b[38;5;28;01mdef\u001b[39;00m\u001b[38;5;250m \u001b[39m\u001b[34mdo_execute\u001b[39m(\u001b[38;5;28mself\u001b[39m, cursor, statement, parameters, context=\u001b[38;5;28;01mNone\u001b[39;00m):\n\u001b[32m--> \u001b[39m\u001b[32m924\u001b[39m     \u001b[43mcursor\u001b[49m\u001b[43m.\u001b[49m\u001b[43mexecute\u001b[49m\u001b[43m(\u001b[49m\u001b[43mstatement\u001b[49m\u001b[43m,\u001b[49m\u001b[43m \u001b[49m\u001b[43mparameters\u001b[49m\u001b[43m)\u001b[49m\n",
      "\u001b[31mProgrammingError\u001b[39m: (psycopg2.errors.SyntaxError) syntax error at or near \"-\"\nLINE 3: ...CCLW.document.i00000004.n0000', 'BIH', ARRAY[ARRAY-0.0395717...\n                                                             ^\n\n[SQL: \n            INSERT INTO document_embeddings (document_id, country_code, embedding)\n            VALUES (%(document_id)s, %(country_code)s, ARRAY[ARRAY-0.03957175835967064, 0.06338946521282196, 0.028361350297927856, -0.10575797408819199, 0.01713615655899048, -0.016073910519480705, -0.0431273952126503, 0.01931213214993477, 0.09040458500385284, -0.07266988605260849, 0.016095779836177826, 0.08826948702335358, -0.001592898741364479, -0.055431511253118515, 0.008327774703502655, 0.09592875093221664, 0.006416813470423222, 0.08755200356245041, 0.05708659440279007, -0.0314825214445591, -0.11328034102916718, 0.07778917998075485, 0.09363071620464325, 0.07077360153198242, 0.03861020505428314, 0.026525933295488358, -0.008160434663295746, 0.045409973710775375, 0.06601568311452866, -0.01884964480996132, -0.10273757576942444, -0.08917813003063202, 0.07605835795402527, 0.0245533250272274, -0.010040080174803734, 0.07939748466014862, 0.010620202869176865, 0.007267214357852936, -0.06479272246360779, 0.03498169779777527, -0.03534463047981262, 0.02750881388783455, 0.03476047143340111, -0.01816025748848915, 0.08508478105068207, 0.06974437087774277, 0.07848687469959259, 0.018769096583127975, -0.0076122283935546875, -0.05208718776702881, -0.01594211906194687, 0.07711665332317352, 0.037863701581954956, -0.012768261134624481, -0.0409088097512722, 0.07133087515830994, 0.005411561578512192, 0.11100782454013824, 0.018701892346143723, -0.018510274589061737, -0.07646166533231735, -0.19356754422187805, -0.0336117185652256, 0.0021980255842208862, 0.035359807312488556, -0.04568193480372429, 0.0500054731965065, 0.030020780861377716, 0.010037560015916824, 0.024419676512479782, -0.02478320151567459, -0.027414916083216667, 0.0396273136138916, -0.0721483826637268, 0.006707243621349335, 0.0408756360411644, 0.005860380828380585, 0.9381948709487915, -0.0519334077835083, 0.07862873375415802, 0.04265187680721283, -0.09060950577259064, 0.3947744071483612, 0.09206067025661469, 0.014317236840724945, -0.06035977229475975, 0.06498116254806519, 0.048997532576322556, -0.017111830413341522, 0.03183643892407417, -0.0002550855278968811, 0.032208096235990524, -0.073503278195858, -0.01610301062464714, 0.01976410485804081, 0.03444892168045044, 0.01358981803059578, 0.05545547604560852, 0.023494940251111984, -0.0636565238237381, 0.04208434745669365, -0.060725197196006775, 0.03290194645524025, 0.06866736710071564, 0.005713760852813721, -0.02618156373500824, 0.04668118804693222, -0.04189913347363472, 0.05432543158531189, 0.04623384401202202, 0.00837107002735138, 0.055428843945264816, 0.06566374003887177, 0.028812553733587265, 0.060684338212013245, 0.01802719198167324, -0.06380288302898407, 0.03342659771442413, 0.1877727210521698, 0.0644659772515297, 0.08499184250831604, 0.09022685885429382, 0.05631563067436218, 0.006324291229248047, -0.06725937873125076, -0.0017078295350074768, -0.061463385820388794, 0.14378635585308075, -0.03707684203982353, -0.03580338507890701, 0.04241500794887543, -0.1317022293806076, 0.0906328409910202, 0.12080784142017365, 0.08145276457071304, 0.018607329577207565, 0.02535601705312729, -0.004765741527080536, 0.06346625089645386, 0.0647466704249382, 0.08209484070539474, -0.06650024652481079, 0.006017673760652542, -0.015025626868009567, 0.0973689928650856, 0.09164291620254517, -0.03977186605334282, -0.07211756706237793, -0.009448304772377014, -0.003253220347687602, 0.08249394595623016, -0.05990321561694145, -0.013864221051335335, -0.01646725833415985, -0.09965524822473526, 0.6349496245384216, 0.14885911345481873, -0.00846610963344574, -0.00474170595407486, 0.015021875500679016, 0.14330926537513733, 0.0196889229118824, 0.0055047329515218735, 0.013526074588298798, 0.027032136917114258, -0.008236546069383621, 0.02328966185450554, -0.006161842495203018, 0.030984897166490555, 0.0018306449055671692, 0.008810242637991905, 0.04211830347776413, -0.0944255143404007, 0.003260992467403412, -0.019277825951576233, 0.00796167179942131, 0.11685483157634735, -0.008612588047981262, -0.05491459369659424, 0.05529772862792015, -0.056134164333343506, 0.04465550556778908, -0.09087717533111572, 0.04059602692723274, -0.018167797476053238, -0.003004811704158783, -0.026568666100502014, 0.0228091012686491, 0.11004513502120972, 0.04261970520019531, 0.05435376241803169, -0.05884398892521858, 0.010817542672157288, 0.023300915956497192, -0.02199804037809372, 0.08745762705802917, -0.02612055093050003, -0.012252803891897202, 0.07665475457906723, 0.05630671977996826, -0.00869525596499443, -0.09492900967597961, 0.12237302958965302, -0.06929217278957367, 0.09516408294439316, 0.05638366937637329, -0.06117621809244156, 0.1375335156917572, -0.009560022503137589, -0.07113591581583023, -0.009812746196985245, 0.11152279376983643, 0.011607436463236809, 0.03347545489668846, 0.04289500042796135, -0.09001660346984863, 0.007114045321941376, 0.21338559687137604, 0.06233808025717735, 0.009754229336977005, 0.12603969871997833, 0.022849995642900467, -0.020478084683418274, 0.07118260860443115, 0.014592364430427551, 0.06710486114025116, 0.056377165019512177, 0.02920987457036972, 0.03419572487473488, 0.07435912638902664, -0.014294654130935669, -0.008036717772483826, -0.04944053664803505, 0.05906623601913452, 0.08459679037332535, -0.07761384546756744, -0.02822679653763771, 0.02288772538304329, -0.03655896335840225, -0.05415184423327446, -0.06546288728713989, 0.10750961303710938, 0.06791126728057861, 0.16194114089012146, 0.07065458595752716, 0.09624715149402618, 0.031461190432310104, 0.10624342411756516, 0.010582514107227325, 0.0606272853910923, 0.0019421037286520004, -0.03746689856052399, 0.08718664944171906, 0.002957519143819809, -0.0659080445766449, 0.0171841848641634, -0.06151130795478821, 0.013554129749536514, -0.0006283791735768318, -0.04995117336511612, 0.03573513403534889, -0.024263059720396996, 0.016900036484003067, 0.019153054803609848, -0.06950683146715164, -0.06266938149929047, -0.0757206529378891, 0.07078728079795837, 0.06141451373696327, -0.04612138494849205, 0.08813969045877457, -0.04774877056479454, 0.045716866850852966, -0.02440350502729416, 0.05067431926727295, 0.11102542281150818, 0.07198499143123627, 0.057745419442653656, 0.042383234947919846, -0.028417423367500305, -0.045622993260622025, -0.00020670145750045776, -0.1018238291144371, 0.09008244425058365, 0.025214146822690964, -0.032327115535736084, -0.007198397070169449, 0.030533842742443085, 0.04046804457902908, 0.0018157362937927246, 0.01493581011891365, 0.02554469183087349, -0.0674794614315033, 0.09423410892486572, -0.02225782535970211, -0.004341784864664078, 0.06814546883106232, -0.006032079458236694, -0.06067752093076706, -0.06936287879943848, -0.08534123748540878, -0.0904577448964119, -0.049484800547361374, -0.10174713283777237, 0.02513793110847473, -0.0058412738144397736, 0.010134276002645493, -0.01939595490694046, 0.041235096752643585, 0.07740148901939392, -0.11920865625143051, -0.07192986458539963, -0.006640871986746788, 0.09157858788967133, -0.03381969779729843, 0.03557167202234268, -0.015505265444517136, -0.03490489348769188, 0.08518590033054352, 0.03198358416557312, 0.016719412058591843, 0.05668283998966217, 0.06332175433635712, 0.03563288226723671, 0.04877549409866333, 0.13342009484767914, 0.08641549944877625, 0.07693961262702942, 0.023368943482637405, 0.530616283416748, -0.32494986057281494, -0.010798897594213486, 0.07356926798820496, 0.03048718348145485, 0.11398075520992279, 0.026948150247335434, 0.05998695641756058, 0.05995318666100502, 0.15932103991508484, 0.12414237856864929, -0.02633345127105713, -0.031076140701770782, -0.029038511216640472, 0.05623072385787964, 0.08156374096870422, 0.02224394865334034, 0.09539063274860382, 0.017712587490677834, -0.03299418464303017, 0.008230798877775669, 0.04969315603375435, 0.10082488507032394, 0.0002742372453212738, -0.016291411593556404, 0.024019695818424225, 0.06962649524211884, 0.04770928993821144, 0.0533561035990715, 0.04549004137516022, -0.05120089277625084, 0.05479113385081291, -0.031982917338609695, 0.04257182776927948, 0.006288901902735233, 0.10047949850559235, -0.037513431161642075, -0.01964637264609337, 0.0681658536195755, 0.05486041307449341, 0.04773133993148804, 0.04960736632347107, 0.022901836782693863, 0.06009671092033386, 0.028634333983063698, 0.05384881794452667, 0.015500679612159729, 0.02383986860513687, 0.044513039290905, -0.041236668825149536, 0.21220427751541138, 0.03225693106651306, 0.059554070234298706, -0.04055684059858322, 0.0035461299121379852, 0.174188032746315, 0.026010222733020782, 0.07735083997249603, -0.016869492828845978, 0.05575154721736908, -0.01968234032392502, 0.04968946427106857, 0.0036408454179763794, -0.03206793591380119, -0.03648626059293747, 0.08995530009269714, 0.05756811425089836, -0.05626624822616577, -0.07047021389007568, 0.003099631518125534, -0.06167234480381012, -0.017919234931468964, 0.02293502911925316, -0.0687122493982315, 0.03194352611899376, 0.08243967592716217, 0.07796937227249146, -0.06206688657402992, -0.044605400413274765, -0.0045350342988967896, -0.09029309451580048, 0.057078853249549866, 0.08350073546171188, 0.08581896871328354, -0.012010190635919571, 0.06348671019077301, -0.02005504071712494, -0.02936524711549282, 0.01960677281022072, -0.0038895420730113983, 0.0012574493885040283, 0.00425112247467041, 0.07101040333509445, 0.09849069267511368, -0.007175754755735397, -0.002396378666162491, -0.04840308800339699, 0.10975361615419388, -0.15741467475891113, -0.0441756471991539, -0.06122719496488571, 0.0016593486070632935, 0.06147242709994316, -0.10257621854543686, 0.026873257011175156, 0.05989387258887291, -0.025717608630657196, 0.030667513608932495, -0.022213008254766464, -0.0843997374176979, -0.06348282098770142, 0.041214436292648315, -0.045243725180625916, -0.008553430438041687, 0.1831098198890686, 0.02254212275147438, 0.02263501100242138, 0.1001041978597641, -0.010846827179193497, 0.050408847630023956, 0.037127476185560226, -0.06080145761370659, 0.06607002019882202, -0.001368863508105278, -0.24698707461357117, 0.10473926365375519, 0.19825634360313416, 0.05586211755871773, 0.07117919623851776, -0.10085460543632507, 0.017754800617694855, 0.02760046347975731, 0.17601919174194336, 0.006336864084005356, 0.00705583393573761, 0.017731554806232452, -0.0030527263879776, -0.0036849789321422577, 0.043964896351099014, 0.03862587362527847, 0.030167197808623314, 0.09248398244380951, 0.10776790976524353, -0.019394485279917717, -0.03224978595972061, -0.011558767408132553, 0.03637230768799782, -0.03499908745288849, -0.022624652832746506, 0.04547920823097229, -0.02355216071009636, -0.08669573068618774, 0.06563198566436768, 0.06826318055391312, 0.057934798300266266, 0.010228349827229977, -0.005859449505805969, 0.02312515303492546, 0.055970609188079834, 0.00992562621831894, -0.0014027506113052368, -0.10397161543369293, -0.022814728319644928, 0.11759190261363983, 0.13100621104240417, 0.5008354783058167, 0.1011701375246048, 0.3724170923233032, -0.014473605901002884, 0.07995954155921936, 0.00291481614112854, 0.040398359298706055, -0.03385539725422859, -0.000762108713388443, -0.05502067133784294, 0.024903440847992897, 0.12011533975601196, -0.12237170338630676, -0.05596155673265457, 0.11269714683294296, -0.0018630214035511017, -0.023201899603009224, -0.023302927613258362, 0.22692082822322845, 0.008876752108335495, 0.012258660048246384, -0.0036928877234458923, 0.12920986115932465, -0.053224049508571625, -0.04997982829809189, 0.053935423493385315, 0.03535677120089531, -0.0162096805870533, -0.016349326819181442, -0.02638918161392212, -0.03474506363272667, -0.020037977024912834, -0.0027733519673347473, 0.004120800644159317, 0.06458060443401337, -0.03201769292354584, -0.02657010778784752, -0.08473619073629379, 0.11455222964286804, 0.040673740208148956, 0.02296760305762291, 0.1033797413110733, 0.028986722230911255, -0.00218125618994236, -0.02179758995771408, -0.005173426121473312, -0.0508178174495697, 0.0748014822602272, 0.0710773766040802, 0.03862875699996948, 0.1360073983669281, 0.05922914668917656, -0.004011578857898712, -0.035407401621341705, 0.0953054130077362, 0.1072535514831543, 0.013868693262338638, -1.0404859781265259, 0.008572179824113846, 0.12625358998775482, -0.023907754570245743, 0.04206971079111099, 0.06515859067440033, 0.03463897481560707, -0.07333546876907349, 0.06661748886108398, 0.009866029024124146, 0.0840582475066185, -0.013203531503677368, 0.1023084968328476, -0.1014629602432251, 0.03071758709847927, 0.12163759768009186, -0.008407138288021088, -0.02470521256327629, 0.03376907482743263, -0.21764366328716278, 0.03834023326635361, 0.05393892526626587, 0.13364562392234802, -0.019977569580078125, 0.08102593570947647, 0.0785892978310585, -0.011250939220190048, 0.042702145874500275, 0.10782895237207413, -0.01920948550105095, 0.09689150750637054, 0.011797018349170685, -0.04092412441968918, 0.042842961847782135, 0.09228263795375824, 0.10148723423480988, 0.07021410018205643, 10.838075637817383, -0.03633015975356102, -0.0063912831246852875, 0.01366189494729042, 0.06772810220718384, -0.10232272744178772, 0.08365140855312347, -0.04652111977338791, 0.06340117752552032, 0.08948367089033127, -0.016687743365764618, -0.013631682842969894, 0.01786808855831623, -0.0017002522945404053, 0.0025266259908676147, -0.0084700807929039, 0.016989249736070633, -0.019615959376096725, 0.027798522263765335, -0.005369976162910461, -0.07135835289955139, 0.028503596782684326, 0.11511203646659851, -0.057109128683805466, -0.02424616925418377, 0.1532299816608429, 0.12073501199483871, -0.0077199786901474, -0.05797984078526497, 0.02074747532606125, 0.06074333190917969, 0.049487750977277756, 0.06330239772796631, 0.038706857711076736, 0.1045287549495697, -0.014578020200133324, -0.028517086058855057, 0.09507513791322708, 0.019363094121217728, 0.011663567274808884, 0.10847269743680954, 0.015901077538728714, 0.07749252766370773, 0.10642430186271667, 0.0285620279610157, 0.04083096981048584, 0.12117013335227966, 0.09223520755767822, 0.05740297958254814, 0.019477155059576035, 0.03634848818182945, -0.004934780299663544, 0.1362578421831131, 0.013179594650864601, -0.037638403475284576, -0.07164473831653595, 0.030592933297157288, -0.013279743492603302, 0.07429824769496918, 0.02461077645421028, -0.0003330595791339874, 0.09098503738641739, 0.03409966081380844, 0.13036203384399414, 0.047144122421741486, 0.05794946849346161, 0.09170106053352356, 0.106241375207901, -0.06811761856079102, -0.020869113504886627, 0.09878043085336685, -0.13613633811473846, 0.028444770723581314, -0.03426199406385422, -0.05079783499240875, 0.021771714091300964, 0.025238826870918274, 0.018371932208538055, -0.008234899491071701, -0.038696229457855225, 0.11967597901821136, 0.018246226012706757, -0.07709024101495743, -0.01842588558793068, 0.0697682648897171, 0.09480146318674088, -0.017784863710403442, 0.07524827122688293, 0.02816363424062729, -0.05999119207262993, 0.0686882957816124, -0.0449671670794487, -0.005431480705738068, -0.004616670310497284, 0.042956024408340454, -0.08259984105825424, 0.02837383933365345, -0.07588709890842438, 0.032089702785015106, 0.06417842209339142, 0.0035163648426532745, 0.04907029867172241, 0.05775686353445053, 0.12000459432601929, 0.023516077548265457, 0.03482275456190109, 0.0012039989233016968, 0.019557636231184006, 0.029281089082360268, 0.0834575891494751, 0.0021601635962724686, -0.005618158727884293, 0.0411161445081234, -0.11430571973323822, 0.0431954525411129, 0.013372255489230156, -0.03515911102294922, -0.037089671939611435, 0.06296312808990479, 0.091233029961586, -0.008356988430023193, -0.029102269560098648, -0.04753977060317993, 0.09020531177520752, 0.07632946223020554, -0.010097332298755646, -0.07338481396436691, 0.011153299361467361, -0.053036585450172424, -0.04483472928404808, -0.001207347959280014, 0.0785905048251152, 0.11368201673030853, -0.044870030134916306, 0.10633157938718796, 0.006839364767074585, -0.013609826564788818, 0.05563489347696304, 0.04543202370405197, 0.10772936046123505, -0.027662035077810287, 0.046452075242996216, 0.08127939701080322, -0.06132978945970535, 0.010663159191608429, 0.08945038914680481, -0.0028303563594818115, -0.01641407236456871, 0.10206350684165955, -0.03911895304918289, 0.012275174260139465, 0.054434649646282196, 0.0032044146209955215, 0.024296000599861145, 0.0010965950787067413, -0.06606739014387131, -0.07169681787490845, 0.1140751764178276, -0.005438387393951416, 0.011046167463064194, -0.012322865426540375, 0.021174971014261246, 0.10653138160705566, -0.0006009526550769806, -0.025326520204544067, 0.027917031198740005, -0.025899354368448257, 0.025248803198337555, 0.11777587234973907, -0.02980343997478485, 0.00048717111349105835, 0.001087278127670288, -0.1232876405119896, -0.0847553163766861, 0.009478297084569931, 0.06675538420677185, 0.08640553802251816, -0.21355432271957397, -0.07074439525604248, -0.013479523360729218]::vector)\n            ON CONFLICT (document_id) DO NOTHING;\n        ]\n[parameters: {'document_id': 'CCLW.document.i00000004.n0000', 'country_code': 'BIH'}]\n(Background on this error at: https://sqlalche.me/e/20/f405)"
     ]
    }
   ],
   "source": [
    "# Find all CSV files like 'alb_embeddings.csv'\n",
    "csv_files = glob.glob(\"data/*_embeddings.csv\")\n",
    "\n",
    "for file in csv_files:\n",
    "    country_code = os.path.basename(file)[:3].upper()  # Get 'ALB', 'CHN', etc.\n",
    "\n",
    "    # Load CSV\n",
    "    df = pd.read_csv(file)\n",
    "\n",
    "    # Add country_code column\n",
    "    df[\"country_code\"] = country_code\n",
    "\n",
    "    # Convert embedding strings like \"[0.1, 0.2]\" → \"ARRAY[0.1,0.2]\"\n",
    "    df[\"embedding\"] = df[\"embedding\"].apply(\n",
    "        lambda x: f\"ARRAY{x.strip('[]')}\" if isinstance(x, str) else None\n",
    "    )\n",
    "\n",
    "    # Prepare and insert rows\n",
    "    # with engine.begin() as conn:\n",
    "    #     for _, row in df.iterrows():\n",
    "    #         conn.execute(text(\"\"\"\n",
    "    #             INSERT INTO document_embeddings (document_id, country_code, embedding)\n",
    "    #             VALUES (:document_id, :country_code, :embedding::vector)\n",
    "    #             ON CONFLICT (document_id) DO NOTHING;\n",
    "    #         \"\"\"), {\n",
    "    #             \"document_id\": row[\"document_id\"],\n",
    "    #             \"country_code\": row[\"country_code\"],\n",
    "    #             \"embedding\": row[\"embedding\"]\n",
    "    #         })\n",
    "    \n",
    "    from sqlalchemy import text\n",
    "\n",
    "with engine.begin() as conn:\n",
    "    for _, row in df.iterrows():\n",
    "        if row[\"embedding\"] is None:\n",
    "            continue\n",
    "\n",
    "        # Clean embedding to be valid ARRAY[...] format\n",
    "        if isinstance(row[\"embedding\"], str):\n",
    "            # Ensure it's not double wrapped or malformed\n",
    "            embedding_str = row[\"embedding\"].strip(\"[]\")  # removes outer []\n",
    "        else:\n",
    "            # In case it's already a list of floats\n",
    "            embedding_str = ','.join(map(str, row[\"embedding\"]))\n",
    "\n",
    "        embedding_sql = f\"ARRAY[{embedding_str}]::vector\"\n",
    "\n",
    "        sql = f\"\"\"\n",
    "            INSERT INTO document_embeddings (document_id, country_code, embedding)\n",
    "            VALUES (:document_id, :country_code, {embedding_sql})\n",
    "            ON CONFLICT (document_id) DO NOTHING;\n",
    "        \"\"\"\n",
    "\n",
    "        conn.execute(text(sql), {\n",
    "            \"document_id\": row[\"document_id\"],\n",
    "            \"country_code\": row[\"country_code\"]\n",
    "        })\n",
    "\n",
    "print(\"✅ All embeddings uploaded successfully.\")"
   ]
  }
 ],
 "metadata": {
  "kernelspec": {
   "display_name": "project-env",
   "language": "python",
   "name": "python3"
  },
  "language_info": {
   "codemirror_mode": {
    "name": "ipython",
    "version": 3
   },
   "file_extension": ".py",
   "mimetype": "text/x-python",
   "name": "python",
   "nbconvert_exporter": "python",
   "pygments_lexer": "ipython3",
   "version": "3.12.4"
  }
 },
 "nbformat": 4,
 "nbformat_minor": 5
}
