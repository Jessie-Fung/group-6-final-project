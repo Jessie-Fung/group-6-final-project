{
 "cells": [
  {
   "cell_type": "markdown",
   "id": "46a19313",
   "metadata": {},
   "source": [
    "# Setup \n"
   ]
  },
  {
   "cell_type": "code",
   "execution_count": 9,
   "id": "2e7623a3",
   "metadata": {},
   "outputs": [
    {
     "data": {
      "text/plain": [
       "True"
      ]
     },
     "execution_count": 9,
     "metadata": {},
     "output_type": "execute_result"
    }
   ],
   "source": [
    "import os\n",
    "from openai import OpenAI\n",
    "\n",
    "import os\n",
    "from openai import OpenAI\n",
    "from langchain_openai import ChatOpenAI\n",
    "from langchain.prompts import ChatPromptTemplate\n",
    "from langchain.schema.runnable import RunnablePassthrough\n",
    "from langchain.schema import BaseOutputParser\n",
    "import json\n",
    "from dotenv import load_dotenv\n",
    "\n",
    "load_dotenv()"
   ]
  },
  {
   "cell_type": "code",
   "execution_count": null,
   "id": "f2087b03",
   "metadata": {},
   "outputs": [
    {
     "name": "stdout",
     "output_type": "stream",
     "text": [
      "{\n",
      "  \"id\": \"chatcmpl-5201472be1a3433cbcf14a68c96e3330\",\n",
      "  \"choices\": [\n",
      "    {\n",
      "      \"finish_reason\": \"stop\",\n",
      "      \"index\": 0,\n",
      "      \"logprobs\": null,\n",
      "      \"message\": {\n",
      "        \"content\": \"Hello! How can I assist you today?\",\n",
      "        \"refusal\": null,\n",
      "        \"role\": \"assistant\",\n",
      "        \"audio\": null,\n",
      "        \"function_call\": null,\n",
      "        \"tool_calls\": [],\n",
      "        \"reasoning_content\": null\n",
      "      },\n",
      "      \"stop_reason\": null\n",
      "    }\n",
      "  ],\n",
      "  \"created\": 1748194898,\n",
      "  \"model\": \"meta-llama/Meta-Llama-3.1-70B-Instruct\",\n",
      "  \"object\": \"chat.completion\",\n",
      "  \"service_tier\": null,\n",
      "  \"system_fingerprint\": null,\n",
      "  \"usage\": {\n",
      "    \"completion_tokens\": 10,\n",
      "    \"prompt_tokens\": 12,\n",
      "    \"total_tokens\": 22,\n",
      "    \"completion_tokens_details\": null,\n",
      "    \"prompt_tokens_details\": null\n",
      "  },\n",
      "  \"prompt_logprobs\": null\n",
      "}\n"
     ]
    }
   ],
   "source": [
    "\n",
    "client = OpenAI(\n",
    "    base_url=\"https://api.studio.nebius.com/v1/\",\n",
    "    api_key=os.environ.get(\"NEBIUS_API_KEY\"),\n",
    ")\n",
    "\n",
    "completion = client.chat.completions.create(\n",
    "    model=\"meta-llama/Meta-Llama-3.1-70B-Instruct\",\n",
    "    messages=[\n",
    "        {\n",
    "            \"role\": \"user\",\n",
    "            \"content\": \"\"\"Hello!\"\"\"\n",
    "        }\n",
    "    ],\n",
    "    temperature=0.6\n",
    ")\n",
    "\n",
    "print(completion.to_json())\n"
   ]
  },
  {
   "cell_type": "code",
   "execution_count": 7,
   "id": "25f4b28a",
   "metadata": {},
   "outputs": [],
   "source": [
    "llm = ChatOpenAI(\n",
    "    base_url=\"https://api.studio.nebius.com/v1/\",\n",
    "    api_key=os.environ.get(\"NEBIUS_API_KEY\"),\n",
    "    model=\"meta-llama/Meta-Llama-3.1-70B-Instruct\",\n",
    "    temperature=0.6\n",
    ")"
   ]
  },
  {
   "cell_type": "code",
   "execution_count": null,
   "id": "f2b4a999",
   "metadata": {},
   "outputs": [
    {
     "name": "stdout",
     "output_type": "stream",
     "text": [
      "Hello! It's nice to meet you. Is there something I can help you with or would you like to chat?\n"
     ]
    }
   ],
   "source": [
    "# Create a simple prompt template\n",
    "prompt = ChatPromptTemplate.from_messages([\n",
    "    (\"system\", \"You are a helpful assistant.\"),\n",
    "    (\"assistant\", \"How can I assist you today?\"),\n",
    "    (\"human\", \"{question}\")\n",
    "])\n",
    "\n",
    "# Create a simple chain\n",
    "chain = prompt | llm\n",
    "\n",
    "# Test it\n",
    "response = chain.invoke({\"question\": \"Hello!\"})\n",
    "print(response.content)"
   ]
  },
  {
   "cell_type": "markdown",
   "id": "71ca3ec3",
   "metadata": {},
   "source": [
    "# CP 1. Climate legislation Pipeline"
   ]
  },
  {
   "cell_type": "markdown",
   "id": "96f645c4",
   "metadata": {},
   "source": [
    "##### Indicator CP 1.a Does the country have a framework climate law or equivalent?\n",
    "\n",
    "Individualy test the following (A country is assessed as ‘Yes’ if it has a framework climate law that fulfils all of\n",
    "the following):\n",
    "\n",
    "1. It sets a strategic direction for decarbonisation (i.e. it must include a clear\n",
    "statement to meet the goals of the Paris Agreement or a national long-term\n",
    "decarbonisation target)\n",
    "\n",
    "2. It is enshrined in law (i.e. it must be legislative rather than executive, except in\n",
    "particular political systems)\n",
    "\n",
    "3. It sets out at least one of the following obligations: meeting a national target;\n",
    "developing, revising, implementing or complying with domestic plans,\n",
    "strategies or policies; developing policy instruments such as regulation, taxation\n",
    "or public spending in support of climate change goals\n",
    "\n",
    "4. Also check this In exceptional cases, the combination of a broad environmental law and a clearly\n",
    "linked executive climate strategy may be sufficient to meet these criteria\n",
    "\n",
    "**Then have other model check if 1,2,3 are satisfied or 4 is satisfied -> answer yes**\n",
    "\n",
    "**Then have another model format output into markdown using (this)[https://python.langchain.com/docs/tutorials/extraction/]**\n",
    "\n"
   ]
  },
  {
   "cell_type": "markdown",
   "id": "c54a0046",
   "metadata": {},
   "source": [
    "### 1.1 Chain of thought Implementation\n",
    "#### 1.1.1 Prompting"
   ]
  },
  {
   "cell_type": "code",
   "execution_count": 10,
   "id": "9fa2bb70",
   "metadata": {},
   "outputs": [],
   "source": [
    "# Define individual criterion evaluation prompts\n",
    "criterion_1_prompt = ChatPromptTemplate.from_messages([\n",
    "    (\"system\", \"\"\"You are an expert legal analyst specializing in climate legislation. \n",
    "    Your task is to evaluate whether a climate law sets a strategic direction for decarbonisation.\n",
    "    \n",
    "    A law meets this criterion if it includes a clear statement to meet the goals of the Paris Agreement \n",
    "    OR a national long-term decarbonisation target.\n",
    "    \n",
    "    Respond with only 'YES' or 'NO' followed by a brief explanation.\"\"\"),\n",
    "    (\"human\", \"Context: {context}\\n\\nDoes this law set a strategic direction for decarbonisation?\")\n",
    "])\n",
    "\n",
    "criterion_2_prompt = ChatPromptTemplate.from_messages([\n",
    "    (\"system\", \"\"\"You are an expert legal analyst specializing in climate legislation.\n",
    "    Your task is to evaluate whether a climate law is enshrined in law.\n",
    "    \n",
    "    A law meets this criterion if it is legislative rather than executive \n",
    "    (except in particular political systems where executive action has legal force).\n",
    "    \n",
    "    Respond with only 'YES' or 'NO' followed by a brief explanation.\"\"\"),\n",
    "    (\"human\", \"Context: {context}\\n\\nIs this law enshrined in law (legislative rather than executive)?\")\n",
    "])\n",
    "\n",
    "criterion_3_prompt = ChatPromptTemplate.from_messages([\n",
    "    (\"system\", \"\"\"You are an expert legal analyst specializing in climate legislation.\n",
    "    Your task is to evaluate whether a climate law sets out specific obligations.\n",
    "    \n",
    "    A law meets this criterion if it sets out at least one of the following:\n",
    "    - Meeting a national target\n",
    "    - Developing, revising, implementing or complying with domestic plans, strategies or policies\n",
    "    - Developing policy instruments such as regulation, taxation or public spending in support of climate goals\n",
    "    \n",
    "    Respond with only 'YES' or 'NO' followed by a brief explanation.\"\"\"),\n",
    "    (\"human\", \"Context: {context}\\n\\nDoes this law set out the required obligations?\")\n",
    "])\n",
    "\n",
    "criterion_4_prompt = ChatPromptTemplate.from_messages([\n",
    "    (\"system\", \"\"\"You are an expert legal analyst specializing in climate legislation.\n",
    "    Your task is to evaluate the exceptional case criterion.\n",
    "    \n",
    "    This criterion is met if there is a combination of:\n",
    "    - A broad environmental law AND\n",
    "    - A clearly linked executive climate strategy\n",
    "    \n",
    "    This combination may be sufficient to meet the framework criteria in exceptional cases.\n",
    "    \n",
    "    Respond with only 'YES' or 'NO' followed by a brief explanation.\"\"\"),\n",
    "    (\"human\", \"Context: {context}\\n\\nDoes this represent a valid exceptional case (broad environmental law + linked executive strategy)?\")\n",
    "])\n",
    "\n",
    "# Final assessment prompt\n",
    "final_assessment_prompt = ChatPromptTemplate.from_messages([\n",
    "    (\"system\", \"\"\"You are an expert legal analyst making a final assessment of climate legislation.\n",
    "    \n",
    "    A country is assessed as 'YES' for having framework climate law if:\n",
    "    - Criteria 1, 2, AND 3 are all satisfied, OR\n",
    "    - Criterion 4 is satisfied (exceptional case)\n",
    "    \n",
    "    Based on the individual assessments, provide a final 'YES' or 'NO' answer with reasoning.\"\"\"),\n",
    "    (\"human\", \"\"\"Individual criterion assessments:\n",
    "    Criterion 1 (Strategic direction): {criterion_1_result}\n",
    "    Criterion 2 (Enshrined in law): {criterion_2_result}\n",
    "    Criterion 3 (Obligations): {criterion_3_result}\n",
    "    Criterion 4 (Exceptional case): {criterion_4_result}\n",
    "    \n",
    "    What is the final assessment?\"\"\")\n",
    "])"
   ]
  },
  {
   "cell_type": "markdown",
   "id": "99fb78ff",
   "metadata": {},
   "source": [
    "#### 1.1.2 Retrieve Context\n"
   ]
  },
  {
   "cell_type": "markdown",
   "id": "977e5701",
   "metadata": {},
   "source": [
    "#### 1.1.3 Run"
   ]
  },
  {
   "cell_type": "code",
   "execution_count": null,
   "id": "04dcdb1d",
   "metadata": {},
   "outputs": [
    {
     "name": "stdout",
     "output_type": "stream",
     "text": [
      "Final Assessment:\n",
      "Based on the individual assessments, I conclude that the country has a framework climate law: **YES**\n",
      "\n",
      "The reason is that all three main criteria (1, 2, and 3) are satisfied. The law provides a clear strategic direction, is enshrined in law, and imposes obligations on the country to develop national climate plans and carbon pricing mechanisms. Since Criterion 4 is not satisfied, it is not an exceptional case, and we rely on the satisfaction of the first three criteria.\n"
     ]
    }
   ],
   "source": [
    "# Create individual chains\n",
    "criterion_1_chain = criterion_1_prompt | llm\n",
    "criterion_2_chain = criterion_2_prompt | llm\n",
    "criterion_3_chain = criterion_3_prompt | llm\n",
    "criterion_4_chain = criterion_4_prompt | llm\n",
    "\n",
    "# Create a function to run all criterion evaluations\n",
    "def evaluate_all_criteria(inputs):\n",
    "    \"\"\"Evaluate all four criteria and return results for final assessment\"\"\"\n",
    "    criterion_1_result = criterion_1_chain.invoke({\"context\": inputs[\"context_1\"]})\n",
    "    criterion_2_result = criterion_2_chain.invoke({\"context\": inputs[\"context_2\"]})\n",
    "    criterion_3_result = criterion_3_chain.invoke({\"context\": inputs[\"context_3\"]})\n",
    "    criterion_4_result = criterion_4_chain.invoke({\"context\": inputs[\"context_4\"]})\n",
    "    \n",
    "    return {\n",
    "        \"criterion_1_result\": criterion_1_result.content,\n",
    "        \"criterion_2_result\": criterion_2_result.content,\n",
    "        \"criterion_3_result\": criterion_3_result.content,\n",
    "        \"criterion_4_result\": criterion_4_result.content\n",
    "    }\n",
    "\n",
    "# Create the complete chained pipeline\n",
    "from langchain.schema.runnable import RunnableLambda\n",
    "\n",
    "complete_assessment_chain = (\n",
    "    RunnableLambda(evaluate_all_criteria)\n",
    "    | final_assessment_prompt \n",
    "    | llm\n",
    ")\n",
    "\n",
    "# Test the complete chain\n",
    "test_contexts = {\n",
    "    \"context_1\": \"Sample climate law that mentions Paris Agreement goals and net-zero by 2050\",\n",
    "    \"context_2\": \"This is a legislative act passed by parliament, not an executive order\",\n",
    "    \"context_3\": \"The law requires development of national climate plans and carbon pricing mechanisms\",\n",
    "    \"context_4\": \"No broad environmental law with executive strategy present\"\n",
    "}"
   ]
  },
  {
   "cell_type": "code",
   "execution_count": null,
   "id": "9abdbc19",
   "metadata": {},
   "outputs": [],
   "source": [
    "# Run the complete pipeline\n",
    "result = complete_assessment_chain.invoke(test_contexts)\n",
    "#some function that takes indicator, retrieves context and then runs complete_assessment_chain fucntion\n",
    "print(\"Final Assessment:\")\n",
    "print(result.content)"
   ]
  },
  {
   "cell_type": "markdown",
   "id": "bc18e75b",
   "metadata": {},
   "source": [
    "#### 1.2 Alternative Large context window Gemini Implementation"
   ]
  },
  {
   "cell_type": "code",
   "execution_count": null,
   "id": "45807249",
   "metadata": {},
   "outputs": [],
   "source": [
    "# Load larger context LLM\n",
    "large_context_llm = ChatOpenAI(\n",
    "    base_url=\"https://api.studio.nebius.com/v1/\",\n",
    "    api_key=os.environ.get(\"NEBIUS_API_KEY\"),\n",
    "    model=\"meta-llama/Llama-3.3-70B-Instruct\",\n",
    "    temperature=0.6\n",
    ")"
   ]
  },
  {
   "cell_type": "code",
   "execution_count": null,
   "id": "0d5057e0",
   "metadata": {},
   "outputs": [],
   "source": [
    "# Set context to whole entire corpus of relevant documetns according to slyvan sheet\n",
    "\n",
    "all_documents_context ="
   ]
  },
  {
   "cell_type": "code",
   "execution_count": null,
   "id": "ea79a7e0",
   "metadata": {},
   "outputs": [],
   "source": [
    "# Single comprehensive climate legislation assessment prompt\n",
    "comprehensive_assessment_prompt = ChatPromptTemplate.from_messages([\n",
    "    (\"system\", \"\"\"You are an expert legal analyst specializing in climate legislation assessment. \n",
    "\n",
    "Your task is to evaluate whether a country has a framework climate law based on specific criteria and provide a structured markdown assessment.\n",
    "\n",
    "EVALUATION CRITERIA:\n",
    "A country is assessed as 'YES' if it has a framework climate law that fulfils ALL of criteria 1, 2, AND 3, OR criterion 4:\n",
    "\n",
    "1. STRATEGIC DIRECTION: Sets a strategic direction for decarbonisation (must include a clear statement to meet the goals of the Paris Agreement OR a national long-term decarbonisation target)\n",
    "\n",
    "2. ENSHRINED IN LAW: Is enshrined in law (must be legislative rather than executive, except in particular political systems)\n",
    "\n",
    "3. OBLIGATIONS: Sets out at least one of the following obligations:\n",
    "   - Meeting a national target\n",
    "   - Developing, revising, implementing or complying with domestic plans, strategies or policies\n",
    "   - Developing policy instruments such as regulation, taxation or public spending in support of climate goals\n",
    "\n",
    "4. EXCEPTIONAL CASE: The combination of a broad environmental law AND a clearly linked executive climate strategy may be sufficient to meet these criteria\n",
    "\n",
    "ASSESSMENT LOGIC:\n",
    "- If criteria 1, 2, AND 3 are all satisfied → YES\n",
    "- If criterion 4 is satisfied → YES\n",
    "- Otherwise → NO\n",
    "\n",
    "OUTPUT FORMAT:\n",
    "Provide your assessment in the following markdown format:\n",
    "\n",
    "```markdown\n",
    "# Climate Legislation Assessment: CP 1.a Framework Climate Law\n",
    "\n",
    "## Individual Criterion Evaluation\n",
    "\n",
    "### Criterion 1: Strategic Direction for Decarbonisation\n",
    "**Result:** [YES/NO]\n",
    "**Reasoning:** [Brief explanation of whether the law includes clear Paris Agreement goals or long-term decarbonisation targets]\n",
    "\n",
    "### Criterion 2: Enshrined in Law\n",
    "**Result:** [YES/NO]\n",
    "**Reasoning:** [Brief explanation of whether this is legislative rather than executive]\n",
    "\n",
    "### Criterion 3: Sets Out Obligations\n",
    "**Result:** [YES/NO]\n",
    "**Reasoning:** [Brief explanation of which obligations are present, if any]\n",
    "\n",
    "### Criterion 4: Exceptional Case\n",
    "**Result:** [YES/NO]\n",
    "**Reasoning:** [Brief explanation of whether broad environmental law + executive strategy combination exists]\n",
    "\n",
    "## Final Assessment\n",
    "\n",
    "**Overall Result:** [YES/NO]\n",
    "\n",
    "**Logic Applied:** [Explain whether criteria 1+2+3 are satisfied OR criterion 4 is satisfied]\n",
    "\n",
    "**Conclusion:** [Brief summary of why the country does/does not have a framework climate law]\n",
    "```\"\"\"),\n",
    "    (\"human\", \"Context: {context}\\n\\nPlease evaluate whether this country has a framework climate law based on the provided context.\")\n",
    "])\n",
    "\n",
    "# Create the single-model chain\n",
    "single_model_assessment_chain = comprehensive_assessment_prompt | large_context_llm\n",
    "\n",
    "\n",
    "# Run the assessment\n",
    "result = single_model_assessment_chain.invoke({\"context\": all_documents_context})\n",
    "print(result.content)"
   ]
  }
 ],
 "metadata": {
  "kernelspec": {
   "display_name": "group_rag.venv",
   "language": "python",
   "name": "python3"
  },
  "language_info": {
   "codemirror_mode": {
    "name": "ipython",
    "version": 3
   },
   "file_extension": ".py",
   "mimetype": "text/x-python",
   "name": "python",
   "nbconvert_exporter": "python",
   "pygments_lexer": "ipython3",
   "version": "3.12.10"
  }
 },
 "nbformat": 4,
 "nbformat_minor": 5
}
