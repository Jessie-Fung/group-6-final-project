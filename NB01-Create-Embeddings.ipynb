{
 "cells": [
  {
   "cell_type": "markdown",
   "id": "83736cf2",
   "metadata": {},
   "source": [
    "# 1. Set up the Huggingface Climate Policy Radar dataset."
   ]
  },
  {
   "cell_type": "code",
   "execution_count": 1,
   "id": "0dd415c7",
   "metadata": {},
   "outputs": [],
   "source": [
    "import os\n",
    "import regex as re\n",
    "from tqdm.notebook import tqdm\n",
    "from dotenv import load_dotenv\n",
    "import pandas as pd\n",
    "import numpy as np\n",
    "import torch\n",
    "import pgai\n",
    "from transformers import AutoTokenizer, AutoModel, AutoModelForMaskedLM\n",
    "from datasets import load_dataset, Features, Value\n",
    "from functions import generate_embeddings_for_text\n",
    "\n",
    "tqdm.pandas()"
   ]
  },
  {
   "cell_type": "code",
   "execution_count": 2,
   "id": "e4b6dc7b",
   "metadata": {},
   "outputs": [
    {
     "data": {
      "application/vnd.jupyter.widget-view+json": {
       "model_id": "e5584b5620f14d96a0ca2896553bfc5f",
       "version_major": 2,
       "version_minor": 0
      },
      "text/plain": [
       "Resolving data files:   0%|          | 0/23 [00:00<?, ?it/s]"
      ]
     },
     "metadata": {},
     "output_type": "display_data"
    },
    {
     "data": {
      "application/vnd.jupyter.widget-view+json": {
       "model_id": "131d87481a9a4cfa8fe581cfcc15b7c2",
       "version_major": 2,
       "version_minor": 0
      },
      "text/plain": [
       "Loading dataset shards:   0%|          | 0/42 [00:00<?, ?it/s]"
      ]
     },
     "metadata": {},
     "output_type": "display_data"
    }
   ],
   "source": [
    "# Login using e.g. `huggingface-cli login` in command line to access this dataset\n",
    "\n",
    "ds = load_dataset(\"ClimatePolicyRadar/all-document-text-data\")\n",
    "ds = ds[\"train\"]"
   ]
  },
  {
   "cell_type": "code",
   "execution_count": 3,
   "id": "d5735275",
   "metadata": {},
   "outputs": [
    {
     "data": {
      "text/plain": [
       "{'document_id': Value(dtype='string', id=None),\n",
       " 'document_metadata.collection_summary': Value(dtype='string', id=None),\n",
       " 'document_metadata.collection_title': Value(dtype='string', id=None),\n",
       " 'document_metadata.corpus_type_name': Value(dtype='string', id=None),\n",
       " 'document_metadata.corpus_import_id': Value(dtype='string', id=None),\n",
       " 'document_metadata.category': Value(dtype='string', id=None),\n",
       " 'document_metadata.description': Value(dtype='string', id=None),\n",
       " 'document_metadata.document_title': Value(dtype='string', id=None),\n",
       " 'document_metadata.family_import_id': Value(dtype='string', id=None),\n",
       " 'document_metadata.family_slug': Value(dtype='string', id=None),\n",
       " 'document_metadata.geographies': Sequence(feature=Value(dtype='string', id=None), length=-1, id=None),\n",
       " 'document_metadata.import_id': Value(dtype='string', id=None),\n",
       " 'document_metadata.languages': Sequence(feature=Value(dtype='string', id=None), length=-1, id=None),\n",
       " 'document_metadata.metadata': {'author': Sequence(feature=Value(dtype='string', id=None), length=-1, id=None),\n",
       "  'author_type': Sequence(feature=Value(dtype='string', id=None), length=-1, id=None),\n",
       "  'framework': Sequence(feature=Value(dtype='string', id=None), length=-1, id=None),\n",
       "  'hazard': Sequence(feature=Value(dtype='string', id=None), length=-1, id=None),\n",
       "  'instrument': Sequence(feature=Value(dtype='string', id=None), length=-1, id=None),\n",
       "  'keyword': Sequence(feature=Value(dtype='string', id=None), length=-1, id=None),\n",
       "  'sector': Sequence(feature=Value(dtype='string', id=None), length=-1, id=None),\n",
       "  'topic': Sequence(feature=Value(dtype='string', id=None), length=-1, id=None)},\n",
       " 'document_metadata.family_title': Value(dtype='string', id=None),\n",
       " 'document_metadata.publication_ts': Value(dtype='string', id=None),\n",
       " 'document_metadata.slug': Value(dtype='string', id=None),\n",
       " 'document_metadata.source': Value(dtype='string', id=None),\n",
       " 'document_metadata.source_url': Value(dtype='string', id=None),\n",
       " 'document_metadata.type': Value(dtype='string', id=None),\n",
       " 'document_cdn_object': Value(dtype='string', id=None),\n",
       " 'document_content_type': Value(dtype='string', id=None),\n",
       " 'document_md5_sum': Value(dtype='string', id=None),\n",
       " 'languages': Sequence(feature=Value(dtype='string', id=None), length=-1, id=None),\n",
       " 'document_metadata.translated': Value(dtype='bool', id=None),\n",
       " 'pdf_data_page_metadata.dimensions': Sequence(feature=Value(dtype='float64', id=None), length=-1, id=None),\n",
       " '_html_data.detected_title': Value(dtype='string', id=None),\n",
       " '_html_data.detected_date': Value(dtype='string', id=None),\n",
       " '_html_data.has_valid_text': Value(dtype='bool', id=None),\n",
       " 'pipeline_metadata.parser_metadata': {'azure_api_version': Value(dtype='string', id=None),\n",
       "  'azure_model_id': Value(dtype='string', id=None),\n",
       "  'parsing_date': Value(dtype='string', id=None)},\n",
       " 'text_block.text_block_id': Value(dtype='string', id=None),\n",
       " 'text_block.language': Value(dtype='string', id=None),\n",
       " 'text_block.type': Value(dtype='string', id=None),\n",
       " 'text_block.type_confidence': Value(dtype='float64', id=None),\n",
       " 'text_block.coords': Sequence(feature=Sequence(feature=Value(dtype='float64', id=None), length=-1, id=None), length=-1, id=None),\n",
       " 'text_block.page_number': Value(dtype='int64', id=None),\n",
       " 'text_block.text': Value(dtype='string', id=None),\n",
       " 'text_block.index': Value(dtype='int64', id=None)}"
      ]
     },
     "execution_count": 3,
     "metadata": {},
     "output_type": "execute_result"
    }
   ],
   "source": [
    "ds.features"
   ]
  },
  {
   "cell_type": "code",
   "execution_count": 4,
   "id": "2ad46e40",
   "metadata": {},
   "outputs": [],
   "source": [
    "flat_ds = ds.flatten()"
   ]
  },
  {
   "cell_type": "code",
   "execution_count": 5,
   "id": "a91f6e8d",
   "metadata": {},
   "outputs": [
    {
     "name": "stdout",
     "output_type": "stream",
     "text": [
      "<class 'str'>\n",
      "<class 'NoneType'>\n",
      "<class 'NoneType'>\n",
      "<class 'str'>\n",
      "<class 'str'>\n",
      "<class 'str'>\n",
      "<class 'str'>\n",
      "<class 'str'>\n",
      "<class 'str'>\n",
      "<class 'str'>\n",
      "<class 'list'>\n",
      "<class 'str'>\n",
      "<class 'list'>\n",
      "<class 'NoneType'>\n",
      "<class 'NoneType'>\n",
      "<class 'NoneType'>\n",
      "<class 'NoneType'>\n",
      "<class 'NoneType'>\n",
      "<class 'NoneType'>\n",
      "<class 'NoneType'>\n",
      "<class 'NoneType'>\n",
      "<class 'str'>\n",
      "<class 'str'>\n",
      "<class 'str'>\n",
      "<class 'str'>\n",
      "<class 'str'>\n",
      "<class 'str'>\n",
      "<class 'str'>\n",
      "<class 'str'>\n",
      "<class 'str'>\n",
      "<class 'list'>\n",
      "<class 'bool'>\n",
      "<class 'list'>\n",
      "<class 'NoneType'>\n",
      "<class 'NoneType'>\n",
      "<class 'NoneType'>\n",
      "<class 'str'>\n",
      "<class 'str'>\n",
      "<class 'str'>\n",
      "<class 'str'>\n",
      "<class 'str'>\n",
      "<class 'str'>\n",
      "<class 'float'>\n",
      "<class 'list'>\n",
      "<class 'int'>\n",
      "<class 'str'>\n",
      "<class 'int'>\n"
     ]
    }
   ],
   "source": [
    "for key in flat_ds.features.keys():\n",
    "    print(type(flat_ds[18:19][key][0]))"
   ]
  },
  {
   "cell_type": "markdown",
   "id": "c3982d64",
   "metadata": {},
   "source": [
    "## Save 100000 chunks in Postgres"
   ]
  },
  {
   "cell_type": "code",
   "execution_count": 10,
   "id": "cbf79a6c",
   "metadata": {},
   "outputs": [
    {
     "data": {
      "text/plain": [
       "615"
      ]
     },
     "execution_count": 10,
     "metadata": {},
     "output_type": "execute_result"
    }
   ],
   "source": [
    "from sqlalchemy import create_engine\n",
    "from dotenv import load_dotenv\n",
    "import os\n",
    "\n",
    "load_dotenv # This loads the .env file into os.environ\n",
    "batch_df = pd.DataFrame(flat_ds[:100000])\n",
    "# Set up the database connection using SQLAlchemy\n",
    "engine = create_engine(os.getenv(\"DB_URL\"))\n",
    "\n",
    "# Write the pandas DataFrame to the PostgreSQL database\n",
    "batch_df.to_sql('climate_policy_radar', engine, if_exists='replace', index=False)"
   ]
  },
  {
   "cell_type": "markdown",
   "id": "069f90c8",
   "metadata": {},
   "source": [
    "## Attempt to change arrays to strings for entire dataset\n",
    "\n",
    "Just keeping this here for future reference. I don't think it's needed"
   ]
  },
  {
   "cell_type": "code",
   "execution_count": null,
   "id": "f93e9765",
   "metadata": {},
   "outputs": [],
   "source": [
    "def array_to_string(batch):\n",
    "    keys_to_process = [\n",
    "        \"document_metadata.geographies\",\n",
    "        \"document_metadata.languages\",\n",
    "        \"languages\",\n",
    "        \"pdf_data_page_metadata.dimensions\",\n",
    "        \"text_block.coords\"\n",
    "    ]\n",
    "    for key in keys_to_process:\n",
    "        # Convert numpy arrays to lists\n",
    "        batch[key] = [str(x) for x in batch[key]]\n",
    "    return batch"
   ]
  },
  {
   "cell_type": "code",
   "execution_count": null,
   "id": "1cf46f4a",
   "metadata": {},
   "outputs": [],
   "source": [
    "# Apply the function to the dataset. This takes the longest time\n",
    "flat_ds = flat_ds.map(array_to_string, batched = True)"
   ]
  },
  {
   "cell_type": "markdown",
   "id": "dabedc82",
   "metadata": {},
   "source": [
    "## Read the data from the database\n",
    "\n",
    "So it's easier to access the data in case the kernel crashes and had to re-run the codes again"
   ]
  },
  {
   "cell_type": "code",
   "execution_count": 23,
   "id": "19defae6",
   "metadata": {},
   "outputs": [
    {
     "data": {
      "text/html": [
       "<div>\n",
       "<style scoped>\n",
       "    .dataframe tbody tr th:only-of-type {\n",
       "        vertical-align: middle;\n",
       "    }\n",
       "\n",
       "    .dataframe tbody tr th {\n",
       "        vertical-align: top;\n",
       "    }\n",
       "\n",
       "    .dataframe thead th {\n",
       "        text-align: right;\n",
       "    }\n",
       "</style>\n",
       "<table border=\"1\" class=\"dataframe\">\n",
       "  <thead>\n",
       "    <tr style=\"text-align: right;\">\n",
       "      <th></th>\n",
       "      <th>document_id</th>\n",
       "      <th>document_metadata.collection_summary</th>\n",
       "      <th>document_metadata.collection_title</th>\n",
       "      <th>document_metadata.corpus_type_name</th>\n",
       "      <th>document_metadata.corpus_import_id</th>\n",
       "      <th>document_metadata.category</th>\n",
       "      <th>document_metadata.description</th>\n",
       "      <th>document_metadata.document_title</th>\n",
       "      <th>document_metadata.family_import_id</th>\n",
       "      <th>document_metadata.family_slug</th>\n",
       "      <th>...</th>\n",
       "      <th>pipeline_metadata.parser_metadata.azure_model_id</th>\n",
       "      <th>pipeline_metadata.parser_metadata.parsing_date</th>\n",
       "      <th>text_block.text_block_id</th>\n",
       "      <th>text_block.language</th>\n",
       "      <th>text_block.type</th>\n",
       "      <th>text_block.type_confidence</th>\n",
       "      <th>text_block.coords</th>\n",
       "      <th>text_block.page_number</th>\n",
       "      <th>text_block.text</th>\n",
       "      <th>text_block.index</th>\n",
       "    </tr>\n",
       "  </thead>\n",
       "  <tbody>\n",
       "    <tr>\n",
       "      <th>0</th>\n",
       "      <td>CCLW.document.i00000002.n0000</td>\n",
       "      <td>None</td>\n",
       "      <td>None</td>\n",
       "      <td>Laws and Policies</td>\n",
       "      <td>CCLW.corpus.i00000001.n0000</td>\n",
       "      <td>Executive</td>\n",
       "      <td>&lt;p&gt;&lt;span style=\"font-size: 10pt;font-family: A...</td>\n",
       "      <td>National Energy and Climate Plan 2019 Draft</td>\n",
       "      <td>CCLW.family.i00000001.n0000</td>\n",
       "      <td>national-energy-and-climate-plan_8a4f</td>\n",
       "      <td>...</td>\n",
       "      <td>prebuilt-document</td>\n",
       "      <td>2023-12-11T11:43:23.509480</td>\n",
       "      <td>0</td>\n",
       "      <td>en</td>\n",
       "      <td>title</td>\n",
       "      <td>1.0</td>\n",
       "      <td>{{70.452,123.7392},{524.1816,123.7392},{524.18...</td>\n",
       "      <td>0.0</td>\n",
       "      <td>Draft of the National Energy and Climate Plan ...</td>\n",
       "      <td>0</td>\n",
       "    </tr>\n",
       "    <tr>\n",
       "      <th>1</th>\n",
       "      <td>CCLW.document.i00000002.n0000</td>\n",
       "      <td>None</td>\n",
       "      <td>None</td>\n",
       "      <td>Laws and Policies</td>\n",
       "      <td>CCLW.corpus.i00000001.n0000</td>\n",
       "      <td>Executive</td>\n",
       "      <td>&lt;p&gt;&lt;span style=\"font-size: 10pt;font-family: A...</td>\n",
       "      <td>National Energy and Climate Plan 2019 Draft</td>\n",
       "      <td>CCLW.family.i00000001.n0000</td>\n",
       "      <td>national-energy-and-climate-plan_8a4f</td>\n",
       "      <td>...</td>\n",
       "      <td>prebuilt-document</td>\n",
       "      <td>2023-12-11T11:43:23.509480</td>\n",
       "      <td>1</td>\n",
       "      <td>en</td>\n",
       "      <td>Text</td>\n",
       "      <td>1.0</td>\n",
       "      <td>{{69.7176,208.4256},{124.21440000000001,208.79...</td>\n",
       "      <td>0.0</td>\n",
       "      <td>July 2021</td>\n",
       "      <td>1</td>\n",
       "    </tr>\n",
       "    <tr>\n",
       "      <th>2</th>\n",
       "      <td>CCLW.document.i00000002.n0000</td>\n",
       "      <td>None</td>\n",
       "      <td>None</td>\n",
       "      <td>Laws and Policies</td>\n",
       "      <td>CCLW.corpus.i00000001.n0000</td>\n",
       "      <td>Executive</td>\n",
       "      <td>&lt;p&gt;&lt;span style=\"font-size: 10pt;font-family: A...</td>\n",
       "      <td>National Energy and Climate Plan 2019 Draft</td>\n",
       "      <td>CCLW.family.i00000001.n0000</td>\n",
       "      <td>national-energy-and-climate-plan_8a4f</td>\n",
       "      <td>...</td>\n",
       "      <td>prebuilt-document</td>\n",
       "      <td>2023-12-11T11:43:23.509480</td>\n",
       "      <td>2</td>\n",
       "      <td>en</td>\n",
       "      <td>Text</td>\n",
       "      <td>1.0</td>\n",
       "      <td>{{217.1952,685.1376},{286.1856,685.1376},{286....</td>\n",
       "      <td>0.0</td>\n",
       "      <td>REPUBLIKA SHOIPERISE</td>\n",
       "      <td>2</td>\n",
       "    </tr>\n",
       "    <tr>\n",
       "      <th>3</th>\n",
       "      <td>CCLW.document.i00000002.n0000</td>\n",
       "      <td>None</td>\n",
       "      <td>None</td>\n",
       "      <td>Laws and Policies</td>\n",
       "      <td>CCLW.corpus.i00000001.n0000</td>\n",
       "      <td>Executive</td>\n",
       "      <td>&lt;p&gt;&lt;span style=\"font-size: 10pt;font-family: A...</td>\n",
       "      <td>National Energy and Climate Plan 2019 Draft</td>\n",
       "      <td>CCLW.family.i00000001.n0000</td>\n",
       "      <td>national-energy-and-climate-plan_8a4f</td>\n",
       "      <td>...</td>\n",
       "      <td>prebuilt-document</td>\n",
       "      <td>2023-12-11T11:43:23.509480</td>\n",
       "      <td>3</td>\n",
       "      <td>en</td>\n",
       "      <td>Text</td>\n",
       "      <td>1.0</td>\n",
       "      <td>{{195.2928,690.6096},{308.448,690.6096},{308.4...</td>\n",
       "      <td>0.0</td>\n",
       "      <td>MINISTRIA E TURIZMIT DHE MJEDISIT</td>\n",
       "      <td>3</td>\n",
       "    </tr>\n",
       "    <tr>\n",
       "      <th>4</th>\n",
       "      <td>CCLW.document.i00000002.n0000</td>\n",
       "      <td>None</td>\n",
       "      <td>None</td>\n",
       "      <td>Laws and Policies</td>\n",
       "      <td>CCLW.corpus.i00000001.n0000</td>\n",
       "      <td>Executive</td>\n",
       "      <td>&lt;p&gt;&lt;span style=\"font-size: 10pt;font-family: A...</td>\n",
       "      <td>National Energy and Climate Plan 2019 Draft</td>\n",
       "      <td>CCLW.family.i00000001.n0000</td>\n",
       "      <td>national-energy-and-climate-plan_8a4f</td>\n",
       "      <td>...</td>\n",
       "      <td>prebuilt-document</td>\n",
       "      <td>2023-12-11T11:43:23.509480</td>\n",
       "      <td>4</td>\n",
       "      <td>en</td>\n",
       "      <td>Text</td>\n",
       "      <td>1.0</td>\n",
       "      <td>{{76.9968,708.5015999999999},{182.88,708.1344}...</td>\n",
       "      <td>0.0</td>\n",
       "      <td>MINISTRIA E INFRASTRUKTURĒS DHE ENERGJISE</td>\n",
       "      <td>4</td>\n",
       "    </tr>\n",
       "  </tbody>\n",
       "</table>\n",
       "<p>5 rows × 47 columns</p>\n",
       "</div>"
      ],
      "text/plain": [
       "                     document_id document_metadata.collection_summary  \\\n",
       "0  CCLW.document.i00000002.n0000                                 None   \n",
       "1  CCLW.document.i00000002.n0000                                 None   \n",
       "2  CCLW.document.i00000002.n0000                                 None   \n",
       "3  CCLW.document.i00000002.n0000                                 None   \n",
       "4  CCLW.document.i00000002.n0000                                 None   \n",
       "\n",
       "  document_metadata.collection_title document_metadata.corpus_type_name  \\\n",
       "0                               None                  Laws and Policies   \n",
       "1                               None                  Laws and Policies   \n",
       "2                               None                  Laws and Policies   \n",
       "3                               None                  Laws and Policies   \n",
       "4                               None                  Laws and Policies   \n",
       "\n",
       "  document_metadata.corpus_import_id document_metadata.category  \\\n",
       "0        CCLW.corpus.i00000001.n0000                  Executive   \n",
       "1        CCLW.corpus.i00000001.n0000                  Executive   \n",
       "2        CCLW.corpus.i00000001.n0000                  Executive   \n",
       "3        CCLW.corpus.i00000001.n0000                  Executive   \n",
       "4        CCLW.corpus.i00000001.n0000                  Executive   \n",
       "\n",
       "                       document_metadata.description  \\\n",
       "0  <p><span style=\"font-size: 10pt;font-family: A...   \n",
       "1  <p><span style=\"font-size: 10pt;font-family: A...   \n",
       "2  <p><span style=\"font-size: 10pt;font-family: A...   \n",
       "3  <p><span style=\"font-size: 10pt;font-family: A...   \n",
       "4  <p><span style=\"font-size: 10pt;font-family: A...   \n",
       "\n",
       "               document_metadata.document_title  \\\n",
       "0  National Energy and Climate Plan 2019 Draft    \n",
       "1  National Energy and Climate Plan 2019 Draft    \n",
       "2  National Energy and Climate Plan 2019 Draft    \n",
       "3  National Energy and Climate Plan 2019 Draft    \n",
       "4  National Energy and Climate Plan 2019 Draft    \n",
       "\n",
       "  document_metadata.family_import_id          document_metadata.family_slug  \\\n",
       "0        CCLW.family.i00000001.n0000  national-energy-and-climate-plan_8a4f   \n",
       "1        CCLW.family.i00000001.n0000  national-energy-and-climate-plan_8a4f   \n",
       "2        CCLW.family.i00000001.n0000  national-energy-and-climate-plan_8a4f   \n",
       "3        CCLW.family.i00000001.n0000  national-energy-and-climate-plan_8a4f   \n",
       "4        CCLW.family.i00000001.n0000  national-energy-and-climate-plan_8a4f   \n",
       "\n",
       "   ... pipeline_metadata.parser_metadata.azure_model_id  \\\n",
       "0  ...                                prebuilt-document   \n",
       "1  ...                                prebuilt-document   \n",
       "2  ...                                prebuilt-document   \n",
       "3  ...                                prebuilt-document   \n",
       "4  ...                                prebuilt-document   \n",
       "\n",
       "  pipeline_metadata.parser_metadata.parsing_date text_block.text_block_id  \\\n",
       "0                     2023-12-11T11:43:23.509480                        0   \n",
       "1                     2023-12-11T11:43:23.509480                        1   \n",
       "2                     2023-12-11T11:43:23.509480                        2   \n",
       "3                     2023-12-11T11:43:23.509480                        3   \n",
       "4                     2023-12-11T11:43:23.509480                        4   \n",
       "\n",
       "  text_block.language text_block.type text_block.type_confidence  \\\n",
       "0                  en           title                        1.0   \n",
       "1                  en            Text                        1.0   \n",
       "2                  en            Text                        1.0   \n",
       "3                  en            Text                        1.0   \n",
       "4                  en            Text                        1.0   \n",
       "\n",
       "                                   text_block.coords text_block.page_number  \\\n",
       "0  {{70.452,123.7392},{524.1816,123.7392},{524.18...                    0.0   \n",
       "1  {{69.7176,208.4256},{124.21440000000001,208.79...                    0.0   \n",
       "2  {{217.1952,685.1376},{286.1856,685.1376},{286....                    0.0   \n",
       "3  {{195.2928,690.6096},{308.448,690.6096},{308.4...                    0.0   \n",
       "4  {{76.9968,708.5015999999999},{182.88,708.1344}...                    0.0   \n",
       "\n",
       "                                     text_block.text text_block.index  \n",
       "0  Draft of the National Energy and Climate Plan ...                0  \n",
       "1                                          July 2021                1  \n",
       "2                               REPUBLIKA SHOIPERISE                2  \n",
       "3                  MINISTRIA E TURIZMIT DHE MJEDISIT                3  \n",
       "4          MINISTRIA E INFRASTRUKTURĒS DHE ENERGJISE                4  \n",
       "\n",
       "[5 rows x 47 columns]"
      ]
     },
     "execution_count": 23,
     "metadata": {},
     "output_type": "execute_result"
    }
   ],
   "source": [
    "# Read the table\n",
    "df = pd.read_sql(\"SELECT * FROM climate_policy_radar\", engine)\n",
    "df.head()\n"
   ]
  },
  {
   "cell_type": "markdown",
   "id": "471ce453",
   "metadata": {},
   "source": [
    "# 2. Embeddings generation\n",
    "\n",
    "## 2.1 Load climateBERT"
   ]
  },
  {
   "cell_type": "code",
   "execution_count": 11,
   "id": "00dd9a22",
   "metadata": {},
   "outputs": [],
   "source": [
    "EMBEDDING_MODEL_LOCAL_DIR = os.getenv('EMBEDDING_MODEL_LOCAL_DIR')\n",
    "EMBEDDING_MODEL = os.getenv(\"EMBEDDING_MODEL\")"
   ]
  },
  {
   "cell_type": "code",
   "execution_count": 12,
   "id": "9333973d",
   "metadata": {},
   "outputs": [
    {
     "name": "stderr",
     "output_type": "stream",
     "text": [
      "/Users/arielliu/group-6-final-project/project-env/lib/python3.12/site-packages/transformers/models/auto/tokenization_auto.py:778: FutureWarning: The `use_auth_token` argument is deprecated and will be removed in v5 of Transformers. Please use `token` instead.\n",
      "  warnings.warn(\n",
      "/Users/arielliu/group-6-final-project/project-env/lib/python3.12/site-packages/transformers/models/auto/auto_factory.py:469: FutureWarning: The `use_auth_token` argument is deprecated and will be removed in v5 of Transformers. Please use `token` instead.\n",
      "  warnings.warn(\n"
     ]
    }
   ],
   "source": [
    "# Download\n",
    "tokenizer = AutoTokenizer.from_pretrained(EMBEDDING_MODEL, use_auth_token=False)\n",
    "model = AutoModelForMaskedLM.from_pretrained(EMBEDDING_MODEL, use_auth_token=False)\n",
    "\n",
    "# Save it to a  local_models folder\n",
    "tokenizer.save_pretrained(EMBEDDING_MODEL_LOCAL_DIR)\n",
    "model.save_pretrained(EMBEDDING_MODEL_LOCAL_DIR)"
   ]
  },
  {
   "cell_type": "code",
   "execution_count": 13,
   "id": "df923544",
   "metadata": {},
   "outputs": [
    {
     "name": "stderr",
     "output_type": "stream",
     "text": [
      "Special tokens have been added in the vocabulary, make sure the associated word embeddings are fine-tuned or trained.\n",
      "Some weights of RobertaModel were not initialized from the model checkpoint at local_model/climatebert/distilroberta-base-climate-f and are newly initialized: ['roberta.pooler.dense.bias', 'roberta.pooler.dense.weight']\n",
      "You should probably TRAIN this model on a down-stream task to be able to use it for predictions and inference.\n"
     ]
    }
   ],
   "source": [
    "# Load the embedding model\n",
    "tokenizer = AutoTokenizer.from_pretrained(EMBEDDING_MODEL_LOCAL_DIR)\n",
    "model = AutoModel.from_pretrained(EMBEDDING_MODEL_LOCAL_DIR)"
   ]
  },
  {
   "cell_type": "markdown",
   "id": "58698bc0",
   "metadata": {},
   "source": [
    "### Checking existing documents' country\n"
   ]
  },
  {
   "cell_type": "code",
   "execution_count": 17,
   "id": "8cf481da",
   "metadata": {},
   "outputs": [
    {
     "name": "stdout",
     "output_type": "stream",
     "text": [
      "   document_metadata.geographies\n",
      "0                          {SRB}\n",
      "1                          {MKD}\n",
      "2                          {GBR}\n",
      "3                          {TUV}\n",
      "4                          {FRA}\n",
      "5                          {ALB}\n",
      "6                          {EUR}\n",
      "7                          {MNE}\n",
      "8                          {AZE}\n",
      "9                          {CAN}\n",
      "10                         {JPN}\n",
      "11                         {BRA}\n",
      "12                         {DEU}\n",
      "13                         {XKX}\n",
      "14                         {CHN}\n",
      "15                         {ZAF}\n",
      "16                         {BIH}\n",
      "17                         {IRL}\n"
     ]
    }
   ],
   "source": [
    "query = \"\"\"\n",
    "SELECT DISTINCT \"document_metadata.geographies\"\n",
    "FROM climate_policy_radar\n",
    "WHERE \"document_metadata.geographies\" IS NOT NULL;\n",
    "\"\"\"\n",
    "\n",
    "geos = pd.read_sql(query, engine)\n",
    "print(geos)\n"
   ]
  },
  {
   "cell_type": "markdown",
   "id": "5dfdfcd7",
   "metadata": {},
   "source": [
    "### Attempt to select only documents by Albania\n",
    "Testing using Albania for now - This takes a really long time"
   ]
  },
  {
   "cell_type": "code",
   "execution_count": null,
   "id": "5d2c6a8c",
   "metadata": {},
   "outputs": [
    {
     "name": "stderr",
     "output_type": "stream",
     "text": [
      "Filtering for ALB: 100%|██████████| 100000/100000 [00:00<00:00, 173917.21it/s]\n"
     ]
    }
   ],
   "source": [
    "# This one worked\n",
    "from tqdm import tqdm\n",
    "\n",
    "geos = df[\"document_metadata.geographies\"]\n",
    "filter = [\"ALB\" in str(x) for x in tqdm(geos, desc=\"Filtering for ALB\")]\n",
    "alb_chunks = df[filter]"
   ]
  },
  {
   "cell_type": "code",
   "execution_count": 26,
   "id": "066f56a2",
   "metadata": {},
   "outputs": [
    {
     "name": "stdout",
     "output_type": "stream",
     "text": [
      "                         document_id document_metadata.collection_summary  \\\n",
      "0      CCLW.document.i00000002.n0000                                 None   \n",
      "1      CCLW.document.i00000002.n0000                                 None   \n",
      "2      CCLW.document.i00000002.n0000                                 None   \n",
      "3      CCLW.document.i00000002.n0000                                 None   \n",
      "4      CCLW.document.i00000002.n0000                                 None   \n",
      "...                              ...                                  ...   \n",
      "13792  CCLW.document.i00000002.n0000                                 None   \n",
      "13793  CCLW.document.i00000002.n0000                                 None   \n",
      "13794  CCLW.document.i00000002.n0000                                 None   \n",
      "13795  CCLW.document.i00000002.n0000                                 None   \n",
      "13796  CCLW.document.i00000002.n0000                                 None   \n",
      "\n",
      "      document_metadata.collection_title document_metadata.corpus_type_name  \\\n",
      "0                                   None                  Laws and Policies   \n",
      "1                                   None                  Laws and Policies   \n",
      "2                                   None                  Laws and Policies   \n",
      "3                                   None                  Laws and Policies   \n",
      "4                                   None                  Laws and Policies   \n",
      "...                                  ...                                ...   \n",
      "13792                               None                  Laws and Policies   \n",
      "13793                               None                  Laws and Policies   \n",
      "13794                               None                  Laws and Policies   \n",
      "13795                               None                  Laws and Policies   \n",
      "13796                               None                  Laws and Policies   \n",
      "\n",
      "      document_metadata.corpus_import_id document_metadata.category  \\\n",
      "0            CCLW.corpus.i00000001.n0000                  Executive   \n",
      "1            CCLW.corpus.i00000001.n0000                  Executive   \n",
      "2            CCLW.corpus.i00000001.n0000                  Executive   \n",
      "3            CCLW.corpus.i00000001.n0000                  Executive   \n",
      "4            CCLW.corpus.i00000001.n0000                  Executive   \n",
      "...                                  ...                        ...   \n",
      "13792        CCLW.corpus.i00000001.n0000                  Executive   \n",
      "13793        CCLW.corpus.i00000001.n0000                  Executive   \n",
      "13794        CCLW.corpus.i00000001.n0000                  Executive   \n",
      "13795        CCLW.corpus.i00000001.n0000                  Executive   \n",
      "13796        CCLW.corpus.i00000001.n0000                  Executive   \n",
      "\n",
      "                           document_metadata.description  \\\n",
      "0      <p><span style=\"font-size: 10pt;font-family: A...   \n",
      "1      <p><span style=\"font-size: 10pt;font-family: A...   \n",
      "2      <p><span style=\"font-size: 10pt;font-family: A...   \n",
      "3      <p><span style=\"font-size: 10pt;font-family: A...   \n",
      "4      <p><span style=\"font-size: 10pt;font-family: A...   \n",
      "...                                                  ...   \n",
      "13792  <p><span style=\"font-size: 10pt;font-family: A...   \n",
      "13793  <p><span style=\"font-size: 10pt;font-family: A...   \n",
      "13794  <p><span style=\"font-size: 10pt;font-family: A...   \n",
      "13795  <p><span style=\"font-size: 10pt;font-family: A...   \n",
      "13796  <p><span style=\"font-size: 10pt;font-family: A...   \n",
      "\n",
      "                   document_metadata.document_title  \\\n",
      "0      National Energy and Climate Plan 2019 Draft    \n",
      "1      National Energy and Climate Plan 2019 Draft    \n",
      "2      National Energy and Climate Plan 2019 Draft    \n",
      "3      National Energy and Climate Plan 2019 Draft    \n",
      "4      National Energy and Climate Plan 2019 Draft    \n",
      "...                                             ...   \n",
      "13792  National Energy and Climate Plan 2019 Draft    \n",
      "13793  National Energy and Climate Plan 2019 Draft    \n",
      "13794  National Energy and Climate Plan 2019 Draft    \n",
      "13795  National Energy and Climate Plan 2019 Draft    \n",
      "13796  National Energy and Climate Plan 2019 Draft    \n",
      "\n",
      "      document_metadata.family_import_id  \\\n",
      "0            CCLW.family.i00000001.n0000   \n",
      "1            CCLW.family.i00000001.n0000   \n",
      "2            CCLW.family.i00000001.n0000   \n",
      "3            CCLW.family.i00000001.n0000   \n",
      "4            CCLW.family.i00000001.n0000   \n",
      "...                                  ...   \n",
      "13792        CCLW.family.i00000001.n0000   \n",
      "13793        CCLW.family.i00000001.n0000   \n",
      "13794        CCLW.family.i00000001.n0000   \n",
      "13795        CCLW.family.i00000001.n0000   \n",
      "13796        CCLW.family.i00000001.n0000   \n",
      "\n",
      "               document_metadata.family_slug  ...  \\\n",
      "0      national-energy-and-climate-plan_8a4f  ...   \n",
      "1      national-energy-and-climate-plan_8a4f  ...   \n",
      "2      national-energy-and-climate-plan_8a4f  ...   \n",
      "3      national-energy-and-climate-plan_8a4f  ...   \n",
      "4      national-energy-and-climate-plan_8a4f  ...   \n",
      "...                                      ...  ...   \n",
      "13792  national-energy-and-climate-plan_8a4f  ...   \n",
      "13793  national-energy-and-climate-plan_8a4f  ...   \n",
      "13794  national-energy-and-climate-plan_8a4f  ...   \n",
      "13795  national-energy-and-climate-plan_8a4f  ...   \n",
      "13796  national-energy-and-climate-plan_8a4f  ...   \n",
      "\n",
      "      pipeline_metadata.parser_metadata.azure_model_id  \\\n",
      "0                                    prebuilt-document   \n",
      "1                                    prebuilt-document   \n",
      "2                                    prebuilt-document   \n",
      "3                                    prebuilt-document   \n",
      "4                                    prebuilt-document   \n",
      "...                                                ...   \n",
      "13792                                prebuilt-document   \n",
      "13793                                prebuilt-document   \n",
      "13794                                prebuilt-document   \n",
      "13795                                prebuilt-document   \n",
      "13796                                prebuilt-document   \n",
      "\n",
      "      pipeline_metadata.parser_metadata.parsing_date text_block.text_block_id  \\\n",
      "0                         2023-12-11T11:43:23.509480                        0   \n",
      "1                         2023-12-11T11:43:23.509480                        1   \n",
      "2                         2023-12-11T11:43:23.509480                        2   \n",
      "3                         2023-12-11T11:43:23.509480                        3   \n",
      "4                         2023-12-11T11:43:23.509480                        4   \n",
      "...                                              ...                      ...   \n",
      "13792                     2023-12-11T11:43:23.509480                    13792   \n",
      "13793                     2023-12-11T11:43:23.509480                    13793   \n",
      "13794                     2023-12-11T11:43:23.509480                    13794   \n",
      "13795                     2023-12-11T11:43:23.509480                    13795   \n",
      "13796                     2023-12-11T11:43:23.509480                    13796   \n",
      "\n",
      "      text_block.language text_block.type text_block.type_confidence  \\\n",
      "0                      en           title                        1.0   \n",
      "1                      en            Text                        1.0   \n",
      "2                      en            Text                        1.0   \n",
      "3                      en            Text                        1.0   \n",
      "4                      en            Text                        1.0   \n",
      "...                   ...             ...                        ...   \n",
      "13792                  en            Text                        1.0   \n",
      "13793                  en            Text                        1.0   \n",
      "13794                  en            Text                        1.0   \n",
      "13795                  en            Text                        1.0   \n",
      "13796                  en      pageNumber                        1.0   \n",
      "\n",
      "                                       text_block.coords  \\\n",
      "0      {{70.452,123.7392},{524.1816,123.7392},{524.18...   \n",
      "1      {{69.7176,208.4256},{124.21440000000001,208.79...   \n",
      "2      {{217.1952,685.1376},{286.1856,685.1376},{286....   \n",
      "3      {{195.2928,690.6096},{308.448,690.6096},{308.4...   \n",
      "4      {{76.9968,708.5015999999999},{182.88,708.1344}...   \n",
      "...                                                  ...   \n",
      "13792  {{69.3576,71.17920000000001},{525.6432,71.1792...   \n",
      "13793  {{69.4008,124.4664},{526.392,125.2007999999999...   \n",
      "13794  {{69.3576,216.0936},{524.9159999999999,216.093...   \n",
      "13795  {{68.99040000000001,269.3808},{524.92320000000...   \n",
      "13796  {{287.28000000000003,778.2192},{306.2591999999...   \n",
      "\n",
      "      text_block.page_number  \\\n",
      "0                        0.0   \n",
      "1                        0.0   \n",
      "2                        0.0   \n",
      "3                        0.0   \n",
      "4                        0.0   \n",
      "...                      ...   \n",
      "13792                  255.0   \n",
      "13793                  255.0   \n",
      "13794                  255.0   \n",
      "13795                  255.0   \n",
      "13796                  255.0   \n",
      "\n",
      "                                         text_block.text text_block.index  \n",
      "0      Draft of the National Energy and Climate Plan ...                0  \n",
      "1                                              July 2021                1  \n",
      "2                                   REPUBLIKA SHOIPERISE                2  \n",
      "3                      MINISTRIA E TURIZMIT DHE MJEDISIT                3  \n",
      "4              MINISTRIA E INFRASTRUKTURĒS DHE ENERGJISE                4  \n",
      "...                                                  ...              ...  \n",
      "13792  Market Operator (Albanian Power Exchange), is ...            13792  \n",
      "13793  The State Technical and Industrial Inspectorat...            13793  \n",
      "13794  ALBPETROL is a wholly government-owned, vertic...            13794  \n",
      "13795  ALBGAZ is a wholly-owned government company, c...            13795  \n",
      "13796                                                249            13796  \n",
      "\n",
      "[13797 rows x 47 columns]\n"
     ]
    }
   ],
   "source": [
    "print(alb_chunks)"
   ]
  },
  {
   "cell_type": "code",
   "execution_count": 18,
   "id": "c3b691ad",
   "metadata": {},
   "outputs": [
    {
     "ename": "AttributeError",
     "evalue": "'list' object has no attribute 'astype'",
     "output_type": "error",
     "traceback": [
      "\u001b[31m---------------------------------------------------------------------------\u001b[39m",
      "\u001b[31mAttributeError\u001b[39m                            Traceback (most recent call last)",
      "\u001b[36mCell\u001b[39m\u001b[36m \u001b[39m\u001b[32mIn[18]\u001b[39m\u001b[32m, line 1\u001b[39m\n\u001b[32m----> \u001b[39m\u001b[32m1\u001b[39m \u001b[38;5;28mfilter\u001b[39m = \u001b[43mflat_ds\u001b[49m\u001b[43m[\u001b[49m\u001b[33;43m\"\u001b[39;49m\u001b[33;43mdocument_metadata.geographies\u001b[39;49m\u001b[33;43m\"\u001b[39;49m\u001b[43m]\u001b[49m\u001b[43m.\u001b[49m\u001b[43mastype\u001b[49m(\u001b[38;5;28mstr\u001b[39m).progress_apply(\n\u001b[32m      2\u001b[39m     \u001b[38;5;28;01mlambda\u001b[39;00m x: \u001b[38;5;28mbool\u001b[39m(re.search(\u001b[33mr\u001b[39m\u001b[33m\"\u001b[39m\u001b[33mALB\u001b[39m\u001b[33m\"\u001b[39m, x))\n\u001b[32m      3\u001b[39m )\n\u001b[32m      4\u001b[39m alb_chunks = flat_ds[\u001b[38;5;28mfilter\u001b[39m]\n",
      "\u001b[31mAttributeError\u001b[39m: 'list' object has no attribute 'astype'"
     ]
    }
   ],
   "source": [
    "filter = flat_ds[\"document_metadata.geographies\"].astype(str).progress_apply(\n",
    "    lambda x: bool(re.search(r\"ALB\", x))\n",
    ")\n",
    "alb_chunks = flat_ds[filter]"
   ]
  },
  {
   "cell_type": "markdown",
   "id": "644ece61",
   "metadata": {},
   "source": [
    "## 2.2 Save embeddings in csv\n",
    "Embeddings generated in batches of 1000 chunks.\n",
    "Note: obsolete, just ignore"
   ]
  },
  {
   "cell_type": "code",
   "execution_count": null,
   "id": "92703641",
   "metadata": {},
   "outputs": [
    {
     "data": {
      "application/vnd.jupyter.widget-view+json": {
       "model_id": "6b9f43e428cf4099a63d06db77f2f2b6",
       "version_major": 2,
       "version_minor": 0
      },
      "text/plain": [
       "  0%|          | 0/2 [00:00<?, ?it/s]"
      ]
     },
     "metadata": {},
     "output_type": "display_data"
    },
    {
     "data": {
      "application/vnd.jupyter.widget-view+json": {
       "model_id": "13df9e51743846abb9fb96770c7cad50",
       "version_major": 2,
       "version_minor": 0
      },
      "text/plain": [
       "  0%|          | 0/1000 [00:00<?, ?it/s]"
      ]
     },
     "metadata": {},
     "output_type": "display_data"
    },
    {
     "data": {
      "application/vnd.jupyter.widget-view+json": {
       "model_id": "caabfc0b6eef434cb7f3f43d582f7ea8",
       "version_major": 2,
       "version_minor": 0
      },
      "text/plain": [
       "  0%|          | 0/1000 [00:00<?, ?it/s]"
      ]
     },
     "metadata": {},
     "output_type": "display_data"
    }
   ],
   "source": [
    "# Ensure the \"data\" directory exists\n",
    "os.makedirs(\"data\", exist_ok=True)\n",
    "\n",
    "# Process embeddings in batches of 1000\n",
    "batch_size = 1000\n",
    "all_batches = (len(flat_ds) + batch_size - 1) // batch_size  # Calculate the number of batches\n",
    "num_batches = 2\n",
    "\n",
    "all_embeddings = []\n",
    "\n",
    "for i in tqdm(range(num_batches)):\n",
    "    start_idx = i * batch_size\n",
    "    end_idx = min((i + 1) * batch_size, len(flat_ds))\n",
    "    \n",
    "    # Generate embeddings for the current batch\n",
    "    batch_embeddings = flat_ds[start_idx:end_idx][\"text_block.text\"].progress_apply(\n",
    "        lambda text: generate_embeddings_for_text(text, model, tokenizer)\n",
    "    )\n",
    "    \n",
    "    all_embeddings.extend(batch_embeddings)\n",
    "\n",
    "# Create a DataFrame for all embeddings\n",
    "embeddings_df = pd.DataFrame({\n",
    "    \"document_id\": flat_ds[:num_batches*1000][\"document_id\"],\n",
    "    \"embeddings\": all_embeddings\n",
    "})\n",
    "\n",
    "# Save the DataFrame to a single CSV file\n",
    "embeddings_df.to_csv(\"data/embeddings.csv\", index=False)"
   ]
  },
  {
   "cell_type": "markdown",
   "id": "0356f563",
   "metadata": {},
   "source": [
    "Use DPR for question answering, using chunks[\"text_block.text\"] as context."
   ]
  }
 ],
 "metadata": {
  "kernelspec": {
   "display_name": "project-env",
   "language": "python",
   "name": "python3"
  },
  "language_info": {
   "codemirror_mode": {
    "name": "ipython",
    "version": 3
   },
   "file_extension": ".py",
   "mimetype": "text/x-python",
   "name": "python",
   "nbconvert_exporter": "python",
   "pygments_lexer": "ipython3",
   "version": "3.12.4"
  }
 },
 "nbformat": 4,
 "nbformat_minor": 5
}
