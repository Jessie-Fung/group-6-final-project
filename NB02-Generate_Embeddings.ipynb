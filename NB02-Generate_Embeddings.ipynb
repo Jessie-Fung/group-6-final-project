{
 "cells": [
  {
   "cell_type": "markdown",
   "id": "dd1fc2d4",
   "metadata": {},
   "source": [
    "# Generating Embeddings\n",
    "\n",
    "In this notebook we will generate embeddings using both the ClimateBERT model and Word2Vec using the following structure:\n",
    "\n",
    "1. Reading the data and documents from the database\n",
    "2. Download and store the embeddings models\n",
    "3. Create a new table for storing the embeddings and some original data we want. Generate embeddings using both models and store them into the database."
   ]
  },
  {
   "cell_type": "code",
   "execution_count": null,
   "id": "f71e567c",
   "metadata": {},
   "outputs": [],
   "source": [
    "# Necessary imports\n",
    "import os\n",
    "import regex as re\n",
    "from tqdm.notebook import tqdm\n",
    "from dotenv import load_dotenv\n",
    "import pandas as pd\n",
    "import numpy as np\n",
    "import pgai\n",
    "import torch\n",
    "import glob\n",
    "from datasets import load_dataset, Features, Value\n",
    "\n",
    "from transformers import AutoTokenizer, AutoModel, AutoModelForMaskedLM\n",
    "\n",
    "\n",
    "tqdm.pandas() #check if i should put it here\n",
    "\n",
    "from sqlalchemy import create_engine, text\n",
    "from sqlalchemy.orm import sessionmaker\n",
    "\n",
    "#connecting to the database\n",
    "load_dotenv() #loads the .env file into os.environ\n",
    "engine = create_engine(os.getenv(\"DB_URL\"))\n",
    "\n",
    "#create session\n",
    "Session = sessionmaker(bind=engine)\n",
    "session = Session()\n",
    "\n",
    "#word2vec model imports\n",
    "import psycopg2\n",
    "from gensim.models import KeyedVectors\n",
    "from gensim.downloader import load\n",
    "from gensim.utils import simple_preprocess\n",
    "from collections import Counter\n",
    "from gensim.models import Word2Vec\n",
    "\n",
    "\n",
    "#importing functions\n",
    "from functions import generate_embeddings_for_text, embed_and_store_all_embeddings, train_custom_word2vec_from_texts"
   ]
  },
  {
   "cell_type": "markdown",
   "id": "c802840d",
   "metadata": {},
   "source": [
    "## 1. Read the data from the database\n",
    "\n",
    "So it's easier to access the data in case the kernel crashes and had to re-run the codes again"
   ]
  },
  {
   "cell_type": "code",
   "execution_count": null,
   "id": "df9578b0",
   "metadata": {},
   "outputs": [
    {
     "data": {
      "text/html": [
       "<div>\n",
       "<style scoped>\n",
       "    .dataframe tbody tr th:only-of-type {\n",
       "        vertical-align: middle;\n",
       "    }\n",
       "\n",
       "    .dataframe tbody tr th {\n",
       "        vertical-align: top;\n",
       "    }\n",
       "\n",
       "    .dataframe thead th {\n",
       "        text-align: right;\n",
       "    }\n",
       "</style>\n",
       "<table border=\"1\" class=\"dataframe\">\n",
       "  <thead>\n",
       "    <tr style=\"text-align: right;\">\n",
       "      <th></th>\n",
       "      <th>document_id</th>\n",
       "      <th>document_metadata.collection_summary</th>\n",
       "      <th>document_metadata.collection_title</th>\n",
       "      <th>document_metadata.corpus_type_name</th>\n",
       "      <th>document_metadata.corpus_import_id</th>\n",
       "      <th>document_metadata.category</th>\n",
       "      <th>document_metadata.description</th>\n",
       "      <th>document_metadata.document_title</th>\n",
       "      <th>document_metadata.family_import_id</th>\n",
       "      <th>document_metadata.family_slug</th>\n",
       "      <th>...</th>\n",
       "      <th>pipeline_metadata.parser_metadata.azure_model_id</th>\n",
       "      <th>pipeline_metadata.parser_metadata.parsing_date</th>\n",
       "      <th>text_block.text_block_id</th>\n",
       "      <th>text_block.language</th>\n",
       "      <th>text_block.type</th>\n",
       "      <th>text_block.type_confidence</th>\n",
       "      <th>text_block.coords</th>\n",
       "      <th>text_block.page_number</th>\n",
       "      <th>text_block.text</th>\n",
       "      <th>text_block.index</th>\n",
       "    </tr>\n",
       "  </thead>\n",
       "  <tbody>\n",
       "    <tr>\n",
       "      <th>0</th>\n",
       "      <td>CCLW.document.i00000002.n0000</td>\n",
       "      <td>None</td>\n",
       "      <td>None</td>\n",
       "      <td>Laws and Policies</td>\n",
       "      <td>CCLW.corpus.i00000001.n0000</td>\n",
       "      <td>Executive</td>\n",
       "      <td>&lt;p&gt;&lt;span style=\"font-size: 10pt;font-family: A...</td>\n",
       "      <td>National Energy and Climate Plan 2019 Draft</td>\n",
       "      <td>CCLW.family.i00000001.n0000</td>\n",
       "      <td>national-energy-and-climate-plan_8a4f</td>\n",
       "      <td>...</td>\n",
       "      <td>prebuilt-document</td>\n",
       "      <td>2023-12-11T11:43:23.509480</td>\n",
       "      <td>0</td>\n",
       "      <td>en</td>\n",
       "      <td>title</td>\n",
       "      <td>1.0</td>\n",
       "      <td>{{70.452,123.7392},{524.1816,123.7392},{524.18...</td>\n",
       "      <td>0.0</td>\n",
       "      <td>Draft of the National Energy and Climate Plan ...</td>\n",
       "      <td>0</td>\n",
       "    </tr>\n",
       "    <tr>\n",
       "      <th>1</th>\n",
       "      <td>CCLW.document.i00000002.n0000</td>\n",
       "      <td>None</td>\n",
       "      <td>None</td>\n",
       "      <td>Laws and Policies</td>\n",
       "      <td>CCLW.corpus.i00000001.n0000</td>\n",
       "      <td>Executive</td>\n",
       "      <td>&lt;p&gt;&lt;span style=\"font-size: 10pt;font-family: A...</td>\n",
       "      <td>National Energy and Climate Plan 2019 Draft</td>\n",
       "      <td>CCLW.family.i00000001.n0000</td>\n",
       "      <td>national-energy-and-climate-plan_8a4f</td>\n",
       "      <td>...</td>\n",
       "      <td>prebuilt-document</td>\n",
       "      <td>2023-12-11T11:43:23.509480</td>\n",
       "      <td>1</td>\n",
       "      <td>en</td>\n",
       "      <td>Text</td>\n",
       "      <td>1.0</td>\n",
       "      <td>{{69.7176,208.4256},{124.21440000000001,208.79...</td>\n",
       "      <td>0.0</td>\n",
       "      <td>July 2021</td>\n",
       "      <td>1</td>\n",
       "    </tr>\n",
       "    <tr>\n",
       "      <th>2</th>\n",
       "      <td>CCLW.document.i00000002.n0000</td>\n",
       "      <td>None</td>\n",
       "      <td>None</td>\n",
       "      <td>Laws and Policies</td>\n",
       "      <td>CCLW.corpus.i00000001.n0000</td>\n",
       "      <td>Executive</td>\n",
       "      <td>&lt;p&gt;&lt;span style=\"font-size: 10pt;font-family: A...</td>\n",
       "      <td>National Energy and Climate Plan 2019 Draft</td>\n",
       "      <td>CCLW.family.i00000001.n0000</td>\n",
       "      <td>national-energy-and-climate-plan_8a4f</td>\n",
       "      <td>...</td>\n",
       "      <td>prebuilt-document</td>\n",
       "      <td>2023-12-11T11:43:23.509480</td>\n",
       "      <td>2</td>\n",
       "      <td>en</td>\n",
       "      <td>Text</td>\n",
       "      <td>1.0</td>\n",
       "      <td>{{217.1952,685.1376},{286.1856,685.1376},{286....</td>\n",
       "      <td>0.0</td>\n",
       "      <td>REPUBLIKA SHOIPERISE</td>\n",
       "      <td>2</td>\n",
       "    </tr>\n",
       "    <tr>\n",
       "      <th>3</th>\n",
       "      <td>CCLW.document.i00000002.n0000</td>\n",
       "      <td>None</td>\n",
       "      <td>None</td>\n",
       "      <td>Laws and Policies</td>\n",
       "      <td>CCLW.corpus.i00000001.n0000</td>\n",
       "      <td>Executive</td>\n",
       "      <td>&lt;p&gt;&lt;span style=\"font-size: 10pt;font-family: A...</td>\n",
       "      <td>National Energy and Climate Plan 2019 Draft</td>\n",
       "      <td>CCLW.family.i00000001.n0000</td>\n",
       "      <td>national-energy-and-climate-plan_8a4f</td>\n",
       "      <td>...</td>\n",
       "      <td>prebuilt-document</td>\n",
       "      <td>2023-12-11T11:43:23.509480</td>\n",
       "      <td>3</td>\n",
       "      <td>en</td>\n",
       "      <td>Text</td>\n",
       "      <td>1.0</td>\n",
       "      <td>{{195.2928,690.6096},{308.448,690.6096},{308.4...</td>\n",
       "      <td>0.0</td>\n",
       "      <td>MINISTRIA E TURIZMIT DHE MJEDISIT</td>\n",
       "      <td>3</td>\n",
       "    </tr>\n",
       "    <tr>\n",
       "      <th>4</th>\n",
       "      <td>CCLW.document.i00000002.n0000</td>\n",
       "      <td>None</td>\n",
       "      <td>None</td>\n",
       "      <td>Laws and Policies</td>\n",
       "      <td>CCLW.corpus.i00000001.n0000</td>\n",
       "      <td>Executive</td>\n",
       "      <td>&lt;p&gt;&lt;span style=\"font-size: 10pt;font-family: A...</td>\n",
       "      <td>National Energy and Climate Plan 2019 Draft</td>\n",
       "      <td>CCLW.family.i00000001.n0000</td>\n",
       "      <td>national-energy-and-climate-plan_8a4f</td>\n",
       "      <td>...</td>\n",
       "      <td>prebuilt-document</td>\n",
       "      <td>2023-12-11T11:43:23.509480</td>\n",
       "      <td>4</td>\n",
       "      <td>en</td>\n",
       "      <td>Text</td>\n",
       "      <td>1.0</td>\n",
       "      <td>{{76.9968,708.5015999999999},{182.88,708.1344}...</td>\n",
       "      <td>0.0</td>\n",
       "      <td>MINISTRIA E INFRASTRUKTURĒS DHE ENERGJISE</td>\n",
       "      <td>4</td>\n",
       "    </tr>\n",
       "  </tbody>\n",
       "</table>\n",
       "<p>5 rows × 47 columns</p>\n",
       "</div>"
      ],
      "text/plain": [
       "                     document_id document_metadata.collection_summary  \\\n",
       "0  CCLW.document.i00000002.n0000                                 None   \n",
       "1  CCLW.document.i00000002.n0000                                 None   \n",
       "2  CCLW.document.i00000002.n0000                                 None   \n",
       "3  CCLW.document.i00000002.n0000                                 None   \n",
       "4  CCLW.document.i00000002.n0000                                 None   \n",
       "\n",
       "  document_metadata.collection_title document_metadata.corpus_type_name  \\\n",
       "0                               None                  Laws and Policies   \n",
       "1                               None                  Laws and Policies   \n",
       "2                               None                  Laws and Policies   \n",
       "3                               None                  Laws and Policies   \n",
       "4                               None                  Laws and Policies   \n",
       "\n",
       "  document_metadata.corpus_import_id document_metadata.category  \\\n",
       "0        CCLW.corpus.i00000001.n0000                  Executive   \n",
       "1        CCLW.corpus.i00000001.n0000                  Executive   \n",
       "2        CCLW.corpus.i00000001.n0000                  Executive   \n",
       "3        CCLW.corpus.i00000001.n0000                  Executive   \n",
       "4        CCLW.corpus.i00000001.n0000                  Executive   \n",
       "\n",
       "                       document_metadata.description  \\\n",
       "0  <p><span style=\"font-size: 10pt;font-family: A...   \n",
       "1  <p><span style=\"font-size: 10pt;font-family: A...   \n",
       "2  <p><span style=\"font-size: 10pt;font-family: A...   \n",
       "3  <p><span style=\"font-size: 10pt;font-family: A...   \n",
       "4  <p><span style=\"font-size: 10pt;font-family: A...   \n",
       "\n",
       "               document_metadata.document_title  \\\n",
       "0  National Energy and Climate Plan 2019 Draft    \n",
       "1  National Energy and Climate Plan 2019 Draft    \n",
       "2  National Energy and Climate Plan 2019 Draft    \n",
       "3  National Energy and Climate Plan 2019 Draft    \n",
       "4  National Energy and Climate Plan 2019 Draft    \n",
       "\n",
       "  document_metadata.family_import_id          document_metadata.family_slug  \\\n",
       "0        CCLW.family.i00000001.n0000  national-energy-and-climate-plan_8a4f   \n",
       "1        CCLW.family.i00000001.n0000  national-energy-and-climate-plan_8a4f   \n",
       "2        CCLW.family.i00000001.n0000  national-energy-and-climate-plan_8a4f   \n",
       "3        CCLW.family.i00000001.n0000  national-energy-and-climate-plan_8a4f   \n",
       "4        CCLW.family.i00000001.n0000  national-energy-and-climate-plan_8a4f   \n",
       "\n",
       "   ... pipeline_metadata.parser_metadata.azure_model_id  \\\n",
       "0  ...                                prebuilt-document   \n",
       "1  ...                                prebuilt-document   \n",
       "2  ...                                prebuilt-document   \n",
       "3  ...                                prebuilt-document   \n",
       "4  ...                                prebuilt-document   \n",
       "\n",
       "  pipeline_metadata.parser_metadata.parsing_date text_block.text_block_id  \\\n",
       "0                     2023-12-11T11:43:23.509480                        0   \n",
       "1                     2023-12-11T11:43:23.509480                        1   \n",
       "2                     2023-12-11T11:43:23.509480                        2   \n",
       "3                     2023-12-11T11:43:23.509480                        3   \n",
       "4                     2023-12-11T11:43:23.509480                        4   \n",
       "\n",
       "  text_block.language text_block.type text_block.type_confidence  \\\n",
       "0                  en           title                        1.0   \n",
       "1                  en            Text                        1.0   \n",
       "2                  en            Text                        1.0   \n",
       "3                  en            Text                        1.0   \n",
       "4                  en            Text                        1.0   \n",
       "\n",
       "                                   text_block.coords text_block.page_number  \\\n",
       "0  {{70.452,123.7392},{524.1816,123.7392},{524.18...                    0.0   \n",
       "1  {{69.7176,208.4256},{124.21440000000001,208.79...                    0.0   \n",
       "2  {{217.1952,685.1376},{286.1856,685.1376},{286....                    0.0   \n",
       "3  {{195.2928,690.6096},{308.448,690.6096},{308.4...                    0.0   \n",
       "4  {{76.9968,708.5015999999999},{182.88,708.1344}...                    0.0   \n",
       "\n",
       "                                     text_block.text text_block.index  \n",
       "0  Draft of the National Energy and Climate Plan ...                0  \n",
       "1                                          July 2021                1  \n",
       "2                               REPUBLIKA SHOIPERISE                2  \n",
       "3                  MINISTRIA E TURIZMIT DHE MJEDISIT                3  \n",
       "4          MINISTRIA E INFRASTRUKTURĒS DHE ENERGJISE                4  \n",
       "\n",
       "[5 rows x 47 columns]"
      ]
     },
     "execution_count": 2,
     "metadata": {},
     "output_type": "execute_result"
    }
   ],
   "source": [
    "# Read the table\n",
    "df = pd.read_sql(\"SELECT * FROM climate_policy_radar\", engine)\n",
    "df.head()\n"
   ]
  },
  {
   "cell_type": "markdown",
   "id": "421c3320",
   "metadata": {},
   "source": [
    "## 2. Embeddings generation\n",
    "\n",
    "### 2.1 Download and load ClimateBERT\n",
    "\n",
    "The code below will download and load the ClimateBERT model."
   ]
  },
  {
   "cell_type": "code",
   "execution_count": null,
   "id": "9df15eab",
   "metadata": {},
   "outputs": [],
   "source": [
    "EMBEDDING_MODEL_LOCAL_DIR = os.getenv('EMBEDDING_MODEL_LOCAL_DIR')\n",
    "EMBEDDING_MODEL = os.getenv(\"EMBEDDING_MODEL\")"
   ]
  },
  {
   "cell_type": "code",
   "execution_count": null,
   "id": "c822ad13",
   "metadata": {},
   "outputs": [
    {
     "name": "stderr",
     "output_type": "stream",
     "text": [
      "/Users/arielliu/group-6-final-project/project-env/lib/python3.12/site-packages/transformers/models/auto/tokenization_auto.py:778: FutureWarning: The `use_auth_token` argument is deprecated and will be removed in v5 of Transformers. Please use `token` instead.\n",
      "  warnings.warn(\n",
      "/Users/arielliu/group-6-final-project/project-env/lib/python3.12/site-packages/transformers/models/auto/auto_factory.py:469: FutureWarning: The `use_auth_token` argument is deprecated and will be removed in v5 of Transformers. Please use `token` instead.\n",
      "  warnings.warn(\n"
     ]
    }
   ],
   "source": [
    "# Download\n",
    "tokenizer = AutoTokenizer.from_pretrained(EMBEDDING_MODEL, use_auth_token=False)\n",
    "model = AutoModelForMaskedLM.from_pretrained(EMBEDDING_MODEL, use_auth_token=False)\n",
    "\n",
    "# Save it to a  local_models folder\n",
    "tokenizer.save_pretrained(EMBEDDING_MODEL_LOCAL_DIR)\n",
    "model.save_pretrained(EMBEDDING_MODEL_LOCAL_DIR)"
   ]
  },
  {
   "cell_type": "code",
   "execution_count": null,
   "id": "7653dd76",
   "metadata": {},
   "outputs": [
    {
     "name": "stderr",
     "output_type": "stream",
     "text": [
      "Special tokens have been added in the vocabulary, make sure the associated word embeddings are fine-tuned or trained.\n",
      "Some weights of RobertaModel were not initialized from the model checkpoint at local_model/climatebert/distilroberta-base-climate-f and are newly initialized: ['roberta.pooler.dense.bias', 'roberta.pooler.dense.weight']\n",
      "You should probably TRAIN this model on a down-stream task to be able to use it for predictions and inference.\n"
     ]
    }
   ],
   "source": [
    "# Load the embedding model\n",
    "climatebert_tokenizer = AutoTokenizer.from_pretrained(EMBEDDING_MODEL_LOCAL_DIR)\n",
    "climatebert_model = AutoModel.from_pretrained(EMBEDDING_MODEL_LOCAL_DIR)"
   ]
  },
  {
   "cell_type": "markdown",
   "id": "6256326f",
   "metadata": {},
   "source": [
    "### 2.2 Download and load Word2Vec\n",
    "\n",
    "This Word2Vec model is untrained. We will check if training is necessary and use the trained model if needed."
   ]
  },
  {
   "cell_type": "code",
   "execution_count": null,
   "id": "9d5d2253",
   "metadata": {},
   "outputs": [
    {
     "name": "stdout",
     "output_type": "stream",
     "text": [
      "🔄 Loading pretrained Word2Vec model: word2vec-google-news-300\n",
      "✅ Model loaded!\n",
      "[('climate_change', 0.6569507122039795), ('Climate', 0.6230838298797607), ('climates', 0.6195024251937866), ('global_warming', 0.6047458648681641), ('environment', 0.6009922027587891), ('climatic', 0.5555011630058289), ('climatic_conditions', 0.5207005143165588), ('ambassador_Brice_Lalonde', 0.5172268152236938), ('Global_warming', 0.5048916339874268), ('Climate_Change', 0.4955976605415344)]\n"
     ]
    }
   ],
   "source": [
    "# Choose a pretrained Word2Vec model\n",
    "model_name = \"word2vec-google-news-300\"\n",
    "\n",
    "# Download and load the model\n",
    "print(f\"🔄 Loading pretrained Word2Vec model: {model_name}\")\n",
    "word2vec_model = load(model_name)\n",
    "print(\"✅ Model loaded!\")\n",
    "\n",
    "# Example: check similarity\n",
    "print(word2vec_model.most_similar(\"climate\"))\n"
   ]
  },
  {
   "cell_type": "markdown",
   "id": "5182e84d",
   "metadata": {},
   "source": [
    "Now check if the Word2Vec model is able to cover climate-specific words in the climate policy radar. If they cannot be covered we would have to train the Word2Vec model."
   ]
  },
  {
   "cell_type": "code",
   "execution_count": null,
   "id": "ce9741de",
   "metadata": {},
   "outputs": [
    {
     "name": "stdout",
     "output_type": "stream",
     "text": [
      "❌ Top OOV words not in Word2Vec:\n",
      "of: 3362\n",
      "and: 2566\n",
      "to: 1565\n",
      "albania: 310\n",
      "albanian: 159\n",
      "dcm: 144\n",
      "wem: 136\n",
      "necp: 79\n",
      "modelling: 72\n",
      "ktoe: 69\n",
      "implem: 57\n",
      "meur: 43\n",
      "tirana: 41\n",
      "ghgs: 33\n",
      "gwp: 33\n",
      "adriatic: 32\n",
      "montenegro: 28\n",
      "oshee: 23\n",
      "vlora: 23\n",
      "albgaz: 23\n",
      "pams: 18\n",
      "neeap: 17\n",
      "mva: 17\n",
      "lulucf: 17\n",
      "unfccc: 16\n",
      "aee: 15\n",
      "ionian: 15\n",
      "ippu: 15\n",
      "programme: 15\n",
      "smes: 14\n",
      "entso: 13\n",
      "instat: 13\n",
      "tpes: 13\n",
      "wbif: 13\n",
      "alkogap: 12\n",
      "gwh: 12\n",
      "elbasan: 12\n",
      "hfc: 12\n",
      "ktco: 11\n",
      "labelling: 10\n",
      "dumrea: 10\n",
      "hpp: 9\n",
      "iap: 9\n",
      "mmr: 9\n",
      "nzeb: 9\n",
      "balkans: 9\n",
      "escos: 9\n",
      "ebrd: 8\n",
      "kfw: 8\n",
      "mte: 8\n"
     ]
    }
   ],
   "source": [
    "query = \"\"\"\n",
    "SELECT \"text_block.text\"\n",
    "FROM climate_policy_radar\n",
    "WHERE \"text_block.text\" IS NOT NULL\n",
    "LIMIT 10000;\n",
    "\"\"\"\n",
    "\n",
    "df = pd.read_sql_query(query, engine)\n",
    "\n",
    "# 3. Tokenize and gather all unique words\n",
    "all_tokens = []\n",
    "for text in df['text_block.text']:\n",
    "    tokens = simple_preprocess(text)\n",
    "    all_tokens.extend(tokens)\n",
    "\n",
    "# 4. Compare to Word2Vec vocabulary\n",
    "vocab = set(word2vec_model.key_to_index)\n",
    "oov_words = [token for token in all_tokens if token not in vocab]\n",
    "\n",
    "# 5. Count top missing words\n",
    "oov_counter = Counter(oov_words)\n",
    "most_common_oov = oov_counter.most_common(50)\n",
    "\n",
    "# 6. Display\n",
    "print(\"❌ Top OOV words not in Word2Vec:\")\n",
    "for word, count in most_common_oov:\n",
    "    print(f\"{word}: {count}\")\n"
   ]
  },
  {
   "cell_type": "markdown",
   "id": "2e0dccfd",
   "metadata": {},
   "source": [
    "We can see there are some terms i.e. abbreviations and locations that are absent in word2vec. We'll train the model and also make sure the embeddings are in 768 dimension."
   ]
  },
  {
   "cell_type": "code",
   "execution_count": null,
   "id": "2b7987f9",
   "metadata": {},
   "outputs": [],
   "source": [
    "#use the function to train the model so the absent words can be added\n",
    "\n",
    "texts = df['text_block.text'].dropna().tolist()\n",
    "\n",
    "important_terms = [\n",
    "    \"albania\", \"albanian\", \"unfccc\", \"gwp\", \"ghgs\", \"necp\", \"modelling\", \"ktoe\", \n",
    "    \"tirana\", \"vlora\", \"adriatic\", \"ionian\", \"montenegro\", \"albgaz\", \"oshee\",\n",
    "    \"lulucf\", \"neeap\", \"wbif\", \"instat\", \"tpes\", \"gwh\", \"nzeb\", \"entso\", \"smes\"\n",
    "]\n",
    "\n",
    "model = train_custom_word2vec_from_texts(\n",
    "    texts=texts,\n",
    "    force_include_words=important_terms\n",
    ")\n"
   ]
  },
  {
   "cell_type": "code",
   "execution_count": null,
   "id": "e2c97d30",
   "metadata": {},
   "outputs": [
    {
     "name": "stdout",
     "output_type": "stream",
     "text": [
      "✅ 'albania' in vocab | Dim: 768\n",
      "✅ 'unfccc' in vocab | Dim: 768\n",
      "✅ 'gwp' in vocab | Dim: 768\n",
      "✅ 'oshee' in vocab | Dim: 768\n",
      "✅ 'tirana' in vocab | Dim: 768\n",
      "✅ 'ktoe' in vocab | Dim: 768\n",
      "✅ 'neeap' in vocab | Dim: 768\n",
      "✅ 'smes' in vocab | Dim: 768\n"
     ]
    }
   ],
   "source": [
    "# DOUBLE CHECK IF THE MODEL IS LOADED CORRECTLY\n",
    "# Load model if needed\n",
    "\n",
    "model = Word2Vec.load(\"./local_model/custom_word2vec_768.model\")\n",
    "\n",
    "\n",
    "# List of words you want to check\n",
    "words_to_check = [\n",
    "    \"albania\", \"unfccc\", \"gwp\", \"oshee\", \"tirana\", \"ktoe\", \"neeap\", \"smes\"\n",
    "]\n",
    "\n",
    "# Check dimensionality and coverage\n",
    "for word in words_to_check:\n",
    "    if word in model.wv:\n",
    "        vec = model.wv[word]\n",
    "        print(f\"✅ '{word}' in vocab | Dim: {len(vec)}\")\n",
    "    else:\n",
    "        print(f\"❌ '{word}' NOT in vocabulary\")"
   ]
  },
  {
   "cell_type": "markdown",
   "id": "479c8220",
   "metadata": {},
   "source": [
    "Check exisiting documents' country so when they are embedded and they are grouped together and uploaded to the table."
   ]
  },
  {
   "cell_type": "code",
   "execution_count": null,
   "id": "9864b64f",
   "metadata": {},
   "outputs": [
    {
     "name": "stdout",
     "output_type": "stream",
     "text": [
      "   document_metadata.geographies\n",
      "0                          {SRB}\n",
      "1                          {MKD}\n",
      "2                          {GBR}\n",
      "3                          {TUV}\n",
      "4                          {FRA}\n",
      "5                          {ALB}\n",
      "6                          {EUR}\n",
      "7                          {MNE}\n",
      "8                          {AZE}\n",
      "9                          {CAN}\n",
      "10                         {JPN}\n",
      "11                         {BRA}\n",
      "12                         {DEU}\n",
      "13                         {XKX}\n",
      "14                         {CHN}\n",
      "15                         {ZAF}\n",
      "16                         {BIH}\n",
      "17                         {IRL}\n"
     ]
    }
   ],
   "source": [
    "query = \"\"\"\n",
    "SELECT DISTINCT \"document_metadata.geographies\"\n",
    "FROM climate_policy_radar\n",
    "WHERE \"document_metadata.geographies\" IS NOT NULL;\n",
    "\"\"\"\n",
    "\n",
    "geos = pd.read_sql(query, engine)\n",
    "print(geos)\n"
   ]
  },
  {
   "cell_type": "markdown",
   "id": "014f8ea8",
   "metadata": {},
   "source": [
    "## 3. Embedding all documents for all countries\n",
    "\n",
    "Generate embeddings for all documents and upload them into the database.\n",
    "\n",
    "**IMPORTANT THING TO DO BEFORE RUNNING THE CODE BELOW:**\n",
    "\n",
    "A new table is needed, this will be created through the create_table.sql file. Steps to run it:\n",
    "\n",
    "1. Go to create_table.sql and run the query to create the table\n",
    "2. Remember to select the Postgres Server at the bottom, and highlight the code and right click to run query\n",
    "\n",
    "\n",
    "This will create a new table in the database. The file also includes a *\"DROP TABLE IF EXISTS document_embeddings;\"* line if the table does not appear. Try not to use it after the data are uploaded because it will drop all exisisting data. Use with cautious. After creating the table, then run the code below to generate embeddings and store them into the database. This will take around 2 hours to finish running.\n"
   ]
  },
  {
   "cell_type": "code",
   "execution_count": null,
   "id": "f9f7c58e",
   "metadata": {},
   "outputs": [
    {
     "name": "stderr",
     "output_type": "stream",
     "text": [
      "Special tokens have been added in the vocabulary, make sure the associated word embeddings are fine-tuned or trained.\n",
      "Some weights of RobertaModel were not initialized from the model checkpoint at local_model/climatebert/distilroberta-base-climate-f and are newly initialized: ['roberta.pooler.dense.bias', 'roberta.pooler.dense.weight']\n",
      "You should probably TRAIN this model on a down-stream task to be able to use it for predictions and inference.\n",
      "Filtering by country: 100%|██████████| 18/18 [00:01<00:00, 14.26it/s]\n",
      "Processing all countries:   0%|          | 0/18 [00:00<?, ?it/s]"
     ]
    },
    {
     "data": {
      "application/vnd.jupyter.widget-view+json": {
       "model_id": "bf837add91414728aa10376f78952adf",
       "version_major": 2,
       "version_minor": 0
      },
      "text/plain": [
       "  0%|          | 0/10000 [00:00<?, ?it/s]"
      ]
     },
     "metadata": {},
     "output_type": "display_data"
    },
    {
     "data": {
      "application/vnd.jupyter.widget-view+json": {
       "model_id": "913c033898904646903ef54bd80ed9ea",
       "version_major": 2,
       "version_minor": 0
      },
      "text/plain": [
       "  0%|          | 0/10000 [00:00<?, ?it/s]"
      ]
     },
     "metadata": {},
     "output_type": "display_data"
    },
    {
     "name": "stderr",
     "output_type": "stream",
     "text": []
    },
    {
     "data": {
      "application/vnd.jupyter.widget-view+json": {
       "model_id": "f6a1ec785ee14276adf394f87e073a9f",
       "version_major": 2,
       "version_minor": 0
      },
      "text/plain": [
       "  0%|          | 0/3797 [00:00<?, ?it/s]"
      ]
     },
     "metadata": {},
     "output_type": "display_data"
    },
    {
     "data": {
      "application/vnd.jupyter.widget-view+json": {
       "model_id": "6aa0fab6014e40508f43e7569c1e60dc",
       "version_major": 2,
       "version_minor": 0
      },
      "text/plain": [
       "  0%|          | 0/3797 [00:00<?, ?it/s]"
      ]
     },
     "metadata": {},
     "output_type": "display_data"
    },
    {
     "name": "stderr",
     "output_type": "stream",
     "text": [
      "Uploading ALB: 100%|██████████| 13797/13797 [01:26<00:00, 159.95it/s]\n",
      "Processing all countries:   6%|▌         | 1/18 [06:28<1:50:09, 388.79s/it]"
     ]
    },
    {
     "data": {
      "application/vnd.jupyter.widget-view+json": {
       "model_id": "46a9f952d3004b3599954e17692bfa58",
       "version_major": 2,
       "version_minor": 0
      },
      "text/plain": [
       "  0%|          | 0/10000 [00:00<?, ?it/s]"
      ]
     },
     "metadata": {},
     "output_type": "display_data"
    },
    {
     "data": {
      "application/vnd.jupyter.widget-view+json": {
       "model_id": "8f626717afe247deb93aca04d718eb3a",
       "version_major": 2,
       "version_minor": 0
      },
      "text/plain": [
       "  0%|          | 0/10000 [00:00<?, ?it/s]"
      ]
     },
     "metadata": {},
     "output_type": "display_data"
    },
    {
     "name": "stderr",
     "output_type": "stream",
     "text": []
    },
    {
     "data": {
      "application/vnd.jupyter.widget-view+json": {
       "model_id": "f10de40d477f402a847948df4534a2d0",
       "version_major": 2,
       "version_minor": 0
      },
      "text/plain": [
       "  0%|          | 0/6552 [00:00<?, ?it/s]"
      ]
     },
     "metadata": {},
     "output_type": "display_data"
    },
    {
     "data": {
      "application/vnd.jupyter.widget-view+json": {
       "model_id": "7082aad96af84ce2a1d32e5ebd2e4e74",
       "version_major": 2,
       "version_minor": 0
      },
      "text/plain": [
       "  0%|          | 0/6552 [00:00<?, ?it/s]"
      ]
     },
     "metadata": {},
     "output_type": "display_data"
    },
    {
     "name": "stderr",
     "output_type": "stream",
     "text": [
      "Uploading BIH: 100%|██████████| 16552/16552 [01:58<00:00, 139.73it/s]\n",
      "Processing all countries:  11%|█         | 2/18 [15:28<2:07:20, 477.56s/it]"
     ]
    },
    {
     "data": {
      "application/vnd.jupyter.widget-view+json": {
       "model_id": "4c5405051bfa45bb8ec0d4090a9759e0",
       "version_major": 2,
       "version_minor": 0
      },
      "text/plain": [
       "  0%|          | 0/10000 [00:00<?, ?it/s]"
      ]
     },
     "metadata": {},
     "output_type": "display_data"
    },
    {
     "data": {
      "application/vnd.jupyter.widget-view+json": {
       "model_id": "408ba40f718e49e9b09bcc0bc1d28a58",
       "version_major": 2,
       "version_minor": 0
      },
      "text/plain": [
       "  0%|          | 0/10000 [00:00<?, ?it/s]"
      ]
     },
     "metadata": {},
     "output_type": "display_data"
    },
    {
     "name": "stderr",
     "output_type": "stream",
     "text": []
    },
    {
     "data": {
      "application/vnd.jupyter.widget-view+json": {
       "model_id": "4151a40c3d7d4a07a98ff4d4c280146e",
       "version_major": 2,
       "version_minor": 0
      },
      "text/plain": [
       "  0%|          | 0/1132 [00:00<?, ?it/s]"
      ]
     },
     "metadata": {},
     "output_type": "display_data"
    },
    {
     "data": {
      "application/vnd.jupyter.widget-view+json": {
       "model_id": "ee3a34a05b7c4df7a715597f0851647e",
       "version_major": 2,
       "version_minor": 0
      },
      "text/plain": [
       "  0%|          | 0/1132 [00:00<?, ?it/s]"
      ]
     },
     "metadata": {},
     "output_type": "display_data"
    },
    {
     "name": "stderr",
     "output_type": "stream",
     "text": [
      "Uploading ZAF: 100%|██████████| 11132/11132 [01:15<00:00, 147.10it/s]\n",
      "Processing all countries:  17%|█▋        | 3/18 [21:01<1:42:51, 411.46s/it]"
     ]
    },
    {
     "data": {
      "application/vnd.jupyter.widget-view+json": {
       "model_id": "dae1a7ef147e4d8b8108d31b337313e5",
       "version_major": 2,
       "version_minor": 0
      },
      "text/plain": [
       "  0%|          | 0/351 [00:00<?, ?it/s]"
      ]
     },
     "metadata": {},
     "output_type": "display_data"
    },
    {
     "data": {
      "application/vnd.jupyter.widget-view+json": {
       "model_id": "2943146ac2004c88bbeba9cc399a296a",
       "version_major": 2,
       "version_minor": 0
      },
      "text/plain": [
       "  0%|          | 0/351 [00:00<?, ?it/s]"
      ]
     },
     "metadata": {},
     "output_type": "display_data"
    },
    {
     "name": "stderr",
     "output_type": "stream",
     "text": [
      "Uploading FRA: 100%|██████████| 351/351 [00:02<00:00, 144.93it/s]\n",
      "Processing all countries:  22%|██▏       | 4/18 [21:18<59:41, 255.85s/it]  "
     ]
    },
    {
     "data": {
      "application/vnd.jupyter.widget-view+json": {
       "model_id": "991d2bc56e5547daa1ce5604f5d0578e",
       "version_major": 2,
       "version_minor": 0
      },
      "text/plain": [
       "  0%|          | 0/3148 [00:00<?, ?it/s]"
      ]
     },
     "metadata": {},
     "output_type": "display_data"
    },
    {
     "data": {
      "application/vnd.jupyter.widget-view+json": {
       "model_id": "c3601fdea44745178c592a4386a86815",
       "version_major": 2,
       "version_minor": 0
      },
      "text/plain": [
       "  0%|          | 0/3148 [00:00<?, ?it/s]"
      ]
     },
     "metadata": {},
     "output_type": "display_data"
    },
    {
     "name": "stderr",
     "output_type": "stream",
     "text": [
      "Uploading MNE: 100%|██████████| 3148/3148 [00:21<00:00, 146.61it/s]\n",
      "Processing all countries:  28%|██▊       | 5/18 [23:27<45:30, 210.06s/it]"
     ]
    },
    {
     "data": {
      "application/vnd.jupyter.widget-view+json": {
       "model_id": "44a6baf9acba4111943e5b768fe6474f",
       "version_major": 2,
       "version_minor": 0
      },
      "text/plain": [
       "  0%|          | 0/5314 [00:00<?, ?it/s]"
      ]
     },
     "metadata": {},
     "output_type": "display_data"
    },
    {
     "data": {
      "application/vnd.jupyter.widget-view+json": {
       "model_id": "b77989e77e9e4ed1b0f577e19f285f8e",
       "version_major": 2,
       "version_minor": 0
      },
      "text/plain": [
       "  0%|          | 0/5314 [00:00<?, ?it/s]"
      ]
     },
     "metadata": {},
     "output_type": "display_data"
    },
    {
     "name": "stderr",
     "output_type": "stream",
     "text": [
      "Uploading XKX: 100%|██████████| 5314/5314 [00:36<00:00, 144.08it/s]\n",
      "Processing all countries:  33%|███▎      | 6/18 [26:16<39:11, 195.96s/it]"
     ]
    },
    {
     "data": {
      "application/vnd.jupyter.widget-view+json": {
       "model_id": "df72b9b1afc946de82cc7f9c7a7da6cb",
       "version_major": 2,
       "version_minor": 0
      },
      "text/plain": [
       "  0%|          | 0/10000 [00:00<?, ?it/s]"
      ]
     },
     "metadata": {},
     "output_type": "display_data"
    },
    {
     "data": {
      "application/vnd.jupyter.widget-view+json": {
       "model_id": "2ab5205f200d49c2bdbe8ce697bfd1e8",
       "version_major": 2,
       "version_minor": 0
      },
      "text/plain": [
       "  0%|          | 0/10000 [00:00<?, ?it/s]"
      ]
     },
     "metadata": {},
     "output_type": "display_data"
    },
    {
     "name": "stderr",
     "output_type": "stream",
     "text": []
    },
    {
     "data": {
      "application/vnd.jupyter.widget-view+json": {
       "model_id": "1b8411386c97434a9ccdef60f6f4b3cd",
       "version_major": 2,
       "version_minor": 0
      },
      "text/plain": [
       "  0%|          | 0/4144 [00:00<?, ?it/s]"
      ]
     },
     "metadata": {},
     "output_type": "display_data"
    },
    {
     "data": {
      "application/vnd.jupyter.widget-view+json": {
       "model_id": "4451bb9f346f4b36bc82f035eea2f6d9",
       "version_major": 2,
       "version_minor": 0
      },
      "text/plain": [
       "  0%|          | 0/4144 [00:00<?, ?it/s]"
      ]
     },
     "metadata": {},
     "output_type": "display_data"
    },
    {
     "name": "stderr",
     "output_type": "stream",
     "text": [
      "Uploading MKD: 100%|██████████| 14144/14144 [01:34<00:00, 150.30it/s]\n",
      "Processing all countries:  39%|███▉      | 7/18 [39:34<1:12:03, 393.05s/it]"
     ]
    },
    {
     "data": {
      "application/vnd.jupyter.widget-view+json": {
       "model_id": "4353890d987f4bb9ad73b1fa2cc59025",
       "version_major": 2,
       "version_minor": 0
      },
      "text/plain": [
       "  0%|          | 0/9974 [00:00<?, ?it/s]"
      ]
     },
     "metadata": {},
     "output_type": "display_data"
    },
    {
     "data": {
      "application/vnd.jupyter.widget-view+json": {
       "model_id": "ab220e920ff64987bcc53ef2ab44856a",
       "version_major": 2,
       "version_minor": 0
      },
      "text/plain": [
       "  0%|          | 0/9974 [00:00<?, ?it/s]"
      ]
     },
     "metadata": {},
     "output_type": "display_data"
    },
    {
     "name": "stderr",
     "output_type": "stream",
     "text": [
      "Uploading SRB: 100%|██████████| 9974/9974 [01:07<00:00, 147.30it/s]\n",
      "Processing all countries:  44%|████▍     | 8/18 [49:11<1:15:14, 451.41s/it]"
     ]
    },
    {
     "data": {
      "application/vnd.jupyter.widget-view+json": {
       "model_id": "f6ab722f9b4945618afea78a466d0df2",
       "version_major": 2,
       "version_minor": 0
      },
      "text/plain": [
       "  0%|          | 0/3840 [00:00<?, ?it/s]"
      ]
     },
     "metadata": {},
     "output_type": "display_data"
    },
    {
     "data": {
      "application/vnd.jupyter.widget-view+json": {
       "model_id": "51081d956e1d407db27f7afffa20e021",
       "version_major": 2,
       "version_minor": 0
      },
      "text/plain": [
       "  0%|          | 0/3840 [00:00<?, ?it/s]"
      ]
     },
     "metadata": {},
     "output_type": "display_data"
    },
    {
     "name": "stderr",
     "output_type": "stream",
     "text": [
      "Uploading EUR: 100%|██████████| 3840/3840 [00:29<00:00, 129.46it/s]\n",
      "Processing all countries:  50%|█████     | 9/18 [52:30<55:53, 372.57s/it]  "
     ]
    },
    {
     "data": {
      "application/vnd.jupyter.widget-view+json": {
       "model_id": "f81267930ba3407a9303f82b7aa51643",
       "version_major": 2,
       "version_minor": 0
      },
      "text/plain": [
       "  0%|          | 0/4896 [00:00<?, ?it/s]"
      ]
     },
     "metadata": {},
     "output_type": "display_data"
    },
    {
     "data": {
      "application/vnd.jupyter.widget-view+json": {
       "model_id": "f0ea1b0f65bb4e9bbf205237e2328cef",
       "version_major": 2,
       "version_minor": 0
      },
      "text/plain": [
       "  0%|          | 0/4896 [00:00<?, ?it/s]"
      ]
     },
     "metadata": {},
     "output_type": "display_data"
    },
    {
     "name": "stderr",
     "output_type": "stream",
     "text": [
      "Uploading TUV: 100%|██████████| 4896/4896 [00:33<00:00, 146.50it/s]\n",
      "Processing all countries:  56%|█████▌    | 10/18 [54:26<39:08, 293.51s/it]"
     ]
    },
    {
     "data": {
      "application/vnd.jupyter.widget-view+json": {
       "model_id": "3de3486dadea4c888c7faefd79fc5398",
       "version_major": 2,
       "version_minor": 0
      },
      "text/plain": [
       "  0%|          | 0/1065 [00:00<?, ?it/s]"
      ]
     },
     "metadata": {},
     "output_type": "display_data"
    },
    {
     "data": {
      "application/vnd.jupyter.widget-view+json": {
       "model_id": "03ad57324ac54acf8b822f3b35190795",
       "version_major": 2,
       "version_minor": 0
      },
      "text/plain": [
       "  0%|          | 0/1065 [00:00<?, ?it/s]"
      ]
     },
     "metadata": {},
     "output_type": "display_data"
    },
    {
     "name": "stderr",
     "output_type": "stream",
     "text": [
      "Uploading BRA: 100%|██████████| 1065/1065 [00:09<00:00, 113.51it/s]\n",
      "Processing all countries:  61%|██████    | 11/18 [55:17<25:33, 219.11s/it]"
     ]
    },
    {
     "data": {
      "application/vnd.jupyter.widget-view+json": {
       "model_id": "e8c29ed66ea04f26a793448370971f7c",
       "version_major": 2,
       "version_minor": 0
      },
      "text/plain": [
       "  0%|          | 0/89 [00:00<?, ?it/s]"
      ]
     },
     "metadata": {},
     "output_type": "display_data"
    },
    {
     "data": {
      "application/vnd.jupyter.widget-view+json": {
       "model_id": "d27cac0f469040fbb04ba342f29d027f",
       "version_major": 2,
       "version_minor": 0
      },
      "text/plain": [
       "  0%|          | 0/89 [00:00<?, ?it/s]"
      ]
     },
     "metadata": {},
     "output_type": "display_data"
    },
    {
     "name": "stderr",
     "output_type": "stream",
     "text": [
      "Uploading CAN: 100%|██████████| 89/89 [00:00<00:00, 123.06it/s]\n",
      "Processing all countries:  67%|██████▋   | 12/18 [55:22<15:23, 153.95s/it]"
     ]
    },
    {
     "data": {
      "application/vnd.jupyter.widget-view+json": {
       "model_id": "b0e09c07756c409eb553a6c71d1d298d",
       "version_major": 2,
       "version_minor": 0
      },
      "text/plain": [
       "  0%|          | 0/126 [00:00<?, ?it/s]"
      ]
     },
     "metadata": {},
     "output_type": "display_data"
    },
    {
     "data": {
      "application/vnd.jupyter.widget-view+json": {
       "model_id": "6553eded30524669a59fb6d1371de7db",
       "version_major": 2,
       "version_minor": 0
      },
      "text/plain": [
       "  0%|          | 0/126 [00:00<?, ?it/s]"
      ]
     },
     "metadata": {},
     "output_type": "display_data"
    },
    {
     "name": "stderr",
     "output_type": "stream",
     "text": [
      "Uploading DEU: 100%|██████████| 126/126 [00:01<00:00, 122.06it/s]\n",
      "Processing all countries:  72%|███████▏  | 13/18 [55:29<09:08, 109.60s/it]"
     ]
    },
    {
     "data": {
      "application/vnd.jupyter.widget-view+json": {
       "model_id": "83951e346791443cbaa9100c4330a726",
       "version_major": 2,
       "version_minor": 0
      },
      "text/plain": [
       "  0%|          | 0/644 [00:00<?, ?it/s]"
      ]
     },
     "metadata": {},
     "output_type": "display_data"
    },
    {
     "data": {
      "application/vnd.jupyter.widget-view+json": {
       "model_id": "3e3ba71036be425f8d002df2b3ba2f1d",
       "version_major": 2,
       "version_minor": 0
      },
      "text/plain": [
       "  0%|          | 0/644 [00:00<?, ?it/s]"
      ]
     },
     "metadata": {},
     "output_type": "display_data"
    },
    {
     "name": "stderr",
     "output_type": "stream",
     "text": [
      "Uploading CHN: 100%|██████████| 644/644 [00:04<00:00, 128.86it/s]\n",
      "Processing all countries:  78%|███████▊  | 14/18 [56:25<06:12, 93.17s/it] "
     ]
    },
    {
     "data": {
      "application/vnd.jupyter.widget-view+json": {
       "model_id": "4a42382c3b74420a95abaf311b5497a6",
       "version_major": 2,
       "version_minor": 0
      },
      "text/plain": [
       "  0%|          | 0/7206 [00:00<?, ?it/s]"
      ]
     },
     "metadata": {},
     "output_type": "display_data"
    },
    {
     "data": {
      "application/vnd.jupyter.widget-view+json": {
       "model_id": "40efc10d5166419da34c0ec3fdbb1118",
       "version_major": 2,
       "version_minor": 0
      },
      "text/plain": [
       "  0%|          | 0/7206 [00:00<?, ?it/s]"
      ]
     },
     "metadata": {},
     "output_type": "display_data"
    },
    {
     "name": "stderr",
     "output_type": "stream",
     "text": [
      "Uploading AZE: 100%|██████████| 7206/7206 [00:45<00:00, 156.73it/s]\n",
      "Processing all countries:  83%|████████▎ | 15/18 [1:00:25<06:52, 137.51s/it]"
     ]
    },
    {
     "data": {
      "application/vnd.jupyter.widget-view+json": {
       "model_id": "4adfc84b1c1a47f4a911fcc6cb5e0975",
       "version_major": 2,
       "version_minor": 0
      },
      "text/plain": [
       "  0%|          | 0/119 [00:00<?, ?it/s]"
      ]
     },
     "metadata": {},
     "output_type": "display_data"
    },
    {
     "data": {
      "application/vnd.jupyter.widget-view+json": {
       "model_id": "1a08a06af87b4d2780aa466ba908cf1e",
       "version_major": 2,
       "version_minor": 0
      },
      "text/plain": [
       "  0%|          | 0/119 [00:00<?, ?it/s]"
      ]
     },
     "metadata": {},
     "output_type": "display_data"
    },
    {
     "name": "stderr",
     "output_type": "stream",
     "text": [
      "Uploading JPN: 100%|██████████| 119/119 [00:00<00:00, 141.36it/s]\n",
      "Processing all countries:  89%|████████▉ | 16/18 [1:00:30<03:15, 97.63s/it] "
     ]
    },
    {
     "data": {
      "application/vnd.jupyter.widget-view+json": {
       "model_id": "4e390fbfcc3f4e6cadf3d8c8917944fd",
       "version_major": 2,
       "version_minor": 0
      },
      "text/plain": [
       "  0%|          | 0/3 [00:00<?, ?it/s]"
      ]
     },
     "metadata": {},
     "output_type": "display_data"
    },
    {
     "data": {
      "application/vnd.jupyter.widget-view+json": {
       "model_id": "9d35531257fc4506997bbf6782e76ad0",
       "version_major": 2,
       "version_minor": 0
      },
      "text/plain": [
       "  0%|          | 0/3 [00:00<?, ?it/s]"
      ]
     },
     "metadata": {},
     "output_type": "display_data"
    },
    {
     "name": "stderr",
     "output_type": "stream",
     "text": [
      "Uploading IRL: 100%|██████████| 3/3 [00:00<00:00, 85.28it/s]\n",
      "Processing all countries:  94%|█████████▍| 17/18 [1:00:30<01:08, 68.32s/it]"
     ]
    },
    {
     "data": {
      "application/vnd.jupyter.widget-view+json": {
       "model_id": "462dc1b4e3a741a78a9b5654827e71e4",
       "version_major": 2,
       "version_minor": 0
      },
      "text/plain": [
       "  0%|          | 0/249 [00:00<?, ?it/s]"
      ]
     },
     "metadata": {},
     "output_type": "display_data"
    },
    {
     "data": {
      "application/vnd.jupyter.widget-view+json": {
       "model_id": "40969ea179804e7284694adbf8c8bbe5",
       "version_major": 2,
       "version_minor": 0
      },
      "text/plain": [
       "  0%|          | 0/249 [00:00<?, ?it/s]"
      ]
     },
     "metadata": {},
     "output_type": "display_data"
    },
    {
     "name": "stderr",
     "output_type": "stream",
     "text": [
      "Uploading GBR: 100%|██████████| 249/249 [00:01<00:00, 135.92it/s]\n",
      "Processing all countries: 100%|██████████| 18/18 [1:00:37<00:00, 202.09s/it]\n"
     ]
    },
    {
     "name": "stdout",
     "output_type": "stream",
     "text": [
      "\n",
      "✅ All ClimateBERT and Word2Vec embeddings uploaded directly.\n"
     ]
    }
   ],
   "source": [
    "#Embedding and storing all embeddings in the database\n",
    "\n",
    "embed_and_store_all_embeddings(df, engine)\n"
   ]
  }
 ],
 "metadata": {
  "kernelspec": {
   "display_name": "project-env",
   "language": "python",
   "name": "python3"
  },
  "language_info": {
   "codemirror_mode": {
    "name": "ipython",
    "version": 3
   },
   "file_extension": ".py",
   "mimetype": "text/x-python",
   "name": "python",
   "nbconvert_exporter": "python",
   "pygments_lexer": "ipython3",
   "version": "3.12.4"
  }
 },
 "nbformat": 4,
 "nbformat_minor": 5
}
