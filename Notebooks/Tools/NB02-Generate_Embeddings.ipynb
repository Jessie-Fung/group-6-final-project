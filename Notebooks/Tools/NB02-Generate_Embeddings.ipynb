{
 "cells": [
  {
   "cell_type": "markdown",
   "id": "6a8a6d82",
   "metadata": {},
   "source": [
    "# Embeddings Generation\n",
    "\n",
    "**What:**  \n",
    "This sub-task focuses on generating vector embeddings for textual data using pretrained models — specifically ClimateBERT and Word2Vec.\n",
    "\n",
    "**Why:**  \n",
    "Embeddings transform raw text into numerical representations that capture semantic meanings, enabling effective downstream tasks such as information retrieval and similarity measurement. Generating accurate embeddings is crucial to improve the performance of these applications.\n",
    "\n",
    "**How:**  \n",
    "- We will first download and load the pretrained ClimateBERT and Word2Vec models as outlined in lectures on transformer architectures and word embedding techniques.  \n",
    "- Then, we will process the text data by applying these models to generate embeddings for each document or text chunk.  \n",
    "- Finally, the generated embeddings will be stored in a PostgreSQL database for efficient retrieval and use in subsequent analysis or model training.\n",
    "\n",
    "This approach leverages knowledge from lecture topics including transformer-based contextual embeddings, static word vectors, and database management systems.\n"
   ]
  },
  {
   "cell_type": "code",
   "execution_count": 1,
   "id": "f71e567c",
   "metadata": {},
   "outputs": [
    {
     "name": "stdout",
     "output_type": "stream",
     "text": [
      "Added /Users/jessiefung/Desktop/DS205/group-6-final-project to sys.path\n",
      "Loading .env from: /Users/jessiefung/Desktop/DS205/group-6-final-project/.env\n"
     ]
    }
   ],
   "source": [
    "# Necessary imports\n",
    "import os\n",
    "import regex as re\n",
    "from tqdm.notebook import tqdm\n",
    "from dotenv import load_dotenv\n",
    "import pandas as pd\n",
    "import numpy as np\n",
    "import pgai\n",
    "import torch\n",
    "import glob\n",
    "import sys\n",
    "from datasets import load_dataset, Features, Value\n",
    "\n",
    "from transformers import AutoTokenizer, AutoModel, AutoModelForMaskedLM\n",
    "\n",
    "tqdm.pandas() #check if i should put it here\n",
    "\n",
    "from sqlalchemy import create_engine, text\n",
    "from sqlalchemy.orm import sessionmaker\n",
    "\n",
    "#word2vec model imports\n",
    "import psycopg2\n",
    "from gensim.models import KeyedVectors\n",
    "from gensim.downloader import load\n",
    "from gensim.utils import simple_preprocess\n",
    "from collections import Counter\n",
    "from gensim.models import Word2Vec\n",
    "\n",
    "\n",
    "\n",
    "# Get the absolute path to the project root directory\n",
    "notebook_dir = os.path.dirname(os.path.abspath('__file__'))\n",
    "project_root = os.path.abspath(os.path.join(notebook_dir, '../..'))\n",
    "if project_root not in sys.path:\n",
    "    sys.path.insert(0, project_root)\n",
    "    print(f\"Added {project_root} to sys.path\")\n",
    "\n",
    "# Load environment variables first\n",
    "env_path = os.path.join(project_root, '.env')\n",
    "load_dotenv(dotenv_path=env_path)\n",
    "print(f\"Loading .env from: {env_path}\")\n",
    "\n",
    "# Now create the database connection engine\n",
    "engine = create_engine(os.getenv(\"DB_URL\"))\n",
    "\n",
    "#create session\n",
    "Session = sessionmaker(bind=engine)\n",
    "session = Session()\n",
    "\n",
    "# Importing project functions\n",
    "\n",
    "# Importing functions\n",
    "from functions import load_climatebert_model, embed_and_store_all_embeddings, train_custom_word2vec_from_texts, download_climatebert_model, download_word2vec_model"
   ]
  },
  {
   "cell_type": "markdown",
   "id": "c802840d",
   "metadata": {},
   "source": [
    "## 1. Read the data from the database\n",
    "\n",
    "So it's easier to access the data in case the kernel crashes and had to re-run the codes again"
   ]
  },
  {
   "cell_type": "code",
   "execution_count": 10,
   "id": "df9578b0",
   "metadata": {},
   "outputs": [
    {
     "data": {
      "text/html": [
       "<div>\n",
       "<style scoped>\n",
       "    .dataframe tbody tr th:only-of-type {\n",
       "        vertical-align: middle;\n",
       "    }\n",
       "\n",
       "    .dataframe tbody tr th {\n",
       "        vertical-align: top;\n",
       "    }\n",
       "\n",
       "    .dataframe thead th {\n",
       "        text-align: right;\n",
       "    }\n",
       "</style>\n",
       "<table border=\"1\" class=\"dataframe\">\n",
       "  <thead>\n",
       "    <tr style=\"text-align: right;\">\n",
       "      <th></th>\n",
       "      <th>document_id</th>\n",
       "      <th>document_metadata.collection_summary</th>\n",
       "      <th>document_metadata.collection_title</th>\n",
       "      <th>document_metadata.corpus_type_name</th>\n",
       "      <th>document_metadata.corpus_import_id</th>\n",
       "      <th>document_metadata.category</th>\n",
       "      <th>document_metadata.description</th>\n",
       "      <th>document_metadata.document_title</th>\n",
       "      <th>document_metadata.family_import_id</th>\n",
       "      <th>document_metadata.family_slug</th>\n",
       "      <th>...</th>\n",
       "      <th>pipeline_metadata.parser_metadata.azure_model_id</th>\n",
       "      <th>pipeline_metadata.parser_metadata.parsing_date</th>\n",
       "      <th>text_block.text_block_id</th>\n",
       "      <th>text_block.language</th>\n",
       "      <th>text_block.type</th>\n",
       "      <th>text_block.type_confidence</th>\n",
       "      <th>text_block.coords</th>\n",
       "      <th>text_block.page_number</th>\n",
       "      <th>text_block.text</th>\n",
       "      <th>text_block.index</th>\n",
       "    </tr>\n",
       "  </thead>\n",
       "  <tbody>\n",
       "    <tr>\n",
       "      <th>0</th>\n",
       "      <td>CCLW.document.i00000002.n0000</td>\n",
       "      <td>None</td>\n",
       "      <td>None</td>\n",
       "      <td>Laws and Policies</td>\n",
       "      <td>CCLW.corpus.i00000001.n0000</td>\n",
       "      <td>Executive</td>\n",
       "      <td>&lt;p&gt;&lt;span style=\"font-size: 10pt;font-family: A...</td>\n",
       "      <td>National Energy and Climate Plan 2019 Draft</td>\n",
       "      <td>CCLW.family.i00000001.n0000</td>\n",
       "      <td>national-energy-and-climate-plan_8a4f</td>\n",
       "      <td>...</td>\n",
       "      <td>prebuilt-document</td>\n",
       "      <td>2023-12-11T11:43:23.509480</td>\n",
       "      <td>0</td>\n",
       "      <td>en</td>\n",
       "      <td>title</td>\n",
       "      <td>1.0</td>\n",
       "      <td>{{70.452,123.7392},{524.1816,123.7392},{524.18...</td>\n",
       "      <td>0.0</td>\n",
       "      <td>Draft of the National Energy and Climate Plan ...</td>\n",
       "      <td>0</td>\n",
       "    </tr>\n",
       "    <tr>\n",
       "      <th>1</th>\n",
       "      <td>CCLW.document.i00000002.n0000</td>\n",
       "      <td>None</td>\n",
       "      <td>None</td>\n",
       "      <td>Laws and Policies</td>\n",
       "      <td>CCLW.corpus.i00000001.n0000</td>\n",
       "      <td>Executive</td>\n",
       "      <td>&lt;p&gt;&lt;span style=\"font-size: 10pt;font-family: A...</td>\n",
       "      <td>National Energy and Climate Plan 2019 Draft</td>\n",
       "      <td>CCLW.family.i00000001.n0000</td>\n",
       "      <td>national-energy-and-climate-plan_8a4f</td>\n",
       "      <td>...</td>\n",
       "      <td>prebuilt-document</td>\n",
       "      <td>2023-12-11T11:43:23.509480</td>\n",
       "      <td>1</td>\n",
       "      <td>en</td>\n",
       "      <td>Text</td>\n",
       "      <td>1.0</td>\n",
       "      <td>{{69.7176,208.4256},{124.21440000000001,208.79...</td>\n",
       "      <td>0.0</td>\n",
       "      <td>July 2021</td>\n",
       "      <td>1</td>\n",
       "    </tr>\n",
       "    <tr>\n",
       "      <th>2</th>\n",
       "      <td>CCLW.document.i00000002.n0000</td>\n",
       "      <td>None</td>\n",
       "      <td>None</td>\n",
       "      <td>Laws and Policies</td>\n",
       "      <td>CCLW.corpus.i00000001.n0000</td>\n",
       "      <td>Executive</td>\n",
       "      <td>&lt;p&gt;&lt;span style=\"font-size: 10pt;font-family: A...</td>\n",
       "      <td>National Energy and Climate Plan 2019 Draft</td>\n",
       "      <td>CCLW.family.i00000001.n0000</td>\n",
       "      <td>national-energy-and-climate-plan_8a4f</td>\n",
       "      <td>...</td>\n",
       "      <td>prebuilt-document</td>\n",
       "      <td>2023-12-11T11:43:23.509480</td>\n",
       "      <td>2</td>\n",
       "      <td>en</td>\n",
       "      <td>Text</td>\n",
       "      <td>1.0</td>\n",
       "      <td>{{217.1952,685.1376},{286.1856,685.1376},{286....</td>\n",
       "      <td>0.0</td>\n",
       "      <td>REPUBLIKA SHOIPERISE</td>\n",
       "      <td>2</td>\n",
       "    </tr>\n",
       "    <tr>\n",
       "      <th>3</th>\n",
       "      <td>CCLW.document.i00000002.n0000</td>\n",
       "      <td>None</td>\n",
       "      <td>None</td>\n",
       "      <td>Laws and Policies</td>\n",
       "      <td>CCLW.corpus.i00000001.n0000</td>\n",
       "      <td>Executive</td>\n",
       "      <td>&lt;p&gt;&lt;span style=\"font-size: 10pt;font-family: A...</td>\n",
       "      <td>National Energy and Climate Plan 2019 Draft</td>\n",
       "      <td>CCLW.family.i00000001.n0000</td>\n",
       "      <td>national-energy-and-climate-plan_8a4f</td>\n",
       "      <td>...</td>\n",
       "      <td>prebuilt-document</td>\n",
       "      <td>2023-12-11T11:43:23.509480</td>\n",
       "      <td>3</td>\n",
       "      <td>en</td>\n",
       "      <td>Text</td>\n",
       "      <td>1.0</td>\n",
       "      <td>{{195.2928,690.6096},{308.448,690.6096},{308.4...</td>\n",
       "      <td>0.0</td>\n",
       "      <td>MINISTRIA E TURIZMIT DHE MJEDISIT</td>\n",
       "      <td>3</td>\n",
       "    </tr>\n",
       "    <tr>\n",
       "      <th>4</th>\n",
       "      <td>CCLW.document.i00000002.n0000</td>\n",
       "      <td>None</td>\n",
       "      <td>None</td>\n",
       "      <td>Laws and Policies</td>\n",
       "      <td>CCLW.corpus.i00000001.n0000</td>\n",
       "      <td>Executive</td>\n",
       "      <td>&lt;p&gt;&lt;span style=\"font-size: 10pt;font-family: A...</td>\n",
       "      <td>National Energy and Climate Plan 2019 Draft</td>\n",
       "      <td>CCLW.family.i00000001.n0000</td>\n",
       "      <td>national-energy-and-climate-plan_8a4f</td>\n",
       "      <td>...</td>\n",
       "      <td>prebuilt-document</td>\n",
       "      <td>2023-12-11T11:43:23.509480</td>\n",
       "      <td>4</td>\n",
       "      <td>en</td>\n",
       "      <td>Text</td>\n",
       "      <td>1.0</td>\n",
       "      <td>{{76.9968,708.5015999999999},{182.88,708.1344}...</td>\n",
       "      <td>0.0</td>\n",
       "      <td>MINISTRIA E INFRASTRUKTURĒS DHE ENERGJISE</td>\n",
       "      <td>4</td>\n",
       "    </tr>\n",
       "  </tbody>\n",
       "</table>\n",
       "<p>5 rows × 47 columns</p>\n",
       "</div>"
      ],
      "text/plain": [
       "                     document_id document_metadata.collection_summary  \\\n",
       "0  CCLW.document.i00000002.n0000                                 None   \n",
       "1  CCLW.document.i00000002.n0000                                 None   \n",
       "2  CCLW.document.i00000002.n0000                                 None   \n",
       "3  CCLW.document.i00000002.n0000                                 None   \n",
       "4  CCLW.document.i00000002.n0000                                 None   \n",
       "\n",
       "  document_metadata.collection_title document_metadata.corpus_type_name  \\\n",
       "0                               None                  Laws and Policies   \n",
       "1                               None                  Laws and Policies   \n",
       "2                               None                  Laws and Policies   \n",
       "3                               None                  Laws and Policies   \n",
       "4                               None                  Laws and Policies   \n",
       "\n",
       "  document_metadata.corpus_import_id document_metadata.category  \\\n",
       "0        CCLW.corpus.i00000001.n0000                  Executive   \n",
       "1        CCLW.corpus.i00000001.n0000                  Executive   \n",
       "2        CCLW.corpus.i00000001.n0000                  Executive   \n",
       "3        CCLW.corpus.i00000001.n0000                  Executive   \n",
       "4        CCLW.corpus.i00000001.n0000                  Executive   \n",
       "\n",
       "                       document_metadata.description  \\\n",
       "0  <p><span style=\"font-size: 10pt;font-family: A...   \n",
       "1  <p><span style=\"font-size: 10pt;font-family: A...   \n",
       "2  <p><span style=\"font-size: 10pt;font-family: A...   \n",
       "3  <p><span style=\"font-size: 10pt;font-family: A...   \n",
       "4  <p><span style=\"font-size: 10pt;font-family: A...   \n",
       "\n",
       "               document_metadata.document_title  \\\n",
       "0  National Energy and Climate Plan 2019 Draft    \n",
       "1  National Energy and Climate Plan 2019 Draft    \n",
       "2  National Energy and Climate Plan 2019 Draft    \n",
       "3  National Energy and Climate Plan 2019 Draft    \n",
       "4  National Energy and Climate Plan 2019 Draft    \n",
       "\n",
       "  document_metadata.family_import_id          document_metadata.family_slug  \\\n",
       "0        CCLW.family.i00000001.n0000  national-energy-and-climate-plan_8a4f   \n",
       "1        CCLW.family.i00000001.n0000  national-energy-and-climate-plan_8a4f   \n",
       "2        CCLW.family.i00000001.n0000  national-energy-and-climate-plan_8a4f   \n",
       "3        CCLW.family.i00000001.n0000  national-energy-and-climate-plan_8a4f   \n",
       "4        CCLW.family.i00000001.n0000  national-energy-and-climate-plan_8a4f   \n",
       "\n",
       "   ... pipeline_metadata.parser_metadata.azure_model_id  \\\n",
       "0  ...                                prebuilt-document   \n",
       "1  ...                                prebuilt-document   \n",
       "2  ...                                prebuilt-document   \n",
       "3  ...                                prebuilt-document   \n",
       "4  ...                                prebuilt-document   \n",
       "\n",
       "  pipeline_metadata.parser_metadata.parsing_date text_block.text_block_id  \\\n",
       "0                     2023-12-11T11:43:23.509480                        0   \n",
       "1                     2023-12-11T11:43:23.509480                        1   \n",
       "2                     2023-12-11T11:43:23.509480                        2   \n",
       "3                     2023-12-11T11:43:23.509480                        3   \n",
       "4                     2023-12-11T11:43:23.509480                        4   \n",
       "\n",
       "  text_block.language text_block.type text_block.type_confidence  \\\n",
       "0                  en           title                        1.0   \n",
       "1                  en            Text                        1.0   \n",
       "2                  en            Text                        1.0   \n",
       "3                  en            Text                        1.0   \n",
       "4                  en            Text                        1.0   \n",
       "\n",
       "                                   text_block.coords text_block.page_number  \\\n",
       "0  {{70.452,123.7392},{524.1816,123.7392},{524.18...                    0.0   \n",
       "1  {{69.7176,208.4256},{124.21440000000001,208.79...                    0.0   \n",
       "2  {{217.1952,685.1376},{286.1856,685.1376},{286....                    0.0   \n",
       "3  {{195.2928,690.6096},{308.448,690.6096},{308.4...                    0.0   \n",
       "4  {{76.9968,708.5015999999999},{182.88,708.1344}...                    0.0   \n",
       "\n",
       "                                     text_block.text text_block.index  \n",
       "0  Draft of the National Energy and Climate Plan ...                0  \n",
       "1                                          July 2021                1  \n",
       "2                               REPUBLIKA SHOIPERISE                2  \n",
       "3                  MINISTRIA E TURIZMIT DHE MJEDISIT                3  \n",
       "4          MINISTRIA E INFRASTRUKTURĒS DHE ENERGJISE                4  \n",
       "\n",
       "[5 rows x 47 columns]"
      ]
     },
     "execution_count": 10,
     "metadata": {},
     "output_type": "execute_result"
    }
   ],
   "source": [
    "# Read the table\n",
    "df = pd.read_sql_query('SELECT * FROM climate_policy_radar WHERE \"document_metadata.geographies\" ~ \\'ALB\\'', engine)\n",
    "df.head()"
   ]
  },
  {
   "cell_type": "markdown",
   "id": "421c3320",
   "metadata": {},
   "source": [
    "## 2. Embeddings generation\n",
    "\n",
    "### 2.1 Download and load **ClimateBERT**\n",
    "\n",
    "The code below will download and load the ClimateBERT model."
   ]
  },
  {
   "cell_type": "code",
   "execution_count": 12,
   "id": "cced8676",
   "metadata": {},
   "outputs": [
    {
     "name": "stderr",
     "output_type": "stream",
     "text": [
      "/Users/jessiefung/Desktop/DS205/group-6-final-project/.venv/lib/python3.12/site-packages/transformers/models/auto/tokenization_auto.py:898: FutureWarning: The `use_auth_token` argument is deprecated and will be removed in v5 of Transformers. Please use `token` instead.\n",
      "  warnings.warn(\n",
      "/Users/jessiefung/Desktop/DS205/group-6-final-project/.venv/lib/python3.12/site-packages/transformers/models/auto/auto_factory.py:476: FutureWarning: The `use_auth_token` argument is deprecated and will be removed in v5 of Transformers. Please use `token` instead.\n",
      "  warnings.warn(\n",
      "/Users/jessiefung/Desktop/DS205/group-6-final-project/.venv/lib/python3.12/site-packages/transformers/models/auto/auto_factory.py:476: FutureWarning: The `use_auth_token` argument is deprecated and will be removed in v5 of Transformers. Please use `token` instead.\n",
      "  warnings.warn(\n",
      "Some weights of RobertaModel were not initialized from the model checkpoint at climatebert/distilroberta-base-climate-f and are newly initialized: ['pooler.dense.bias', 'pooler.dense.weight']\n",
      "You should probably TRAIN this model on a down-stream task to be able to use it for predictions and inference.\n",
      "Some weights of RobertaModel were not initialized from the model checkpoint at climatebert/distilroberta-base-climate-f and are newly initialized: ['pooler.dense.bias', 'pooler.dense.weight']\n",
      "You should probably TRAIN this model on a down-stream task to be able to use it for predictions and inference.\n"
     ]
    },
    {
     "name": "stdout",
     "output_type": "stream",
     "text": [
      "ClimateBERT model and tokenizer downloaded and saved to /Users/jessiefung/Desktop/DS205/group-6-final-project/local_model/climatebert/distilroberta-base-climate-f\n"
     ]
    }
   ],
   "source": [
    "# Download and the ClimateBERT model\n",
    "download_climatebert_model()\n",
    "\n",
    "#Loading the ClimateBERT model and tokenizer\n",
    "tokenizer, model = load_climatebert_model()"
   ]
  },
  {
   "cell_type": "markdown",
   "id": "6256326f",
   "metadata": {},
   "source": [
    "### 2.2 Download and load **Word2Vec**\n",
    "\n",
    "This Word2Vec model is untrained. We will check if training is necessary and use the trained model if needed."
   ]
  },
  {
   "cell_type": "code",
   "execution_count": null,
   "id": "da1fbffb",
   "metadata": {},
   "outputs": [
    {
     "name": "stdout",
     "output_type": "stream",
     "text": [
      "🔄 Loading pretrained Word2Vec model: word2vec-google-news-300\n",
      "✅ Model loaded!\n"
     ]
    }
   ],
   "source": [
    "#Download and load the pretrained Word2Vec model\n",
    "word2vec_model = download_word2vec_model()"
   ]
  },
  {
   "cell_type": "markdown",
   "id": "5182e84d",
   "metadata": {},
   "source": [
    "Now check if the pre-trained Word2Vec model is able to cover climate-specific words in the climate policy radar. If they cannot be covered we would have to train the Word2Vec model."
   ]
  },
  {
   "cell_type": "code",
   "execution_count": 7,
   "id": "ce9741de",
   "metadata": {},
   "outputs": [
    {
     "name": "stdout",
     "output_type": "stream",
     "text": [
      "❌ Top OOV words not in Word2Vec:\n",
      "of: 3358\n",
      "and: 2563\n",
      "to: 1564\n",
      "albania: 310\n",
      "albanian: 159\n",
      "dcm: 144\n",
      "wem: 136\n",
      "necp: 79\n",
      "modelling: 72\n",
      "ktoe: 69\n",
      "implem: 57\n",
      "meur: 43\n",
      "tirana: 41\n",
      "ghgs: 33\n",
      "gwp: 33\n",
      "adriatic: 32\n",
      "montenegro: 28\n",
      "oshee: 23\n",
      "vlora: 23\n",
      "albgaz: 23\n",
      "pams: 18\n",
      "neeap: 17\n",
      "mva: 17\n",
      "lulucf: 17\n",
      "unfccc: 16\n",
      "aee: 15\n",
      "ionian: 15\n",
      "ippu: 15\n",
      "programme: 15\n",
      "smes: 14\n",
      "entso: 13\n",
      "instat: 13\n",
      "tpes: 13\n",
      "wbif: 13\n",
      "alkogap: 12\n",
      "gwh: 12\n",
      "elbasan: 12\n",
      "hfc: 12\n",
      "ktco: 11\n",
      "labelling: 10\n",
      "dumrea: 10\n",
      "hpp: 9\n",
      "iap: 9\n",
      "mmr: 9\n",
      "nzeb: 9\n",
      "balkans: 9\n",
      "escos: 9\n",
      "ebrd: 8\n",
      "kfw: 8\n",
      "mte: 8\n"
     ]
    }
   ],
   "source": [
    "query = \"\"\"\n",
    "SELECT \"text_block.text\"\n",
    "FROM climate_policy_radar\n",
    "WHERE \"text_block.text\" IS NOT NULL\n",
    "LIMIT 10000;\n",
    "\"\"\"\n",
    "\n",
    "df = pd.read_sql_query(query, engine)\n",
    "\n",
    "# 3. Tokenize and gather all unique words\n",
    "all_tokens = []\n",
    "for text in df['text_block.text']:\n",
    "    tokens = simple_preprocess(text)\n",
    "    all_tokens.extend(tokens)\n",
    "\n",
    "# 4. Compare to Word2Vec vocabulary\n",
    "vocab = set(word2vec_model.key_to_index)\n",
    "oov_words = [token for token in all_tokens if token not in vocab]\n",
    "\n",
    "# 5. Count top missing words\n",
    "oov_counter = Counter(oov_words)\n",
    "most_common_oov = oov_counter.most_common(50)\n",
    "\n",
    "# 6. Display\n",
    "print(\"❌ Top OOV words not in Word2Vec:\")\n",
    "for word, count in most_common_oov:\n",
    "    print(f\"{word}: {count}\")\n"
   ]
  },
  {
   "cell_type": "markdown",
   "id": "2e0dccfd",
   "metadata": {},
   "source": [
    "We can see there are some terms i.e. abbreviations and locations that are absent in word2vec. We'll train the model and also make sure the embeddings are in 768 dimension."
   ]
  },
  {
   "cell_type": "code",
   "execution_count": 8,
   "id": "2b7987f9",
   "metadata": {},
   "outputs": [],
   "source": [
    "#use the function to train the model so the absent words can be added\n",
    "\n",
    "texts = df['text_block.text'].dropna().tolist()\n",
    "\n",
    "important_terms = [\n",
    "    \"albania\", \"albanian\", \"unfccc\", \"gwp\", \"ghgs\", \"necp\", \"modelling\", \"ktoe\", \n",
    "    \"tirana\", \"vlora\", \"adriatic\", \"ionian\", \"montenegro\", \"albgaz\", \"oshee\",\n",
    "    \"lulucf\", \"neeap\", \"wbif\", \"instat\", \"tpes\", \"gwh\", \"nzeb\", \"entso\", \"smes\"\n",
    "]\n",
    "\n",
    "model = train_custom_word2vec_from_texts(\n",
    "    texts=texts,\n",
    "    force_include_words=important_terms\n",
    ")\n"
   ]
  },
  {
   "cell_type": "code",
   "execution_count": 4,
   "id": "e2c97d30",
   "metadata": {},
   "outputs": [
    {
     "name": "stdout",
     "output_type": "stream",
     "text": [
      "✅ 'albania' in vocab | Dim: 768\n",
      "✅ 'unfccc' in vocab | Dim: 768\n",
      "✅ 'gwp' in vocab | Dim: 768\n",
      "✅ 'oshee' in vocab | Dim: 768\n",
      "✅ 'tirana' in vocab | Dim: 768\n",
      "✅ 'ktoe' in vocab | Dim: 768\n",
      "✅ 'neeap' in vocab | Dim: 768\n",
      "✅ 'smes' in vocab | Dim: 768\n"
     ]
    }
   ],
   "source": [
    "# DOUBLE CHECK IF THE MODEL IS LOADED CORRECTLY\n",
    "# Load model if needed\n",
    "\n",
    "model = Word2Vec.load(\"./local_model/custom_word2vec_768.model\")\n",
    "\n",
    "\n",
    "# List of words you want to check\n",
    "words_to_check = [\n",
    "    \"albania\", \"unfccc\", \"gwp\", \"oshee\", \"tirana\", \"ktoe\", \"neeap\", \"smes\"\n",
    "]\n",
    "\n",
    "# Check dimensionality and coverage\n",
    "for word in words_to_check:\n",
    "    if word in model.wv:\n",
    "        vec = model.wv[word]\n",
    "        print(f\"✅ '{word}' in vocab | Dim: {len(vec)}\")\n",
    "    else:\n",
    "        print(f\"❌ '{word}' NOT in vocabulary\")"
   ]
  },
  {
   "cell_type": "markdown",
   "id": "014f8ea8",
   "metadata": {},
   "source": [
    "## 3. Embedding all documents for all countries\n",
    "\n",
    "Generate embeddings for all documents and upload them into the database.\n",
    "\n",
    "**IMPORTANT THING TO DO BEFORE RUNNING THE CODE BELOW:**\n",
    "\n",
    "A new table is needed, this will be created through the create_table.sql file. Steps to run it:\n",
    "\n",
    "1. Go to create_table.sql and run the query to create the table\n",
    "2. Remember to select the Postgres Server at the bottom, and highlight the code and right click to run query\n",
    "\n",
    "\n",
    "This will create a new table in the database. The file also includes a *\"DROP TABLE IF EXISTS document_embeddings;\"* line if the table does not appear. Try not to use it after the data are uploaded because it will drop all exisisting data. Use with cautious. After creating the table, then run the code below to generate embeddings and store them into the database. This will take around 2 hours to finish running.\n"
   ]
  },
  {
   "cell_type": "code",
   "execution_count": 5,
   "id": "f9f7c58e",
   "metadata": {},
   "outputs": [
    {
     "name": "stderr",
     "output_type": "stream",
     "text": [
      "Special tokens have been added in the vocabulary, make sure the associated word embeddings are fine-tuned or trained.\n"
     ]
    },
    {
     "data": {
      "application/vnd.jupyter.widget-view+json": {
       "model_id": "f8a06ac8c62f4e99a493ad90f8b31ced",
       "version_major": 2,
       "version_minor": 0
      },
      "text/plain": [
       "Filtering by country:   0%|          | 0/18 [00:00<?, ?it/s]"
      ]
     },
     "metadata": {},
     "output_type": "display_data"
    },
    {
     "data": {
      "application/vnd.jupyter.widget-view+json": {
       "model_id": "e078337576844ef88853ad62f3526f6d",
       "version_major": 2,
       "version_minor": 0
      },
      "text/plain": [
       "Processing all countries:   0%|          | 0/18 [00:00<?, ?it/s]"
      ]
     },
     "metadata": {},
     "output_type": "display_data"
    },
    {
     "data": {
      "application/vnd.jupyter.widget-view+json": {
       "model_id": "95cf3d087e4545c7bd01077812a058f2",
       "version_major": 2,
       "version_minor": 0
      },
      "text/plain": [
       "Embedding ALB:   0%|          | 0/2 [00:00<?, ?it/s]"
      ]
     },
     "metadata": {},
     "output_type": "display_data"
    },
    {
     "data": {
      "application/vnd.jupyter.widget-view+json": {
       "model_id": "8730a6ce76e74bcca8b02a345225ab5e",
       "version_major": 2,
       "version_minor": 0
      },
      "text/plain": [
       "  0%|          | 0/10000 [00:00<?, ?it/s]"
      ]
     },
     "metadata": {},
     "output_type": "display_data"
    },
    {
     "ename": "KeyboardInterrupt",
     "evalue": "",
     "output_type": "error",
     "traceback": [
      "\u001b[31m---------------------------------------------------------------------------\u001b[39m",
      "\u001b[31mKeyboardInterrupt\u001b[39m                         Traceback (most recent call last)",
      "\u001b[36mCell\u001b[39m\u001b[36m \u001b[39m\u001b[32mIn[5]\u001b[39m\u001b[32m, line 3\u001b[39m\n\u001b[32m      1\u001b[39m \u001b[38;5;66;03m#Embedding and storing all embeddings in the database\u001b[39;00m\n\u001b[32m----> \u001b[39m\u001b[32m3\u001b[39m \u001b[43membed_and_store_all_embeddings\u001b[49m\u001b[43m(\u001b[49m\u001b[43mdf\u001b[49m\u001b[43m,\u001b[49m\u001b[43m \u001b[49m\u001b[43mengine\u001b[49m\u001b[43m)\u001b[49m\n",
      "\u001b[36mFile \u001b[39m\u001b[32m~/group-6-final-project/functions.py:237\u001b[39m, in \u001b[36membed_and_store_all_embeddings\u001b[39m\u001b[34m(df, engine)\u001b[39m\n\u001b[32m    234\u001b[39m batch_urls = batch_urls[mask]\n\u001b[32m    235\u001b[39m batch_titles = batch_titles[mask]\n\u001b[32m--> \u001b[39m\u001b[32m237\u001b[39m batch_climatebert_embeddings = \u001b[43mbatch_texts\u001b[49m\u001b[43m.\u001b[49m\u001b[43mprogress_apply\u001b[49m\u001b[43m(\u001b[49m\n\u001b[32m    238\u001b[39m \u001b[43m    \u001b[49m\u001b[38;5;28;43;01mlambda\u001b[39;49;00m\u001b[43m \u001b[49m\u001b[43mtext\u001b[49m\u001b[43m:\u001b[49m\u001b[43m \u001b[49m\u001b[43mgenerate_embeddings_for_text\u001b[49m\u001b[43m(\u001b[49m\u001b[43mtext\u001b[49m\u001b[43m,\u001b[49m\u001b[43m \u001b[49m\u001b[43mclimatebert_model\u001b[49m\u001b[43m,\u001b[49m\u001b[43m \u001b[49m\u001b[43mtokenizer\u001b[49m\u001b[43m)\u001b[49m\n\u001b[32m    239\u001b[39m \u001b[43m\u001b[49m\u001b[43m)\u001b[49m\n\u001b[32m    240\u001b[39m batch_word2vec_embeddings = batch_texts.progress_apply(\n\u001b[32m    241\u001b[39m     \u001b[38;5;28;01mlambda\u001b[39;00m text: generate_word2vec_embedding_for_text(text, word2vec_model)\n\u001b[32m    242\u001b[39m )\n\u001b[32m    244\u001b[39m all_doc_ids.extend(batch_ids)\n",
      "\u001b[36mFile \u001b[39m\u001b[32m~/group-6-final-project/project-env/lib/python3.12/site-packages/tqdm/std.py:917\u001b[39m, in \u001b[36mtqdm.pandas.<locals>.inner_generator.<locals>.inner\u001b[39m\u001b[34m(df, func, *args, **kwargs)\u001b[39m\n\u001b[32m    914\u001b[39m \u001b[38;5;66;03m# Apply the provided function (in **kwargs)\u001b[39;00m\n\u001b[32m    915\u001b[39m \u001b[38;5;66;03m# on the df using our wrapper (which provides bar updating)\u001b[39;00m\n\u001b[32m    916\u001b[39m \u001b[38;5;28;01mtry\u001b[39;00m:\n\u001b[32m--> \u001b[39m\u001b[32m917\u001b[39m     \u001b[38;5;28;01mreturn\u001b[39;00m \u001b[38;5;28;43mgetattr\u001b[39;49m\u001b[43m(\u001b[49m\u001b[43mdf\u001b[49m\u001b[43m,\u001b[49m\u001b[43m \u001b[49m\u001b[43mdf_function\u001b[49m\u001b[43m)\u001b[49m\u001b[43m(\u001b[49m\u001b[43mwrapper\u001b[49m\u001b[43m,\u001b[49m\u001b[43m \u001b[49m\u001b[43m*\u001b[49m\u001b[43m*\u001b[49m\u001b[43mkwargs\u001b[49m\u001b[43m)\u001b[49m\n\u001b[32m    918\u001b[39m \u001b[38;5;28;01mfinally\u001b[39;00m:\n\u001b[32m    919\u001b[39m     t.close()\n",
      "\u001b[36mFile \u001b[39m\u001b[32m~/group-6-final-project/project-env/lib/python3.12/site-packages/pandas/core/series.py:4924\u001b[39m, in \u001b[36mSeries.apply\u001b[39m\u001b[34m(self, func, convert_dtype, args, by_row, **kwargs)\u001b[39m\n\u001b[32m   4789\u001b[39m \u001b[38;5;28;01mdef\u001b[39;00m\u001b[38;5;250m \u001b[39m\u001b[34mapply\u001b[39m(\n\u001b[32m   4790\u001b[39m     \u001b[38;5;28mself\u001b[39m,\n\u001b[32m   4791\u001b[39m     func: AggFuncType,\n\u001b[32m   (...)\u001b[39m\u001b[32m   4796\u001b[39m     **kwargs,\n\u001b[32m   4797\u001b[39m ) -> DataFrame | Series:\n\u001b[32m   4798\u001b[39m \u001b[38;5;250m    \u001b[39m\u001b[33;03m\"\"\"\u001b[39;00m\n\u001b[32m   4799\u001b[39m \u001b[33;03m    Invoke function on values of Series.\u001b[39;00m\n\u001b[32m   4800\u001b[39m \n\u001b[32m   (...)\u001b[39m\u001b[32m   4915\u001b[39m \u001b[33;03m    dtype: float64\u001b[39;00m\n\u001b[32m   4916\u001b[39m \u001b[33;03m    \"\"\"\u001b[39;00m\n\u001b[32m   4917\u001b[39m     \u001b[38;5;28;01mreturn\u001b[39;00m \u001b[43mSeriesApply\u001b[49m\u001b[43m(\u001b[49m\n\u001b[32m   4918\u001b[39m \u001b[43m        \u001b[49m\u001b[38;5;28;43mself\u001b[39;49m\u001b[43m,\u001b[49m\n\u001b[32m   4919\u001b[39m \u001b[43m        \u001b[49m\u001b[43mfunc\u001b[49m\u001b[43m,\u001b[49m\n\u001b[32m   4920\u001b[39m \u001b[43m        \u001b[49m\u001b[43mconvert_dtype\u001b[49m\u001b[43m=\u001b[49m\u001b[43mconvert_dtype\u001b[49m\u001b[43m,\u001b[49m\n\u001b[32m   4921\u001b[39m \u001b[43m        \u001b[49m\u001b[43mby_row\u001b[49m\u001b[43m=\u001b[49m\u001b[43mby_row\u001b[49m\u001b[43m,\u001b[49m\n\u001b[32m   4922\u001b[39m \u001b[43m        \u001b[49m\u001b[43margs\u001b[49m\u001b[43m=\u001b[49m\u001b[43margs\u001b[49m\u001b[43m,\u001b[49m\n\u001b[32m   4923\u001b[39m \u001b[43m        \u001b[49m\u001b[43mkwargs\u001b[49m\u001b[43m=\u001b[49m\u001b[43mkwargs\u001b[49m\u001b[43m,\u001b[49m\n\u001b[32m-> \u001b[39m\u001b[32m4924\u001b[39m \u001b[43m    \u001b[49m\u001b[43m)\u001b[49m\u001b[43m.\u001b[49m\u001b[43mapply\u001b[49m\u001b[43m(\u001b[49m\u001b[43m)\u001b[49m\n",
      "\u001b[36mFile \u001b[39m\u001b[32m~/group-6-final-project/project-env/lib/python3.12/site-packages/pandas/core/apply.py:1427\u001b[39m, in \u001b[36mSeriesApply.apply\u001b[39m\u001b[34m(self)\u001b[39m\n\u001b[32m   1424\u001b[39m     \u001b[38;5;28;01mreturn\u001b[39;00m \u001b[38;5;28mself\u001b[39m.apply_compat()\n\u001b[32m   1426\u001b[39m \u001b[38;5;66;03m# self.func is Callable\u001b[39;00m\n\u001b[32m-> \u001b[39m\u001b[32m1427\u001b[39m \u001b[38;5;28;01mreturn\u001b[39;00m \u001b[38;5;28;43mself\u001b[39;49m\u001b[43m.\u001b[49m\u001b[43mapply_standard\u001b[49m\u001b[43m(\u001b[49m\u001b[43m)\u001b[49m\n",
      "\u001b[36mFile \u001b[39m\u001b[32m~/group-6-final-project/project-env/lib/python3.12/site-packages/pandas/core/apply.py:1507\u001b[39m, in \u001b[36mSeriesApply.apply_standard\u001b[39m\u001b[34m(self)\u001b[39m\n\u001b[32m   1501\u001b[39m \u001b[38;5;66;03m# row-wise access\u001b[39;00m\n\u001b[32m   1502\u001b[39m \u001b[38;5;66;03m# apply doesn't have a `na_action` keyword and for backward compat reasons\u001b[39;00m\n\u001b[32m   1503\u001b[39m \u001b[38;5;66;03m# we need to give `na_action=\"ignore\"` for categorical data.\u001b[39;00m\n\u001b[32m   1504\u001b[39m \u001b[38;5;66;03m# TODO: remove the `na_action=\"ignore\"` when that default has been changed in\u001b[39;00m\n\u001b[32m   1505\u001b[39m \u001b[38;5;66;03m#  Categorical (GH51645).\u001b[39;00m\n\u001b[32m   1506\u001b[39m action = \u001b[33m\"\u001b[39m\u001b[33mignore\u001b[39m\u001b[33m\"\u001b[39m \u001b[38;5;28;01mif\u001b[39;00m \u001b[38;5;28misinstance\u001b[39m(obj.dtype, CategoricalDtype) \u001b[38;5;28;01melse\u001b[39;00m \u001b[38;5;28;01mNone\u001b[39;00m\n\u001b[32m-> \u001b[39m\u001b[32m1507\u001b[39m mapped = \u001b[43mobj\u001b[49m\u001b[43m.\u001b[49m\u001b[43m_map_values\u001b[49m\u001b[43m(\u001b[49m\n\u001b[32m   1508\u001b[39m \u001b[43m    \u001b[49m\u001b[43mmapper\u001b[49m\u001b[43m=\u001b[49m\u001b[43mcurried\u001b[49m\u001b[43m,\u001b[49m\u001b[43m \u001b[49m\u001b[43mna_action\u001b[49m\u001b[43m=\u001b[49m\u001b[43maction\u001b[49m\u001b[43m,\u001b[49m\u001b[43m \u001b[49m\u001b[43mconvert\u001b[49m\u001b[43m=\u001b[49m\u001b[38;5;28;43mself\u001b[39;49m\u001b[43m.\u001b[49m\u001b[43mconvert_dtype\u001b[49m\n\u001b[32m   1509\u001b[39m \u001b[43m\u001b[49m\u001b[43m)\u001b[49m\n\u001b[32m   1511\u001b[39m \u001b[38;5;28;01mif\u001b[39;00m \u001b[38;5;28mlen\u001b[39m(mapped) \u001b[38;5;129;01mand\u001b[39;00m \u001b[38;5;28misinstance\u001b[39m(mapped[\u001b[32m0\u001b[39m], ABCSeries):\n\u001b[32m   1512\u001b[39m     \u001b[38;5;66;03m# GH#43986 Need to do list(mapped) in order to get treated as nested\u001b[39;00m\n\u001b[32m   1513\u001b[39m     \u001b[38;5;66;03m#  See also GH#25959 regarding EA support\u001b[39;00m\n\u001b[32m   1514\u001b[39m     \u001b[38;5;28;01mreturn\u001b[39;00m obj._constructor_expanddim(\u001b[38;5;28mlist\u001b[39m(mapped), index=obj.index)\n",
      "\u001b[36mFile \u001b[39m\u001b[32m~/group-6-final-project/project-env/lib/python3.12/site-packages/pandas/core/base.py:921\u001b[39m, in \u001b[36mIndexOpsMixin._map_values\u001b[39m\u001b[34m(self, mapper, na_action, convert)\u001b[39m\n\u001b[32m    918\u001b[39m \u001b[38;5;28;01mif\u001b[39;00m \u001b[38;5;28misinstance\u001b[39m(arr, ExtensionArray):\n\u001b[32m    919\u001b[39m     \u001b[38;5;28;01mreturn\u001b[39;00m arr.map(mapper, na_action=na_action)\n\u001b[32m--> \u001b[39m\u001b[32m921\u001b[39m \u001b[38;5;28;01mreturn\u001b[39;00m \u001b[43malgorithms\u001b[49m\u001b[43m.\u001b[49m\u001b[43mmap_array\u001b[49m\u001b[43m(\u001b[49m\u001b[43marr\u001b[49m\u001b[43m,\u001b[49m\u001b[43m \u001b[49m\u001b[43mmapper\u001b[49m\u001b[43m,\u001b[49m\u001b[43m \u001b[49m\u001b[43mna_action\u001b[49m\u001b[43m=\u001b[49m\u001b[43mna_action\u001b[49m\u001b[43m,\u001b[49m\u001b[43m \u001b[49m\u001b[43mconvert\u001b[49m\u001b[43m=\u001b[49m\u001b[43mconvert\u001b[49m\u001b[43m)\u001b[49m\n",
      "\u001b[36mFile \u001b[39m\u001b[32m~/group-6-final-project/project-env/lib/python3.12/site-packages/pandas/core/algorithms.py:1743\u001b[39m, in \u001b[36mmap_array\u001b[39m\u001b[34m(arr, mapper, na_action, convert)\u001b[39m\n\u001b[32m   1741\u001b[39m values = arr.astype(\u001b[38;5;28mobject\u001b[39m, copy=\u001b[38;5;28;01mFalse\u001b[39;00m)\n\u001b[32m   1742\u001b[39m \u001b[38;5;28;01mif\u001b[39;00m na_action \u001b[38;5;129;01mis\u001b[39;00m \u001b[38;5;28;01mNone\u001b[39;00m:\n\u001b[32m-> \u001b[39m\u001b[32m1743\u001b[39m     \u001b[38;5;28;01mreturn\u001b[39;00m \u001b[43mlib\u001b[49m\u001b[43m.\u001b[49m\u001b[43mmap_infer\u001b[49m\u001b[43m(\u001b[49m\u001b[43mvalues\u001b[49m\u001b[43m,\u001b[49m\u001b[43m \u001b[49m\u001b[43mmapper\u001b[49m\u001b[43m,\u001b[49m\u001b[43m \u001b[49m\u001b[43mconvert\u001b[49m\u001b[43m=\u001b[49m\u001b[43mconvert\u001b[49m\u001b[43m)\u001b[49m\n\u001b[32m   1744\u001b[39m \u001b[38;5;28;01melse\u001b[39;00m:\n\u001b[32m   1745\u001b[39m     \u001b[38;5;28;01mreturn\u001b[39;00m lib.map_infer_mask(\n\u001b[32m   1746\u001b[39m         values, mapper, mask=isna(values).view(np.uint8), convert=convert\n\u001b[32m   1747\u001b[39m     )\n",
      "\u001b[36mFile \u001b[39m\u001b[32mlib.pyx:2972\u001b[39m, in \u001b[36mpandas._libs.lib.map_infer\u001b[39m\u001b[34m()\u001b[39m\n",
      "\u001b[36mFile \u001b[39m\u001b[32m~/group-6-final-project/project-env/lib/python3.12/site-packages/tqdm/std.py:912\u001b[39m, in \u001b[36mtqdm.pandas.<locals>.inner_generator.<locals>.inner.<locals>.wrapper\u001b[39m\u001b[34m(*args, **kwargs)\u001b[39m\n\u001b[32m    906\u001b[39m \u001b[38;5;28;01mdef\u001b[39;00m\u001b[38;5;250m \u001b[39m\u001b[34mwrapper\u001b[39m(*args, **kwargs):\n\u001b[32m    907\u001b[39m     \u001b[38;5;66;03m# update tbar correctly\u001b[39;00m\n\u001b[32m    908\u001b[39m     \u001b[38;5;66;03m# it seems `pandas apply` calls `func` twice\u001b[39;00m\n\u001b[32m    909\u001b[39m     \u001b[38;5;66;03m# on the first column/row to decide whether it can\u001b[39;00m\n\u001b[32m    910\u001b[39m     \u001b[38;5;66;03m# take a fast or slow code path; so stop when t.total==t.n\u001b[39;00m\n\u001b[32m    911\u001b[39m     t.update(n=\u001b[32m1\u001b[39m \u001b[38;5;28;01mif\u001b[39;00m \u001b[38;5;129;01mnot\u001b[39;00m t.total \u001b[38;5;129;01mor\u001b[39;00m t.n < t.total \u001b[38;5;28;01melse\u001b[39;00m \u001b[32m0\u001b[39m)\n\u001b[32m--> \u001b[39m\u001b[32m912\u001b[39m     \u001b[38;5;28;01mreturn\u001b[39;00m \u001b[43mfunc\u001b[49m\u001b[43m(\u001b[49m\u001b[43m*\u001b[49m\u001b[43margs\u001b[49m\u001b[43m,\u001b[49m\u001b[43m \u001b[49m\u001b[43m*\u001b[49m\u001b[43m*\u001b[49m\u001b[43mkwargs\u001b[49m\u001b[43m)\u001b[49m\n",
      "\u001b[36mFile \u001b[39m\u001b[32m~/group-6-final-project/functions.py:238\u001b[39m, in \u001b[36membed_and_store_all_embeddings.<locals>.<lambda>\u001b[39m\u001b[34m(text)\u001b[39m\n\u001b[32m    234\u001b[39m batch_urls = batch_urls[mask]\n\u001b[32m    235\u001b[39m batch_titles = batch_titles[mask]\n\u001b[32m    237\u001b[39m batch_climatebert_embeddings = batch_texts.progress_apply(\n\u001b[32m--> \u001b[39m\u001b[32m238\u001b[39m     \u001b[38;5;28;01mlambda\u001b[39;00m text: \u001b[43mgenerate_embeddings_for_text\u001b[49m\u001b[43m(\u001b[49m\u001b[43mtext\u001b[49m\u001b[43m,\u001b[49m\u001b[43m \u001b[49m\u001b[43mclimatebert_model\u001b[49m\u001b[43m,\u001b[49m\u001b[43m \u001b[49m\u001b[43mtokenizer\u001b[49m\u001b[43m)\u001b[49m\n\u001b[32m    239\u001b[39m )\n\u001b[32m    240\u001b[39m batch_word2vec_embeddings = batch_texts.progress_apply(\n\u001b[32m    241\u001b[39m     \u001b[38;5;28;01mlambda\u001b[39;00m text: generate_word2vec_embedding_for_text(text, word2vec_model)\n\u001b[32m    242\u001b[39m )\n\u001b[32m    244\u001b[39m all_doc_ids.extend(batch_ids)\n",
      "\u001b[36mFile \u001b[39m\u001b[32m~/group-6-final-project/functions.py:49\u001b[39m, in \u001b[36mgenerate_embeddings_for_text\u001b[39m\u001b[34m(texts, model, tokenizer)\u001b[39m\n\u001b[32m     47\u001b[39m \u001b[38;5;66;03m# Get model output (without gradient calculation for efficiency)\u001b[39;00m\n\u001b[32m     48\u001b[39m \u001b[38;5;28;01mwith\u001b[39;00m torch.no_grad():\n\u001b[32m---> \u001b[39m\u001b[32m49\u001b[39m     model_output = \u001b[43mmodel\u001b[49m\u001b[43m(\u001b[49m\u001b[43m*\u001b[49m\u001b[43m*\u001b[49m\u001b[43mencoded_input\u001b[49m\u001b[43m)\u001b[49m\n\u001b[32m     51\u001b[39m \u001b[38;5;66;03m# Use the CLS token embedding as the sentence embedding\u001b[39;00m\n\u001b[32m     52\u001b[39m \u001b[38;5;66;03m# This is a simple approach - in practice, you might use more sophisticated pooling\u001b[39;00m\n\u001b[32m     53\u001b[39m sentence_embeddings = model_output.last_hidden_state[:, \u001b[32m0\u001b[39m, :]\n",
      "\u001b[36mFile \u001b[39m\u001b[32m~/group-6-final-project/project-env/lib/python3.12/site-packages/torch/nn/modules/module.py:1511\u001b[39m, in \u001b[36mModule._wrapped_call_impl\u001b[39m\u001b[34m(self, *args, **kwargs)\u001b[39m\n\u001b[32m   1509\u001b[39m     \u001b[38;5;28;01mreturn\u001b[39;00m \u001b[38;5;28mself\u001b[39m._compiled_call_impl(*args, **kwargs)  \u001b[38;5;66;03m# type: ignore[misc]\u001b[39;00m\n\u001b[32m   1510\u001b[39m \u001b[38;5;28;01melse\u001b[39;00m:\n\u001b[32m-> \u001b[39m\u001b[32m1511\u001b[39m     \u001b[38;5;28;01mreturn\u001b[39;00m \u001b[38;5;28;43mself\u001b[39;49m\u001b[43m.\u001b[49m\u001b[43m_call_impl\u001b[49m\u001b[43m(\u001b[49m\u001b[43m*\u001b[49m\u001b[43margs\u001b[49m\u001b[43m,\u001b[49m\u001b[43m \u001b[49m\u001b[43m*\u001b[49m\u001b[43m*\u001b[49m\u001b[43mkwargs\u001b[49m\u001b[43m)\u001b[49m\n",
      "\u001b[36mFile \u001b[39m\u001b[32m~/group-6-final-project/project-env/lib/python3.12/site-packages/torch/nn/modules/module.py:1520\u001b[39m, in \u001b[36mModule._call_impl\u001b[39m\u001b[34m(self, *args, **kwargs)\u001b[39m\n\u001b[32m   1515\u001b[39m \u001b[38;5;66;03m# If we don't have any hooks, we want to skip the rest of the logic in\u001b[39;00m\n\u001b[32m   1516\u001b[39m \u001b[38;5;66;03m# this function, and just call forward.\u001b[39;00m\n\u001b[32m   1517\u001b[39m \u001b[38;5;28;01mif\u001b[39;00m \u001b[38;5;129;01mnot\u001b[39;00m (\u001b[38;5;28mself\u001b[39m._backward_hooks \u001b[38;5;129;01mor\u001b[39;00m \u001b[38;5;28mself\u001b[39m._backward_pre_hooks \u001b[38;5;129;01mor\u001b[39;00m \u001b[38;5;28mself\u001b[39m._forward_hooks \u001b[38;5;129;01mor\u001b[39;00m \u001b[38;5;28mself\u001b[39m._forward_pre_hooks\n\u001b[32m   1518\u001b[39m         \u001b[38;5;129;01mor\u001b[39;00m _global_backward_pre_hooks \u001b[38;5;129;01mor\u001b[39;00m _global_backward_hooks\n\u001b[32m   1519\u001b[39m         \u001b[38;5;129;01mor\u001b[39;00m _global_forward_hooks \u001b[38;5;129;01mor\u001b[39;00m _global_forward_pre_hooks):\n\u001b[32m-> \u001b[39m\u001b[32m1520\u001b[39m     \u001b[38;5;28;01mreturn\u001b[39;00m \u001b[43mforward_call\u001b[49m\u001b[43m(\u001b[49m\u001b[43m*\u001b[49m\u001b[43margs\u001b[49m\u001b[43m,\u001b[49m\u001b[43m \u001b[49m\u001b[43m*\u001b[49m\u001b[43m*\u001b[49m\u001b[43mkwargs\u001b[49m\u001b[43m)\u001b[49m\n\u001b[32m   1522\u001b[39m \u001b[38;5;28;01mtry\u001b[39;00m:\n\u001b[32m   1523\u001b[39m     result = \u001b[38;5;28;01mNone\u001b[39;00m\n",
      "\u001b[36mFile \u001b[39m\u001b[32m~/group-6-final-project/project-env/lib/python3.12/site-packages/transformers/models/roberta/modeling_roberta.py:832\u001b[39m, in \u001b[36mRobertaModel.forward\u001b[39m\u001b[34m(self, input_ids, attention_mask, token_type_ids, position_ids, head_mask, inputs_embeds, encoder_hidden_states, encoder_attention_mask, past_key_values, use_cache, output_attentions, output_hidden_states, return_dict)\u001b[39m\n\u001b[32m    823\u001b[39m head_mask = \u001b[38;5;28mself\u001b[39m.get_head_mask(head_mask, \u001b[38;5;28mself\u001b[39m.config.num_hidden_layers)\n\u001b[32m    825\u001b[39m embedding_output = \u001b[38;5;28mself\u001b[39m.embeddings(\n\u001b[32m    826\u001b[39m     input_ids=input_ids,\n\u001b[32m    827\u001b[39m     position_ids=position_ids,\n\u001b[32m   (...)\u001b[39m\u001b[32m    830\u001b[39m     past_key_values_length=past_key_values_length,\n\u001b[32m    831\u001b[39m )\n\u001b[32m--> \u001b[39m\u001b[32m832\u001b[39m encoder_outputs = \u001b[38;5;28;43mself\u001b[39;49m\u001b[43m.\u001b[49m\u001b[43mencoder\u001b[49m\u001b[43m(\u001b[49m\n\u001b[32m    833\u001b[39m \u001b[43m    \u001b[49m\u001b[43membedding_output\u001b[49m\u001b[43m,\u001b[49m\n\u001b[32m    834\u001b[39m \u001b[43m    \u001b[49m\u001b[43mattention_mask\u001b[49m\u001b[43m=\u001b[49m\u001b[43mextended_attention_mask\u001b[49m\u001b[43m,\u001b[49m\n\u001b[32m    835\u001b[39m \u001b[43m    \u001b[49m\u001b[43mhead_mask\u001b[49m\u001b[43m=\u001b[49m\u001b[43mhead_mask\u001b[49m\u001b[43m,\u001b[49m\n\u001b[32m    836\u001b[39m \u001b[43m    \u001b[49m\u001b[43mencoder_hidden_states\u001b[49m\u001b[43m=\u001b[49m\u001b[43mencoder_hidden_states\u001b[49m\u001b[43m,\u001b[49m\n\u001b[32m    837\u001b[39m \u001b[43m    \u001b[49m\u001b[43mencoder_attention_mask\u001b[49m\u001b[43m=\u001b[49m\u001b[43mencoder_extended_attention_mask\u001b[49m\u001b[43m,\u001b[49m\n\u001b[32m    838\u001b[39m \u001b[43m    \u001b[49m\u001b[43mpast_key_values\u001b[49m\u001b[43m=\u001b[49m\u001b[43mpast_key_values\u001b[49m\u001b[43m,\u001b[49m\n\u001b[32m    839\u001b[39m \u001b[43m    \u001b[49m\u001b[43muse_cache\u001b[49m\u001b[43m=\u001b[49m\u001b[43muse_cache\u001b[49m\u001b[43m,\u001b[49m\n\u001b[32m    840\u001b[39m \u001b[43m    \u001b[49m\u001b[43moutput_attentions\u001b[49m\u001b[43m=\u001b[49m\u001b[43moutput_attentions\u001b[49m\u001b[43m,\u001b[49m\n\u001b[32m    841\u001b[39m \u001b[43m    \u001b[49m\u001b[43moutput_hidden_states\u001b[49m\u001b[43m=\u001b[49m\u001b[43moutput_hidden_states\u001b[49m\u001b[43m,\u001b[49m\n\u001b[32m    842\u001b[39m \u001b[43m    \u001b[49m\u001b[43mreturn_dict\u001b[49m\u001b[43m=\u001b[49m\u001b[43mreturn_dict\u001b[49m\u001b[43m,\u001b[49m\n\u001b[32m    843\u001b[39m \u001b[43m\u001b[49m\u001b[43m)\u001b[49m\n\u001b[32m    844\u001b[39m sequence_output = encoder_outputs[\u001b[32m0\u001b[39m]\n\u001b[32m    845\u001b[39m pooled_output = \u001b[38;5;28mself\u001b[39m.pooler(sequence_output) \u001b[38;5;28;01mif\u001b[39;00m \u001b[38;5;28mself\u001b[39m.pooler \u001b[38;5;129;01mis\u001b[39;00m \u001b[38;5;129;01mnot\u001b[39;00m \u001b[38;5;28;01mNone\u001b[39;00m \u001b[38;5;28;01melse\u001b[39;00m \u001b[38;5;28;01mNone\u001b[39;00m\n",
      "\u001b[36mFile \u001b[39m\u001b[32m~/group-6-final-project/project-env/lib/python3.12/site-packages/torch/nn/modules/module.py:1511\u001b[39m, in \u001b[36mModule._wrapped_call_impl\u001b[39m\u001b[34m(self, *args, **kwargs)\u001b[39m\n\u001b[32m   1509\u001b[39m     \u001b[38;5;28;01mreturn\u001b[39;00m \u001b[38;5;28mself\u001b[39m._compiled_call_impl(*args, **kwargs)  \u001b[38;5;66;03m# type: ignore[misc]\u001b[39;00m\n\u001b[32m   1510\u001b[39m \u001b[38;5;28;01melse\u001b[39;00m:\n\u001b[32m-> \u001b[39m\u001b[32m1511\u001b[39m     \u001b[38;5;28;01mreturn\u001b[39;00m \u001b[38;5;28;43mself\u001b[39;49m\u001b[43m.\u001b[49m\u001b[43m_call_impl\u001b[49m\u001b[43m(\u001b[49m\u001b[43m*\u001b[49m\u001b[43margs\u001b[49m\u001b[43m,\u001b[49m\u001b[43m \u001b[49m\u001b[43m*\u001b[49m\u001b[43m*\u001b[49m\u001b[43mkwargs\u001b[49m\u001b[43m)\u001b[49m\n",
      "\u001b[36mFile \u001b[39m\u001b[32m~/group-6-final-project/project-env/lib/python3.12/site-packages/torch/nn/modules/module.py:1520\u001b[39m, in \u001b[36mModule._call_impl\u001b[39m\u001b[34m(self, *args, **kwargs)\u001b[39m\n\u001b[32m   1515\u001b[39m \u001b[38;5;66;03m# If we don't have any hooks, we want to skip the rest of the logic in\u001b[39;00m\n\u001b[32m   1516\u001b[39m \u001b[38;5;66;03m# this function, and just call forward.\u001b[39;00m\n\u001b[32m   1517\u001b[39m \u001b[38;5;28;01mif\u001b[39;00m \u001b[38;5;129;01mnot\u001b[39;00m (\u001b[38;5;28mself\u001b[39m._backward_hooks \u001b[38;5;129;01mor\u001b[39;00m \u001b[38;5;28mself\u001b[39m._backward_pre_hooks \u001b[38;5;129;01mor\u001b[39;00m \u001b[38;5;28mself\u001b[39m._forward_hooks \u001b[38;5;129;01mor\u001b[39;00m \u001b[38;5;28mself\u001b[39m._forward_pre_hooks\n\u001b[32m   1518\u001b[39m         \u001b[38;5;129;01mor\u001b[39;00m _global_backward_pre_hooks \u001b[38;5;129;01mor\u001b[39;00m _global_backward_hooks\n\u001b[32m   1519\u001b[39m         \u001b[38;5;129;01mor\u001b[39;00m _global_forward_hooks \u001b[38;5;129;01mor\u001b[39;00m _global_forward_pre_hooks):\n\u001b[32m-> \u001b[39m\u001b[32m1520\u001b[39m     \u001b[38;5;28;01mreturn\u001b[39;00m \u001b[43mforward_call\u001b[49m\u001b[43m(\u001b[49m\u001b[43m*\u001b[49m\u001b[43margs\u001b[49m\u001b[43m,\u001b[49m\u001b[43m \u001b[49m\u001b[43m*\u001b[49m\u001b[43m*\u001b[49m\u001b[43mkwargs\u001b[49m\u001b[43m)\u001b[49m\n\u001b[32m   1522\u001b[39m \u001b[38;5;28;01mtry\u001b[39;00m:\n\u001b[32m   1523\u001b[39m     result = \u001b[38;5;28;01mNone\u001b[39;00m\n",
      "\u001b[36mFile \u001b[39m\u001b[32m~/group-6-final-project/project-env/lib/python3.12/site-packages/transformers/models/roberta/modeling_roberta.py:521\u001b[39m, in \u001b[36mRobertaEncoder.forward\u001b[39m\u001b[34m(self, hidden_states, attention_mask, head_mask, encoder_hidden_states, encoder_attention_mask, past_key_values, use_cache, output_attentions, output_hidden_states, return_dict)\u001b[39m\n\u001b[32m    510\u001b[39m     layer_outputs = \u001b[38;5;28mself\u001b[39m._gradient_checkpointing_func(\n\u001b[32m    511\u001b[39m         layer_module.\u001b[34m__call__\u001b[39m,\n\u001b[32m    512\u001b[39m         hidden_states,\n\u001b[32m   (...)\u001b[39m\u001b[32m    518\u001b[39m         output_attentions,\n\u001b[32m    519\u001b[39m     )\n\u001b[32m    520\u001b[39m \u001b[38;5;28;01melse\u001b[39;00m:\n\u001b[32m--> \u001b[39m\u001b[32m521\u001b[39m     layer_outputs = \u001b[43mlayer_module\u001b[49m\u001b[43m(\u001b[49m\n\u001b[32m    522\u001b[39m \u001b[43m        \u001b[49m\u001b[43mhidden_states\u001b[49m\u001b[43m,\u001b[49m\n\u001b[32m    523\u001b[39m \u001b[43m        \u001b[49m\u001b[43mattention_mask\u001b[49m\u001b[43m,\u001b[49m\n\u001b[32m    524\u001b[39m \u001b[43m        \u001b[49m\u001b[43mlayer_head_mask\u001b[49m\u001b[43m,\u001b[49m\n\u001b[32m    525\u001b[39m \u001b[43m        \u001b[49m\u001b[43mencoder_hidden_states\u001b[49m\u001b[43m,\u001b[49m\n\u001b[32m    526\u001b[39m \u001b[43m        \u001b[49m\u001b[43mencoder_attention_mask\u001b[49m\u001b[43m,\u001b[49m\n\u001b[32m    527\u001b[39m \u001b[43m        \u001b[49m\u001b[43mpast_key_value\u001b[49m\u001b[43m,\u001b[49m\n\u001b[32m    528\u001b[39m \u001b[43m        \u001b[49m\u001b[43moutput_attentions\u001b[49m\u001b[43m,\u001b[49m\n\u001b[32m    529\u001b[39m \u001b[43m    \u001b[49m\u001b[43m)\u001b[49m\n\u001b[32m    531\u001b[39m hidden_states = layer_outputs[\u001b[32m0\u001b[39m]\n\u001b[32m    532\u001b[39m \u001b[38;5;28;01mif\u001b[39;00m use_cache:\n",
      "\u001b[36mFile \u001b[39m\u001b[32m~/group-6-final-project/project-env/lib/python3.12/site-packages/torch/nn/modules/module.py:1511\u001b[39m, in \u001b[36mModule._wrapped_call_impl\u001b[39m\u001b[34m(self, *args, **kwargs)\u001b[39m\n\u001b[32m   1509\u001b[39m     \u001b[38;5;28;01mreturn\u001b[39;00m \u001b[38;5;28mself\u001b[39m._compiled_call_impl(*args, **kwargs)  \u001b[38;5;66;03m# type: ignore[misc]\u001b[39;00m\n\u001b[32m   1510\u001b[39m \u001b[38;5;28;01melse\u001b[39;00m:\n\u001b[32m-> \u001b[39m\u001b[32m1511\u001b[39m     \u001b[38;5;28;01mreturn\u001b[39;00m \u001b[38;5;28;43mself\u001b[39;49m\u001b[43m.\u001b[49m\u001b[43m_call_impl\u001b[49m\u001b[43m(\u001b[49m\u001b[43m*\u001b[49m\u001b[43margs\u001b[49m\u001b[43m,\u001b[49m\u001b[43m \u001b[49m\u001b[43m*\u001b[49m\u001b[43m*\u001b[49m\u001b[43mkwargs\u001b[49m\u001b[43m)\u001b[49m\n",
      "\u001b[36mFile \u001b[39m\u001b[32m~/group-6-final-project/project-env/lib/python3.12/site-packages/torch/nn/modules/module.py:1520\u001b[39m, in \u001b[36mModule._call_impl\u001b[39m\u001b[34m(self, *args, **kwargs)\u001b[39m\n\u001b[32m   1515\u001b[39m \u001b[38;5;66;03m# If we don't have any hooks, we want to skip the rest of the logic in\u001b[39;00m\n\u001b[32m   1516\u001b[39m \u001b[38;5;66;03m# this function, and just call forward.\u001b[39;00m\n\u001b[32m   1517\u001b[39m \u001b[38;5;28;01mif\u001b[39;00m \u001b[38;5;129;01mnot\u001b[39;00m (\u001b[38;5;28mself\u001b[39m._backward_hooks \u001b[38;5;129;01mor\u001b[39;00m \u001b[38;5;28mself\u001b[39m._backward_pre_hooks \u001b[38;5;129;01mor\u001b[39;00m \u001b[38;5;28mself\u001b[39m._forward_hooks \u001b[38;5;129;01mor\u001b[39;00m \u001b[38;5;28mself\u001b[39m._forward_pre_hooks\n\u001b[32m   1518\u001b[39m         \u001b[38;5;129;01mor\u001b[39;00m _global_backward_pre_hooks \u001b[38;5;129;01mor\u001b[39;00m _global_backward_hooks\n\u001b[32m   1519\u001b[39m         \u001b[38;5;129;01mor\u001b[39;00m _global_forward_hooks \u001b[38;5;129;01mor\u001b[39;00m _global_forward_pre_hooks):\n\u001b[32m-> \u001b[39m\u001b[32m1520\u001b[39m     \u001b[38;5;28;01mreturn\u001b[39;00m \u001b[43mforward_call\u001b[49m\u001b[43m(\u001b[49m\u001b[43m*\u001b[49m\u001b[43margs\u001b[49m\u001b[43m,\u001b[49m\u001b[43m \u001b[49m\u001b[43m*\u001b[49m\u001b[43m*\u001b[49m\u001b[43mkwargs\u001b[49m\u001b[43m)\u001b[49m\n\u001b[32m   1522\u001b[39m \u001b[38;5;28;01mtry\u001b[39;00m:\n\u001b[32m   1523\u001b[39m     result = \u001b[38;5;28;01mNone\u001b[39;00m\n",
      "\u001b[36mFile \u001b[39m\u001b[32m~/group-6-final-project/project-env/lib/python3.12/site-packages/transformers/models/roberta/modeling_roberta.py:452\u001b[39m, in \u001b[36mRobertaLayer.forward\u001b[39m\u001b[34m(self, hidden_states, attention_mask, head_mask, encoder_hidden_states, encoder_attention_mask, past_key_value, output_attentions)\u001b[39m\n\u001b[32m    449\u001b[39m     cross_attn_present_key_value = cross_attention_outputs[-\u001b[32m1\u001b[39m]\n\u001b[32m    450\u001b[39m     present_key_value = present_key_value + cross_attn_present_key_value\n\u001b[32m--> \u001b[39m\u001b[32m452\u001b[39m layer_output = \u001b[43mapply_chunking_to_forward\u001b[49m\u001b[43m(\u001b[49m\n\u001b[32m    453\u001b[39m \u001b[43m    \u001b[49m\u001b[38;5;28;43mself\u001b[39;49m\u001b[43m.\u001b[49m\u001b[43mfeed_forward_chunk\u001b[49m\u001b[43m,\u001b[49m\u001b[43m \u001b[49m\u001b[38;5;28;43mself\u001b[39;49m\u001b[43m.\u001b[49m\u001b[43mchunk_size_feed_forward\u001b[49m\u001b[43m,\u001b[49m\u001b[43m \u001b[49m\u001b[38;5;28;43mself\u001b[39;49m\u001b[43m.\u001b[49m\u001b[43mseq_len_dim\u001b[49m\u001b[43m,\u001b[49m\u001b[43m \u001b[49m\u001b[43mattention_output\u001b[49m\n\u001b[32m    454\u001b[39m \u001b[43m\u001b[49m\u001b[43m)\u001b[49m\n\u001b[32m    455\u001b[39m outputs = (layer_output,) + outputs\n\u001b[32m    457\u001b[39m \u001b[38;5;66;03m# if decoder, return the attn key/values as the last output\u001b[39;00m\n",
      "\u001b[36mFile \u001b[39m\u001b[32m~/group-6-final-project/project-env/lib/python3.12/site-packages/transformers/pytorch_utils.py:238\u001b[39m, in \u001b[36mapply_chunking_to_forward\u001b[39m\u001b[34m(forward_fn, chunk_size, chunk_dim, *input_tensors)\u001b[39m\n\u001b[32m    235\u001b[39m     \u001b[38;5;66;03m# concatenate output at same dimension\u001b[39;00m\n\u001b[32m    236\u001b[39m     \u001b[38;5;28;01mreturn\u001b[39;00m torch.cat(output_chunks, dim=chunk_dim)\n\u001b[32m--> \u001b[39m\u001b[32m238\u001b[39m \u001b[38;5;28;01mreturn\u001b[39;00m \u001b[43mforward_fn\u001b[49m\u001b[43m(\u001b[49m\u001b[43m*\u001b[49m\u001b[43minput_tensors\u001b[49m\u001b[43m)\u001b[49m\n",
      "\u001b[36mFile \u001b[39m\u001b[32m~/group-6-final-project/project-env/lib/python3.12/site-packages/transformers/models/roberta/modeling_roberta.py:465\u001b[39m, in \u001b[36mRobertaLayer.feed_forward_chunk\u001b[39m\u001b[34m(self, attention_output)\u001b[39m\n\u001b[32m    463\u001b[39m \u001b[38;5;28;01mdef\u001b[39;00m\u001b[38;5;250m \u001b[39m\u001b[34mfeed_forward_chunk\u001b[39m(\u001b[38;5;28mself\u001b[39m, attention_output):\n\u001b[32m    464\u001b[39m     intermediate_output = \u001b[38;5;28mself\u001b[39m.intermediate(attention_output)\n\u001b[32m--> \u001b[39m\u001b[32m465\u001b[39m     layer_output = \u001b[38;5;28;43mself\u001b[39;49m\u001b[43m.\u001b[49m\u001b[43moutput\u001b[49m\u001b[43m(\u001b[49m\u001b[43mintermediate_output\u001b[49m\u001b[43m,\u001b[49m\u001b[43m \u001b[49m\u001b[43mattention_output\u001b[49m\u001b[43m)\u001b[49m\n\u001b[32m    466\u001b[39m     \u001b[38;5;28;01mreturn\u001b[39;00m layer_output\n",
      "\u001b[36mFile \u001b[39m\u001b[32m~/group-6-final-project/project-env/lib/python3.12/site-packages/torch/nn/modules/module.py:1511\u001b[39m, in \u001b[36mModule._wrapped_call_impl\u001b[39m\u001b[34m(self, *args, **kwargs)\u001b[39m\n\u001b[32m   1509\u001b[39m     \u001b[38;5;28;01mreturn\u001b[39;00m \u001b[38;5;28mself\u001b[39m._compiled_call_impl(*args, **kwargs)  \u001b[38;5;66;03m# type: ignore[misc]\u001b[39;00m\n\u001b[32m   1510\u001b[39m \u001b[38;5;28;01melse\u001b[39;00m:\n\u001b[32m-> \u001b[39m\u001b[32m1511\u001b[39m     \u001b[38;5;28;01mreturn\u001b[39;00m \u001b[38;5;28;43mself\u001b[39;49m\u001b[43m.\u001b[49m\u001b[43m_call_impl\u001b[49m\u001b[43m(\u001b[49m\u001b[43m*\u001b[49m\u001b[43margs\u001b[49m\u001b[43m,\u001b[49m\u001b[43m \u001b[49m\u001b[43m*\u001b[49m\u001b[43m*\u001b[49m\u001b[43mkwargs\u001b[49m\u001b[43m)\u001b[49m\n",
      "\u001b[36mFile \u001b[39m\u001b[32m~/group-6-final-project/project-env/lib/python3.12/site-packages/torch/nn/modules/module.py:1520\u001b[39m, in \u001b[36mModule._call_impl\u001b[39m\u001b[34m(self, *args, **kwargs)\u001b[39m\n\u001b[32m   1515\u001b[39m \u001b[38;5;66;03m# If we don't have any hooks, we want to skip the rest of the logic in\u001b[39;00m\n\u001b[32m   1516\u001b[39m \u001b[38;5;66;03m# this function, and just call forward.\u001b[39;00m\n\u001b[32m   1517\u001b[39m \u001b[38;5;28;01mif\u001b[39;00m \u001b[38;5;129;01mnot\u001b[39;00m (\u001b[38;5;28mself\u001b[39m._backward_hooks \u001b[38;5;129;01mor\u001b[39;00m \u001b[38;5;28mself\u001b[39m._backward_pre_hooks \u001b[38;5;129;01mor\u001b[39;00m \u001b[38;5;28mself\u001b[39m._forward_hooks \u001b[38;5;129;01mor\u001b[39;00m \u001b[38;5;28mself\u001b[39m._forward_pre_hooks\n\u001b[32m   1518\u001b[39m         \u001b[38;5;129;01mor\u001b[39;00m _global_backward_pre_hooks \u001b[38;5;129;01mor\u001b[39;00m _global_backward_hooks\n\u001b[32m   1519\u001b[39m         \u001b[38;5;129;01mor\u001b[39;00m _global_forward_hooks \u001b[38;5;129;01mor\u001b[39;00m _global_forward_pre_hooks):\n\u001b[32m-> \u001b[39m\u001b[32m1520\u001b[39m     \u001b[38;5;28;01mreturn\u001b[39;00m \u001b[43mforward_call\u001b[49m\u001b[43m(\u001b[49m\u001b[43m*\u001b[49m\u001b[43margs\u001b[49m\u001b[43m,\u001b[49m\u001b[43m \u001b[49m\u001b[43m*\u001b[49m\u001b[43m*\u001b[49m\u001b[43mkwargs\u001b[49m\u001b[43m)\u001b[49m\n\u001b[32m   1522\u001b[39m \u001b[38;5;28;01mtry\u001b[39;00m:\n\u001b[32m   1523\u001b[39m     result = \u001b[38;5;28;01mNone\u001b[39;00m\n",
      "\u001b[36mFile \u001b[39m\u001b[32m~/group-6-final-project/project-env/lib/python3.12/site-packages/transformers/models/roberta/modeling_roberta.py:376\u001b[39m, in \u001b[36mRobertaOutput.forward\u001b[39m\u001b[34m(self, hidden_states, input_tensor)\u001b[39m\n\u001b[32m    375\u001b[39m \u001b[38;5;28;01mdef\u001b[39;00m\u001b[38;5;250m \u001b[39m\u001b[34mforward\u001b[39m(\u001b[38;5;28mself\u001b[39m, hidden_states: torch.Tensor, input_tensor: torch.Tensor) -> torch.Tensor:\n\u001b[32m--> \u001b[39m\u001b[32m376\u001b[39m     hidden_states = \u001b[38;5;28;43mself\u001b[39;49m\u001b[43m.\u001b[49m\u001b[43mdense\u001b[49m\u001b[43m(\u001b[49m\u001b[43mhidden_states\u001b[49m\u001b[43m)\u001b[49m\n\u001b[32m    377\u001b[39m     hidden_states = \u001b[38;5;28mself\u001b[39m.dropout(hidden_states)\n\u001b[32m    378\u001b[39m     hidden_states = \u001b[38;5;28mself\u001b[39m.LayerNorm(hidden_states + input_tensor)\n",
      "\u001b[36mFile \u001b[39m\u001b[32m~/group-6-final-project/project-env/lib/python3.12/site-packages/torch/nn/modules/module.py:1511\u001b[39m, in \u001b[36mModule._wrapped_call_impl\u001b[39m\u001b[34m(self, *args, **kwargs)\u001b[39m\n\u001b[32m   1509\u001b[39m     \u001b[38;5;28;01mreturn\u001b[39;00m \u001b[38;5;28mself\u001b[39m._compiled_call_impl(*args, **kwargs)  \u001b[38;5;66;03m# type: ignore[misc]\u001b[39;00m\n\u001b[32m   1510\u001b[39m \u001b[38;5;28;01melse\u001b[39;00m:\n\u001b[32m-> \u001b[39m\u001b[32m1511\u001b[39m     \u001b[38;5;28;01mreturn\u001b[39;00m \u001b[38;5;28;43mself\u001b[39;49m\u001b[43m.\u001b[49m\u001b[43m_call_impl\u001b[49m\u001b[43m(\u001b[49m\u001b[43m*\u001b[49m\u001b[43margs\u001b[49m\u001b[43m,\u001b[49m\u001b[43m \u001b[49m\u001b[43m*\u001b[49m\u001b[43m*\u001b[49m\u001b[43mkwargs\u001b[49m\u001b[43m)\u001b[49m\n",
      "\u001b[36mFile \u001b[39m\u001b[32m~/group-6-final-project/project-env/lib/python3.12/site-packages/torch/nn/modules/module.py:1520\u001b[39m, in \u001b[36mModule._call_impl\u001b[39m\u001b[34m(self, *args, **kwargs)\u001b[39m\n\u001b[32m   1515\u001b[39m \u001b[38;5;66;03m# If we don't have any hooks, we want to skip the rest of the logic in\u001b[39;00m\n\u001b[32m   1516\u001b[39m \u001b[38;5;66;03m# this function, and just call forward.\u001b[39;00m\n\u001b[32m   1517\u001b[39m \u001b[38;5;28;01mif\u001b[39;00m \u001b[38;5;129;01mnot\u001b[39;00m (\u001b[38;5;28mself\u001b[39m._backward_hooks \u001b[38;5;129;01mor\u001b[39;00m \u001b[38;5;28mself\u001b[39m._backward_pre_hooks \u001b[38;5;129;01mor\u001b[39;00m \u001b[38;5;28mself\u001b[39m._forward_hooks \u001b[38;5;129;01mor\u001b[39;00m \u001b[38;5;28mself\u001b[39m._forward_pre_hooks\n\u001b[32m   1518\u001b[39m         \u001b[38;5;129;01mor\u001b[39;00m _global_backward_pre_hooks \u001b[38;5;129;01mor\u001b[39;00m _global_backward_hooks\n\u001b[32m   1519\u001b[39m         \u001b[38;5;129;01mor\u001b[39;00m _global_forward_hooks \u001b[38;5;129;01mor\u001b[39;00m _global_forward_pre_hooks):\n\u001b[32m-> \u001b[39m\u001b[32m1520\u001b[39m     \u001b[38;5;28;01mreturn\u001b[39;00m \u001b[43mforward_call\u001b[49m\u001b[43m(\u001b[49m\u001b[43m*\u001b[49m\u001b[43margs\u001b[49m\u001b[43m,\u001b[49m\u001b[43m \u001b[49m\u001b[43m*\u001b[49m\u001b[43m*\u001b[49m\u001b[43mkwargs\u001b[49m\u001b[43m)\u001b[49m\n\u001b[32m   1522\u001b[39m \u001b[38;5;28;01mtry\u001b[39;00m:\n\u001b[32m   1523\u001b[39m     result = \u001b[38;5;28;01mNone\u001b[39;00m\n",
      "\u001b[36mFile \u001b[39m\u001b[32m~/group-6-final-project/project-env/lib/python3.12/site-packages/torch/nn/modules/linear.py:116\u001b[39m, in \u001b[36mLinear.forward\u001b[39m\u001b[34m(self, input)\u001b[39m\n\u001b[32m    115\u001b[39m \u001b[38;5;28;01mdef\u001b[39;00m\u001b[38;5;250m \u001b[39m\u001b[34mforward\u001b[39m(\u001b[38;5;28mself\u001b[39m, \u001b[38;5;28minput\u001b[39m: Tensor) -> Tensor:\n\u001b[32m--> \u001b[39m\u001b[32m116\u001b[39m     \u001b[38;5;28;01mreturn\u001b[39;00m \u001b[43mF\u001b[49m\u001b[43m.\u001b[49m\u001b[43mlinear\u001b[49m\u001b[43m(\u001b[49m\u001b[38;5;28;43minput\u001b[39;49m\u001b[43m,\u001b[49m\u001b[43m \u001b[49m\u001b[38;5;28;43mself\u001b[39;49m\u001b[43m.\u001b[49m\u001b[43mweight\u001b[49m\u001b[43m,\u001b[49m\u001b[43m \u001b[49m\u001b[38;5;28;43mself\u001b[39;49m\u001b[43m.\u001b[49m\u001b[43mbias\u001b[49m\u001b[43m)\u001b[49m\n",
      "\u001b[31mKeyboardInterrupt\u001b[39m: "
     ]
    }
   ],
   "source": [
    "#Embedding and storing all embeddings in the database\n",
    "\n",
    "embed_and_store_all_embeddings(df, engine)\n"
   ]
  }
 ],
 "metadata": {
  "kernelspec": {
   "display_name": ".venv",
   "language": "python",
   "name": "python3"
  },
  "language_info": {
   "codemirror_mode": {
    "name": "ipython",
    "version": 3
   },
   "file_extension": ".py",
   "mimetype": "text/x-python",
   "name": "python",
   "nbconvert_exporter": "python",
   "pygments_lexer": "ipython3",
   "version": "3.12.0"
  }
 },
 "nbformat": 4,
 "nbformat_minor": 5
}
