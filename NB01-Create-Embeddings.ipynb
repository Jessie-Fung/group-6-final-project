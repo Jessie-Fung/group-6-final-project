{
 "cells": [
  {
   "cell_type": "markdown",
   "id": "83736cf2",
   "metadata": {},
   "source": [
    "# 1. Set up the Huggingface Climate Policy Radar dataset."
   ]
  },
  {
   "cell_type": "code",
   "execution_count": 43,
   "id": "0dd415c7",
   "metadata": {},
   "outputs": [],
   "source": [
    "import os\n",
    "import regex as re\n",
    "from tqdm.notebook import tqdm\n",
    "from dotenv import load_dotenv\n",
    "import pandas as pd\n",
    "import numpy as np\n",
    "import pgai\n",
    "import torch\n",
    "from transformers import AutoTokenizer, AutoModel, AutoModelForMaskedLM\n",
    "from datasets import load_dataset, Features, Value\n",
    "from functions import generate_embeddings_for_text\n",
    "import glob\n",
    "\n",
    "tqdm.pandas()"
   ]
  },
  {
   "cell_type": "code",
   "execution_count": 2,
   "id": "e4b6dc7b",
   "metadata": {},
   "outputs": [
    {
     "data": {
      "application/vnd.jupyter.widget-view+json": {
       "model_id": "24c46f110dd54ac8b2cb29d290f83d14",
       "version_major": 2,
       "version_minor": 0
      },
      "text/plain": [
       "Resolving data files:   0%|          | 0/23 [00:00<?, ?it/s]"
      ]
     },
     "metadata": {},
     "output_type": "display_data"
    },
    {
     "data": {
      "application/vnd.jupyter.widget-view+json": {
       "model_id": "3da05ae6bec74db5acc1dbb0e1d19c61",
       "version_major": 2,
       "version_minor": 0
      },
      "text/plain": [
       "Loading dataset shards:   0%|          | 0/42 [00:00<?, ?it/s]"
      ]
     },
     "metadata": {},
     "output_type": "display_data"
    }
   ],
   "source": [
    "# Login using e.g. `huggingface-cli login` in command line to access this dataset\n",
    "\n",
    "ds = load_dataset(\"ClimatePolicyRadar/all-document-text-data\")\n",
    "ds = ds[\"train\"]"
   ]
  },
  {
   "cell_type": "code",
   "execution_count": 3,
   "id": "d5735275",
   "metadata": {},
   "outputs": [
    {
     "data": {
      "text/plain": [
       "{'document_id': Value(dtype='string', id=None),\n",
       " 'document_metadata.collection_summary': Value(dtype='string', id=None),\n",
       " 'document_metadata.collection_title': Value(dtype='string', id=None),\n",
       " 'document_metadata.corpus_type_name': Value(dtype='string', id=None),\n",
       " 'document_metadata.corpus_import_id': Value(dtype='string', id=None),\n",
       " 'document_metadata.category': Value(dtype='string', id=None),\n",
       " 'document_metadata.description': Value(dtype='string', id=None),\n",
       " 'document_metadata.document_title': Value(dtype='string', id=None),\n",
       " 'document_metadata.family_import_id': Value(dtype='string', id=None),\n",
       " 'document_metadata.family_slug': Value(dtype='string', id=None),\n",
       " 'document_metadata.geographies': Sequence(feature=Value(dtype='string', id=None), length=-1, id=None),\n",
       " 'document_metadata.import_id': Value(dtype='string', id=None),\n",
       " 'document_metadata.languages': Sequence(feature=Value(dtype='string', id=None), length=-1, id=None),\n",
       " 'document_metadata.metadata': {'author': Sequence(feature=Value(dtype='string', id=None), length=-1, id=None),\n",
       "  'author_type': Sequence(feature=Value(dtype='string', id=None), length=-1, id=None),\n",
       "  'framework': Sequence(feature=Value(dtype='string', id=None), length=-1, id=None),\n",
       "  'hazard': Sequence(feature=Value(dtype='string', id=None), length=-1, id=None),\n",
       "  'instrument': Sequence(feature=Value(dtype='string', id=None), length=-1, id=None),\n",
       "  'keyword': Sequence(feature=Value(dtype='string', id=None), length=-1, id=None),\n",
       "  'sector': Sequence(feature=Value(dtype='string', id=None), length=-1, id=None),\n",
       "  'topic': Sequence(feature=Value(dtype='string', id=None), length=-1, id=None)},\n",
       " 'document_metadata.family_title': Value(dtype='string', id=None),\n",
       " 'document_metadata.publication_ts': Value(dtype='string', id=None),\n",
       " 'document_metadata.slug': Value(dtype='string', id=None),\n",
       " 'document_metadata.source': Value(dtype='string', id=None),\n",
       " 'document_metadata.source_url': Value(dtype='string', id=None),\n",
       " 'document_metadata.type': Value(dtype='string', id=None),\n",
       " 'document_cdn_object': Value(dtype='string', id=None),\n",
       " 'document_content_type': Value(dtype='string', id=None),\n",
       " 'document_md5_sum': Value(dtype='string', id=None),\n",
       " 'languages': Sequence(feature=Value(dtype='string', id=None), length=-1, id=None),\n",
       " 'document_metadata.translated': Value(dtype='bool', id=None),\n",
       " 'pdf_data_page_metadata.dimensions': Sequence(feature=Value(dtype='float64', id=None), length=-1, id=None),\n",
       " '_html_data.detected_title': Value(dtype='string', id=None),\n",
       " '_html_data.detected_date': Value(dtype='string', id=None),\n",
       " '_html_data.has_valid_text': Value(dtype='bool', id=None),\n",
       " 'pipeline_metadata.parser_metadata': {'azure_api_version': Value(dtype='string', id=None),\n",
       "  'azure_model_id': Value(dtype='string', id=None),\n",
       "  'parsing_date': Value(dtype='string', id=None)},\n",
       " 'text_block.text_block_id': Value(dtype='string', id=None),\n",
       " 'text_block.language': Value(dtype='string', id=None),\n",
       " 'text_block.type': Value(dtype='string', id=None),\n",
       " 'text_block.type_confidence': Value(dtype='float64', id=None),\n",
       " 'text_block.coords': Sequence(feature=Sequence(feature=Value(dtype='float64', id=None), length=-1, id=None), length=-1, id=None),\n",
       " 'text_block.page_number': Value(dtype='int64', id=None),\n",
       " 'text_block.text': Value(dtype='string', id=None),\n",
       " 'text_block.index': Value(dtype='int64', id=None)}"
      ]
     },
     "execution_count": 3,
     "metadata": {},
     "output_type": "execute_result"
    }
   ],
   "source": [
    "ds.features"
   ]
  },
  {
   "cell_type": "code",
   "execution_count": 4,
   "id": "2ad46e40",
   "metadata": {},
   "outputs": [],
   "source": [
    "flat_ds = ds.flatten()"
   ]
  },
  {
   "cell_type": "code",
   "execution_count": 5,
   "id": "a91f6e8d",
   "metadata": {},
   "outputs": [
    {
     "name": "stdout",
     "output_type": "stream",
     "text": [
      "<class 'str'>\n",
      "<class 'NoneType'>\n",
      "<class 'NoneType'>\n",
      "<class 'str'>\n",
      "<class 'str'>\n",
      "<class 'str'>\n",
      "<class 'str'>\n",
      "<class 'str'>\n",
      "<class 'str'>\n",
      "<class 'str'>\n",
      "<class 'list'>\n",
      "<class 'str'>\n",
      "<class 'list'>\n",
      "<class 'NoneType'>\n",
      "<class 'NoneType'>\n",
      "<class 'NoneType'>\n",
      "<class 'NoneType'>\n",
      "<class 'NoneType'>\n",
      "<class 'NoneType'>\n",
      "<class 'NoneType'>\n",
      "<class 'NoneType'>\n",
      "<class 'str'>\n",
      "<class 'str'>\n",
      "<class 'str'>\n",
      "<class 'str'>\n",
      "<class 'str'>\n",
      "<class 'str'>\n",
      "<class 'str'>\n",
      "<class 'str'>\n",
      "<class 'str'>\n",
      "<class 'list'>\n",
      "<class 'bool'>\n",
      "<class 'list'>\n",
      "<class 'NoneType'>\n",
      "<class 'NoneType'>\n",
      "<class 'NoneType'>\n",
      "<class 'str'>\n",
      "<class 'str'>\n",
      "<class 'str'>\n",
      "<class 'str'>\n",
      "<class 'str'>\n",
      "<class 'str'>\n",
      "<class 'float'>\n",
      "<class 'list'>\n",
      "<class 'int'>\n",
      "<class 'str'>\n",
      "<class 'int'>\n"
     ]
    }
   ],
   "source": [
    "for key in flat_ds.features.keys():\n",
    "    print(type(flat_ds[18:19][key][0]))"
   ]
  },
  {
   "cell_type": "markdown",
   "id": "c3982d64",
   "metadata": {},
   "source": [
    "## Save 100000 chunks in Postgres"
   ]
  },
  {
   "cell_type": "code",
   "execution_count": null,
   "id": "cbf79a6c",
   "metadata": {},
   "outputs": [
    {
     "data": {
      "text/plain": [
       "615"
      ]
     },
     "execution_count": 6,
     "metadata": {},
     "output_type": "execute_result"
    }
   ],
   "source": [
    "from sqlalchemy import create_engine, text\n",
    "from dotenv import load_dotenv\n",
    "import os\n",
    "\n",
    "load_dotenv # This loads the .env file into os.environ\n",
    "batch_df = pd.DataFrame(flat_ds[:100000])\n",
    "# Set up the database connection using SQLAlchemy\n",
    "engine = create_engine(os.getenv(\"DB_URL\"))\n",
    "\n",
    "# Write the pandas DataFrame to the PostgreSQL database\n",
    "batch_df.to_sql('climate_policy_radar', engine, if_exists='replace', index=False)"
   ]
  },
  {
   "cell_type": "markdown",
   "id": "069f90c8",
   "metadata": {},
   "source": [
    "## Attempt to change arrays to strings for entire dataset\n",
    "\n",
    "Just keeping this here for future reference. I don't think it's needed"
   ]
  },
  {
   "cell_type": "code",
   "execution_count": 21,
   "id": "f93e9765",
   "metadata": {},
   "outputs": [],
   "source": [
    "def array_to_string(batch):\n",
    "    keys_to_process = [\n",
    "        \"document_metadata.geographies\",\n",
    "        \"document_metadata.languages\",\n",
    "        \"languages\",\n",
    "        \"pdf_data_page_metadata.dimensions\",\n",
    "        \"text_block.coords\"\n",
    "    ]\n",
    "    for key in keys_to_process:\n",
    "        # Convert numpy arrays to lists\n",
    "        batch[key] = [str(x) for x in batch[key]]\n",
    "    return batch"
   ]
  },
  {
   "cell_type": "code",
   "execution_count": null,
   "id": "1cf46f4a",
   "metadata": {},
   "outputs": [],
   "source": [
    "# Apply the function to the dataset. This takes the longest time\n",
    "flat_ds = flat_ds.map(array_to_string, batched = True)"
   ]
  },
  {
   "cell_type": "markdown",
   "id": "dabedc82",
   "metadata": {},
   "source": [
    "## Read the data from the database\n",
    "\n",
    "So it's easier to access the data in case the kernel crashes and had to re-run the codes again"
   ]
  },
  {
   "cell_type": "code",
   "execution_count": 7,
   "id": "19defae6",
   "metadata": {},
   "outputs": [
    {
     "data": {
      "text/html": [
       "<div>\n",
       "<style scoped>\n",
       "    .dataframe tbody tr th:only-of-type {\n",
       "        vertical-align: middle;\n",
       "    }\n",
       "\n",
       "    .dataframe tbody tr th {\n",
       "        vertical-align: top;\n",
       "    }\n",
       "\n",
       "    .dataframe thead th {\n",
       "        text-align: right;\n",
       "    }\n",
       "</style>\n",
       "<table border=\"1\" class=\"dataframe\">\n",
       "  <thead>\n",
       "    <tr style=\"text-align: right;\">\n",
       "      <th></th>\n",
       "      <th>document_id</th>\n",
       "      <th>document_metadata.collection_summary</th>\n",
       "      <th>document_metadata.collection_title</th>\n",
       "      <th>document_metadata.corpus_type_name</th>\n",
       "      <th>document_metadata.corpus_import_id</th>\n",
       "      <th>document_metadata.category</th>\n",
       "      <th>document_metadata.description</th>\n",
       "      <th>document_metadata.document_title</th>\n",
       "      <th>document_metadata.family_import_id</th>\n",
       "      <th>document_metadata.family_slug</th>\n",
       "      <th>...</th>\n",
       "      <th>pipeline_metadata.parser_metadata.azure_model_id</th>\n",
       "      <th>pipeline_metadata.parser_metadata.parsing_date</th>\n",
       "      <th>text_block.text_block_id</th>\n",
       "      <th>text_block.language</th>\n",
       "      <th>text_block.type</th>\n",
       "      <th>text_block.type_confidence</th>\n",
       "      <th>text_block.coords</th>\n",
       "      <th>text_block.page_number</th>\n",
       "      <th>text_block.text</th>\n",
       "      <th>text_block.index</th>\n",
       "    </tr>\n",
       "  </thead>\n",
       "  <tbody>\n",
       "    <tr>\n",
       "      <th>0</th>\n",
       "      <td>CCLW.document.i00000002.n0000</td>\n",
       "      <td>None</td>\n",
       "      <td>None</td>\n",
       "      <td>Laws and Policies</td>\n",
       "      <td>CCLW.corpus.i00000001.n0000</td>\n",
       "      <td>Executive</td>\n",
       "      <td>&lt;p&gt;&lt;span style=\"font-size: 10pt;font-family: A...</td>\n",
       "      <td>National Energy and Climate Plan 2019 Draft</td>\n",
       "      <td>CCLW.family.i00000001.n0000</td>\n",
       "      <td>national-energy-and-climate-plan_8a4f</td>\n",
       "      <td>...</td>\n",
       "      <td>prebuilt-document</td>\n",
       "      <td>2023-12-11T11:43:23.509480</td>\n",
       "      <td>0</td>\n",
       "      <td>en</td>\n",
       "      <td>title</td>\n",
       "      <td>1.0</td>\n",
       "      <td>{{70.452,123.7392},{524.1816,123.7392},{524.18...</td>\n",
       "      <td>0.0</td>\n",
       "      <td>Draft of the National Energy and Climate Plan ...</td>\n",
       "      <td>0</td>\n",
       "    </tr>\n",
       "    <tr>\n",
       "      <th>1</th>\n",
       "      <td>CCLW.document.i00000002.n0000</td>\n",
       "      <td>None</td>\n",
       "      <td>None</td>\n",
       "      <td>Laws and Policies</td>\n",
       "      <td>CCLW.corpus.i00000001.n0000</td>\n",
       "      <td>Executive</td>\n",
       "      <td>&lt;p&gt;&lt;span style=\"font-size: 10pt;font-family: A...</td>\n",
       "      <td>National Energy and Climate Plan 2019 Draft</td>\n",
       "      <td>CCLW.family.i00000001.n0000</td>\n",
       "      <td>national-energy-and-climate-plan_8a4f</td>\n",
       "      <td>...</td>\n",
       "      <td>prebuilt-document</td>\n",
       "      <td>2023-12-11T11:43:23.509480</td>\n",
       "      <td>1</td>\n",
       "      <td>en</td>\n",
       "      <td>Text</td>\n",
       "      <td>1.0</td>\n",
       "      <td>{{69.7176,208.4256},{124.21440000000001,208.79...</td>\n",
       "      <td>0.0</td>\n",
       "      <td>July 2021</td>\n",
       "      <td>1</td>\n",
       "    </tr>\n",
       "    <tr>\n",
       "      <th>2</th>\n",
       "      <td>CCLW.document.i00000002.n0000</td>\n",
       "      <td>None</td>\n",
       "      <td>None</td>\n",
       "      <td>Laws and Policies</td>\n",
       "      <td>CCLW.corpus.i00000001.n0000</td>\n",
       "      <td>Executive</td>\n",
       "      <td>&lt;p&gt;&lt;span style=\"font-size: 10pt;font-family: A...</td>\n",
       "      <td>National Energy and Climate Plan 2019 Draft</td>\n",
       "      <td>CCLW.family.i00000001.n0000</td>\n",
       "      <td>national-energy-and-climate-plan_8a4f</td>\n",
       "      <td>...</td>\n",
       "      <td>prebuilt-document</td>\n",
       "      <td>2023-12-11T11:43:23.509480</td>\n",
       "      <td>2</td>\n",
       "      <td>en</td>\n",
       "      <td>Text</td>\n",
       "      <td>1.0</td>\n",
       "      <td>{{217.1952,685.1376},{286.1856,685.1376},{286....</td>\n",
       "      <td>0.0</td>\n",
       "      <td>REPUBLIKA SHOIPERISE</td>\n",
       "      <td>2</td>\n",
       "    </tr>\n",
       "    <tr>\n",
       "      <th>3</th>\n",
       "      <td>CCLW.document.i00000002.n0000</td>\n",
       "      <td>None</td>\n",
       "      <td>None</td>\n",
       "      <td>Laws and Policies</td>\n",
       "      <td>CCLW.corpus.i00000001.n0000</td>\n",
       "      <td>Executive</td>\n",
       "      <td>&lt;p&gt;&lt;span style=\"font-size: 10pt;font-family: A...</td>\n",
       "      <td>National Energy and Climate Plan 2019 Draft</td>\n",
       "      <td>CCLW.family.i00000001.n0000</td>\n",
       "      <td>national-energy-and-climate-plan_8a4f</td>\n",
       "      <td>...</td>\n",
       "      <td>prebuilt-document</td>\n",
       "      <td>2023-12-11T11:43:23.509480</td>\n",
       "      <td>3</td>\n",
       "      <td>en</td>\n",
       "      <td>Text</td>\n",
       "      <td>1.0</td>\n",
       "      <td>{{195.2928,690.6096},{308.448,690.6096},{308.4...</td>\n",
       "      <td>0.0</td>\n",
       "      <td>MINISTRIA E TURIZMIT DHE MJEDISIT</td>\n",
       "      <td>3</td>\n",
       "    </tr>\n",
       "    <tr>\n",
       "      <th>4</th>\n",
       "      <td>CCLW.document.i00000002.n0000</td>\n",
       "      <td>None</td>\n",
       "      <td>None</td>\n",
       "      <td>Laws and Policies</td>\n",
       "      <td>CCLW.corpus.i00000001.n0000</td>\n",
       "      <td>Executive</td>\n",
       "      <td>&lt;p&gt;&lt;span style=\"font-size: 10pt;font-family: A...</td>\n",
       "      <td>National Energy and Climate Plan 2019 Draft</td>\n",
       "      <td>CCLW.family.i00000001.n0000</td>\n",
       "      <td>national-energy-and-climate-plan_8a4f</td>\n",
       "      <td>...</td>\n",
       "      <td>prebuilt-document</td>\n",
       "      <td>2023-12-11T11:43:23.509480</td>\n",
       "      <td>4</td>\n",
       "      <td>en</td>\n",
       "      <td>Text</td>\n",
       "      <td>1.0</td>\n",
       "      <td>{{76.9968,708.5015999999999},{182.88,708.1344}...</td>\n",
       "      <td>0.0</td>\n",
       "      <td>MINISTRIA E INFRASTRUKTURĒS DHE ENERGJISE</td>\n",
       "      <td>4</td>\n",
       "    </tr>\n",
       "  </tbody>\n",
       "</table>\n",
       "<p>5 rows × 47 columns</p>\n",
       "</div>"
      ],
      "text/plain": [
       "                     document_id document_metadata.collection_summary  \\\n",
       "0  CCLW.document.i00000002.n0000                                 None   \n",
       "1  CCLW.document.i00000002.n0000                                 None   \n",
       "2  CCLW.document.i00000002.n0000                                 None   \n",
       "3  CCLW.document.i00000002.n0000                                 None   \n",
       "4  CCLW.document.i00000002.n0000                                 None   \n",
       "\n",
       "  document_metadata.collection_title document_metadata.corpus_type_name  \\\n",
       "0                               None                  Laws and Policies   \n",
       "1                               None                  Laws and Policies   \n",
       "2                               None                  Laws and Policies   \n",
       "3                               None                  Laws and Policies   \n",
       "4                               None                  Laws and Policies   \n",
       "\n",
       "  document_metadata.corpus_import_id document_metadata.category  \\\n",
       "0        CCLW.corpus.i00000001.n0000                  Executive   \n",
       "1        CCLW.corpus.i00000001.n0000                  Executive   \n",
       "2        CCLW.corpus.i00000001.n0000                  Executive   \n",
       "3        CCLW.corpus.i00000001.n0000                  Executive   \n",
       "4        CCLW.corpus.i00000001.n0000                  Executive   \n",
       "\n",
       "                       document_metadata.description  \\\n",
       "0  <p><span style=\"font-size: 10pt;font-family: A...   \n",
       "1  <p><span style=\"font-size: 10pt;font-family: A...   \n",
       "2  <p><span style=\"font-size: 10pt;font-family: A...   \n",
       "3  <p><span style=\"font-size: 10pt;font-family: A...   \n",
       "4  <p><span style=\"font-size: 10pt;font-family: A...   \n",
       "\n",
       "               document_metadata.document_title  \\\n",
       "0  National Energy and Climate Plan 2019 Draft    \n",
       "1  National Energy and Climate Plan 2019 Draft    \n",
       "2  National Energy and Climate Plan 2019 Draft    \n",
       "3  National Energy and Climate Plan 2019 Draft    \n",
       "4  National Energy and Climate Plan 2019 Draft    \n",
       "\n",
       "  document_metadata.family_import_id          document_metadata.family_slug  \\\n",
       "0        CCLW.family.i00000001.n0000  national-energy-and-climate-plan_8a4f   \n",
       "1        CCLW.family.i00000001.n0000  national-energy-and-climate-plan_8a4f   \n",
       "2        CCLW.family.i00000001.n0000  national-energy-and-climate-plan_8a4f   \n",
       "3        CCLW.family.i00000001.n0000  national-energy-and-climate-plan_8a4f   \n",
       "4        CCLW.family.i00000001.n0000  national-energy-and-climate-plan_8a4f   \n",
       "\n",
       "   ... pipeline_metadata.parser_metadata.azure_model_id  \\\n",
       "0  ...                                prebuilt-document   \n",
       "1  ...                                prebuilt-document   \n",
       "2  ...                                prebuilt-document   \n",
       "3  ...                                prebuilt-document   \n",
       "4  ...                                prebuilt-document   \n",
       "\n",
       "  pipeline_metadata.parser_metadata.parsing_date text_block.text_block_id  \\\n",
       "0                     2023-12-11T11:43:23.509480                        0   \n",
       "1                     2023-12-11T11:43:23.509480                        1   \n",
       "2                     2023-12-11T11:43:23.509480                        2   \n",
       "3                     2023-12-11T11:43:23.509480                        3   \n",
       "4                     2023-12-11T11:43:23.509480                        4   \n",
       "\n",
       "  text_block.language text_block.type text_block.type_confidence  \\\n",
       "0                  en           title                        1.0   \n",
       "1                  en            Text                        1.0   \n",
       "2                  en            Text                        1.0   \n",
       "3                  en            Text                        1.0   \n",
       "4                  en            Text                        1.0   \n",
       "\n",
       "                                   text_block.coords text_block.page_number  \\\n",
       "0  {{70.452,123.7392},{524.1816,123.7392},{524.18...                    0.0   \n",
       "1  {{69.7176,208.4256},{124.21440000000001,208.79...                    0.0   \n",
       "2  {{217.1952,685.1376},{286.1856,685.1376},{286....                    0.0   \n",
       "3  {{195.2928,690.6096},{308.448,690.6096},{308.4...                    0.0   \n",
       "4  {{76.9968,708.5015999999999},{182.88,708.1344}...                    0.0   \n",
       "\n",
       "                                     text_block.text text_block.index  \n",
       "0  Draft of the National Energy and Climate Plan ...                0  \n",
       "1                                          July 2021                1  \n",
       "2                               REPUBLIKA SHOIPERISE                2  \n",
       "3                  MINISTRIA E TURIZMIT DHE MJEDISIT                3  \n",
       "4          MINISTRIA E INFRASTRUKTURĒS DHE ENERGJISE                4  \n",
       "\n",
       "[5 rows x 47 columns]"
      ]
     },
     "execution_count": 7,
     "metadata": {},
     "output_type": "execute_result"
    }
   ],
   "source": [
    "# Read the table\n",
    "df = pd.read_sql(\"SELECT * FROM climate_policy_radar\", engine)\n",
    "df.head()\n"
   ]
  },
  {
   "cell_type": "markdown",
   "id": "471ce453",
   "metadata": {},
   "source": [
    "# 2. Embeddings generation\n",
    "\n",
    "## 2.1 Load climateBERT"
   ]
  },
  {
   "cell_type": "code",
   "execution_count": 8,
   "id": "00dd9a22",
   "metadata": {},
   "outputs": [],
   "source": [
    "EMBEDDING_MODEL_LOCAL_DIR = os.getenv('EMBEDDING_MODEL_LOCAL_DIR')\n",
    "EMBEDDING_MODEL = os.getenv(\"EMBEDDING_MODEL\")"
   ]
  },
  {
   "cell_type": "code",
   "execution_count": null,
   "id": "9333973d",
   "metadata": {},
   "outputs": [
    {
     "name": "stderr",
     "output_type": "stream",
     "text": [
      "/Users/arielliu/group-6-final-project/project-env/lib/python3.12/site-packages/transformers/models/auto/tokenization_auto.py:778: FutureWarning: The `use_auth_token` argument is deprecated and will be removed in v5 of Transformers. Please use `token` instead.\n",
      "  warnings.warn(\n",
      "/Users/arielliu/group-6-final-project/project-env/lib/python3.12/site-packages/transformers/models/auto/auto_factory.py:469: FutureWarning: The `use_auth_token` argument is deprecated and will be removed in v5 of Transformers. Please use `token` instead.\n",
      "  warnings.warn(\n"
     ]
    }
   ],
   "source": [
    "# Download\n",
    "tokenizer = AutoTokenizer.from_pretrained(EMBEDDING_MODEL, use_auth_token=False)\n",
    "model = AutoModelForMaskedLM.from_pretrained(EMBEDDING_MODEL, use_auth_token=False)\n",
    "\n",
    "# Save it to a  local_models folder\n",
    "tokenizer.save_pretrained(EMBEDDING_MODEL_LOCAL_DIR)\n",
    "model.save_pretrained(EMBEDDING_MODEL_LOCAL_DIR)"
   ]
  },
  {
   "cell_type": "code",
   "execution_count": 9,
   "id": "df923544",
   "metadata": {},
   "outputs": [
    {
     "name": "stderr",
     "output_type": "stream",
     "text": [
      "Special tokens have been added in the vocabulary, make sure the associated word embeddings are fine-tuned or trained.\n",
      "Some weights of RobertaModel were not initialized from the model checkpoint at local_model/climatebert/distilroberta-base-climate-f and are newly initialized: ['roberta.pooler.dense.bias', 'roberta.pooler.dense.weight']\n",
      "You should probably TRAIN this model on a down-stream task to be able to use it for predictions and inference.\n"
     ]
    }
   ],
   "source": [
    "# Load the embedding model\n",
    "tokenizer = AutoTokenizer.from_pretrained(EMBEDDING_MODEL_LOCAL_DIR)\n",
    "model = AutoModel.from_pretrained(EMBEDDING_MODEL_LOCAL_DIR)"
   ]
  },
  {
   "cell_type": "markdown",
   "id": "58698bc0",
   "metadata": {},
   "source": [
    "### Checking existing documents' country\n"
   ]
  },
  {
   "cell_type": "code",
   "execution_count": 10,
   "id": "8cf481da",
   "metadata": {},
   "outputs": [
    {
     "name": "stdout",
     "output_type": "stream",
     "text": [
      "   document_metadata.geographies\n",
      "0                          {SRB}\n",
      "1                          {MKD}\n",
      "2                          {GBR}\n",
      "3                          {TUV}\n",
      "4                          {FRA}\n",
      "5                          {ALB}\n",
      "6                          {EUR}\n",
      "7                          {MNE}\n",
      "8                          {AZE}\n",
      "9                          {CAN}\n",
      "10                         {JPN}\n",
      "11                         {BRA}\n",
      "12                         {DEU}\n",
      "13                         {XKX}\n",
      "14                         {CHN}\n",
      "15                         {ZAF}\n",
      "16                         {BIH}\n",
      "17                         {IRL}\n"
     ]
    }
   ],
   "source": [
    "query = \"\"\"\n",
    "SELECT DISTINCT \"document_metadata.geographies\"\n",
    "FROM climate_policy_radar\n",
    "WHERE \"document_metadata.geographies\" IS NOT NULL;\n",
    "\"\"\"\n",
    "\n",
    "geos = pd.read_sql(query, engine)\n",
    "print(geos)\n"
   ]
  },
  {
   "cell_type": "markdown",
   "id": "5dfdfcd7",
   "metadata": {},
   "source": [
    "### Attempt to select only documents by Albania\n",
    "Testing using Albania for now - This takes a really long time"
   ]
  },
  {
   "cell_type": "code",
   "execution_count": 11,
   "id": "5d2c6a8c",
   "metadata": {},
   "outputs": [
    {
     "name": "stderr",
     "output_type": "stream",
     "text": [
      "Filtering for ALB: 100%|██████████| 100000/100000 [00:00<00:00, 894725.68it/s]\n"
     ]
    }
   ],
   "source": [
    "# This one worked\n",
    "from tqdm import tqdm\n",
    "\n",
    "geos = df[\"document_metadata.geographies\"]\n",
    "filter = [\"ALB\" in str(x) for x in tqdm(geos, desc=\"Filtering for ALB\")]\n",
    "alb_chunks = df[filter]"
   ]
  },
  {
   "cell_type": "code",
   "execution_count": 12,
   "id": "066f56a2",
   "metadata": {},
   "outputs": [
    {
     "data": {
      "text/html": [
       "<div>\n",
       "<style scoped>\n",
       "    .dataframe tbody tr th:only-of-type {\n",
       "        vertical-align: middle;\n",
       "    }\n",
       "\n",
       "    .dataframe tbody tr th {\n",
       "        vertical-align: top;\n",
       "    }\n",
       "\n",
       "    .dataframe thead th {\n",
       "        text-align: right;\n",
       "    }\n",
       "</style>\n",
       "<table border=\"1\" class=\"dataframe\">\n",
       "  <thead>\n",
       "    <tr style=\"text-align: right;\">\n",
       "      <th></th>\n",
       "      <th>document_id</th>\n",
       "      <th>document_metadata.geographies</th>\n",
       "      <th>text_block.text</th>\n",
       "    </tr>\n",
       "  </thead>\n",
       "  <tbody>\n",
       "    <tr>\n",
       "      <th>0</th>\n",
       "      <td>CCLW.document.i00000002.n0000</td>\n",
       "      <td>{ALB}</td>\n",
       "      <td>Draft of the National Energy and Climate Plan ...</td>\n",
       "    </tr>\n",
       "    <tr>\n",
       "      <th>1</th>\n",
       "      <td>CCLW.document.i00000002.n0000</td>\n",
       "      <td>{ALB}</td>\n",
       "      <td>July 2021</td>\n",
       "    </tr>\n",
       "    <tr>\n",
       "      <th>2</th>\n",
       "      <td>CCLW.document.i00000002.n0000</td>\n",
       "      <td>{ALB}</td>\n",
       "      <td>REPUBLIKA SHOIPERISE</td>\n",
       "    </tr>\n",
       "    <tr>\n",
       "      <th>3</th>\n",
       "      <td>CCLW.document.i00000002.n0000</td>\n",
       "      <td>{ALB}</td>\n",
       "      <td>MINISTRIA E TURIZMIT DHE MJEDISIT</td>\n",
       "    </tr>\n",
       "    <tr>\n",
       "      <th>4</th>\n",
       "      <td>CCLW.document.i00000002.n0000</td>\n",
       "      <td>{ALB}</td>\n",
       "      <td>MINISTRIA E INFRASTRUKTURĒS DHE ENERGJISE</td>\n",
       "    </tr>\n",
       "    <tr>\n",
       "      <th>5</th>\n",
       "      <td>CCLW.document.i00000002.n0000</td>\n",
       "      <td>{ALB}</td>\n",
       "      <td>german cooperation DEUTSCHE ZUSAMMENARBEIT</td>\n",
       "    </tr>\n",
       "    <tr>\n",
       "      <th>6</th>\n",
       "      <td>CCLW.document.i00000002.n0000</td>\n",
       "      <td>{ALB}</td>\n",
       "      <td>Implemented by giz</td>\n",
       "    </tr>\n",
       "    <tr>\n",
       "      <th>7</th>\n",
       "      <td>CCLW.document.i00000002.n0000</td>\n",
       "      <td>{ALB}</td>\n",
       "      <td>Deutsche Gesellschaft Für Internationale Zusam...</td>\n",
       "    </tr>\n",
       "    <tr>\n",
       "      <th>8</th>\n",
       "      <td>CCLW.document.i00000002.n0000</td>\n",
       "      <td>{ALB}</td>\n",
       "      <td>Responsible for this document: Ministry of Inf...</td>\n",
       "    </tr>\n",
       "    <tr>\n",
       "      <th>9</th>\n",
       "      <td>CCLW.document.i00000002.n0000</td>\n",
       "      <td>{ALB}</td>\n",
       "      <td>Purpose of this document: Submission to Energy...</td>\n",
       "    </tr>\n",
       "  </tbody>\n",
       "</table>\n",
       "</div>"
      ],
      "text/plain": [
       "                     document_id document_metadata.geographies  \\\n",
       "0  CCLW.document.i00000002.n0000                         {ALB}   \n",
       "1  CCLW.document.i00000002.n0000                         {ALB}   \n",
       "2  CCLW.document.i00000002.n0000                         {ALB}   \n",
       "3  CCLW.document.i00000002.n0000                         {ALB}   \n",
       "4  CCLW.document.i00000002.n0000                         {ALB}   \n",
       "5  CCLW.document.i00000002.n0000                         {ALB}   \n",
       "6  CCLW.document.i00000002.n0000                         {ALB}   \n",
       "7  CCLW.document.i00000002.n0000                         {ALB}   \n",
       "8  CCLW.document.i00000002.n0000                         {ALB}   \n",
       "9  CCLW.document.i00000002.n0000                         {ALB}   \n",
       "\n",
       "                                     text_block.text  \n",
       "0  Draft of the National Energy and Climate Plan ...  \n",
       "1                                          July 2021  \n",
       "2                               REPUBLIKA SHOIPERISE  \n",
       "3                  MINISTRIA E TURIZMIT DHE MJEDISIT  \n",
       "4          MINISTRIA E INFRASTRUKTURĒS DHE ENERGJISE  \n",
       "5         german cooperation DEUTSCHE ZUSAMMENARBEIT  \n",
       "6                                 Implemented by giz  \n",
       "7  Deutsche Gesellschaft Für Internationale Zusam...  \n",
       "8  Responsible for this document: Ministry of Inf...  \n",
       "9  Purpose of this document: Submission to Energy...  "
      ]
     },
     "execution_count": 12,
     "metadata": {},
     "output_type": "execute_result"
    }
   ],
   "source": [
    "alb_chunks[[\"document_id\", \"document_metadata.geographies\", \"text_block.text\"]].head(10)"
   ]
  },
  {
   "cell_type": "code",
   "execution_count": null,
   "id": "c3b691ad",
   "metadata": {},
   "outputs": [],
   "source": [
    "# #took too long for me\n",
    "# #DOUBLE CHECK LATER\n",
    "\n",
    "# filter = flat_ds[\"document_metadata.geographies\"].astype(str).progress_apply(\n",
    "#     lambda x: bool(re.search(r\"ALB\", x))\n",
    "# )\n",
    "# alb_chunks = flat_ds[filter]"
   ]
  },
  {
   "cell_type": "markdown",
   "id": "644ece61",
   "metadata": {},
   "source": [
    "## 2.2 Save embeddings in csv\n",
    "Embeddings generated in batches of 1000 chunks.\n",
    "Note: obsolete, just ignore"
   ]
  },
  {
   "cell_type": "code",
   "execution_count": null,
   "id": "92703641",
   "metadata": {},
   "outputs": [
    {
     "data": {
      "application/vnd.jupyter.widget-view+json": {
       "model_id": "6b9f43e428cf4099a63d06db77f2f2b6",
       "version_major": 2,
       "version_minor": 0
      },
      "text/plain": [
       "  0%|          | 0/2 [00:00<?, ?it/s]"
      ]
     },
     "metadata": {},
     "output_type": "display_data"
    },
    {
     "data": {
      "application/vnd.jupyter.widget-view+json": {
       "model_id": "13df9e51743846abb9fb96770c7cad50",
       "version_major": 2,
       "version_minor": 0
      },
      "text/plain": [
       "  0%|          | 0/1000 [00:00<?, ?it/s]"
      ]
     },
     "metadata": {},
     "output_type": "display_data"
    },
    {
     "data": {
      "application/vnd.jupyter.widget-view+json": {
       "model_id": "caabfc0b6eef434cb7f3f43d582f7ea8",
       "version_major": 2,
       "version_minor": 0
      },
      "text/plain": [
       "  0%|          | 0/1000 [00:00<?, ?it/s]"
      ]
     },
     "metadata": {},
     "output_type": "display_data"
    }
   ],
   "source": [
    "# # Ensure the \"data\" directory exists\n",
    "# os.makedirs(\"data\", exist_ok=True)\n",
    "\n",
    "# # Process embeddings in batches of 1000\n",
    "# batch_size = 1000\n",
    "# all_batches = (len(flat_ds) + batch_size - 1) // batch_size  # Calculate the number of batches\n",
    "# num_batches = 2\n",
    "\n",
    "# all_embeddings = []\n",
    "\n",
    "# for i in tqdm(range(num_batches)):\n",
    "#     start_idx = i * batch_size\n",
    "#     end_idx = min((i + 1) * batch_size, len(flat_ds))\n",
    "    \n",
    "#     # Generate embeddings for the current batch\n",
    "#     batch_embeddings = flat_ds[start_idx:end_idx][\"text_block.text\"].progress_apply(\n",
    "#         lambda text: generate_embeddings_for_text(text, model, tokenizer)\n",
    "#     )\n",
    "    \n",
    "#     all_embeddings.extend(batch_embeddings)\n",
    "\n",
    "# # Create a DataFrame for all embeddings\n",
    "# embeddings_df = pd.DataFrame({\n",
    "#     \"document_id\": flat_ds[:num_batches*1000][\"document_id\"],\n",
    "#     \"embeddings\": all_embeddings\n",
    "#     \"country_code\": flat_ds[:num_batches*1000][\"document_metadata.geographies\"].str.extract(r\"\\{(\\w+)\\}\")[0],\n",
    "# })\n",
    "\n",
    "# # Save the DataFrame to a single CSV file\n",
    "# embeddings_df.to_csv(\"data/embeddings.csv\", index=False)"
   ]
  },
  {
   "cell_type": "markdown",
   "id": "0356f563",
   "metadata": {},
   "source": [
    "Use DPR for question answering, using chunks[\"text_block.text\"] as context."
   ]
  },
  {
   "cell_type": "code",
   "execution_count": null,
   "id": "d3fb0720",
   "metadata": {},
   "outputs": [
    {
     "name": "stderr",
     "output_type": "stream",
     "text": [
      "Generating Embeddings:   0%|          | 0/14 [00:00<?, ?it/s]"
     ]
    },
    {
     "data": {
      "application/vnd.jupyter.widget-view+json": {
       "model_id": "6a3cb7e186214d4083dc0b5e315e66c3",
       "version_major": 2,
       "version_minor": 0
      },
      "text/plain": [
       "  0%|          | 0/1000 [00:00<?, ?it/s]"
      ]
     },
     "metadata": {},
     "output_type": "display_data"
    },
    {
     "name": "stderr",
     "output_type": "stream",
     "text": [
      "Generating Embeddings:   7%|▋         | 1/14 [00:30<06:32, 30.18s/it]"
     ]
    },
    {
     "data": {
      "application/vnd.jupyter.widget-view+json": {
       "model_id": "f71fca3e598f495ca7dcc910bb38d7a4",
       "version_major": 2,
       "version_minor": 0
      },
      "text/plain": [
       "  0%|          | 0/1000 [00:00<?, ?it/s]"
      ]
     },
     "metadata": {},
     "output_type": "display_data"
    },
    {
     "name": "stderr",
     "output_type": "stream",
     "text": [
      "Generating Embeddings:  14%|█▍        | 2/14 [01:06<06:46, 33.91s/it]"
     ]
    },
    {
     "data": {
      "application/vnd.jupyter.widget-view+json": {
       "model_id": "459d48771c974c18a67b47e6c092bba5",
       "version_major": 2,
       "version_minor": 0
      },
      "text/plain": [
       "  0%|          | 0/1000 [00:00<?, ?it/s]"
      ]
     },
     "metadata": {},
     "output_type": "display_data"
    },
    {
     "name": "stderr",
     "output_type": "stream",
     "text": [
      "Generating Embeddings:  21%|██▏       | 3/14 [01:30<05:23, 29.40s/it]"
     ]
    },
    {
     "data": {
      "application/vnd.jupyter.widget-view+json": {
       "model_id": "ddc419aa991b41c38c2102bfe18d07eb",
       "version_major": 2,
       "version_minor": 0
      },
      "text/plain": [
       "  0%|          | 0/1000 [00:00<?, ?it/s]"
      ]
     },
     "metadata": {},
     "output_type": "display_data"
    },
    {
     "name": "stderr",
     "output_type": "stream",
     "text": [
      "Generating Embeddings:  29%|██▊       | 4/14 [01:56<04:38, 27.87s/it]"
     ]
    },
    {
     "data": {
      "application/vnd.jupyter.widget-view+json": {
       "model_id": "5f34a0be32864366badfc86d03164ab1",
       "version_major": 2,
       "version_minor": 0
      },
      "text/plain": [
       "  0%|          | 0/1000 [00:00<?, ?it/s]"
      ]
     },
     "metadata": {},
     "output_type": "display_data"
    },
    {
     "name": "stderr",
     "output_type": "stream",
     "text": [
      "Generating Embeddings:  36%|███▌      | 5/14 [02:19<03:55, 26.22s/it]"
     ]
    },
    {
     "data": {
      "application/vnd.jupyter.widget-view+json": {
       "model_id": "9e5a5f73aecd4623b4485ba0eee23c9d",
       "version_major": 2,
       "version_minor": 0
      },
      "text/plain": [
       "  0%|          | 0/1000 [00:00<?, ?it/s]"
      ]
     },
     "metadata": {},
     "output_type": "display_data"
    },
    {
     "name": "stderr",
     "output_type": "stream",
     "text": [
      "Generating Embeddings:  43%|████▎     | 6/14 [02:42<03:19, 24.98s/it]"
     ]
    },
    {
     "data": {
      "application/vnd.jupyter.widget-view+json": {
       "model_id": "f447aa4b832c4ea58dd5aaa545e71778",
       "version_major": 2,
       "version_minor": 0
      },
      "text/plain": [
       "  0%|          | 0/1000 [00:00<?, ?it/s]"
      ]
     },
     "metadata": {},
     "output_type": "display_data"
    },
    {
     "name": "stderr",
     "output_type": "stream",
     "text": [
      "Generating Embeddings:  50%|█████     | 7/14 [03:01<02:42, 23.15s/it]"
     ]
    },
    {
     "data": {
      "application/vnd.jupyter.widget-view+json": {
       "model_id": "64fe29e5db5f4cfca0940d0a0eefb083",
       "version_major": 2,
       "version_minor": 0
      },
      "text/plain": [
       "  0%|          | 0/1000 [00:00<?, ?it/s]"
      ]
     },
     "metadata": {},
     "output_type": "display_data"
    },
    {
     "name": "stderr",
     "output_type": "stream",
     "text": [
      "Generating Embeddings:  57%|█████▋    | 8/14 [03:25<02:19, 23.26s/it]"
     ]
    },
    {
     "data": {
      "application/vnd.jupyter.widget-view+json": {
       "model_id": "c86745e374574ffeaebefc0edcc11af7",
       "version_major": 2,
       "version_minor": 0
      },
      "text/plain": [
       "  0%|          | 0/1000 [00:00<?, ?it/s]"
      ]
     },
     "metadata": {},
     "output_type": "display_data"
    },
    {
     "name": "stderr",
     "output_type": "stream",
     "text": [
      "Generating Embeddings:  64%|██████▍   | 9/14 [03:50<01:59, 23.83s/it]"
     ]
    },
    {
     "data": {
      "application/vnd.jupyter.widget-view+json": {
       "model_id": "d1227c100a4248e9b7f4b9f16ebec730",
       "version_major": 2,
       "version_minor": 0
      },
      "text/plain": [
       "  0%|          | 0/1000 [00:00<?, ?it/s]"
      ]
     },
     "metadata": {},
     "output_type": "display_data"
    },
    {
     "name": "stderr",
     "output_type": "stream",
     "text": [
      "Generating Embeddings:  71%|███████▏  | 10/14 [04:12<01:33, 23.46s/it]"
     ]
    },
    {
     "data": {
      "application/vnd.jupyter.widget-view+json": {
       "model_id": "c1416f69a4be4c398f5a87ae98861abb",
       "version_major": 2,
       "version_minor": 0
      },
      "text/plain": [
       "  0%|          | 0/1000 [00:00<?, ?it/s]"
      ]
     },
     "metadata": {},
     "output_type": "display_data"
    },
    {
     "name": "stderr",
     "output_type": "stream",
     "text": [
      "Generating Embeddings:  79%|███████▊  | 11/14 [04:33<01:07, 22.49s/it]"
     ]
    },
    {
     "data": {
      "application/vnd.jupyter.widget-view+json": {
       "model_id": "dbdac48d00f54c7facc66ad6bb1ff496",
       "version_major": 2,
       "version_minor": 0
      },
      "text/plain": [
       "  0%|          | 0/1000 [00:00<?, ?it/s]"
      ]
     },
     "metadata": {},
     "output_type": "display_data"
    },
    {
     "name": "stderr",
     "output_type": "stream",
     "text": [
      "Generating Embeddings:  86%|████████▌ | 12/14 [04:53<00:44, 22.00s/it]"
     ]
    },
    {
     "data": {
      "application/vnd.jupyter.widget-view+json": {
       "model_id": "fcaf804f96c54fcdb36d6f1ee4734adc",
       "version_major": 2,
       "version_minor": 0
      },
      "text/plain": [
       "  0%|          | 0/1000 [00:00<?, ?it/s]"
      ]
     },
     "metadata": {},
     "output_type": "display_data"
    },
    {
     "name": "stderr",
     "output_type": "stream",
     "text": [
      "Generating Embeddings:  93%|█████████▎| 13/14 [05:14<00:21, 21.49s/it]"
     ]
    },
    {
     "data": {
      "application/vnd.jupyter.widget-view+json": {
       "model_id": "fa988c43024e4518bee213ebae346f6c",
       "version_major": 2,
       "version_minor": 0
      },
      "text/plain": [
       "  0%|          | 0/797 [00:00<?, ?it/s]"
      ]
     },
     "metadata": {},
     "output_type": "display_data"
    },
    {
     "name": "stderr",
     "output_type": "stream",
     "text": [
      "Generating Embeddings: 100%|██████████| 14/14 [05:36<00:00, 24.01s/it]\n"
     ]
    }
   ],
   "source": [
    "\n",
    "# Ensure the \"data\" directory exists\n",
    "os.makedirs(\"data\", exist_ok=True)\n",
    "\n",
    "# Use the filtered dataset, can add more columns if need to, for now only texts and doc_ids are present\n",
    "texts = alb_chunks[\"text_block.text\"]\n",
    "doc_ids = alb_chunks[\"document_id\"]\n",
    "\n",
    "# Batch processing setup\n",
    "batch_size = 1000\n",
    "num_batches = (len(texts) + batch_size - 1) // batch_size\n",
    "\n",
    "all_embeddings = []\n",
    "all_doc_ids = []\n",
    "\n",
    "for i in tqdm(range(num_batches), desc=\"Generating Embeddings\"):\n",
    "    start_idx = i * batch_size\n",
    "    end_idx = min((i + 1) * batch_size, len(texts))\n",
    "    \n",
    "    batch_texts = texts.iloc[start_idx:end_idx]\n",
    "    batch_ids = doc_ids.iloc[start_idx:end_idx]\n",
    "    \n",
    "    batch_embeddings = batch_texts.progress_apply(\n",
    "        lambda text: generate_embeddings_for_text(text, model, tokenizer)\n",
    "    )\n",
    "    \n",
    "    all_embeddings.extend(batch_embeddings)\n",
    "    all_doc_ids.extend(batch_ids)\n",
    "\n",
    "# Create a DataFrame for all embeddings\n",
    "embeddings_df = pd.DataFrame({\n",
    "    \"document_id\": all_doc_ids,\n",
    "    \"embedding\": all_embeddings\n",
    "})\n",
    "\n",
    "# Save to CSV\n",
    "embeddings_df.to_csv(\"data/albania_embeddings.csv\", index=False)\n"
   ]
  },
  {
   "cell_type": "markdown",
   "id": "c5910cda",
   "metadata": {},
   "source": [
    "### Embedding all documents for all countries\n",
    "\n",
    "Now that I've tested with Albania and it worked, I'll generate embeddings with all documents and save them into csv files first. I will then save them into the database.\n",
    "\n",
    "This block of code takes a long time. It's a replication of the code for Albania but ensures each csv file has the country name and embeddings for that specific country is saved into their respective csv file.\n",
    "\n",
    "The rows that do not have string values are skipped (it should not be a problem because the column selected should always have a string value normally)"
   ]
  },
  {
   "cell_type": "code",
   "execution_count": null,
   "id": "26231559",
   "metadata": {},
   "outputs": [
    {
     "name": "stderr",
     "output_type": "stream",
     "text": [
      "Filtering by country: 100%|██████████| 18/18 [00:01<00:00, 13.82it/s]\n"
     ]
    }
   ],
   "source": [
    "# Make sure column is string for filtering\n",
    "df[\"document_metadata.geographies\"] = df[\"document_metadata.geographies\"].astype(str)\n",
    "\n",
    "# Extract 3-letter codes like 'ALB', 'DEU', etc.\n",
    "df[\"country_code\"] = df[\"document_metadata.geographies\"].str.extract(r\"\\{(\\w+)\\}\")\n",
    "\n",
    "# Get all unique codes\n",
    "country_codes = df[\"country_code\"].dropna().unique()\n",
    "\n",
    "# Store each country chunk in a dictionary\n",
    "country_chunks = {}\n",
    "\n",
    "for code in tqdm(country_codes, desc=\"Filtering by country\"):\n",
    "    country_chunks[code] = df[df[\"country_code\"] == code]"
   ]
  },
  {
   "cell_type": "code",
   "execution_count": 25,
   "id": "1c0e5baf",
   "metadata": {},
   "outputs": [
    {
     "name": "stdout",
     "output_type": "stream",
     "text": [
      "18\n",
      "ALB: 13797 documents\n",
      "BIH: 16552 documents\n",
      "ZAF: 11132 documents\n",
      "FRA: 351 documents\n",
      "MNE: 3152 documents\n",
      "XKX: 5314 documents\n",
      "MKD: 14146 documents\n",
      "SRB: 9976 documents\n",
      "EUR: 3840 documents\n",
      "TUV: 4896 documents\n",
      "BRA: 1067 documents\n",
      "CAN: 91 documents\n",
      "DEU: 126 documents\n",
      "CHN: 644 documents\n",
      "AZE: 7206 documents\n",
      "JPN: 119 documents\n",
      "IRL: 3 documents\n",
      "GBR: 249 documents\n"
     ]
    }
   ],
   "source": [
    "print(len(country_chunks))\n",
    "\n",
    "#how many documents for each country\n",
    "for code, chunk in country_chunks.items():\n",
    "    print(f\"{code}: {len(chunk)} documents\")"
   ]
  },
  {
   "cell_type": "code",
   "execution_count": null,
   "id": "dd43d5d3",
   "metadata": {},
   "outputs": [
    {
     "name": "stderr",
     "output_type": "stream",
     "text": [
      "Generating country embeddings:   0%|          | 0/18 [00:00<?, ?it/s]"
     ]
    },
    {
     "data": {
      "application/vnd.jupyter.widget-view+json": {
       "model_id": "12bed9ece74c452387829a9b9658e5bd",
       "version_major": 2,
       "version_minor": 0
      },
      "text/plain": [
       "  0%|          | 0/10000 [00:00<?, ?it/s]"
      ]
     },
     "metadata": {},
     "output_type": "display_data"
    },
    {
     "name": "stderr",
     "output_type": "stream",
     "text": []
    },
    {
     "data": {
      "application/vnd.jupyter.widget-view+json": {
       "model_id": "0b6ea4a85d48461a8116cd396936f133",
       "version_major": 2,
       "version_minor": 0
      },
      "text/plain": [
       "  0%|          | 0/3797 [00:00<?, ?it/s]"
      ]
     },
     "metadata": {},
     "output_type": "display_data"
    },
    {
     "name": "stderr",
     "output_type": "stream",
     "text": [
      "Generating country embeddings:   6%|▌         | 1/18 [06:03<1:42:53, 363.15s/it]"
     ]
    },
    {
     "data": {
      "application/vnd.jupyter.widget-view+json": {
       "model_id": "3681a7665cb54cfcaa28ee826ed3f5fa",
       "version_major": 2,
       "version_minor": 0
      },
      "text/plain": [
       "  0%|          | 0/10000 [00:00<?, ?it/s]"
      ]
     },
     "metadata": {},
     "output_type": "display_data"
    },
    {
     "name": "stderr",
     "output_type": "stream",
     "text": []
    },
    {
     "data": {
      "application/vnd.jupyter.widget-view+json": {
       "model_id": "ee4c38ec671a4c3ca26280b4ae0a2f0c",
       "version_major": 2,
       "version_minor": 0
      },
      "text/plain": [
       "  0%|          | 0/6552 [00:00<?, ?it/s]"
      ]
     },
     "metadata": {},
     "output_type": "display_data"
    },
    {
     "name": "stderr",
     "output_type": "stream",
     "text": [
      "Generating country embeddings:  11%|█         | 2/18 [14:03<1:55:17, 432.35s/it]"
     ]
    },
    {
     "data": {
      "application/vnd.jupyter.widget-view+json": {
       "model_id": "75b26675f95c4694bbd08c5abc78824b",
       "version_major": 2,
       "version_minor": 0
      },
      "text/plain": [
       "  0%|          | 0/10000 [00:00<?, ?it/s]"
      ]
     },
     "metadata": {},
     "output_type": "display_data"
    },
    {
     "name": "stderr",
     "output_type": "stream",
     "text": []
    },
    {
     "data": {
      "application/vnd.jupyter.widget-view+json": {
       "model_id": "7dff6e0356ba4e16990fe9a6e2398b96",
       "version_major": 2,
       "version_minor": 0
      },
      "text/plain": [
       "  0%|          | 0/1132 [00:00<?, ?it/s]"
      ]
     },
     "metadata": {},
     "output_type": "display_data"
    },
    {
     "name": "stderr",
     "output_type": "stream",
     "text": [
      "Generating country embeddings:  17%|█▋        | 3/18 [20:48<1:44:54, 419.62s/it]"
     ]
    },
    {
     "data": {
      "application/vnd.jupyter.widget-view+json": {
       "model_id": "8efcd170596a464cb097239edc3b7ccc",
       "version_major": 2,
       "version_minor": 0
      },
      "text/plain": [
       "  0%|          | 0/351 [00:00<?, ?it/s]"
      ]
     },
     "metadata": {},
     "output_type": "display_data"
    },
    {
     "name": "stderr",
     "output_type": "stream",
     "text": [
      "Generating country embeddings:  22%|██▏       | 4/18 [21:14<1:01:40, 264.31s/it]"
     ]
    },
    {
     "data": {
      "application/vnd.jupyter.widget-view+json": {
       "model_id": "ae5a595ff08e4e7a8f9d61147ccd3082",
       "version_major": 2,
       "version_minor": 0
      },
      "text/plain": [
       "  0%|          | 0/3148 [00:00<?, ?it/s]"
      ]
     },
     "metadata": {},
     "output_type": "display_data"
    },
    {
     "name": "stderr",
     "output_type": "stream",
     "text": [
      "Generating country embeddings:  28%|██▊       | 5/18 [24:15<50:46, 234.38s/it]  "
     ]
    },
    {
     "data": {
      "application/vnd.jupyter.widget-view+json": {
       "model_id": "235bc0cab0f846c7b25bc533323c8b80",
       "version_major": 2,
       "version_minor": 0
      },
      "text/plain": [
       "  0%|          | 0/5314 [00:00<?, ?it/s]"
      ]
     },
     "metadata": {},
     "output_type": "display_data"
    },
    {
     "name": "stderr",
     "output_type": "stream",
     "text": [
      "Generating country embeddings:  33%|███▎      | 6/18 [27:45<45:12, 226.03s/it]"
     ]
    },
    {
     "data": {
      "application/vnd.jupyter.widget-view+json": {
       "model_id": "3ee8da81cf4e4b359e1b229874fb1d6c",
       "version_major": 2,
       "version_minor": 0
      },
      "text/plain": [
       "  0%|          | 0/10000 [00:00<?, ?it/s]"
      ]
     },
     "metadata": {},
     "output_type": "display_data"
    },
    {
     "name": "stderr",
     "output_type": "stream",
     "text": []
    },
    {
     "data": {
      "application/vnd.jupyter.widget-view+json": {
       "model_id": "a8c8690389114707bf49cdc083a9c4f7",
       "version_major": 2,
       "version_minor": 0
      },
      "text/plain": [
       "  0%|          | 0/4144 [00:00<?, ?it/s]"
      ]
     },
     "metadata": {},
     "output_type": "display_data"
    },
    {
     "name": "stderr",
     "output_type": "stream",
     "text": [
      "Generating country embeddings:  39%|███▉      | 7/18 [42:13<1:19:52, 435.69s/it]"
     ]
    },
    {
     "data": {
      "application/vnd.jupyter.widget-view+json": {
       "model_id": "28094167affe4da3a777fdb087375c67",
       "version_major": 2,
       "version_minor": 0
      },
      "text/plain": [
       "  0%|          | 0/9974 [00:00<?, ?it/s]"
      ]
     },
     "metadata": {},
     "output_type": "display_data"
    },
    {
     "name": "stderr",
     "output_type": "stream",
     "text": [
      "Generating country embeddings:  44%|████▍     | 8/18 [53:55<1:26:44, 520.47s/it]"
     ]
    },
    {
     "data": {
      "application/vnd.jupyter.widget-view+json": {
       "model_id": "1df6b99efc0947889a279fde8aa80d5c",
       "version_major": 2,
       "version_minor": 0
      },
      "text/plain": [
       "  0%|          | 0/3840 [00:00<?, ?it/s]"
      ]
     },
     "metadata": {},
     "output_type": "display_data"
    },
    {
     "name": "stderr",
     "output_type": "stream",
     "text": [
      "Generating country embeddings:  50%|█████     | 9/18 [57:09<1:02:47, 418.60s/it]"
     ]
    },
    {
     "data": {
      "application/vnd.jupyter.widget-view+json": {
       "model_id": "2b0b8c3fe9354305be2b67fe7771bd32",
       "version_major": 2,
       "version_minor": 0
      },
      "text/plain": [
       "  0%|          | 0/4896 [00:00<?, ?it/s]"
      ]
     },
     "metadata": {},
     "output_type": "display_data"
    },
    {
     "name": "stderr",
     "output_type": "stream",
     "text": [
      "Generating country embeddings:  56%|█████▌    | 10/18 [59:07<43:25, 325.67s/it] "
     ]
    },
    {
     "data": {
      "application/vnd.jupyter.widget-view+json": {
       "model_id": "84b83fff0df8411a91d530034c8012de",
       "version_major": 2,
       "version_minor": 0
      },
      "text/plain": [
       "  0%|          | 0/1065 [00:00<?, ?it/s]"
      ]
     },
     "metadata": {},
     "output_type": "display_data"
    },
    {
     "name": "stderr",
     "output_type": "stream",
     "text": [
      "Generating country embeddings:  61%|██████    | 11/18 [59:50<27:55, 239.32s/it]"
     ]
    },
    {
     "data": {
      "application/vnd.jupyter.widget-view+json": {
       "model_id": "e7f10ec80142440e9e1ccdc77dc37c3d",
       "version_major": 2,
       "version_minor": 0
      },
      "text/plain": [
       "  0%|          | 0/89 [00:00<?, ?it/s]"
      ]
     },
     "metadata": {},
     "output_type": "display_data"
    },
    {
     "name": "stderr",
     "output_type": "stream",
     "text": [
      "Generating country embeddings:  67%|██████▋   | 12/18 [59:55<16:47, 167.99s/it]"
     ]
    },
    {
     "data": {
      "application/vnd.jupyter.widget-view+json": {
       "model_id": "64bf4e6ad29a4d049437ad8a5c700f4f",
       "version_major": 2,
       "version_minor": 0
      },
      "text/plain": [
       "  0%|          | 0/126 [00:00<?, ?it/s]"
      ]
     },
     "metadata": {},
     "output_type": "display_data"
    },
    {
     "name": "stderr",
     "output_type": "stream",
     "text": [
      "Generating country embeddings:  72%|███████▏  | 13/18 [1:00:02<09:56, 119.28s/it]"
     ]
    },
    {
     "data": {
      "application/vnd.jupyter.widget-view+json": {
       "model_id": "f336b6ce692c406ea2c70b639d4fb60e",
       "version_major": 2,
       "version_minor": 0
      },
      "text/plain": [
       "  0%|          | 0/644 [00:00<?, ?it/s]"
      ]
     },
     "metadata": {},
     "output_type": "display_data"
    },
    {
     "name": "stderr",
     "output_type": "stream",
     "text": [
      "Generating country embeddings:  78%|███████▊  | 14/18 [1:01:03<06:46, 101.70s/it]"
     ]
    },
    {
     "data": {
      "application/vnd.jupyter.widget-view+json": {
       "model_id": "85e88c205057436e87ce769028b29a3e",
       "version_major": 2,
       "version_minor": 0
      },
      "text/plain": [
       "  0%|          | 0/7206 [00:00<?, ?it/s]"
      ]
     },
     "metadata": {},
     "output_type": "display_data"
    },
    {
     "name": "stderr",
     "output_type": "stream",
     "text": [
      "Generating country embeddings:  83%|████████▎ | 15/18 [1:05:45<07:48, 156.00s/it]"
     ]
    },
    {
     "data": {
      "application/vnd.jupyter.widget-view+json": {
       "model_id": "a4247378046342a09f3644ade28140df",
       "version_major": 2,
       "version_minor": 0
      },
      "text/plain": [
       "  0%|          | 0/119 [00:00<?, ?it/s]"
      ]
     },
     "metadata": {},
     "output_type": "display_data"
    },
    {
     "name": "stderr",
     "output_type": "stream",
     "text": [
      "Generating country embeddings:  89%|████████▉ | 16/18 [1:05:51<03:41, 110.77s/it]"
     ]
    },
    {
     "data": {
      "application/vnd.jupyter.widget-view+json": {
       "model_id": "a59e1eac158543edbde67bae386c30f2",
       "version_major": 2,
       "version_minor": 0
      },
      "text/plain": [
       "  0%|          | 0/3 [00:00<?, ?it/s]"
      ]
     },
     "metadata": {},
     "output_type": "display_data"
    },
    {
     "name": "stderr",
     "output_type": "stream",
     "text": [
      "Generating country embeddings:  94%|█████████▍| 17/18 [1:05:51<01:17, 77.53s/it] "
     ]
    },
    {
     "data": {
      "application/vnd.jupyter.widget-view+json": {
       "model_id": "670acd879f7349c6afa2752e598c40cb",
       "version_major": 2,
       "version_minor": 0
      },
      "text/plain": [
       "  0%|          | 0/249 [00:00<?, ?it/s]"
      ]
     },
     "metadata": {},
     "output_type": "display_data"
    },
    {
     "name": "stderr",
     "output_type": "stream",
     "text": [
      "Generating country embeddings: 100%|██████████| 18/18 [1:06:00<00:00, 220.04s/it]\n"
     ]
    }
   ],
   "source": [
    "# Ensure the \"data\" directory exists\n",
    "os.makedirs(\"data\", exist_ok=True)\n",
    "\n",
    "# Batch size for embedding\n",
    "batch_size = 10000\n",
    "\n",
    "# Loop through each country's data in the dictionary\n",
    "for code, chunk in tqdm(country_chunks.items(), desc=\"Generating country embeddings\"):\n",
    "    texts = chunk[\"text_block.text\"]\n",
    "    doc_ids = chunk[\"document_id\"]\n",
    "\n",
    "    num_batches = (len(texts) + batch_size - 1) // batch_size\n",
    "\n",
    "    all_embeddings = []\n",
    "    all_doc_ids = []\n",
    "\n",
    "    for i in tqdm(range(num_batches), desc=f\"Embedding {code}\", leave=False):\n",
    "        start_idx = i * batch_size\n",
    "        end_idx = min((i + 1) * batch_size, len(texts))\n",
    "\n",
    "        batch_texts = texts.iloc[start_idx:end_idx]\n",
    "        batch_ids = doc_ids.iloc[start_idx:end_idx]\n",
    "\n",
    "        # Reset index so they stay aligned after filtering\n",
    "        batch_texts = batch_texts.reset_index(drop=True)\n",
    "        batch_ids = batch_ids.reset_index(drop=True)\n",
    "\n",
    "        # Filter out invalid texts\n",
    "        mask = batch_texts.apply(lambda x: isinstance(x, str) and x.strip() != \"\")\n",
    "        batch_texts = batch_texts[mask]\n",
    "        batch_ids = batch_ids[mask]\n",
    "\n",
    "\n",
    "        batch_embeddings = batch_texts.progress_apply(\n",
    "            lambda text: generate_embeddings_for_text(text, model, tokenizer)\n",
    "        )\n",
    "\n",
    "        all_embeddings.extend(batch_embeddings)\n",
    "        all_doc_ids.extend(batch_ids)\n",
    "\n",
    "    # Save to DataFrame\n",
    "    embeddings_df = pd.DataFrame({\n",
    "        \"document_id\": all_doc_ids,\n",
    "        \"embedding\": all_embeddings\n",
    "    })\n",
    "\n",
    "    # Save to CSV using the country code (e.g. alb_embeddings.csv)\n",
    "    filename = f\"data/{code.lower()}_embeddings.csv\"\n",
    "    embeddings_df.to_csv(filename, index=False)\n"
   ]
  },
  {
   "cell_type": "markdown",
   "id": "b1e57c87",
   "metadata": {},
   "source": [
    "# 3. Saving the embeddings into the database"
   ]
  },
  {
   "cell_type": "markdown",
   "id": "695baff1",
   "metadata": {},
   "source": [
    "Now go to create_table.sql and run the query to create the table. Remember to select the Postgres Server at the bottom, and highlight the code and right click to run query."
   ]
  },
  {
   "cell_type": "code",
   "execution_count": 69,
   "id": "246a598a",
   "metadata": {},
   "outputs": [
    {
     "name": "stdout",
     "output_type": "stream",
     "text": [
      "768\n",
      "alb_embeddings.csv has 13797 embeddings\n",
      "aze_embeddings.csv has 7206 embeddings\n",
      "bih_embeddings.csv has 16552 embeddings\n",
      "bra_embeddings.csv has 1065 embeddings\n",
      "can_embeddings.csv has 89 embeddings\n",
      "chn_embeddings.csv has 644 embeddings\n",
      "deu_embeddings.csv has 126 embeddings\n",
      "eur_embeddings.csv has 3840 embeddings\n",
      "fra_embeddings.csv has 351 embeddings\n",
      "gbr_embeddings.csv has 249 embeddings\n",
      "irl_embeddings.csv has 3 embeddings\n",
      "jpn_embeddings.csv has 119 embeddings\n",
      "mkd_embeddings.csv has 14144 embeddings\n",
      "mne_embeddings.csv has 3148 embeddings\n",
      "srb_embeddings.csv has 9974 embeddings\n",
      "tuv_embeddings.csv has 4896 embeddings\n",
      "xkx_embeddings.csv has 5314 embeddings\n",
      "zaf_embeddings.csv has 11132 embeddings\n"
     ]
    }
   ],
   "source": [
    "# Make sure the dimentions of the embeddings are correct\n",
    "df = pd.read_csv(\"data/alb_embeddings.csv\")\n",
    "print(len(eval(df[\"embedding\"][0])))  # Check how many dimensions\n",
    "\n",
    "#double checking how many embeddings each file has\n",
    "csv_files = sorted(glob.glob(\"data/*_embeddings.csv\"))\n",
    "for file in csv_files:\n",
    "    df=pd.read_csv(file)\n",
    "    print(f\"{os.path.basename(file)} has {len(df)} embeddings\")\n"
   ]
  },
  {
   "cell_type": "code",
   "execution_count": 68,
   "id": "cd050196",
   "metadata": {},
   "outputs": [
    {
     "data": {
      "application/vnd.jupyter.widget-view+json": {
       "model_id": "357447ba784648f7ab8502095cd49195",
       "version_major": 2,
       "version_minor": 0
      },
      "text/plain": [
       "Uploading ALB:   0%|          | 0/13797 [00:00<?, ?it/s]"
      ]
     },
     "metadata": {},
     "output_type": "display_data"
    },
    {
     "data": {
      "application/vnd.jupyter.widget-view+json": {
       "model_id": "46bccc1032cf49568721b1b291918b07",
       "version_major": 2,
       "version_minor": 0
      },
      "text/plain": [
       "Uploading AZE:   0%|          | 0/7206 [00:00<?, ?it/s]"
      ]
     },
     "metadata": {},
     "output_type": "display_data"
    },
    {
     "data": {
      "application/vnd.jupyter.widget-view+json": {
       "model_id": "17342be0c9bc4be9a4cf1dc3b297e414",
       "version_major": 2,
       "version_minor": 0
      },
      "text/plain": [
       "Uploading BIH:   0%|          | 0/16552 [00:00<?, ?it/s]"
      ]
     },
     "metadata": {},
     "output_type": "display_data"
    },
    {
     "data": {
      "application/vnd.jupyter.widget-view+json": {
       "model_id": "a8716936b38645c3aeca2200cd8504e0",
       "version_major": 2,
       "version_minor": 0
      },
      "text/plain": [
       "Uploading BRA:   0%|          | 0/1065 [00:00<?, ?it/s]"
      ]
     },
     "metadata": {},
     "output_type": "display_data"
    },
    {
     "data": {
      "application/vnd.jupyter.widget-view+json": {
       "model_id": "5306a1f2975349f3a487fc01d665b43c",
       "version_major": 2,
       "version_minor": 0
      },
      "text/plain": [
       "Uploading CAN:   0%|          | 0/89 [00:00<?, ?it/s]"
      ]
     },
     "metadata": {},
     "output_type": "display_data"
    },
    {
     "data": {
      "application/vnd.jupyter.widget-view+json": {
       "model_id": "8abdda16ff6d4d019fb6c74f77b00915",
       "version_major": 2,
       "version_minor": 0
      },
      "text/plain": [
       "Uploading CHN:   0%|          | 0/644 [00:00<?, ?it/s]"
      ]
     },
     "metadata": {},
     "output_type": "display_data"
    },
    {
     "data": {
      "application/vnd.jupyter.widget-view+json": {
       "model_id": "6d196d779f324dd9bbe65d32ed3e495f",
       "version_major": 2,
       "version_minor": 0
      },
      "text/plain": [
       "Uploading DEU:   0%|          | 0/126 [00:00<?, ?it/s]"
      ]
     },
     "metadata": {},
     "output_type": "display_data"
    },
    {
     "data": {
      "application/vnd.jupyter.widget-view+json": {
       "model_id": "61854d30ac6a456fad5ddac2da208810",
       "version_major": 2,
       "version_minor": 0
      },
      "text/plain": [
       "Uploading EUR:   0%|          | 0/3840 [00:00<?, ?it/s]"
      ]
     },
     "metadata": {},
     "output_type": "display_data"
    },
    {
     "data": {
      "application/vnd.jupyter.widget-view+json": {
       "model_id": "c60f5d2123104ce786695cd769f671e4",
       "version_major": 2,
       "version_minor": 0
      },
      "text/plain": [
       "Uploading FRA:   0%|          | 0/351 [00:00<?, ?it/s]"
      ]
     },
     "metadata": {},
     "output_type": "display_data"
    },
    {
     "data": {
      "application/vnd.jupyter.widget-view+json": {
       "model_id": "7186e71407a945448a73c9c83e872acf",
       "version_major": 2,
       "version_minor": 0
      },
      "text/plain": [
       "Uploading GBR:   0%|          | 0/249 [00:00<?, ?it/s]"
      ]
     },
     "metadata": {},
     "output_type": "display_data"
    },
    {
     "data": {
      "application/vnd.jupyter.widget-view+json": {
       "model_id": "ddc114a8094749e58823719e7158eeaa",
       "version_major": 2,
       "version_minor": 0
      },
      "text/plain": [
       "Uploading IRL:   0%|          | 0/3 [00:00<?, ?it/s]"
      ]
     },
     "metadata": {},
     "output_type": "display_data"
    },
    {
     "data": {
      "application/vnd.jupyter.widget-view+json": {
       "model_id": "b91b4b721c524ffebe492c85a33049c0",
       "version_major": 2,
       "version_minor": 0
      },
      "text/plain": [
       "Uploading JPN:   0%|          | 0/119 [00:00<?, ?it/s]"
      ]
     },
     "metadata": {},
     "output_type": "display_data"
    },
    {
     "data": {
      "application/vnd.jupyter.widget-view+json": {
       "model_id": "620a1bd69e184c60807a9a3c2eae734b",
       "version_major": 2,
       "version_minor": 0
      },
      "text/plain": [
       "Uploading MKD:   0%|          | 0/14144 [00:00<?, ?it/s]"
      ]
     },
     "metadata": {},
     "output_type": "display_data"
    },
    {
     "data": {
      "application/vnd.jupyter.widget-view+json": {
       "model_id": "a85907f56a464d4fa15864990f24dc52",
       "version_major": 2,
       "version_minor": 0
      },
      "text/plain": [
       "Uploading MNE:   0%|          | 0/3148 [00:00<?, ?it/s]"
      ]
     },
     "metadata": {},
     "output_type": "display_data"
    },
    {
     "data": {
      "application/vnd.jupyter.widget-view+json": {
       "model_id": "652ba39c219e48898bb30b90942e390a",
       "version_major": 2,
       "version_minor": 0
      },
      "text/plain": [
       "Uploading SRB:   0%|          | 0/9974 [00:00<?, ?it/s]"
      ]
     },
     "metadata": {},
     "output_type": "display_data"
    },
    {
     "data": {
      "application/vnd.jupyter.widget-view+json": {
       "model_id": "7633fbacc4af4b0d876dc13612c0b1ce",
       "version_major": 2,
       "version_minor": 0
      },
      "text/plain": [
       "Uploading TUV:   0%|          | 0/4896 [00:00<?, ?it/s]"
      ]
     },
     "metadata": {},
     "output_type": "display_data"
    },
    {
     "data": {
      "application/vnd.jupyter.widget-view+json": {
       "model_id": "1c4199b330244c3ea1187b572f983242",
       "version_major": 2,
       "version_minor": 0
      },
      "text/plain": [
       "Uploading XKX:   0%|          | 0/5314 [00:00<?, ?it/s]"
      ]
     },
     "metadata": {},
     "output_type": "display_data"
    },
    {
     "data": {
      "application/vnd.jupyter.widget-view+json": {
       "model_id": "f41ba2479cf14a53b01c6ddf180c2b77",
       "version_major": 2,
       "version_minor": 0
      },
      "text/plain": [
       "Uploading ZAF:   0%|          | 0/11132 [00:00<?, ?it/s]"
      ]
     },
     "metadata": {},
     "output_type": "display_data"
    },
    {
     "name": "stdout",
     "output_type": "stream",
     "text": [
      "✅ All embeddings uploaded into document_embeddings table.\n"
     ]
    }
   ],
   "source": [
    "import glob\n",
    "import ast\n",
    "from sqlalchemy.orm import sessionmaker\n",
    "\n",
    "# Connect to DB\n",
    "load_dotenv()\n",
    "engine = create_engine(os.getenv(\"DB_URL\"))\n",
    "Session = sessionmaker(bind=engine)\n",
    "session = Session()\n",
    "\n",
    "# Find all *_embeddings.csv files\n",
    "csv_files = sorted(glob.glob(\"data/*_embeddings.csv\"))\n",
    "\n",
    "for file in csv_files:\n",
    "    country_code = os.path.basename(file)[:3].upper()\n",
    "    df = pd.read_csv(file)\n",
    "    df[\"country_code\"] = country_code\n",
    "\n",
    "    # Parse embeddings from string to list[float]\n",
    "    df[\"embedding\"] = df[\"embedding\"].apply(\n",
    "        lambda x: ast.literal_eval(x.strip()) if isinstance(x, str) else x\n",
    "    )\n",
    "\n",
    "    for _, row in tqdm(df.iterrows(), total=len(df), desc=f\"Uploading {country_code}\"):\n",
    "        if not row[\"embedding\"]:\n",
    "            continue\n",
    "\n",
    "        stmt = text(\"\"\"\n",
    "            INSERT INTO document_embeddings (document_id, country_code, embedding)\n",
    "            VALUES (:document_id, :country_code, :embedding)\n",
    "        \"\"\")\n",
    "\n",
    "        session.execute(stmt, {\n",
    "            \"document_id\": row[\"document_id\"],\n",
    "            \"country_code\": row[\"country_code\"],\n",
    "            \"embedding\": row[\"embedding\"]\n",
    "        })\n",
    "\n",
    "    session.commit()\n",
    "\n",
    "print(\"✅ All embeddings uploaded into document_embeddings table.\")\n"
   ]
  }
 ],
 "metadata": {
  "kernelspec": {
   "display_name": "project-env",
   "language": "python",
   "name": "python3"
  },
  "language_info": {
   "codemirror_mode": {
    "name": "ipython",
    "version": 3
   },
   "file_extension": ".py",
   "mimetype": "text/x-python",
   "name": "python",
   "nbconvert_exporter": "python",
   "pygments_lexer": "ipython3",
   "version": "3.12.4"
  }
 },
 "nbformat": 4,
 "nbformat_minor": 5
}
