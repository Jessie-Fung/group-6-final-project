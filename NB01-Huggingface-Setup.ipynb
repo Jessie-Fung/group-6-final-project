{
 "cells": [
  {
   "cell_type": "markdown",
   "id": "83736cf2",
   "metadata": {},
   "source": [
    "# 1. Set up the Huggingface Climate Policy Radar dataset."
   ]
  },
  {
   "cell_type": "code",
   "execution_count": 2,
   "id": "e4b6dc7b",
   "metadata": {},
   "outputs": [
    {
     "data": {
      "application/vnd.jupyter.widget-view+json": {
       "model_id": "ad65d0f25526439eb3b7414026348dd9",
       "version_major": 2,
       "version_minor": 0
      },
      "text/plain": [
       "Resolving data files:   0%|          | 0/23 [00:00<?, ?it/s]"
      ]
     },
     "metadata": {},
     "output_type": "display_data"
    },
    {
     "data": {
      "application/vnd.jupyter.widget-view+json": {
       "model_id": "0251901d71b146509299d56507688bad",
       "version_major": 2,
       "version_minor": 0
      },
      "text/plain": [
       "Loading dataset shards:   0%|          | 0/42 [00:00<?, ?it/s]"
      ]
     },
     "metadata": {},
     "output_type": "display_data"
    }
   ],
   "source": [
    "from datasets import load_dataset\n",
    "\n",
    "# Login using e.g. `huggingface-cli login` to access this dataset\n",
    "\n",
    "ds = load_dataset(\"ClimatePolicyRadar/all-document-text-data\")"
   ]
  },
  {
   "cell_type": "code",
   "execution_count": 10,
   "id": "103174c1",
   "metadata": {},
   "outputs": [],
   "source": [
    "chunks = ds[\"train\"]"
   ]
  },
  {
   "cell_type": "code",
   "execution_count": 11,
   "id": "b443a98e",
   "metadata": {},
   "outputs": [
    {
     "data": {
      "text/plain": [
       "{'document_id': 'CCLW.document.i00000002.n0000',\n",
       " 'document_metadata.collection_summary': None,\n",
       " 'document_metadata.collection_title': None,\n",
       " 'document_metadata.corpus_type_name': 'Laws and Policies',\n",
       " 'document_metadata.corpus_import_id': 'CCLW.corpus.i00000001.n0000',\n",
       " 'document_metadata.category': 'Executive',\n",
       " 'document_metadata.description': '<p><span style=\"font-size: 10pt;font-family: Arial;\">This plan aims to address the five dimensions of the Energy Union, namely energy security, the internal energy market, energy efficiency, decarbonization, and research, innovation, and competitiveness. It seeks to review targets and policies in the energy sector to alleviate energy poverty and provide affordable energy, to provide and ensure accessibility to quantitative data on the sector as well as to inform relevant stakeholders on the plan. The key policies and objectives focus on the increase in renewable energy sources, reduction of fossil fuels in transport and industry, incorporation of fuel switching and energy efficiency measures targetting the building sector, and the improvement of forestry management. The targets set in the plan include 18.7% emission savings and 54.4% renewable energy share in energy demand. </span></p>\\n',\n",
       " 'document_metadata.document_title': 'National Energy and Climate Plan 2019 Draft ',\n",
       " 'document_metadata.family_import_id': 'CCLW.family.i00000001.n0000',\n",
       " 'document_metadata.family_slug': 'national-energy-and-climate-plan_8a4f',\n",
       " 'document_metadata.geographies': ['ALB'],\n",
       " 'document_metadata.import_id': 'CCLW.document.i00000002.n0000',\n",
       " 'document_metadata.languages': ['English'],\n",
       " 'document_metadata.metadata': {'author': None,\n",
       "  'author_type': None,\n",
       "  'framework': None,\n",
       "  'hazard': None,\n",
       "  'instrument': None,\n",
       "  'keyword': None,\n",
       "  'sector': None,\n",
       "  'topic': None},\n",
       " 'document_metadata.family_title': 'National Energy and Climate Plan ',\n",
       " 'document_metadata.publication_ts': '2021-12-01T00:00:00Z',\n",
       " 'document_metadata.slug': 'national-energy-and-climate-plan-2019-draft_6002',\n",
       " 'document_metadata.source': 'CCLW',\n",
       " 'document_metadata.source_url': 'https://www.energy-community.org/dam/jcr:a0c2b8a8-96c8-4423-993a-537cf51daa65/Draft_NECP_AL_%202021.pdf',\n",
       " 'document_metadata.type': 'Plan',\n",
       " 'document_cdn_object': 'ALB/1900/national-energy-and-climate-plan_653834d6f224328bc3711f5a9d0db0a4.pdf',\n",
       " 'document_content_type': 'application/pdf',\n",
       " 'document_md5_sum': '653834d6f224328bc3711f5a9d0db0a4',\n",
       " 'languages': ['en'],\n",
       " 'document_metadata.translated': False,\n",
       " 'pdf_data_page_metadata.dimensions': [595.0008, 841.0032],\n",
       " '_html_data.detected_title': None,\n",
       " '_html_data.detected_date': None,\n",
       " '_html_data.has_valid_text': None,\n",
       " 'pipeline_metadata.parser_metadata': {'azure_api_version': '2023-07-31',\n",
       "  'azure_model_id': 'prebuilt-document',\n",
       "  'parsing_date': '2023-12-11T11:43:23.509480'},\n",
       " 'text_block.text_block_id': '0',\n",
       " 'text_block.language': 'en',\n",
       " 'text_block.type': 'title',\n",
       " 'text_block.type_confidence': 1.0,\n",
       " 'text_block.coords': [[70.452, 123.7392],\n",
       "  [524.1816, 123.7392],\n",
       "  [524.1816, 181.05120000000002],\n",
       "  [70.452, 181.05120000000002]],\n",
       " 'text_block.page_number': 0,\n",
       " 'text_block.text': 'Draft of the National Energy and Climate Plan of the Republic of Albania',\n",
       " 'text_block.index': 0}"
      ]
     },
     "execution_count": 11,
     "metadata": {},
     "output_type": "execute_result"
    }
   ],
   "source": [
    "chunks[0]"
   ]
  },
  {
   "cell_type": "code",
   "execution_count": 13,
   "id": "3fbbbb18",
   "metadata": {},
   "outputs": [
    {
     "data": {
      "text/plain": [
       "['Draft of the National Energy and Climate Plan of the Republic of Albania',\n",
       " 'July 2021',\n",
       " 'REPUBLIKA SHOIPERISE',\n",
       " 'MINISTRIA E TURIZMIT DHE MJEDISIT',\n",
       " 'MINISTRIA E INFRASTRUKTURĒS DHE ENERGJISE',\n",
       " 'german cooperation DEUTSCHE ZUSAMMENARBEIT',\n",
       " 'Implemented by giz',\n",
       " 'Deutsche Gesellschaft Für Internationale Zusammenarbeit (312) CmbH',\n",
       " 'Responsible for this document: Ministry of Infrastructure and Energy of Albania',\n",
       " 'Purpose of this document: Submission to Energy Community for comments, in order to improve the final version of the NECP document']"
      ]
     },
     "execution_count": 13,
     "metadata": {},
     "output_type": "execute_result"
    }
   ],
   "source": [
    "chunks[:10][\"text_block.text\"]"
   ]
  }
 ],
 "metadata": {
  "kernelspec": {
   "display_name": ".venv",
   "language": "python",
   "name": "python3"
  },
  "language_info": {
   "codemirror_mode": {
    "name": "ipython",
    "version": 3
   },
   "file_extension": ".py",
   "mimetype": "text/x-python",
   "name": "python",
   "nbconvert_exporter": "python",
   "pygments_lexer": "ipython3",
   "version": "3.12.0"
  }
 },
 "nbformat": 4,
 "nbformat_minor": 5
}
