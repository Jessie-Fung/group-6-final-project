{
 "cells": [
  {
   "cell_type": "markdown",
   "id": "83736cf2",
   "metadata": {},
   "source": [
    "# 🤗 Database Setup\n",
    "\n",
    "This notebook is used to upload the Huggingface Climate Policy Radar dataset to a Postgres table.\n",
    "\n",
    "Refer to README.md for instructions on setting up the Postgres database."
   ]
  },
  {
   "cell_type": "code",
   "execution_count": 1,
   "id": "0dd415c7",
   "metadata": {},
   "outputs": [],
   "source": [
    "import os\n",
    "import regex as re\n",
    "from tqdm.notebook import tqdm\n",
    "from dotenv import load_dotenv\n",
    "import pandas as pd\n",
    "import numpy as np\n",
    "import pgai\n",
    "import torch\n",
    "import glob\n",
    "from transformers import AutoTokenizer, AutoModel, AutoModelForMaskedLM\n",
    "from datasets import load_dataset, Features, Value\n",
    "from functions import generate_embeddings_for_text, store_database_batched\n",
    "from sqlalchemy import create_engine, text"
   ]
  },
  {
   "cell_type": "markdown",
   "id": "bd2c7a37",
   "metadata": {},
   "source": [
    "## 1. Load the Huggingface dataset."
   ]
  },
  {
   "cell_type": "code",
   "execution_count": 4,
   "id": "e4b6dc7b",
   "metadata": {},
   "outputs": [
    {
     "data": {
      "application/vnd.jupyter.widget-view+json": {
       "model_id": "1c6a0cf8c762403f8916adfb75a33b68",
       "version_major": 2,
       "version_minor": 0
      },
      "text/plain": [
       "Resolving data files:   0%|          | 0/23 [00:00<?, ?it/s]"
      ]
     },
     "metadata": {},
     "output_type": "display_data"
    },
    {
     "name": "stderr",
     "output_type": "stream",
     "text": [
      "Downloading data: 100%|██████████| 98.2M/98.2M [00:01<00:00, 86.9MB/s]\n",
      "Downloading data: 100%|██████████| 96.8M/96.8M [00:01<00:00, 94.3MB/s]\n",
      "Downloading data: 100%|██████████| 57.4M/57.4M [00:00<00:00, 137MB/s] \n",
      "Downloading data: 100%|██████████| 61.0M/61.0M [00:00<00:00, 123MB/s] \n",
      "Downloading data: 100%|██████████| 71.4M/71.4M [00:00<00:00, 166MB/s] \n",
      "Downloading data: 100%|██████████| 79.5M/79.5M [00:00<00:00, 159MB/s] \n",
      "Downloading data: 100%|██████████| 62.6M/62.6M [00:00<00:00, 144MB/s] \n",
      "Downloading data: 100%|██████████| 86.1M/86.1M [00:00<00:00, 126MB/s] \n",
      "Downloading data: 100%|██████████| 70.5M/70.5M [00:00<00:00, 87.0MB/s]\n",
      "Downloading data: 100%|██████████| 68.5M/68.5M [00:00<00:00, 82.5MB/s]\n",
      "Downloading data: 100%|██████████| 50.8M/50.8M [00:00<00:00, 127MB/s] \n",
      "Downloading data: 100%|██████████| 67.9M/67.9M [00:00<00:00, 146MB/s] \n",
      "Downloading data: 100%|██████████| 99.5M/99.5M [00:00<00:00, 107MB/s] \n",
      "Downloading data: 100%|██████████| 63.5M/63.5M [00:00<00:00, 98.8MB/s]\n",
      "Downloading data: 100%|██████████| 62.6M/62.6M [00:01<00:00, 51.7MB/s]\n",
      "Downloading data: 100%|██████████| 52.8M/52.8M [00:00<00:00, 135MB/s] \n",
      "Downloading data: 100%|██████████| 76.5M/76.5M [00:00<00:00, 134MB/s] \n",
      "Downloading data: 100%|██████████| 95.6M/95.6M [00:00<00:00, 98.7MB/s]\n",
      "Downloading data: 100%|██████████| 95.9M/95.9M [00:00<00:00, 136MB/s] \n",
      "Downloading data: 100%|██████████| 93.2M/93.2M [00:00<00:00, 127MB/s] \n",
      "Downloading data: 100%|██████████| 98.1M/98.1M [00:01<00:00, 92.9MB/s]\n",
      "Downloading data: 100%|██████████| 89.4M/89.4M [00:00<00:00, 104MB/s] \n",
      "Downloading data: 100%|██████████| 73.7M/73.7M [00:00<00:00, 96.6MB/s]\n"
     ]
    },
    {
     "data": {
      "application/vnd.jupyter.widget-view+json": {
       "model_id": "705d8037bce247f2a5f7d87cfa01b8f9",
       "version_major": 2,
       "version_minor": 0
      },
      "text/plain": [
       "Generating train split: 0 examples [00:00, ? examples/s]"
      ]
     },
     "metadata": {},
     "output_type": "display_data"
    },
    {
     "data": {
      "application/vnd.jupyter.widget-view+json": {
       "model_id": "f97d86794ccb459c90e4d014ff744015",
       "version_major": 2,
       "version_minor": 0
      },
      "text/plain": [
       "Loading dataset shards:   0%|          | 0/42 [00:00<?, ?it/s]"
      ]
     },
     "metadata": {},
     "output_type": "display_data"
    }
   ],
   "source": [
    "# Login using e.g. `huggingface-cli login` in the command line to access this dataset\n",
    "\n",
    "ds = load_dataset(\"ClimatePolicyRadar/all-document-text-data\")\n",
    "ds = ds[\"train\"]\n",
    "flat_ds = ds.flatten()"
   ]
  },
  {
   "cell_type": "markdown",
   "id": "c3982d64",
   "metadata": {},
   "source": [
    "## 2. Save all chunks into the \"climate_policy_radar\" table.\n",
    "\n",
    "The table contains all documents from the Climate Policy Radar dataset, with each row representing a chunk and all associated metadata stored in individual columns."
   ]
  },
  {
   "cell_type": "code",
   "execution_count": null,
   "id": "95099b91",
   "metadata": {},
   "outputs": [],
   "source": [
    "store_database_batched(flat_ds, num_chunks=len(flat_ds))"
   ]
  }
 ],
 "metadata": {
  "kernelspec": {
   "display_name": "group_rag.venv",
   "language": "python",
   "name": "group_rag.venv"
  },
  "language_info": {
   "codemirror_mode": {
    "name": "ipython",
    "version": 3
   },
   "file_extension": ".py",
   "mimetype": "text/x-python",
   "name": "python",
   "nbconvert_exporter": "python",
   "pygments_lexer": "ipython3",
   "version": "3.12.8"
  }
 },
 "nbformat": 4,
 "nbformat_minor": 5
}
