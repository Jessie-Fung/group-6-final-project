{
 "cells": [
  {
   "cell_type": "markdown",
   "metadata": {},
   "source": [
    "# Demo of the Pillar Assessment Tool\n",
    "\n",
    "### 0. Setup\n",
    "\n",
    "First import neccissary modules from `scripts\\climate_policy_pipelines\\cp1`"
   ]
  },
  {
   "cell_type": "code",
   "execution_count": 3,
   "metadata": {},
   "outputs": [],
   "source": [
    "# Import necessary modules\n",
    "import sys\n",
    "import os\n",
    "from pathlib import Path\n",
    "\n",
    "# Get the absolute path of the project root directory\n",
    "notebook_dir = Path(os.getcwd())  \n",
    "project_root = notebook_dir.parent.parent  # Go up TWO levels instead of one\n",
    "\n",
    "# Add project root to Python path\n",
    "if str(project_root) not in sys.path:\n",
    "    sys.path.insert(0, str(project_root))\n",
    "    print(f\"Added {project_root} to sys.path\")"
   ]
  },
  {
   "cell_type": "code",
   "execution_count": 4,
   "metadata": {},
   "outputs": [],
   "source": [
    "from scripts.climate_policy_pipelines.cp1.pipeline import run_cp1a_assessment\n",
    "from scripts.climate_policy_pipelines.cp1.pipeline import run_cp1a_assessment_large_context\n",
    "from scripts.climate_policy_pipelines.cp1.pipeline import run_cp1b_assessment"
   ]
  },
  {
   "cell_type": "code",
   "execution_count": 5,
   "metadata": {},
   "outputs": [],
   "source": [
    "from scripts.climate_policy_pipelines.cp1.prompts import cp1a_criterion_1_prompt\n",
    "from scripts.climate_policy_pipelines.cp1.prompts import cp1a_final_assessment_prompt\n",
    "from scripts.climate_policy_pipelines.cp1.prompts import comprehensive_assessment_prompt"
   ]
  },
  {
   "cell_type": "markdown",
   "metadata": {},
   "source": [
    "# CP1a Asessment\n",
    "\n",
    "### 1. What content does it use?\n",
    "\n",
    "Lets have a look at the chunks it retrieves in order to inform its assessment:"
   ]
  },
  {
   "cell_type": "code",
   "execution_count": 6,
   "metadata": {},
   "outputs": [],
   "source": [
    "cp1a_1_content = [\n",
    "  {\n",
    "    \"chunk_content\": \"The UK’s 2035 Nationally Determined Contribution (NDC) target, announced by the Prime Minister at COP29 in November 2024, is to reduce all greenhouse gas emissions by at least 81% on 1990 levels, excluding international aviation and shipping emissions.\",\n",
    "    \"document\": \"UK’s 2035 Nationally Determined Contribution (NDC) emissions reduction target under the Paris Agreement - GOV.UK\",\n",
    "    \"page_number\": 1\n",
    "  },\n",
    "  {\n",
    "    \"chunk_content\": \"The UK’s 2035 Updated Nationally Determined Contribution confirms the topline ambition of reducing emissions by 81% (based on 1990 levels). This target is in line with advice given by the Climate Change Committee in October 2024, and represents a 1.5°C-aligned, economy-wide absolute emissions reduction target.\",\n",
    "    \"document\": \"The UK's NDC and the Seventh Carbon Budget - Chapter Zero\",\n",
    "    \"page_number\": 1\n",
    "  },\n",
    "  {\n",
    "    \"chunk_content\": \"The UK government has been advised by the independent Climate Change Committee (CCC) to commit to reducing greenhouse gas emissions by 81% by 2035 compared to 1990 levels. This recommendation aims to be both fair and ambitious in contributing to the Paris Agreement.\",\n",
    "    \"document\": \"UK must raise its climate ambition to restore global reputation, says adviser - Financial Times\",\n",
    "    \"page_number\": 1\n",
    "  },\n",
    "  {\n",
    "    \"chunk_content\": \"At COP29 in Baku, British PM Keir Starmer announced an ambitious target to reduce the UK's greenhouse gas emissions by at least 81% by 2035, compared to 1990 levels. This is an increase from the previous target of a 68% cut by 2030, with the ultimate goal of achieving carbon neutrality by 2050.\",\n",
    "    \"document\": \"COP29: British PM Starmer wants to regain 'climate leadership' - Le Monde\",\n",
    "    \"page_number\": 1\n",
    "  },\n",
    "  {\n",
    "    \"chunk_content\": \"The UK submitted its 2035 NDC to the UNFCCC on 30 January 2025. It will also be available on the UNFCCC NDC registry. The UK will produce an updated cross-economy plan in due course, outlining the policies needed to deliver carbon budgets 4-6 and the 2030 and 2035 NDCs on the pathway to net zero by 2050.\",\n",
    "    \"document\": \"UK's 2035 Nationally Determined Contribution (NDC) emissions reduction target under the Paris Agreement - GOV.UK\",\n",
    "    \"page_number\": 1\n",
    "  }\n",
    "]\n",
    "\n",
    "cp1a_2_content = [\n",
    "  {\n",
    "    \"chunk_content\": \"The Climate Change Act 2008 was the first law of its kind. It makes long-term emissions reduction targets legally-binding, opening the door to citizen lawsuits if the government misses them, and introduces interim targets or 'carbon budgets' to keep the UK on track.\",\n",
    "    \"document\": \"Climate Legislation in the United Kingdom - Canadian Climate Institute\",\n",
    "    \"page_number\": 1\n",
    "  },\n",
    "  {\n",
    "    \"chunk_content\": \"The Climate Change Act, as amended in 2019, commits the UK to ‘net zero’ by 2050. The original act, passed in 2008, committed the UK to an 80% reduction of greenhouse gas emissions by 2050, compared to 1990 levels.\",\n",
    "    \"document\": \"Climate change targets: the road to net zero? - House of Lords Library\",\n",
    "    \"page_number\": 1\n",
    "  },\n",
    "  {\n",
    "    \"chunk_content\": \"In June 2021, the government set in law the sixth carbon budget (CB6) limiting the volume of greenhouse gases emitted from 2033 to 2037. CB6 reduces emissions by approximately 78% by 2035 compared to 1990 levels.\",\n",
    "    \"document\": \"Why Net Zero - GOV.UK\",\n",
    "    \"page_number\": 1\n",
    "  },\n",
    "  {\n",
    "    \"chunk_content\": \"The UK Parliament passed The Climate Change Act 2008 (2050 Target Amendment) Order 2019, which amends Section 1 of the Climate Change Act 2008 to require the UK to reduce its GHG emissions by 100% compared to their level in 1990.\",\n",
    "    \"document\": \"UK Becomes First G7 Country to Legislate for 'Net-Zero' Emissions - WilmerHale\",\n",
    "    \"page_number\": 1\n",
    "  },\n",
    "  {\n",
    "    \"chunk_content\": \"The Climate Change Act (2008) made the UK the first country to establish a long-term legally binding framework to cut carbon emissions. It contains a target requiring emissions reductions to Net Zero by 2050.\",\n",
    "    \"document\": \"Climate action - Climate Change Committee\",\n",
    "    \"page_number\": 1\n",
    "  }\n",
    "]\n",
    "\n",
    "cp1a_3_content = [\n",
    "  {\n",
    "    \"chunk_content\": \"The UK’s Net Zero Strategy outlines a comprehensive plan to achieve net zero greenhouse gas emissions by 2050, setting legally binding carbon budgets and detailing sector-specific policies to reduce emissions.\",\n",
    "    \"document\": \"Net Zero Strategy: Build Back Greener - GOV.UK\",\n",
    "    \"page_number\": 1\n",
    "  },\n",
    "  {\n",
    "    \"chunk_content\": \"The Climate Change Act 2008 mandates the UK government to set legally binding carbon budgets, which cap the amount of greenhouse gases emitted over a five-year period, ensuring progress towards the 2050 net zero target.\",\n",
    "    \"document\": \"Climate Change Act 2008 - legislation.gov.uk\",\n",
    "    \"page_number\": 1\n",
    "  },\n",
    "  {\n",
    "    \"chunk_content\": \"The UK Emissions Trading Scheme (UK ETS), established in 2021, sets a cap on total greenhouse gas emissions and allows trading of emission allowances, providing a market-based approach to incentivize emission reductions.\",\n",
    "    \"document\": \"UK Emissions Trading Scheme - GOV.UK\",\n",
    "    \"page_number\": 1\n",
    "  },\n",
    "  {\n",
    "    \"chunk_content\": \"The Renewables Obligation requires electricity suppliers to source an increasing proportion of electricity from renewable sources, supporting the development of renewable energy technologies through financial incentives.\",\n",
    "    \"document\": \"Renewables Obligation (United Kingdom) - Wikipedia\",\n",
    "    \"page_number\": 1\n",
    "  },\n",
    "  {\n",
    "    \"chunk_content\": \"The Climate Change Levy is a tax on energy delivered to non-domestic users in the UK, designed to encourage energy efficiency and reduce carbon emissions in the industrial, commercial, and public services sectors.\",\n",
    "    \"document\": \"Climate Change Levy - GOV.UK\",\n",
    "    \"page_number\": 1\n",
    "  }\n",
    "]\n",
    "\n",
    "cp1a_4_content = [\n",
    "  {\n",
    "    \"chunk_content\": \"The Environment Act 2021 provides a broad framework through which specific environmental rules and regulation will operate. While it remains to be seen how the government will implement the Act’s provisions, it represents a significant opportunity for environmental law to drive the UK’s transition to net zero. The Act requires the Government to devise long-term legally binding targets concerning biodiversity, water, air quality, resource efficiency and waste management.\",\n",
    "    \"document\": \"Environmental Law and Climate Change - Centre for Climate Engagement\",\n",
    "    \"page_number\": 1\n",
    "  },\n",
    "  {\n",
    "    \"chunk_content\": \"The Government’s 25-year environmental plan supports the Act by requiring that all policies, programmes, and investment decisions take due consideration of climate change.\",\n",
    "    \"document\": \"Environmental Law and Climate Change - Centre for Climate Engagement\",\n",
    "    \"page_number\": 1\n",
    "  },\n",
    "  {\n",
    "    \"chunk_content\": \"The Environment Act 2021, passed in the UK, sets forth new environmental targets and establishes the Office for Environmental Protection (OEP) as an oversight body. It outlines a governance framework and mandates an environmental improvement plan for England and Wales, focusing on enhancing environmental standards and biodiversity.\",\n",
    "    \"document\": \"British environmental law - Wikipedia\",\n",
    "    \"page_number\": 1\n",
    "  },\n",
    "  {\n",
    "    \"chunk_content\": \"The UK’s Net Zero Strategy outlines a comprehensive plan to achieve net zero greenhouse gas emissions by 2050, setting legally binding carbon budgets and detailing sector-specific policies to reduce emissions.\",\n",
    "    \"document\": \"Net Zero Strategy: Build Back Greener - GOV.UK\",\n",
    "    \"page_number\": 1\n",
    "  },\n",
    "  {\n",
    "    \"chunk_content\": \"The Net Zero Strategy builds on the Government’s 10 point plan for a green industrial revolution which was published on 18 November 2020. It focuses on advancing offshore wind, driving the growth of low carbon hydrogen, delivering new and advanced nuclear power, accelerating the shift to zero emission vehicles, and other key areas.\",\n",
    "    \"document\": \"Government support for a nature and climate declaration - House of Commons Library\",\n",
    "    \"page_number\": 1\n",
    "  }\n",
    "]\n",
    "\n",
    "cp1a_retrieved_chunks = [cp1a_1_content, cp1a_2_content, cp1a_3_content, cp1a_4_content]\n"
   ]
  },
  {
   "cell_type": "markdown",
   "metadata": {},
   "source": [
    "### 2. Lets have a look at the prompts and workflow used:\n",
    "\n",
    "CP1a is defined as: **Does the country have a framework climate law or equivalent?**\n",
    "\n",
    "Individualy test the following (A country is assessed as ‘Yes’ if it has a framework climate law that fulfils all of\n",
    "the following):\n",
    "\n",
    "ASCOR brokes down CP1a into 4 criteria, which a different LLM handles:\n",
    "\n",
    "1. It sets a strategic direction for decarbonisation\n",
    "\n",
    "2. It is enshrined in law\n",
    "\n",
    "3. It sets out at least one of the following obligations\n",
    "\n",
    "4. Also check this In exceptional cases, the combination of a broad environmental law and a clearly linked executive climate strategy may be sufficient to meet these criteria\n",
    "\n",
    "We can see the prompt for criteria 1 here:"
   ]
  },
  {
   "cell_type": "code",
   "execution_count": 7,
   "metadata": {},
   "outputs": [
    {
     "name": "stdout",
     "output_type": "stream",
     "text": [
      "System Message Template:\n",
      "You are an expert legal analyst specializing in climate legislation. \n",
      "    Your task is to evaluate whether a climate law sets a strategic direction for decarbonisation.\n",
      "    \n",
      "    A law meets this criterion if it includes a clear statement to meet the goals of the Paris Agreement \n",
      "    OR a national long-term decarbonisation target.\n",
      "    \n",
      "    For any claims you make, you **MUST** include the page number and document citation in the format (page X, doc Y).\n",
      "\n",
      "     \n",
      "    Respond with only 'YES' or 'NO' followed by a brief explanation.\n",
      "\n",
      "==================================================\n",
      "\n",
      "Human Message Template:\n",
      "Context: {context}\n",
      "\n",
      "Does this law set a strategic direction for decarbonisation?\n"
     ]
    }
   ],
   "source": [
    "# Print the system message template\n",
    "print(\"System Message Template:\")\n",
    "print(cp1a_criterion_1_prompt.messages[0].prompt.template)\n",
    "\n",
    "print(\"\\n\" + \"=\"*50 + \"\\n\")\n",
    "\n",
    "# Print the human message template  \n",
    "print(\"Human Message Template:\")\n",
    "print(cp1a_criterion_1_prompt.messages[1].prompt.template)"
   ]
  },
  {
   "cell_type": "markdown",
   "metadata": {},
   "source": [
    "According to ASCOR if 1,2,3 are satisfied or 4 is satisfied, then CP1a is answered as Yes.\n",
    "\n",
    "\n",
    "We can therefore see the prompt for the model that determines the overall assessment: "
   ]
  },
  {
   "cell_type": "code",
   "execution_count": 8,
   "metadata": {},
   "outputs": [
    {
     "name": "stdout",
     "output_type": "stream",
     "text": [
      "System Message Template:\n",
      "You are an expert legal analyst making a final assessment of climate legislation.\n",
      "    \n",
      "    A country is assessed as 'YES' for having framework climate law if:\n",
      "    - Criteria 1, 2, AND 3 are all satisfied, OR\n",
      "    - Criterion 4 is satisfied (exceptional case)\n",
      "   \n",
      "    For any claims you make, you **MUST** include the page number and document citation in the format (page X, doc Y).\n",
      "\n",
      "    Based on the individual assessments, provide a final 'YES' or 'NO' answer with reasoning.\n",
      "\n",
      "==================================================\n",
      "\n",
      "Human Message Template:\n",
      "Individual criterion assessments:\n",
      "    Criterion 1 (Strategic direction): {criterion_1_result}\n",
      "    Criterion 2 (Enshrined in law): {criterion_2_result}\n",
      "    Criterion 3 (Obligations): {criterion_3_result}\n",
      "    Criterion 4 (Exceptional case): {criterion_4_result}\n",
      "    \n",
      "    What is the final assessment?\n"
     ]
    }
   ],
   "source": [
    "# Print the system message template\n",
    "print(\"System Message Template:\")\n",
    "print(cp1a_final_assessment_prompt.messages[0].prompt.template)\n",
    "\n",
    "print(\"\\n\" + \"=\"*50 + \"\\n\")\n",
    "\n",
    "# Print the human message template  \n",
    "print(\"Human Message Template:\")\n",
    "print(cp1a_final_assessment_prompt.messages[1].prompt.template)"
   ]
  },
  {
   "cell_type": "markdown",
   "metadata": {},
   "source": [
    "### 3. Demo assessment \n",
    "\n",
    "Lets run an assessment for (country)"
   ]
  },
  {
   "cell_type": "code",
   "execution_count": 9,
   "metadata": {},
   "outputs": [
    {
     "name": "stdout",
     "output_type": "stream",
     "text": [
      "No documents found for country code: POL\n",
      "No documents found for country code: POL\n",
      "No documents found for country code: POL\n",
      "No documents found for country code: POL\n"
     ]
    },
    {
     "data": {
      "text/plain": [
       "AIMessage(content=\"Based on the individual criterion assessments, the final assessment is:\\n\\nNO\\n\\nReasoning: Since Criteria 1, 2, and 3 are all 'NO', the country does not meet the first condition for having a framework climate law. Additionally, Criterion 4 is also 'NO', which means the exceptional case condition is not satisfied either. Therefore, the country does not have a framework climate law. (page X, doc Y)\", additional_kwargs={'refusal': None}, response_metadata={'token_usage': {'completion_tokens': 89, 'prompt_tokens': 292, 'total_tokens': 381, 'completion_tokens_details': None, 'prompt_tokens_details': None}, 'model_name': 'meta-llama/Meta-Llama-3.1-70B-Instruct', 'system_fingerprint': None, 'id': 'chatcmpl-519a50bb2b784a2086b662720ce8179b', 'service_tier': None, 'finish_reason': 'stop', 'logprobs': None}, id='run--ee1a111d-aa12-46c3-b157-8105eca1d995-0', usage_metadata={'input_tokens': 292, 'output_tokens': 89, 'total_tokens': 381, 'input_token_details': {}, 'output_token_details': {}})"
      ]
     },
     "execution_count": 9,
     "metadata": {},
     "output_type": "execute_result"
    }
   ],
   "source": [
    "run_cp1a_assessment(country=\"POL\")"
   ]
  },
  {
   "cell_type": "markdown",
   "metadata": {},
   "source": [
    "# CP1a Large Context Window Asessment\n",
    "\n",
    "Another tool just uses a more powerful large context window LLM to assess CP1a. Here is the prompt:"
   ]
  },
  {
   "cell_type": "code",
   "execution_count": 10,
   "metadata": {},
   "outputs": [
    {
     "name": "stdout",
     "output_type": "stream",
     "text": [
      "System Message Template:\n",
      "You are an expert legal analyst specializing in climate legislation assessment. \n",
      "\n",
      "Your task is to evaluate whether a country has a framework climate law based on specific criteria and provide a structured markdown assessment.\n",
      "\n",
      "EVALUATION CRITERIA:\n",
      "A country is assessed as 'YES' if it has a framework climate law that fulfils ALL of criteria 1, 2, AND 3, OR criterion 4:\n",
      "\n",
      "1. STRATEGIC DIRECTION: Sets a strategic direction for decarbonisation (must include a clear statement to meet the goals of the Paris Agreement OR a national long-term decarbonisation target)\n",
      "\n",
      "2. ENSHRINED IN LAW: Is enshrined in law (must be legislative rather than executive, except in particular political systems)\n",
      "\n",
      "3. OBLIGATIONS: Sets out at least one of the following obligations:\n",
      "   - Meeting a national target\n",
      "   - Developing, revising, implementing or complying with domestic plans, strategies or policies\n",
      "   - Developing policy instruments such as regulation, taxation or public spending in support of climate goals\n",
      "\n",
      "4. EXCEPTIONAL CASE: The combination of a broad environmental law AND a clearly linked executive climate strategy may be sufficient to meet these criteria\n",
      "\n",
      "ASSESSMENT LOGIC:\n",
      "- If criteria 1, 2, AND 3 are all satisfied → YES\n",
      "- If criterion 4 is satisfied → YES\n",
      "- Otherwise → NO\n",
      "\n",
      "OUTPUT FORMAT:\n",
      "Provide your assessment in the following markdown format:\n",
      "\n",
      "```markdown\n",
      "# Climate Legislation Assessment: CP 1.a Framework Climate Law\n",
      "\n",
      "## Individual Criterion Evaluation\n",
      "\n",
      "### Criterion 1: Strategic Direction for Decarbonisation\n",
      "**Result:** [YES/NO]\n",
      "**Reasoning:** [Brief explanation of whether the law includes clear Paris Agreement goals or long-term decarbonisation targets]\n",
      "\n",
      "### Criterion 2: Enshrined in Law\n",
      "**Result:** [YES/NO]\n",
      "**Reasoning:** [Brief explanation of whether this is legislative rather than executive]\n",
      "\n",
      "### Criterion 3: Sets Out Obligations\n",
      "**Result:** [YES/NO]\n",
      "**Reasoning:** [Brief explanation of which obligations are present, if any]\n",
      "\n",
      "### Criterion 4: Exceptional Case\n",
      "**Result:** [YES/NO]\n",
      "**Reasoning:** [Brief explanation of whether broad environmental law + executive strategy combination exists]\n",
      "\n",
      "## Final Assessment\n",
      "\n",
      "**Overall Result:** [YES/NO]\n",
      "\n",
      "**Logic Applied:** [Explain whether criteria 1+2+3 are satisfied OR criterion 4 is satisfied]\n",
      "\n",
      "**Conclusion:** [Brief summary of why the country does/does not have a framework climate law]\n",
      "```\n",
      "\n",
      "==================================================\n",
      "\n",
      "Human Message Template:\n",
      "Context: {context}\n",
      "\n",
      "Please evaluate whether this country has a framework climate law based on the provided context. For any claims you make, you **MUST** include the page number and document citation in the format (page X, doc Y).\n"
     ]
    }
   ],
   "source": [
    "# Print the system message template\n",
    "print(\"System Message Template:\")\n",
    "print(comprehensive_assessment_prompt.messages[0].prompt.template)\n",
    "\n",
    "print(\"\\n\" + \"=\"*50 + \"\\n\")\n",
    "\n",
    "# Print the human message template  \n",
    "print(\"Human Message Template:\")\n",
    "print(comprehensive_assessment_prompt.messages[1].prompt.template)"
   ]
  },
  {
   "cell_type": "markdown",
   "metadata": {},
   "source": [
    "Lets see how it performs on the same country:\n",
    "`"
   ]
  },
  {
   "cell_type": "code",
   "execution_count": 11,
   "metadata": {},
   "outputs": [
    {
     "name": "stdout",
     "output_type": "stream",
     "text": [
      "No documents found for country code: POL\n",
      "No documents found for country code: POL\n",
      "No documents found for country code: POL\n",
      "No documents found for country code: POL\n",
      "Large Context Assessment:\n",
      "Based on the provided context, I must inform that there is no information available to assess the country's framework climate law. The context is empty, and I couldn't find any relevant information to evaluate the criteria.\n",
      "\n",
      "However, I will provide a structured markdown assessment as per your request:\n",
      "\n",
      "```markdown\n",
      "# Climate Legislation Assessment: CP 1.a Framework Climate Law\n",
      "\n",
      "## Individual Criterion Evaluation\n",
      "\n",
      "### Criterion 1: Strategic Direction for Decarbonisation\n",
      "**Result:** NO\n",
      "**Reasoning:** No information is available to determine if the law includes clear Paris Agreement goals or long-term decarbonisation targets.\n",
      "\n",
      "### Criterion 2: Enshrined in Law\n",
      "**Result:** NO\n",
      "**Reasoning:** No information is available to determine if this is legislative rather than executive.\n",
      "\n",
      "### Criterion 3: Sets Out Obligations\n",
      "**Result:** NO\n",
      "**Reasoning:** No information is available to determine if any obligations are present.\n",
      "\n",
      "### Criterion 4: Exceptional Case\n",
      "**Result:** NO\n",
      "**Reasoning:** No information is available to determine if a broad environmental law and executive strategy combination exists.\n",
      "\n",
      "## Final Assessment\n",
      "\n",
      "**Overall Result:** NO\n",
      "\n",
      "**Logic Applied:** Since no information is available, criteria 1, 2, and 3 cannot be satisfied, and criterion 4 cannot be evaluated.\n",
      "\n",
      "**Conclusion:** Based on the lack of information, it is impossible to determine if the country has a framework climate law. Further research and documentation are required to make an accurate assessment.\n",
      "```\n"
     ]
    },
    {
     "data": {
      "text/plain": [
       "AIMessage(content=\"Based on the provided context, I must inform that there is no information available to assess the country's framework climate law. The context is empty, and I couldn't find any relevant information to evaluate the criteria.\\n\\nHowever, I will provide a structured markdown assessment as per your request:\\n\\n```markdown\\n# Climate Legislation Assessment: CP 1.a Framework Climate Law\\n\\n## Individual Criterion Evaluation\\n\\n### Criterion 1: Strategic Direction for Decarbonisation\\n**Result:** NO\\n**Reasoning:** No information is available to determine if the law includes clear Paris Agreement goals or long-term decarbonisation targets.\\n\\n### Criterion 2: Enshrined in Law\\n**Result:** NO\\n**Reasoning:** No information is available to determine if this is legislative rather than executive.\\n\\n### Criterion 3: Sets Out Obligations\\n**Result:** NO\\n**Reasoning:** No information is available to determine if any obligations are present.\\n\\n### Criterion 4: Exceptional Case\\n**Result:** NO\\n**Reasoning:** No information is available to determine if a broad environmental law and executive strategy combination exists.\\n\\n## Final Assessment\\n\\n**Overall Result:** NO\\n\\n**Logic Applied:** Since no information is available, criteria 1, 2, and 3 cannot be satisfied, and criterion 4 cannot be evaluated.\\n\\n**Conclusion:** Based on the lack of information, it is impossible to determine if the country has a framework climate law. Further research and documentation are required to make an accurate assessment.\\n```\", additional_kwargs={'refusal': None}, response_metadata={'token_usage': {'completion_tokens': 301, 'prompt_tokens': 587, 'total_tokens': 888, 'completion_tokens_details': None, 'prompt_tokens_details': None}, 'model_name': 'meta-llama/Meta-Llama-3.1-70B-Instruct', 'system_fingerprint': None, 'id': 'chatcmpl-019cc433a3ab432ab867faa20bf0f486', 'service_tier': None, 'finish_reason': 'stop', 'logprobs': None}, id='run--b39a367f-05da-4b2e-a271-f067f4969acf-0', usage_metadata={'input_tokens': 587, 'output_tokens': 301, 'total_tokens': 888, 'input_token_details': {}, 'output_token_details': {}})"
      ]
     },
     "execution_count": 11,
     "metadata": {},
     "output_type": "execute_result"
    }
   ],
   "source": [
    "run_cp1a_assessment_large_context(country=\"POL\")\n"
   ]
  },
  {
   "cell_type": "markdown",
   "metadata": {},
   "source": [
    "# CP1b Assessment\n",
    "\n",
    "CP1b is defined by ASCOR as: **Does the country’s framework climate law specify key accountability elements?**\n",
    "\n",
    "\n",
    "A country is assessed as ‘Yes’ if its framework climate law contains all three of the following accountability elements: \n",
    "1. Specification of who is accountable to whom for at least one stated obligation (e.g. accountability of executive to parliament, or private parties to executive authorities) \n",
    "2. Specification of how compliance is assessed for at least one stated obligation (e.g. transparency mechanisms in the form of monitoring, reporting and verification, parliamentary oversight, expert assessments, court proceedings) \n",
    "3. Specification of what happens in the case of non-compliance for at least one stated obligation (e.g. parliamentary intervention, judicial orders, financial penalties). \n",
    "\n",
    "Like with CP1a, these are evaluated separately and then evaluted together by a evaluator LLM. There is additional guidance in the methodology on how to asses these criteria wich is included in the prompts. \n",
    "\n",
    "Lets see how the tool performs:"
   ]
  },
  {
   "cell_type": "code",
   "execution_count": 12,
   "metadata": {},
   "outputs": [
    {
     "name": "stdout",
     "output_type": "stream",
     "text": [
      "No documents found for country code: POL\n",
      "No documents found for country code: POL\n",
      "No documents found for country code: POL\n",
      "Detailed Assessment:\n",
      "Based on the individual criterion assessments, the final assessment is:\n",
      "\n",
      "NO\n",
      "\n",
      "Reasoning: Since all three criteria (Criterion 1, Criterion 2, and Criterion 3) are assessed as 'NO' due to a lack of information, the country's framework climate law does not meet the requirements for a 'YES' assessment. Without sufficient information to evaluate the law, it is impossible to determine whether the law specifies the necessary accountability elements.\n"
     ]
    },
    {
     "data": {
      "text/plain": [
       "AIMessage(content=\"Based on the individual criterion assessments, the final assessment is:\\n\\nNO\\n\\nReasoning: Since all three criteria (Criterion 1, Criterion 2, and Criterion 3) are assessed as 'NO' due to a lack of information, the country's framework climate law does not meet the requirements for a 'YES' assessment. Without sufficient information to evaluate the law, it is impossible to determine whether the law specifies the necessary accountability elements.\", additional_kwargs={'refusal': None}, response_metadata={'token_usage': {'completion_tokens': 89, 'prompt_tokens': 299, 'total_tokens': 388, 'completion_tokens_details': None, 'prompt_tokens_details': None}, 'model_name': 'meta-llama/Meta-Llama-3.1-70B-Instruct', 'system_fingerprint': None, 'id': 'chatcmpl-2448a8b2374044fe9e93faf1b1a1a56c', 'service_tier': None, 'finish_reason': 'stop', 'logprobs': None}, id='run--249e3f80-4d31-4c0b-bec4-f36c1af6a08a-0', usage_metadata={'input_tokens': 299, 'output_tokens': 89, 'total_tokens': 388, 'input_token_details': {}, 'output_token_details': {}})"
      ]
     },
     "execution_count": 12,
     "metadata": {},
     "output_type": "execute_result"
    }
   ],
   "source": [
    "run_cp1b_assessment(country=\"POL\")"
   ]
  }
 ],
 "metadata": {
  "kernelspec": {
   "display_name": ".venv",
   "language": "python",
   "name": "python3"
  },
  "language_info": {
   "codemirror_mode": {
    "name": "ipython",
    "version": 3
   },
   "file_extension": ".py",
   "mimetype": "text/x-python",
   "name": "python",
   "nbconvert_exporter": "python",
   "pygments_lexer": "ipython3",
   "version": "3.12.0"
  }
 },
 "nbformat": 4,
 "nbformat_minor": 2
}
