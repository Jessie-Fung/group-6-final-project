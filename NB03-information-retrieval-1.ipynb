{
 "cells": [
  {
   "cell_type": "markdown",
   "id": "a352737d",
   "metadata": {},
   "source": [
    "# Information Retrieval"
   ]
  },
  {
   "cell_type": "markdown",
   "id": "d109a06d",
   "metadata": {},
   "source": [
    "\n",
    ">\n",
    "> Goal: We have to find the best method of retrieving info from the Climate Policy Radar's Huggingface dataset based on a user's query or information need.\n",
    ">\n",
    "\n",
    ">\n",
    "> Specify your goal:\n",
    "> 1. Select chunks with exact keyword match with the query\n",
    "> 2. Select chunks with same semantic meaning to query\n",
    "> 3. Rerank the chunks based on their relevance to the query\n",
    "> 4. Define a threshold whether the chunks would be useful to the user or not\n",
    "> 5. Hyperlinks\n",
    ">"
   ]
  },
  {
   "cell_type": "markdown",
   "id": "02c60772",
   "metadata": {},
   "source": [
    "## 1. Preperations"
   ]
  },
  {
   "cell_type": "markdown",
   "id": "fadbcb32",
   "metadata": {},
   "source": [
    "### 1.1 Import libraries and functions"
   ]
  },
  {
   "cell_type": "code",
   "execution_count": 1,
   "id": "a89e3dd8",
   "metadata": {},
   "outputs": [],
   "source": [
    "# pip install fuzzywuzzy\n",
    "# pip install rank_bm25"
   ]
  },
  {
   "cell_type": "code",
   "execution_count": null,
   "id": "dcaad293",
   "metadata": {},
   "outputs": [
    {
     "data": {
      "text/plain": [
       "<module 'retrieval' from 'c:\\\\Users\\\\User\\\\Documents\\\\DS205\\\\group-6-final-project\\\\retrieval.py'>"
      ]
     },
     "execution_count": 27,
     "metadata": {},
     "output_type": "execute_result"
    }
   ],
   "source": [
    "import importlib\n",
    "import retrieval\n",
    "importlib.reload(retrieval)\n",
    "\n"
   ]
  },
  {
   "cell_type": "code",
   "execution_count": null,
   "id": "02c2a22a",
   "metadata": {},
   "outputs": [],
   "source": [
    "# Import necessary modules\n",
    "import sys\n",
    "import os\n",
    "from pathlib import Path\n",
    "\n",
    "# Get the absolute path of the project root directory\n",
    "notebook_dir = Path(os.getcwd())  \n",
    "project_root = notebook_dir.parent.parent  # Go up TWO levels instead of one\n",
    "\n",
    "# Add project root to Python path\n",
    "if str(project_root) not in sys.path:\n",
    "    sys.path.insert(0, str(project_root))\n",
    "    print(f\"Added {project_root} to sys.path\")"
   ]
  },
  {
   "cell_type": "code",
   "execution_count": 1,
   "id": "def1d153",
   "metadata": {},
   "outputs": [
    {
     "ename": "ModuleNotFoundError",
     "evalue": "No module named 'fuzzywuzzy'",
     "output_type": "error",
     "traceback": [
      "\u001b[31m---------------------------------------------------------------------------\u001b[39m",
      "\u001b[31mModuleNotFoundError\u001b[39m                       Traceback (most recent call last)",
      "\u001b[36mCell\u001b[39m\u001b[36m \u001b[39m\u001b[32mIn[1]\u001b[39m\u001b[32m, line 4\u001b[39m\n\u001b[32m      2\u001b[39m \u001b[38;5;28;01mimport\u001b[39;00m\u001b[38;5;250m \u001b[39m\u001b[34;01mos\u001b[39;00m\n\u001b[32m      3\u001b[39m \u001b[38;5;28;01mfrom\u001b[39;00m\u001b[38;5;250m \u001b[39m\u001b[34;01mtransformers\u001b[39;00m\u001b[38;5;250m \u001b[39m\u001b[38;5;28;01mimport\u001b[39;00m AutoTokenizer, AutoModel\n\u001b[32m----> \u001b[39m\u001b[32m4\u001b[39m \u001b[38;5;28;01mfrom\u001b[39;00m\u001b[38;5;250m \u001b[39m\u001b[34;01mfuzzywuzzy\u001b[39;00m\u001b[38;5;250m \u001b[39m\u001b[38;5;28;01mimport\u001b[39;00m fuzz\n\u001b[32m      5\u001b[39m \u001b[38;5;28;01mimport\u001b[39;00m\u001b[38;5;250m \u001b[39m\u001b[34;01mpandas\u001b[39;00m\u001b[38;5;250m \u001b[39m\u001b[38;5;28;01mas\u001b[39;00m\u001b[38;5;250m \u001b[39m\u001b[34;01mpd\u001b[39;00m\n\u001b[32m      6\u001b[39m \u001b[38;5;28;01mimport\u001b[39;00m\u001b[38;5;250m \u001b[39m\u001b[34;01mnumpy\u001b[39;00m\u001b[38;5;250m \u001b[39m\u001b[38;5;28;01mas\u001b[39;00m\u001b[38;5;250m \u001b[39m\u001b[34;01mnp\u001b[39;00m\n",
      "\u001b[31mModuleNotFoundError\u001b[39m: No module named 'fuzzywuzzy'"
     ]
    }
   ],
   "source": [
    "\n",
    "from dotenv import load_dotenv\n",
    "import os\n",
    "from transformers import AutoTokenizer, AutoModel\n",
    "from fuzzywuzzy import fuzz\n",
    "import pandas as pd\n",
    "import numpy as np\n",
    "from gensim.models import KeyedVectors, Word2Vec\n",
    "from gensim.utils import simple_preprocess\n",
    "from sqlalchemy import create_engine, text\n",
    "\n",
    "from scripts.retrival.retrieval_support import boolean_search, bm25_search, fuzzy_search, vector_search, df_with_similarity_score, hybrid_scoring\n",
    "from functions import generate_word2vec_embedding_for_text, generate_embeddings_for_text"
   ]
  },
  {
   "cell_type": "markdown",
   "id": "b164526f",
   "metadata": {},
   "source": [
    "Downloading climatebert model and tokenizer"
   ]
  },
  {
   "cell_type": "code",
   "execution_count": 4,
   "id": "4b662ee4",
   "metadata": {},
   "outputs": [
    {
     "name": "stderr",
     "output_type": "stream",
     "text": [
      "Some weights of RobertaModel were not initialized from the model checkpoint at local_model/climatebert/distilroberta-base-climate-f and are newly initialized: ['pooler.dense.bias', 'pooler.dense.weight']\n",
      "You should probably TRAIN this model on a down-stream task to be able to use it for predictions and inference.\n"
     ]
    }
   ],
   "source": [
    "from transformers import AutoTokenizer, AutoModel, AutoModelForMaskedLM\n",
    "\n",
    "EMBEDDING_MODEL_LOCAL_DIR = os.getenv('EMBEDDING_MODEL_LOCAL_DIR')\n",
    "EMBEDDING_MODEL = os.getenv(\"EMBEDDING_MODEL\")\n",
    "\n",
    "climatebert_tokenizer = AutoTokenizer.from_pretrained(EMBEDDING_MODEL_LOCAL_DIR)\n",
    "climatebert_model = AutoModel.from_pretrained(EMBEDDING_MODEL_LOCAL_DIR)"
   ]
  },
  {
   "cell_type": "markdown",
   "id": "adf66e6e",
   "metadata": {},
   "source": [
    "Downloading word2vec model"
   ]
  },
  {
   "cell_type": "code",
   "execution_count": 5,
   "id": "0fd14f43",
   "metadata": {},
   "outputs": [],
   "source": [
    "custom_w2v = Word2Vec.load(\"./local_model/custom_word2vec_768.model\")"
   ]
  },
  {
   "cell_type": "markdown",
   "id": "422da0f4",
   "metadata": {},
   "source": [
    "### 1.2 Introduce a prompt"
   ]
  },
  {
   "cell_type": "markdown",
   "id": "cdcf5671",
   "metadata": {},
   "source": [
    "#### 1.2.1 Define a prompt and exact keywords"
   ]
  },
  {
   "cell_type": "code",
   "execution_count": 6,
   "id": "f7ca8d5c",
   "metadata": {},
   "outputs": [],
   "source": [
    "# Introducing a prompt based on ASCOR CP1.a\n",
    "prompt = \"Does the country have a decarbonisation strategy to meet Paris Agreement that they are implementing or in the national legislation?\"\n",
    "keywords = prompt.split(\" \")"
   ]
  },
  {
   "cell_type": "markdown",
   "id": "5c7ed367",
   "metadata": {},
   "source": [
    "#### 1.2.2 Generate similar words to keywords"
   ]
  },
  {
   "cell_type": "code",
   "execution_count": 11,
   "id": "3185f081",
   "metadata": {},
   "outputs": [
    {
     "name": "stdout",
     "output_type": "stream",
     "text": [
      "Original keywords: ['does', 'the', 'country', 'have', 'decarbonisation', 'strategy', 'to', 'meet', 'paris', 'agreement', 'that', 'they', 'are', 'implementing', 'or', 'in', 'the', 'national', 'legislation']\n",
      "\n",
      "Expanded keywords: ['have', 'supported', 'another', 'yet', 'electrification', 'followed', 'award', 'in', 'reduced', 'based', 'up', 'regulation', 'paris', 'political', 'achieved', 'hydrogen', 'fees', 'agreement', 'or', 'draft', 'contract', 'are', 'ministerial', 'subject', 'national', 'typology', 'well', 'developed', 'they', 'kw', 'meet', 'body', 'articles', 'reason', 'going', 'country', 'continue', 'determination', 'decarbonisation', 'zero', 'prediction', 'once', 'non', 'nations', 'results', 'completed', 'against', 'met', 'that', 'depends', 'stipulated', 'increases', 'implementing', 'procurements', 'encourage', 'page', 'plan', 'intensity', 'motivate', 'will', 'rise', 'revised', 'packages', 'limited', 'action', 'feedstock', 'development', 'now', 'social', 'dimension', 'built', 'prepared', 'realized', 'farms', 'business', 'starting', 'does', 'still', 'task', 'positive', 'below', 'happens', 'past', 'after', 'currently', 'shares', 'started', 'strong', 'implemented', 'legislation', 'the', 'given', 'used', 'expected', 'able', 'to', 'carriers', 'strategy', 'amended']\n"
     ]
    }
   ],
   "source": [
    "# Generate similar words using word2vec model to prompt's keywords and store them for keyword search\n",
    "keywords = simple_preprocess(prompt)\n",
    "similar_words = []\n",
    "\n",
    "# For each keyword, try to find similar words\n",
    "for keyword in keywords:\n",
    "    try:\n",
    "        # Only get similar words if keyword exists in vocabulary\n",
    "        if keyword in custom_w2v.wv:\n",
    "            similar = custom_w2v.wv.most_similar(keyword, topn=5)  # Get top 5 similar words\n",
    "            similar_words.extend([word for word, score in similar])\n",
    "    except KeyError:\n",
    "        # Skip words not in vocabulary\n",
    "        continue\n",
    "\n",
    "# Combine original keywords with similar words\n",
    "all_search_terms = list(set(keywords + similar_words))\n",
    "\n",
    "print(\"Original keywords:\", keywords)\n",
    "print(\"\\nExpanded keywords:\", all_search_terms)"
   ]
  },
  {
   "cell_type": "markdown",
   "id": "4fd5a34a",
   "metadata": {},
   "source": [
    "Generate embeddings for the prompt"
   ]
  },
  {
   "cell_type": "code",
   "execution_count": 12,
   "id": "5c0b165c",
   "metadata": {},
   "outputs": [],
   "source": [
    "# Convert prompt into embeddings\n",
    "prompt_w2v_embeddings = generate_word2vec_embedding_for_text(prompt, custom_w2v)\n",
    "\n",
    "prompt_climatebert_embeddings = generate_embeddings_for_text(prompt, climatebert_model, climatebert_tokenizer)"
   ]
  },
  {
   "cell_type": "markdown",
   "id": "1b487cb3",
   "metadata": {},
   "source": [
    "### 1.3 Load the dataframe from the database"
   ]
  },
  {
   "cell_type": "code",
   "execution_count": 13,
   "id": "6114a8af",
   "metadata": {},
   "outputs": [
    {
     "data": {
      "text/html": [
       "<div>\n",
       "<style scoped>\n",
       "    .dataframe tbody tr th:only-of-type {\n",
       "        vertical-align: middle;\n",
       "    }\n",
       "\n",
       "    .dataframe tbody tr th {\n",
       "        vertical-align: top;\n",
       "    }\n",
       "\n",
       "    .dataframe thead th {\n",
       "        text-align: right;\n",
       "    }\n",
       "</style>\n",
       "<table border=\"1\" class=\"dataframe\">\n",
       "  <thead>\n",
       "    <tr style=\"text-align: right;\">\n",
       "      <th></th>\n",
       "      <th>id</th>\n",
       "      <th>document_id</th>\n",
       "      <th>document_title</th>\n",
       "      <th>country_code</th>\n",
       "      <th>original_text</th>\n",
       "      <th>source_hyperlink</th>\n",
       "      <th>climatebert_embedding</th>\n",
       "      <th>word2vec_embedding</th>\n",
       "    </tr>\n",
       "  </thead>\n",
       "  <tbody>\n",
       "    <tr>\n",
       "      <th>0</th>\n",
       "      <td>2316</td>\n",
       "      <td>CCLW.document.i00000002.n0000</td>\n",
       "      <td>National Energy and Climate Plan 2019 Draft</td>\n",
       "      <td>ALB</td>\n",
       "      <td>0.3</td>\n",
       "      <td>https://www.energy-community.org/dam/jcr:a0c2b...</td>\n",
       "      <td>[-0.025991503,0.0861391,0.0032455176,-0.087798...</td>\n",
       "      <td>[0,0,0,0,0,0,0,0,0,0,0,0,0,0,0,0,0,0,0,0,0,0,0...</td>\n",
       "    </tr>\n",
       "    <tr>\n",
       "      <th>1</th>\n",
       "      <td>2317</td>\n",
       "      <td>CCLW.document.i00000002.n0000</td>\n",
       "      <td>National Energy and Climate Plan 2019 Draft</td>\n",
       "      <td>ALB</td>\n",
       "      <td>0.4</td>\n",
       "      <td>https://www.energy-community.org/dam/jcr:a0c2b...</td>\n",
       "      <td>[-0.020988133,0.07871499,0.007967811,-0.090249...</td>\n",
       "      <td>[0,0,0,0,0,0,0,0,0,0,0,0,0,0,0,0,0,0,0,0,0,0,0...</td>\n",
       "    </tr>\n",
       "    <tr>\n",
       "      <th>2</th>\n",
       "      <td>2318</td>\n",
       "      <td>CCLW.document.i00000002.n0000</td>\n",
       "      <td>National Energy and Climate Plan 2019 Draft</td>\n",
       "      <td>ALB</td>\n",
       "      <td>0.0</td>\n",
       "      <td>https://www.energy-community.org/dam/jcr:a0c2b...</td>\n",
       "      <td>[-0.019849952,0.077195846,0.0019134246,-0.0781...</td>\n",
       "      <td>[0,0,0,0,0,0,0,0,0,0,0,0,0,0,0,0,0,0,0,0,0,0,0...</td>\n",
       "    </tr>\n",
       "    <tr>\n",
       "      <th>3</th>\n",
       "      <td>2319</td>\n",
       "      <td>CCLW.document.i00000002.n0000</td>\n",
       "      <td>National Energy and Climate Plan 2019 Draft</td>\n",
       "      <td>ALB</td>\n",
       "      <td>0.0</td>\n",
       "      <td>https://www.energy-community.org/dam/jcr:a0c2b...</td>\n",
       "      <td>[-0.019849952,0.077195846,0.0019134246,-0.0781...</td>\n",
       "      <td>[0,0,0,0,0,0,0,0,0,0,0,0,0,0,0,0,0,0,0,0,0,0,0...</td>\n",
       "    </tr>\n",
       "    <tr>\n",
       "      <th>4</th>\n",
       "      <td>2320</td>\n",
       "      <td>CCLW.document.i00000002.n0000</td>\n",
       "      <td>National Energy and Climate Plan 2019 Draft</td>\n",
       "      <td>ALB</td>\n",
       "      <td>0.0</td>\n",
       "      <td>https://www.energy-community.org/dam/jcr:a0c2b...</td>\n",
       "      <td>[-0.019849952,0.077195846,0.0019134246,-0.0781...</td>\n",
       "      <td>[0,0,0,0,0,0,0,0,0,0,0,0,0,0,0,0,0,0,0,0,0,0,0...</td>\n",
       "    </tr>\n",
       "  </tbody>\n",
       "</table>\n",
       "</div>"
      ],
      "text/plain": [
       "     id                    document_id  \\\n",
       "0  2316  CCLW.document.i00000002.n0000   \n",
       "1  2317  CCLW.document.i00000002.n0000   \n",
       "2  2318  CCLW.document.i00000002.n0000   \n",
       "3  2319  CCLW.document.i00000002.n0000   \n",
       "4  2320  CCLW.document.i00000002.n0000   \n",
       "\n",
       "                                 document_title country_code original_text  \\\n",
       "0  National Energy and Climate Plan 2019 Draft           ALB           0.3   \n",
       "1  National Energy and Climate Plan 2019 Draft           ALB           0.4   \n",
       "2  National Energy and Climate Plan 2019 Draft           ALB           0.0   \n",
       "3  National Energy and Climate Plan 2019 Draft           ALB           0.0   \n",
       "4  National Energy and Climate Plan 2019 Draft           ALB           0.0   \n",
       "\n",
       "                                    source_hyperlink  \\\n",
       "0  https://www.energy-community.org/dam/jcr:a0c2b...   \n",
       "1  https://www.energy-community.org/dam/jcr:a0c2b...   \n",
       "2  https://www.energy-community.org/dam/jcr:a0c2b...   \n",
       "3  https://www.energy-community.org/dam/jcr:a0c2b...   \n",
       "4  https://www.energy-community.org/dam/jcr:a0c2b...   \n",
       "\n",
       "                               climatebert_embedding  \\\n",
       "0  [-0.025991503,0.0861391,0.0032455176,-0.087798...   \n",
       "1  [-0.020988133,0.07871499,0.007967811,-0.090249...   \n",
       "2  [-0.019849952,0.077195846,0.0019134246,-0.0781...   \n",
       "3  [-0.019849952,0.077195846,0.0019134246,-0.0781...   \n",
       "4  [-0.019849952,0.077195846,0.0019134246,-0.0781...   \n",
       "\n",
       "                                  word2vec_embedding  \n",
       "0  [0,0,0,0,0,0,0,0,0,0,0,0,0,0,0,0,0,0,0,0,0,0,0...  \n",
       "1  [0,0,0,0,0,0,0,0,0,0,0,0,0,0,0,0,0,0,0,0,0,0,0...  \n",
       "2  [0,0,0,0,0,0,0,0,0,0,0,0,0,0,0,0,0,0,0,0,0,0,0...  \n",
       "3  [0,0,0,0,0,0,0,0,0,0,0,0,0,0,0,0,0,0,0,0,0,0,0...  \n",
       "4  [0,0,0,0,0,0,0,0,0,0,0,0,0,0,0,0,0,0,0,0,0,0,0...  "
      ]
     },
     "execution_count": 13,
     "metadata": {},
     "output_type": "execute_result"
    }
   ],
   "source": [
    "\n",
    "from sqlalchemy import create_engine, text\n",
    "import os\n",
    "engine = create_engine(os.getenv(\"DB_URL\"))\n",
    "\n",
    "df = pd.read_sql(\"SELECT * FROM document_embeddings\", engine)\n",
    "df.head()"
   ]
  },
  {
   "cell_type": "markdown",
   "id": "29ec6549",
   "metadata": {},
   "source": [
    "## 2. Retrieving Relevant Chunks"
   ]
  },
  {
   "cell_type": "markdown",
   "id": "e73cd579",
   "metadata": {},
   "source": [
    "### 2.1 Keyword-based Retrieval\n",
    "### Goal 1: select chunks with exact keyword match with the query\n",
    "\n",
    "We can retrieve the chunks that contain the exact keyword match with the prompt"
   ]
  },
  {
   "cell_type": "markdown",
   "id": "9933b197",
   "metadata": {},
   "source": [
    "Retrieve top k chunks from all techniques and see which answer provides the most sensible context to the prompt"
   ]
  },
  {
   "cell_type": "code",
   "execution_count": 14,
   "id": "908a3ef1",
   "metadata": {},
   "outputs": [
    {
     "name": "stdout",
     "output_type": "stream",
     "text": [
      "Relevant chunks based on boolean search:\n"
     ]
    },
    {
     "data": {
      "text/html": [
       "<div>\n",
       "<style scoped>\n",
       "    .dataframe tbody tr th:only-of-type {\n",
       "        vertical-align: middle;\n",
       "    }\n",
       "\n",
       "    .dataframe tbody tr th {\n",
       "        vertical-align: top;\n",
       "    }\n",
       "\n",
       "    .dataframe thead th {\n",
       "        text-align: right;\n",
       "    }\n",
       "</style>\n",
       "<table border=\"1\" class=\"dataframe\">\n",
       "  <thead>\n",
       "    <tr style=\"text-align: right;\">\n",
       "      <th></th>\n",
       "      <th>original_text</th>\n",
       "      <th>boolean_score</th>\n",
       "    </tr>\n",
       "  </thead>\n",
       "  <tbody>\n",
       "    <tr>\n",
       "      <th>4666</th>\n",
       "      <td>- Environmental impacts of hydropower developm...</td>\n",
       "      <td>0.171717</td>\n",
       "    </tr>\n",
       "    <tr>\n",
       "      <th>4667</th>\n",
       "      <td>- Including sustainability principles in hydro...</td>\n",
       "      <td>0.161616</td>\n",
       "    </tr>\n",
       "    <tr>\n",
       "      <th>4782</th>\n",
       "      <td>Climate change models predict that there will ...</td>\n",
       "      <td>0.161616</td>\n",
       "    </tr>\n",
       "    <tr>\n",
       "      <th>2995</th>\n",
       "      <td>This section specifically provides an assessme...</td>\n",
       "      <td>0.151515</td>\n",
       "    </tr>\n",
       "    <tr>\n",
       "      <th>2997</th>\n",
       "      <td>Achieving a substantial decarbonization of the...</td>\n",
       "      <td>0.151515</td>\n",
       "    </tr>\n",
       "  </tbody>\n",
       "</table>\n",
       "</div>"
      ],
      "text/plain": [
       "                                          original_text  boolean_score\n",
       "4666  - Environmental impacts of hydropower developm...       0.171717\n",
       "4667  - Including sustainability principles in hydro...       0.161616\n",
       "4782  Climate change models predict that there will ...       0.161616\n",
       "2995  This section specifically provides an assessme...       0.151515\n",
       "2997  Achieving a substantial decarbonization of the...       0.151515"
      ]
     },
     "execution_count": 14,
     "metadata": {},
     "output_type": "execute_result"
    }
   ],
   "source": [
    "top_k_boolean_chunks = boolean_search(all_search_terms, df, k=25)\n",
    "relevant_boolean = top_k_boolean_chunks[['original_text', 'boolean_score']]\n",
    "print('Relevant chunks based on boolean search:')\n",
    "relevant_boolean.head(5)\n"
   ]
  },
  {
   "cell_type": "code",
   "execution_count": 15,
   "id": "2cf4e132",
   "metadata": {},
   "outputs": [
    {
     "name": "stdout",
     "output_type": "stream",
     "text": [
      "Relevant chunks based on BM25 search:\n"
     ]
    },
    {
     "data": {
      "text/html": [
       "<div>\n",
       "<style scoped>\n",
       "    .dataframe tbody tr th:only-of-type {\n",
       "        vertical-align: middle;\n",
       "    }\n",
       "\n",
       "    .dataframe tbody tr th {\n",
       "        vertical-align: top;\n",
       "    }\n",
       "\n",
       "    .dataframe thead th {\n",
       "        text-align: right;\n",
       "    }\n",
       "</style>\n",
       "<table border=\"1\" class=\"dataframe\">\n",
       "  <thead>\n",
       "    <tr style=\"text-align: right;\">\n",
       "      <th></th>\n",
       "      <th>original_text</th>\n",
       "      <th>bm25_score</th>\n",
       "    </tr>\n",
       "  </thead>\n",
       "  <tbody>\n",
       "    <tr>\n",
       "      <th>3377</th>\n",
       "      <td>Business Investment Development Strategy (BIDS)</td>\n",
       "      <td>1.000000</td>\n",
       "    </tr>\n",
       "    <tr>\n",
       "      <th>3848</th>\n",
       "      <td>ADAPTATION STRATEGY AND ACTION PLAN</td>\n",
       "      <td>0.973747</td>\n",
       "    </tr>\n",
       "    <tr>\n",
       "      <th>4775</th>\n",
       "      <td>c. 'Rearrange' disturbed forest ecosystems so ...</td>\n",
       "      <td>0.915038</td>\n",
       "    </tr>\n",
       "    <tr>\n",
       "      <th>4726</th>\n",
       "      <td>a. Extend or renew native species that are exp...</td>\n",
       "      <td>0.881522</td>\n",
       "    </tr>\n",
       "    <tr>\n",
       "      <th>4155</th>\n",
       "      <td>BiH is working on the project 'Advance the Nat...</td>\n",
       "      <td>0.853265</td>\n",
       "    </tr>\n",
       "  </tbody>\n",
       "</table>\n",
       "</div>"
      ],
      "text/plain": [
       "                                          original_text  bm25_score\n",
       "3377    Business Investment Development Strategy (BIDS)    1.000000\n",
       "3848                ADAPTATION STRATEGY AND ACTION PLAN    0.973747\n",
       "4775  c. 'Rearrange' disturbed forest ecosystems so ...    0.915038\n",
       "4726  a. Extend or renew native species that are exp...    0.881522\n",
       "4155  BiH is working on the project 'Advance the Nat...    0.853265"
      ]
     },
     "execution_count": 15,
     "metadata": {},
     "output_type": "execute_result"
    }
   ],
   "source": [
    "top_k_bm25_chunks = bm25_search(all_search_terms, df, k=25)\n",
    "relevant_bm25 = top_k_bm25_chunks[['original_text', 'bm25_score']]\n",
    "print('Relevant chunks based on BM25 search:')\n",
    "relevant_bm25.head(5)"
   ]
  },
  {
   "cell_type": "code",
   "execution_count": 16,
   "id": "aa4bc18a",
   "metadata": {},
   "outputs": [
    {
     "name": "stdout",
     "output_type": "stream",
     "text": [
      "Relevant chunks based on fuzzy search:\n"
     ]
    },
    {
     "data": {
      "text/html": [
       "<div>\n",
       "<style scoped>\n",
       "    .dataframe tbody tr th:only-of-type {\n",
       "        vertical-align: middle;\n",
       "    }\n",
       "\n",
       "    .dataframe tbody tr th {\n",
       "        vertical-align: top;\n",
       "    }\n",
       "\n",
       "    .dataframe thead th {\n",
       "        text-align: right;\n",
       "    }\n",
       "</style>\n",
       "<table border=\"1\" class=\"dataframe\">\n",
       "  <thead>\n",
       "    <tr style=\"text-align: right;\">\n",
       "      <th></th>\n",
       "      <th>original_text</th>\n",
       "      <th>fuzzy_score</th>\n",
       "    </tr>\n",
       "  </thead>\n",
       "  <tbody>\n",
       "    <tr>\n",
       "      <th>3434</th>\n",
       "      <td>the</td>\n",
       "      <td>1.00</td>\n",
       "    </tr>\n",
       "    <tr>\n",
       "      <th>3159</th>\n",
       "      <td>Decarbonisation /\\nremovals</td>\n",
       "      <td>0.77</td>\n",
       "    </tr>\n",
       "    <tr>\n",
       "      <th>3847</th>\n",
       "      <td>5 THE</td>\n",
       "      <td>0.75</td>\n",
       "    </tr>\n",
       "    <tr>\n",
       "      <th>3613</th>\n",
       "      <td>for the</td>\n",
       "      <td>0.60</td>\n",
       "    </tr>\n",
       "    <tr>\n",
       "      <th>4138</th>\n",
       "      <td>BiH has demonstrated its commitment to partici...</td>\n",
       "      <td>0.56</td>\n",
       "    </tr>\n",
       "  </tbody>\n",
       "</table>\n",
       "</div>"
      ],
      "text/plain": [
       "                                          original_text  fuzzy_score\n",
       "3434                                                the         1.00\n",
       "3159                        Decarbonisation /\\nremovals         0.77\n",
       "3847                                              5 THE         0.75\n",
       "3613                                            for the         0.60\n",
       "4138  BiH has demonstrated its commitment to partici...         0.56"
      ]
     },
     "execution_count": 16,
     "metadata": {},
     "output_type": "execute_result"
    }
   ],
   "source": [
    "top_k_fuzzy_chunks = fuzzy_search(prompt, df, k=50)\n",
    "relevant_fuzzy = top_k_fuzzy_chunks[['original_text', 'fuzzy_score']]\n",
    "print('Relevant chunks based on fuzzy search:')\n",
    "relevant_fuzzy.head(5)"
   ]
  },
  {
   "cell_type": "markdown",
   "id": "a2277a0a",
   "metadata": {},
   "source": [
    "As we can see, the retrieved chunks from boolean search or bm25 ranking makes more sense in answering the question in the prompt. Fuzzy string matching, on the other side, yields mostly numbers. Though its stregth lies in its ability to identify some pattern mathcing, it might not be useful in this case."
   ]
  },
  {
   "cell_type": "markdown",
   "id": "c2b97052",
   "metadata": {},
   "source": [
    "## 2.2 Semantic Retrieval"
   ]
  },
  {
   "cell_type": "markdown",
   "id": "189b3f8d",
   "metadata": {},
   "source": [
    "### Goal 2: select chunks with same semantic meaning to prompt\n",
    "\n",
    "We can retrieve the chunks that contain the same semantic meaning to the given prompt. Or, we can use the ones that already have the keywords, and compare similarity score (if not, there is a disconnect on keyword and semantic search. If not, we can compare if the semantic performed better or worse from the keywprd search). Based on the chunks retrieved, we can assess whether Word2Vec or ClimateBERT performs better\n",
    "\n",
    "Method: Pure embeddings comparison of query and chunks, (reranking based on weighted score) fusion retrieval, (prompt engineering)adaptive retrieval, (reranking) RSE, langchain Q&A, Contextual compression"
   ]
  },
  {
   "cell_type": "code",
   "execution_count": 17,
   "id": "19708b2d",
   "metadata": {},
   "outputs": [],
   "source": [
    "# Vector search\n",
    "# 1. Get the embeddings of the prompt\n",
    "# 2. Get the embeddings of the chunks\n",
    "# 3. Calculate the cosine similarity between the prompt and the chunks\n",
    "# 4. Get the top k chunks with the highest cosine similarity\n",
    "# 5. Return the top k chunks with the highest cosine similarity\n",
    "\n",
    "#Make this fucntion adaptable for both transformer and word2vec embeddings"
   ]
  },
  {
   "cell_type": "code",
   "execution_count": 29,
   "id": "71d50c44",
   "metadata": {},
   "outputs": [
    {
     "name": "stdout",
     "output_type": "stream",
     "text": [
      "Top 25 results using ClimateBERT:\n",
      "                                          original_text  similarity_score\n",
      "3478  Table 11: Overview table of key policies affec...          1.000000\n",
      "3997           Initial National Determined Contribution          0.959088\n",
      "3759                                     Project board:          0.952326\n",
      "3285               No budget calculated for the moment.          0.950437\n",
      "3995  Initial National Communication Report under th...          0.946192\n",
      "3410                          Overall policy documents:          0.945382\n",
      "3973                      Designated National Authority          0.942615\n",
      "3633                                        Secretariat          0.939853\n",
      "4572  21UNCC - Article: How Hydropower Can Help Clim...          0.938768\n",
      "1925                              Public administration          0.938397\n",
      "4025  Second National Communication Report under the...          0.938183\n",
      "3782                    Existing policies and measures.          0.935045\n",
      "3476          Table 9: NDC baseline scenario targets 50          0.934402\n",
      "3899                 Emission reduction plans by sector          0.931434\n",
      "4027  Third National Communication Report under the ...          0.930356\n",
      "3969                        Clean Development Mechanism          0.930035\n",
      "3770  The international context and the European Uni...          0.929955\n",
      "3854                 Specific objectives and priorities          0.925612\n",
      "3779  Policy of Bosnia and Herzegovina on climate ch...          0.924946\n",
      "929                                         Residential          0.924305\n",
      "3124                             Wind installation 2030          0.923311\n",
      "3869                      Adaptation measures by sector          0.922776\n",
      "2805                            G 11 Implementation ETS          0.922174\n",
      "3785                            Institutional framework          0.921433\n",
      "3315                                        Not defined          0.921133\n",
      "\n",
      "Top 25 results using Word2Vec:\n",
      "                                          original_text  similarity_score\n",
      "4845  According to the EEA analysis, Northern Europe...          1.000000\n",
      "4329  10The results of the regional climate models a...          0.999901\n",
      "4045  The first effects of climate change are alread...          0.999671\n",
      "3116  Regarding employment effects PaMs triggering b...          0.999644\n",
      "4658  - Hydropower development should be part of a b...          0.999629\n",
      "4556  The forecasted changes in precipitation and ai...          0.999532\n",
      "4819  Climate change indirectly affects water availa...          0.999504\n",
      "3723  In addition to the government departments and ...          0.999488\n",
      "4721  Adaptation to climate change in the field of f...          0.999407\n",
      "4135  In terms of international obligations on clima...          0.999364\n",
      "4835  At the global level, major changes are expecte...          0.999313\n",
      "4700  country. Approaches to adaptation to climate c...          0.999289\n",
      "4172  As a result of historic and current greenhouse...          0.999285\n",
      "4679  According to data from statistical yearbooks, ...          0.999235\n",
      "4174  The Initial National Communication (INC) and t...          0.999227\n",
      "4691  Therefore, in the territory of Bosnia and Herz...          0.999224\n",
      "4213  In the period 1961-2015, most of the territory...          0.999118\n",
      "4048  In Bosnia and Herzegovina (BiH), six of the la...          0.999113\n",
      "3004  Energy Efficiency Fund: The EE Law mandates th...          0.999086\n",
      "4842  In order to protect the health of the populati...          0.999029\n",
      "4124  In 2013, the European Commission adopted an EU...          0.998995\n",
      "4860  Throughout Bosnia and Herzegovina, linear tren...          0.998723\n",
      "4143  By signing the Declaration on the Green Agenda...          0.998691\n",
      "4676  The area of Bosnia and Herzegovina is divided ...          0.998644\n",
      "4103  The EU's long-term goal in the context of low-...          0.998638\n"
     ]
    }
   ],
   "source": [
    "\n",
    "climatebert_results = vector_search(\n",
    "    prompt_embeddings=np.array(prompt_climatebert_embeddings),\n",
    "    embedding_type='climatebert',\n",
    "    top_k=25\n",
    ")\n",
    "\n",
    "print(\"Top 25 results using ClimateBERT:\")\n",
    "print(climatebert_results[['original_text', 'similarity_score']].head(25))\n",
    "\n",
    "w2v_results = vector_search(\n",
    "    prompt_embeddings=np.array(prompt_w2v_embeddings),\n",
    "    embedding_type='word2vec',\n",
    "    top_k=25\n",
    ")\n",
    "\n",
    "print(\"\\nTop 25 results using Word2Vec:\")\n",
    "print(w2v_results[['original_text', 'similarity_score']].head(25))"
   ]
  },
  {
   "cell_type": "code",
   "execution_count": 30,
   "id": "3bcc6152",
   "metadata": {},
   "outputs": [
    {
     "data": {
      "text/html": [
       "<div>\n",
       "<style scoped>\n",
       "    .dataframe tbody tr th:only-of-type {\n",
       "        vertical-align: middle;\n",
       "    }\n",
       "\n",
       "    .dataframe tbody tr th {\n",
       "        vertical-align: top;\n",
       "    }\n",
       "\n",
       "    .dataframe thead th {\n",
       "        text-align: right;\n",
       "    }\n",
       "</style>\n",
       "<table border=\"1\" class=\"dataframe\">\n",
       "  <thead>\n",
       "    <tr style=\"text-align: right;\">\n",
       "      <th></th>\n",
       "      <th>document_id</th>\n",
       "      <th>country_code</th>\n",
       "      <th>document_title</th>\n",
       "      <th>original_text</th>\n",
       "      <th>source_hyperlink</th>\n",
       "      <th>w2v_score</th>\n",
       "      <th>climatebert_score</th>\n",
       "      <th>avg_score</th>\n",
       "      <th>bm25_score</th>\n",
       "    </tr>\n",
       "  </thead>\n",
       "  <tbody>\n",
       "    <tr>\n",
       "      <th>4092</th>\n",
       "      <td>CCLW.document.i00000004.n0000</td>\n",
       "      <td>BIH</td>\n",
       "      <td>Climate Change Adaptation and Low Emissions Gr...</td>\n",
       "      <td>The Paris Agreement on Climate Change is based...</td>\n",
       "      <td>https://unfccc.int/sites/default/files/resourc...</td>\n",
       "      <td>0.993667</td>\n",
       "      <td>0.550285</td>\n",
       "      <td>0.771976</td>\n",
       "      <td>1.000000</td>\n",
       "    </tr>\n",
       "    <tr>\n",
       "      <th>4155</th>\n",
       "      <td>CCLW.document.i00000004.n0000</td>\n",
       "      <td>BIH</td>\n",
       "      <td>Climate Change Adaptation and Low Emissions Gr...</td>\n",
       "      <td>BiH is working on the project 'Advance the Nat...</td>\n",
       "      <td>https://unfccc.int/sites/default/files/resourc...</td>\n",
       "      <td>0.986941</td>\n",
       "      <td>0.725626</td>\n",
       "      <td>0.856283</td>\n",
       "      <td>0.892933</td>\n",
       "    </tr>\n",
       "    <tr>\n",
       "      <th>4614</th>\n",
       "      <td>CCLW.document.i00000004.n0000</td>\n",
       "      <td>BIH</td>\n",
       "      <td>Climate Change Adaptation and Low Emissions Gr...</td>\n",
       "      <td>The risks associated with climate change have ...</td>\n",
       "      <td>https://unfccc.int/sites/default/files/resourc...</td>\n",
       "      <td>0.994369</td>\n",
       "      <td>0.605252</td>\n",
       "      <td>0.799810</td>\n",
       "      <td>0.874398</td>\n",
       "    </tr>\n",
       "    <tr>\n",
       "      <th>3705</th>\n",
       "      <td>CCLW.document.i00000002.n0000</td>\n",
       "      <td>ALB</td>\n",
       "      <td>National Energy and Climate Plan 2019 Draft</td>\n",
       "      <td>Energy Regulatory Authority (ERE): The Energy ...</td>\n",
       "      <td>https://www.energy-community.org/dam/jcr:a0c2b...</td>\n",
       "      <td>0.985716</td>\n",
       "      <td>0.755189</td>\n",
       "      <td>0.870453</td>\n",
       "      <td>0.859087</td>\n",
       "    </tr>\n",
       "    <tr>\n",
       "      <th>3377</th>\n",
       "      <td>CCLW.document.i00000002.n0000</td>\n",
       "      <td>ALB</td>\n",
       "      <td>National Energy and Climate Plan 2019 Draft</td>\n",
       "      <td>Business Investment Development Strategy (BIDS)</td>\n",
       "      <td>https://www.energy-community.org/dam/jcr:a0c2b...</td>\n",
       "      <td>0.937189</td>\n",
       "      <td>0.868619</td>\n",
       "      <td>0.902904</td>\n",
       "      <td>0.841708</td>\n",
       "    </tr>\n",
       "  </tbody>\n",
       "</table>\n",
       "</div>"
      ],
      "text/plain": [
       "                        document_id country_code  \\\n",
       "4092  CCLW.document.i00000004.n0000          BIH   \n",
       "4155  CCLW.document.i00000004.n0000          BIH   \n",
       "4614  CCLW.document.i00000004.n0000          BIH   \n",
       "3705  CCLW.document.i00000002.n0000          ALB   \n",
       "3377  CCLW.document.i00000002.n0000          ALB   \n",
       "\n",
       "                                         document_title  \\\n",
       "4092  Climate Change Adaptation and Low Emissions Gr...   \n",
       "4155  Climate Change Adaptation and Low Emissions Gr...   \n",
       "4614  Climate Change Adaptation and Low Emissions Gr...   \n",
       "3705       National Energy and Climate Plan 2019 Draft    \n",
       "3377       National Energy and Climate Plan 2019 Draft    \n",
       "\n",
       "                                          original_text  \\\n",
       "4092  The Paris Agreement on Climate Change is based...   \n",
       "4155  BiH is working on the project 'Advance the Nat...   \n",
       "4614  The risks associated with climate change have ...   \n",
       "3705  Energy Regulatory Authority (ERE): The Energy ...   \n",
       "3377    Business Investment Development Strategy (BIDS)   \n",
       "\n",
       "                                       source_hyperlink  w2v_score  \\\n",
       "4092  https://unfccc.int/sites/default/files/resourc...   0.993667   \n",
       "4155  https://unfccc.int/sites/default/files/resourc...   0.986941   \n",
       "4614  https://unfccc.int/sites/default/files/resourc...   0.994369   \n",
       "3705  https://www.energy-community.org/dam/jcr:a0c2b...   0.985716   \n",
       "3377  https://www.energy-community.org/dam/jcr:a0c2b...   0.937189   \n",
       "\n",
       "      climatebert_score  avg_score  bm25_score  \n",
       "4092           0.550285   0.771976    1.000000  \n",
       "4155           0.725626   0.856283    0.892933  \n",
       "4614           0.605252   0.799810    0.874398  \n",
       "3705           0.755189   0.870453    0.859087  \n",
       "3377           0.868619   0.902904    0.841708  "
      ]
     },
     "execution_count": 30,
     "metadata": {},
     "output_type": "execute_result"
    }
   ],
   "source": [
    "\n",
    "df_similarity_score = df_with_similarity_score(\n",
    "    prompt_embeddings_w2v=np.array(prompt_w2v_embeddings),\n",
    "    prompt_embeddings_climatebert=np.array(prompt_climatebert_embeddings),\n",
    "    top_k=None\n",
    ")\n",
    "df_similarity_score.head(5)\n",
    "\n",
    "bm25_df = bm25_search(all_search_terms, df_similarity_score, k=None)\n",
    "bm25_df.head(5)"
   ]
  },
  {
   "cell_type": "markdown",
   "id": "b24622af",
   "metadata": {},
   "source": [
    "Interestingly, the Word2vec model seems to retrieve more useful information than climateBERT model, contrary to our expectations. This may reflect weaknesses in embeddings generation or the model itself. \n",
    "\n",
    "However, we have yet to exactly identify is the answers make sense or not, which will be tested in the LLM evaluation phase."
   ]
  },
  {
   "cell_type": "markdown",
   "id": "e415fea3",
   "metadata": {},
   "source": [
    "(Extra: if have time)"
   ]
  },
  {
   "cell_type": "markdown",
   "id": "32d90a3a",
   "metadata": {},
   "source": [
    "### Goal 3: Rank the chunks based on their relevance to the prompt\n",
    "\n",
    "We can rerank the chunks based on their relevance to the prompt. Much like the widely knwon hybrid search, we will sum the sparse score (from the chosen keyword technique) and dense score (from embeddings) with weghted parameter alpha. \n"
   ]
  },
  {
   "cell_type": "code",
   "execution_count": 32,
   "id": "3af91919",
   "metadata": {},
   "outputs": [
    {
     "name": "stdout",
     "output_type": "stream",
     "text": [
      "Top results using hybrid scoring:\n",
      "                                          original_text  hybrid_score\n",
      "3377    Business Investment Development Strategy (BIDS)      0.855164\n",
      "4658  - Hydropower development should be part of a b...      0.847423\n",
      "3848                ADAPTATION STRATEGY AND ACTION PLAN      0.824155\n",
      "4155  BiH is working on the project 'Advance the Nat...      0.809280\n",
      "3705  Energy Regulatory Authority (ERE): The Energy ...      0.807138\n",
      "4136  Under the UNFCCC, Bosnia and Herzegovina is co...      0.800100\n",
      "4154  At the meeting of the Ministerial Council of t...      0.783631\n",
      "4092  The Paris Agreement on Climate Change is based...      0.775142\n",
      "3533  Figure 6: Energy intensity (Source: National S...      0.773565\n",
      "4775  c. 'Rearrange' disturbed forest ecosystems so ...      0.761036\n",
      "4614  The risks associated with climate change have ...      0.739825\n",
      "3004  Energy Efficiency Fund: The EE Law mandates th...      0.734070\n",
      "3423  . National Energy Efficiency Action Plan 2010-...      0.730865\n",
      "4077  Climate change is not sector specific, and dem...      0.730254\n",
      "3215  Mechanism of net metering f for installations ...      0.729990\n",
      "3469  Table 2: Electricity generation from renewable...      0.725994\n",
      "3244  124,000 Euro (Source: National Action Plan for...      0.723309\n",
      "4031               United Nations Development Programme      0.723237\n",
      "3428  · National Action Plan for Renewable Energy Re...      0.720346\n",
      "3712  . Develop and monitor the National Energy Effi...      0.712045\n",
      "3758  Climate Change Adaptation and Low-Emission Dev...      0.712036\n",
      "4153  In order to meet the obligations arising from ...      0.710627\n",
      "3440  DOCUMENTS used for elaborating chapter 3 are l...      0.703030\n",
      "4726  a. Extend or renew native species that are exp...      0.699633\n",
      "4255  Scenarios RCP2.6 and RCP4.5 assume that in the...      0.698783\n",
      "844                                  Hydrogen Biodiesel      0.696314\n",
      "3429  . The National Consolidated Renewable Energy A...      0.689953\n",
      "4360  All of the above, especially in a negative con...      0.689134\n",
      "4731  g. Enter the species that are expected to be a...      0.685801\n",
      "2794  This discussion shows the limitations of attri...      0.681286\n",
      "3418  · Executive Summary: 2nd and 3rd National Acti...      0.679332\n",
      "4126  · Promoting action by Member States: The Commi...      0.676932\n",
      "4956  Climate change is affecting all regions of the...      0.673446\n",
      "4855  Climate changes that Bosnia and Herzegovina is...      0.672392\n",
      "3427  . Decision No. 179, dated 28.3.2018 On approva...      0.670043\n",
      "4161  identifying existing possible adaptation and m...      0.669721\n",
      "3413  · National Strategy for Development and Integr...      0.668139\n",
      "836   The following figure shows fuels currently use...      0.657688\n",
      "4070  The priority sectors for the Low Emission Deve...      0.653225\n",
      "3426  · Sectorial strategy of transport & Action Pla...      0.650604\n",
      "4572  21UNCC - Article: How Hydropower Can Help Clim...      0.650278\n",
      "3873  6 THE EMISSION REDUCTION STRATEGY AND ACTION P...      0.649988\n",
      "4727  b. Establish or encourage mixed communities wi...      0.649698\n",
      "3511  Table 40: RES-E share, calculated according to...      0.648288\n",
      "3709  · Approving the standard industry documents su...      0.646712\n",
      "3424  . Second and Third National Energy Efficiency ...      0.643532\n",
      "4345  distribution and intensity. The consequences o...      0.640116\n",
      "3711  · Develop secondary legislation and programs t...      0.639113\n",
      "4121  promotes eco-innovation and takes into account...      0.638633\n",
      "4138  BiH has demonstrated its commitment to partici...      0.636975\n"
     ]
    }
   ],
   "source": [
    "# Example usage of hybrid scoring\n",
    "try:\n",
    "    hybrid_results = hybrid_scoring(bm25_df, alpha=0.5)\n",
    "    print(\"Top results using hybrid scoring:\")\n",
    "    print(hybrid_results[['original_text', 'hybrid_score']].head(50))\n",
    "except KeyError as e:\n",
    "    print(f\"Error: Missing required column - {e}\")"
   ]
  },
  {
   "cell_type": "code",
   "execution_count": null,
   "id": "f32a3015",
   "metadata": {},
   "outputs": [],
   "source": [
    "\n",
    "# def tune_alpha():\n",
    "#     \"\"\"\n",
    "#     Tune alpha to find the best combination of sparse and dense scores\n",
    "#     \"\"\"\n",
    "#     # Create a list of alpha values to test\n",
    "#     alpha_values = [i/10 for i in range(0, 11)]\n",
    "    \n",
    "#     # Initialize a dictionary to store the results\n",
    "#     results = {}\n",
    "    \n",
    "#     # Loop through each alpha value\n",
    "#     for alpha in alpha_values:\n",
    "#         # Compute the hybrid score\n",
    "#         df = hybrid_scoring(alpha)\n",
    "        \n",
    "#         # Store the results\n",
    "#         results[alpha] = df['hybrid_score'].mean()\n",
    "    \n",
    "#     return results"
   ]
  },
  {
   "cell_type": "code",
   "execution_count": null,
   "id": "72886a31",
   "metadata": {},
   "outputs": [],
   "source": [
    "# Score all chunks based on its similarity with the prompts (keyword score and vector score)\n",
    "# then, move on to adding them with a weighted parameter alpha"
   ]
  }
 ],
 "metadata": {
  "kernelspec": {
   "display_name": "group_rag.venv",
   "language": "python",
   "name": "python3"
  },
  "language_info": {
   "codemirror_mode": {
    "name": "ipython",
    "version": 3
   },
   "file_extension": ".py",
   "mimetype": "text/x-python",
   "name": "python",
   "nbconvert_exporter": "python",
   "pygments_lexer": "ipython3",
   "version": "3.12.10"
  }
 },
 "nbformat": 4,
 "nbformat_minor": 5
}
