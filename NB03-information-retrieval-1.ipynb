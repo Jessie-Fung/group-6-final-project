{
 "cells": [
  {
   "cell_type": "markdown",
   "id": "a352737d",
   "metadata": {},
   "source": [
    "# Information Retrieval"
   ]
  },
  {
   "cell_type": "markdown",
   "id": "d109a06d",
   "metadata": {},
   "source": [
    "\n",
    ">\n",
    "> Goal: We have to find the best method of retrieving info from the Climate Policy Radar's Huggingface dataset based on a user's query or information need.\n",
    ">\n",
    "\n",
    ">\n",
    "> Specify your goal:\n",
    "> 1. Select chunks with exact keyword match with the query\n",
    "> 2. Select chunks with same semantic meaning to query\n",
    "> 3. Rerank the chunks based on their relevance to the query\n",
    "> 4. Define a threshold whether the chunks would be useful to the user or not\n",
    "> 5. Hyperlinks\n",
    ">"
   ]
  },
  {
   "cell_type": "markdown",
   "id": "02c60772",
   "metadata": {},
   "source": [
    "## 1. Preperations"
   ]
  },
  {
   "cell_type": "markdown",
   "id": "fadbcb32",
   "metadata": {},
   "source": [
    "### 1.1 Import libraries and functions"
   ]
  },
  {
   "cell_type": "code",
   "execution_count": 1,
   "id": "a89e3dd8",
   "metadata": {},
   "outputs": [],
   "source": [
    "# pip install fuzzywuzzy\n",
    "# pip install rank_bm25"
   ]
  },
  {
   "cell_type": "code",
   "execution_count": 2,
   "id": "dcaad293",
   "metadata": {},
   "outputs": [
    {
     "name": "stderr",
     "output_type": "stream",
     "text": [
      "/Users/jessiefung/Desktop/DS205/group-6-final-project/.venv/lib/python3.12/site-packages/fuzzywuzzy/fuzz.py:11: UserWarning: Using slow pure-python SequenceMatcher. Install python-Levenshtein to remove this warning\n",
      "  warnings.warn('Using slow pure-python SequenceMatcher. Install python-Levenshtein to remove this warning')\n"
     ]
    },
    {
     "data": {
      "text/plain": [
       "<module 'retrieval' from '/Users/jessiefung/Desktop/DS205/group-6-final-project/retrieval.py'>"
      ]
     },
     "execution_count": 2,
     "metadata": {},
     "output_type": "execute_result"
    }
   ],
   "source": [
    "import importlib\n",
    "import retrieval\n",
    "importlib.reload(retrieval)"
   ]
  },
  {
   "cell_type": "code",
   "execution_count": 3,
   "id": "def1d153",
   "metadata": {},
   "outputs": [],
   "source": [
    "\n",
    "from dotenv import load_dotenv\n",
    "import os\n",
    "from transformers import AutoTokenizer, AutoModel\n",
    "from fuzzywuzzy import fuzz\n",
    "import pandas as pd\n",
    "import numpy as np\n",
    "from gensim.models import KeyedVectors, Word2Vec\n",
    "from gensim.utils import simple_preprocess\n",
    "from sqlalchemy import create_engine, text\n",
    "\n",
    "from retrieval import boolean_search, bm25_search, fuzzy_search, vector_search, df_with_similarity_score, hybrid_scoring\n",
    "from functions import generate_word2vec_embedding_for_text, generate_embeddings_for_text"
   ]
  },
  {
   "cell_type": "markdown",
   "id": "b164526f",
   "metadata": {},
   "source": [
    "Downloading climatebert model and tokenizer"
   ]
  },
  {
   "cell_type": "code",
   "execution_count": 4,
   "id": "4b662ee4",
   "metadata": {},
   "outputs": [
    {
     "name": "stderr",
     "output_type": "stream",
     "text": [
      "Some weights of RobertaModel were not initialized from the model checkpoint at local_model/climatebert/distilroberta-base-climate-f and are newly initialized: ['pooler.dense.bias', 'pooler.dense.weight']\n",
      "You should probably TRAIN this model on a down-stream task to be able to use it for predictions and inference.\n"
     ]
    }
   ],
   "source": [
    "from transformers import AutoTokenizer, AutoModel, AutoModelForMaskedLM\n",
    "\n",
    "EMBEDDING_MODEL_LOCAL_DIR = os.getenv('EMBEDDING_MODEL_LOCAL_DIR')\n",
    "EMBEDDING_MODEL = os.getenv(\"EMBEDDING_MODEL\")\n",
    "\n",
    "climatebert_tokenizer = AutoTokenizer.from_pretrained(EMBEDDING_MODEL_LOCAL_DIR)\n",
    "climatebert_model = AutoModel.from_pretrained(EMBEDDING_MODEL_LOCAL_DIR)"
   ]
  },
  {
   "cell_type": "markdown",
   "id": "adf66e6e",
   "metadata": {},
   "source": [
    "Downloading word2vec model"
   ]
  },
  {
   "cell_type": "code",
   "execution_count": 5,
   "id": "0fd14f43",
   "metadata": {},
   "outputs": [],
   "source": [
    "custom_w2v = Word2Vec.load(\"./local_model/custom_word2vec_768.model\")"
   ]
  },
  {
   "cell_type": "markdown",
   "id": "422da0f4",
   "metadata": {},
   "source": [
    "### 1.2 Introduce a prompt"
   ]
  },
  {
   "cell_type": "markdown",
   "id": "cdcf5671",
   "metadata": {},
   "source": [
    "#### 1.2.1 Define a prompt and exact keywords"
   ]
  },
  {
   "cell_type": "code",
   "execution_count": 6,
   "id": "f7ca8d5c",
   "metadata": {},
   "outputs": [],
   "source": [
    "# Introducing a prompt based on ASCOR CP1.a\n",
    "prompt = \"Does the country have a decarbonisation strategy to meet Paris Agreement that they are implementing or in the national legislation?\"\n",
    "keywords = prompt.split(\" \")"
   ]
  },
  {
   "cell_type": "markdown",
   "id": "5c7ed367",
   "metadata": {},
   "source": [
    "#### 1.2.2 Generate similar words to keywords"
   ]
  },
  {
   "cell_type": "code",
   "execution_count": 7,
   "id": "3185f081",
   "metadata": {},
   "outputs": [
    {
     "name": "stdout",
     "output_type": "stream",
     "text": [
      "Original keywords: ['does', 'the', 'country', 'have', 'decarbonisation', 'strategy', 'to', 'meet', 'paris', 'agreement', 'that', 'they', 'are', 'implementing', 'or', 'in', 'the', 'national', 'legislation']\n",
      "\n",
      "Expanded keywords: ['other', 'legislation', 'under', 'evaluation', 'stages', 'finance', 'resilience', 'these', 'procedure', 'after', 'specify', 'does', 'sustain', 'considerations', 'annual', 'include', 'notification', 'policy', 'fallow', 'specific', 'level', 'considered', 'requirements', 'period', 'strategy', 'or', 'works', 'which', 'proven', 'performance', 'legislative', 'paris', 'in', 'third', 'implementing', 'agency', 'depositary', 'consent', 'program', 'medium', 'that', 'submit', 'up', 'credit', 'relevant', 'project', 'than', 'maintenance', 'exceed', 'ceiling', 'researches', 'inspection', 'specifications', 'species', 'parameters', 'country', 'forest', 'meet', 'technologies', 'if', 'may', 'carry', 'sphere', 'goal', 'each', 'coordination', 'are', 'prejudice', 'have', 'biodiversity', 'decarbonisation', 'any', 'to', 'precision', 'subsidiaries', 'clause', 'emissions', 'the', 'agreement', 'guarantees', 'involves', 'page', 'coefficient', 'technical', 'obligations', 'emission', 'response', 'conceived', 'become', 'national', 'area', 'been', 'environmental', 'beneficiary', 'computerized', 'participate', 'grace', 'they']\n"
     ]
    }
   ],
   "source": [
    "# Generate similar words using word2vec model to prompt's keywords and store them for keyword search\n",
    "keywords = simple_preprocess(prompt)\n",
    "similar_words = []\n",
    "\n",
    "# For each keyword, try to find similar words\n",
    "for keyword in keywords:\n",
    "    try:\n",
    "        # Only get similar words if keyword exists in vocabulary\n",
    "        if keyword in custom_w2v.wv:\n",
    "            similar = custom_w2v.wv.most_similar(keyword, topn=5)  # Get top 5 similar words\n",
    "            similar_words.extend([word for word, score in similar])\n",
    "    except KeyError:\n",
    "        # Skip words not in vocabulary\n",
    "        continue\n",
    "\n",
    "# Combine original keywords with similar words\n",
    "all_search_terms = list(set(keywords + similar_words))\n",
    "\n",
    "print(\"Original keywords:\", keywords)\n",
    "print(\"\\nExpanded keywords:\", all_search_terms)"
   ]
  },
  {
   "cell_type": "markdown",
   "id": "4fd5a34a",
   "metadata": {},
   "source": [
    "Generate embeddings for the prompt"
   ]
  },
  {
   "cell_type": "code",
   "execution_count": 8,
   "id": "5c0b165c",
   "metadata": {},
   "outputs": [],
   "source": [
    "# Convert prompt into embeddings\n",
    "prompt_w2v_embeddings = generate_word2vec_embedding_for_text(prompt, custom_w2v)\n",
    "\n",
    "prompt_climatebert_embeddings = generate_embeddings_for_text(prompt, climatebert_model, climatebert_tokenizer)"
   ]
  },
  {
   "cell_type": "markdown",
   "id": "1b487cb3",
   "metadata": {},
   "source": [
    "### 1.3 Load the dataframe from the database"
   ]
  },
  {
   "cell_type": "code",
   "execution_count": 9,
   "id": "6114a8af",
   "metadata": {},
   "outputs": [
    {
     "data": {
      "text/html": [
       "<div>\n",
       "<style scoped>\n",
       "    .dataframe tbody tr th:only-of-type {\n",
       "        vertical-align: middle;\n",
       "    }\n",
       "\n",
       "    .dataframe tbody tr th {\n",
       "        vertical-align: top;\n",
       "    }\n",
       "\n",
       "    .dataframe thead th {\n",
       "        text-align: right;\n",
       "    }\n",
       "</style>\n",
       "<table border=\"1\" class=\"dataframe\">\n",
       "  <thead>\n",
       "    <tr style=\"text-align: right;\">\n",
       "      <th></th>\n",
       "      <th>id</th>\n",
       "      <th>document_id</th>\n",
       "      <th>document_title</th>\n",
       "      <th>country_code</th>\n",
       "      <th>original_text</th>\n",
       "      <th>source_hyperlink</th>\n",
       "      <th>climatebert_embedding</th>\n",
       "      <th>word2vec_embedding</th>\n",
       "    </tr>\n",
       "  </thead>\n",
       "  <tbody>\n",
       "    <tr>\n",
       "      <th>0</th>\n",
       "      <td>1</td>\n",
       "      <td>CCLW.document.i00000002.n0000</td>\n",
       "      <td>National Energy and Climate Plan 2019 Draft</td>\n",
       "      <td>ALB</td>\n",
       "      <td>Modelling Scenario Considered Type of Instrument</td>\n",
       "      <td>https://www.energy-community.org/dam/jcr:a0c2b...</td>\n",
       "      <td>[-0.019798215,0.1386577,-0.003902942,-0.052189...</td>\n",
       "      <td>[-0.013072814,-0.06213421,0.010352968,0.044705...</td>\n",
       "    </tr>\n",
       "    <tr>\n",
       "      <th>1</th>\n",
       "      <td>2</td>\n",
       "      <td>CCLW.document.i00000002.n0000</td>\n",
       "      <td>National Energy and Climate Plan 2019 Draft</td>\n",
       "      <td>ALB</td>\n",
       "      <td>EE targets based on Article 3 of Directive 201...</td>\n",
       "      <td>https://www.energy-community.org/dam/jcr:a0c2b...</td>\n",
       "      <td>[0.025648404,0.13442199,0.007120967,-0.0026666...</td>\n",
       "      <td>[0.009358346,-0.0819107,0.031888146,0.05424338...</td>\n",
       "    </tr>\n",
       "    <tr>\n",
       "      <th>2</th>\n",
       "      <td>3</td>\n",
       "      <td>CCLW.document.i00000002.n0000</td>\n",
       "      <td>National Energy and Climate Plan 2019 Draft</td>\n",
       "      <td>ALB</td>\n",
       "      <td>· Energy savings goal referring to final energ...</td>\n",
       "      <td>https://www.energy-community.org/dam/jcr:a0c2b...</td>\n",
       "      <td>[-0.024586704,0.12194323,-0.01636592,-0.096064...</td>\n",
       "      <td>[0.011089353,-0.12704337,0.071228385,0.0793931...</td>\n",
       "    </tr>\n",
       "    <tr>\n",
       "      <th>3</th>\n",
       "      <td>4</td>\n",
       "      <td>CCLW.document.i00000002.n0000</td>\n",
       "      <td>National Energy and Climate Plan 2019 Draft</td>\n",
       "      <td>ALB</td>\n",
       "      <td>Reducing energy intensity of GDP by 18% by 2030.</td>\n",
       "      <td>https://www.energy-community.org/dam/jcr:a0c2b...</td>\n",
       "      <td>[-0.02417453,0.11885291,-0.015361838,-0.095164...</td>\n",
       "      <td>[0.01414451,-0.12517907,0.050284933,0.04082997...</td>\n",
       "    </tr>\n",
       "    <tr>\n",
       "      <th>4</th>\n",
       "      <td>5</td>\n",
       "      <td>CCLW.document.i00000002.n0000</td>\n",
       "      <td>National Energy and Climate Plan 2019 Draft</td>\n",
       "      <td>ALB</td>\n",
       "      <td>(2) the cumulative amount of end-use energy sa...</td>\n",
       "      <td>https://www.energy-community.org/dam/jcr:a0c2b...</td>\n",
       "      <td>[0.06390555,0.119599454,0.004860446,-0.131328,...</td>\n",
       "      <td>[-0.00065909955,-0.14912702,0.08619301,0.10798...</td>\n",
       "    </tr>\n",
       "  </tbody>\n",
       "</table>\n",
       "</div>"
      ],
      "text/plain": [
       "   id                    document_id  \\\n",
       "0   1  CCLW.document.i00000002.n0000   \n",
       "1   2  CCLW.document.i00000002.n0000   \n",
       "2   3  CCLW.document.i00000002.n0000   \n",
       "3   4  CCLW.document.i00000002.n0000   \n",
       "4   5  CCLW.document.i00000002.n0000   \n",
       "\n",
       "                                 document_title country_code  \\\n",
       "0  National Energy and Climate Plan 2019 Draft           ALB   \n",
       "1  National Energy and Climate Plan 2019 Draft           ALB   \n",
       "2  National Energy and Climate Plan 2019 Draft           ALB   \n",
       "3  National Energy and Climate Plan 2019 Draft           ALB   \n",
       "4  National Energy and Climate Plan 2019 Draft           ALB   \n",
       "\n",
       "                                       original_text  \\\n",
       "0   Modelling Scenario Considered Type of Instrument   \n",
       "1  EE targets based on Article 3 of Directive 201...   \n",
       "2  · Energy savings goal referring to final energ...   \n",
       "3   Reducing energy intensity of GDP by 18% by 2030.   \n",
       "4  (2) the cumulative amount of end-use energy sa...   \n",
       "\n",
       "                                    source_hyperlink  \\\n",
       "0  https://www.energy-community.org/dam/jcr:a0c2b...   \n",
       "1  https://www.energy-community.org/dam/jcr:a0c2b...   \n",
       "2  https://www.energy-community.org/dam/jcr:a0c2b...   \n",
       "3  https://www.energy-community.org/dam/jcr:a0c2b...   \n",
       "4  https://www.energy-community.org/dam/jcr:a0c2b...   \n",
       "\n",
       "                               climatebert_embedding  \\\n",
       "0  [-0.019798215,0.1386577,-0.003902942,-0.052189...   \n",
       "1  [0.025648404,0.13442199,0.007120967,-0.0026666...   \n",
       "2  [-0.024586704,0.12194323,-0.01636592,-0.096064...   \n",
       "3  [-0.02417453,0.11885291,-0.015361838,-0.095164...   \n",
       "4  [0.06390555,0.119599454,0.004860446,-0.131328,...   \n",
       "\n",
       "                                  word2vec_embedding  \n",
       "0  [-0.013072814,-0.06213421,0.010352968,0.044705...  \n",
       "1  [0.009358346,-0.0819107,0.031888146,0.05424338...  \n",
       "2  [0.011089353,-0.12704337,0.071228385,0.0793931...  \n",
       "3  [0.01414451,-0.12517907,0.050284933,0.04082997...  \n",
       "4  [-0.00065909955,-0.14912702,0.08619301,0.10798...  "
      ]
     },
     "execution_count": 9,
     "metadata": {},
     "output_type": "execute_result"
    }
   ],
   "source": [
    "\n",
    "from sqlalchemy import create_engine, text\n",
    "import os\n",
    "engine = create_engine(os.getenv(\"DB_URL\"))\n",
    "\n",
    "df = pd.read_sql(\"SELECT * FROM document_embeddings\", engine)\n",
    "df.head()"
   ]
  },
  {
   "cell_type": "markdown",
   "id": "29ec6549",
   "metadata": {},
   "source": [
    "## 2. Retrieving Relevant Chunks"
   ]
  },
  {
   "cell_type": "markdown",
   "id": "e73cd579",
   "metadata": {},
   "source": [
    "### 2.1 Keyword-based Retrieval\n",
    "### Goal 1: select chunks with exact keyword match with the query\n",
    "\n",
    "We can retrieve the chunks that contain the exact keyword match with the prompt"
   ]
  },
  {
   "cell_type": "markdown",
   "id": "9933b197",
   "metadata": {},
   "source": [
    "Retrieve top k chunks from all techniques and see which answer provides the most sensible context to the prompt"
   ]
  },
  {
   "cell_type": "code",
   "execution_count": 10,
   "id": "908a3ef1",
   "metadata": {},
   "outputs": [
    {
     "name": "stdout",
     "output_type": "stream",
     "text": [
      "Relevant chunks based on boolean search:\n"
     ]
    },
    {
     "data": {
      "text/html": [
       "<div>\n",
       "<style scoped>\n",
       "    .dataframe tbody tr th:only-of-type {\n",
       "        vertical-align: middle;\n",
       "    }\n",
       "\n",
       "    .dataframe tbody tr th {\n",
       "        vertical-align: top;\n",
       "    }\n",
       "\n",
       "    .dataframe thead th {\n",
       "        text-align: right;\n",
       "    }\n",
       "</style>\n",
       "<table border=\"1\" class=\"dataframe\">\n",
       "  <thead>\n",
       "    <tr style=\"text-align: right;\">\n",
       "      <th></th>\n",
       "      <th>original_text</th>\n",
       "      <th>boolean_score</th>\n",
       "    </tr>\n",
       "  </thead>\n",
       "  <tbody>\n",
       "    <tr>\n",
       "      <th>253</th>\n",
       "      <td>Albania is a signatory to the United Nations F...</td>\n",
       "      <td>0.234694</td>\n",
       "    </tr>\n",
       "    <tr>\n",
       "      <th>2922</th>\n",
       "      <td>Existing national plans that have been conside...</td>\n",
       "      <td>0.234694</td>\n",
       "    </tr>\n",
       "    <tr>\n",
       "      <th>8003</th>\n",
       "      <td>Applying the Instruction No. 6527 of 24.12.200...</td>\n",
       "      <td>0.224490</td>\n",
       "    </tr>\n",
       "    <tr>\n",
       "      <th>3910</th>\n",
       "      <td>- Determining the minimum annual amount of bio...</td>\n",
       "      <td>0.193878</td>\n",
       "    </tr>\n",
       "    <tr>\n",
       "      <th>9858</th>\n",
       "      <td>Achieving a substantial decarbonization of the...</td>\n",
       "      <td>0.193878</td>\n",
       "    </tr>\n",
       "  </tbody>\n",
       "</table>\n",
       "</div>"
      ],
      "text/plain": [
       "                                          original_text  boolean_score\n",
       "253   Albania is a signatory to the United Nations F...       0.234694\n",
       "2922  Existing national plans that have been conside...       0.234694\n",
       "8003  Applying the Instruction No. 6527 of 24.12.200...       0.224490\n",
       "3910  - Determining the minimum annual amount of bio...       0.193878\n",
       "9858  Achieving a substantial decarbonization of the...       0.193878"
      ]
     },
     "execution_count": 10,
     "metadata": {},
     "output_type": "execute_result"
    }
   ],
   "source": [
    "top_k_boolean_chunks = boolean_search(all_search_terms, df, k=25)\n",
    "relevant_boolean = top_k_boolean_chunks[['original_text', 'boolean_score']]\n",
    "print('Relevant chunks based on boolean search:')\n",
    "relevant_boolean.head(5)\n"
   ]
  },
  {
   "cell_type": "code",
   "execution_count": 11,
   "id": "2cf4e132",
   "metadata": {},
   "outputs": [
    {
     "name": "stdout",
     "output_type": "stream",
     "text": [
      "Relevant chunks based on BM25 search:\n"
     ]
    },
    {
     "data": {
      "text/html": [
       "<div>\n",
       "<style scoped>\n",
       "    .dataframe tbody tr th:only-of-type {\n",
       "        vertical-align: middle;\n",
       "    }\n",
       "\n",
       "    .dataframe tbody tr th {\n",
       "        vertical-align: top;\n",
       "    }\n",
       "\n",
       "    .dataframe thead th {\n",
       "        text-align: right;\n",
       "    }\n",
       "</style>\n",
       "<table border=\"1\" class=\"dataframe\">\n",
       "  <thead>\n",
       "    <tr style=\"text-align: right;\">\n",
       "      <th></th>\n",
       "      <th>original_text</th>\n",
       "      <th>bm25_score</th>\n",
       "    </tr>\n",
       "  </thead>\n",
       "  <tbody>\n",
       "    <tr>\n",
       "      <th>15484</th>\n",
       "      <td>The National Environmental Agency</td>\n",
       "      <td>1.000000</td>\n",
       "    </tr>\n",
       "    <tr>\n",
       "      <th>3541</th>\n",
       "      <td>National Environmental Agency, Regional Enviro...</td>\n",
       "      <td>0.909425</td>\n",
       "    </tr>\n",
       "    <tr>\n",
       "      <th>13981</th>\n",
       "      <td>These are activities that are carried out rout...</td>\n",
       "      <td>0.868807</td>\n",
       "    </tr>\n",
       "    <tr>\n",
       "      <th>145</th>\n",
       "      <td>· Application of new technologies in transmiss...</td>\n",
       "      <td>0.852757</td>\n",
       "    </tr>\n",
       "    <tr>\n",
       "      <th>14846</th>\n",
       "      <td>While a project has first been classified as r...</td>\n",
       "      <td>0.806711</td>\n",
       "    </tr>\n",
       "  </tbody>\n",
       "</table>\n",
       "</div>"
      ],
      "text/plain": [
       "                                           original_text  bm25_score\n",
       "15484                  The National Environmental Agency    1.000000\n",
       "3541   National Environmental Agency, Regional Enviro...    0.909425\n",
       "13981  These are activities that are carried out rout...    0.868807\n",
       "145    · Application of new technologies in transmiss...    0.852757\n",
       "14846  While a project has first been classified as r...    0.806711"
      ]
     },
     "execution_count": 11,
     "metadata": {},
     "output_type": "execute_result"
    }
   ],
   "source": [
    "top_k_bm25_chunks = bm25_search(all_search_terms, df, k=25)\n",
    "relevant_bm25 = top_k_bm25_chunks[['original_text', 'bm25_score']]\n",
    "print('Relevant chunks based on BM25 search:')\n",
    "relevant_bm25.head(5)"
   ]
  },
  {
   "cell_type": "code",
   "execution_count": 12,
   "id": "aa4bc18a",
   "metadata": {},
   "outputs": [
    {
     "name": "stdout",
     "output_type": "stream",
     "text": [
      "Relevant chunks based on fuzzy search:\n"
     ]
    },
    {
     "data": {
      "text/html": [
       "<div>\n",
       "<style scoped>\n",
       "    .dataframe tbody tr th:only-of-type {\n",
       "        vertical-align: middle;\n",
       "    }\n",
       "\n",
       "    .dataframe tbody tr th {\n",
       "        vertical-align: top;\n",
       "    }\n",
       "\n",
       "    .dataframe thead th {\n",
       "        text-align: right;\n",
       "    }\n",
       "</style>\n",
       "<table border=\"1\" class=\"dataframe\">\n",
       "  <thead>\n",
       "    <tr style=\"text-align: right;\">\n",
       "      <th></th>\n",
       "      <th>original_text</th>\n",
       "      <th>fuzzy_score</th>\n",
       "    </tr>\n",
       "  </thead>\n",
       "  <tbody>\n",
       "    <tr>\n",
       "      <th>6994</th>\n",
       "      <td>Decarbonisation</td>\n",
       "      <td>1.00</td>\n",
       "    </tr>\n",
       "    <tr>\n",
       "      <th>14883</th>\n",
       "      <td>National</td>\n",
       "      <td>1.00</td>\n",
       "    </tr>\n",
       "    <tr>\n",
       "      <th>12763</th>\n",
       "      <td>the</td>\n",
       "      <td>1.00</td>\n",
       "    </tr>\n",
       "    <tr>\n",
       "      <th>4312</th>\n",
       "      <td>1. Decarbonisation</td>\n",
       "      <td>0.94</td>\n",
       "    </tr>\n",
       "    <tr>\n",
       "      <th>7987</th>\n",
       "      <td>Decarbonisation, RES</td>\n",
       "      <td>0.88</td>\n",
       "    </tr>\n",
       "  </tbody>\n",
       "</table>\n",
       "</div>"
      ],
      "text/plain": [
       "              original_text  fuzzy_score\n",
       "6994        Decarbonisation         1.00\n",
       "14883              National         1.00\n",
       "12763                   the         1.00\n",
       "4312     1. Decarbonisation         0.94\n",
       "7987   Decarbonisation, RES         0.88"
      ]
     },
     "execution_count": 12,
     "metadata": {},
     "output_type": "execute_result"
    }
   ],
   "source": [
    "top_k_fuzzy_chunks = fuzzy_search(prompt, df, k=50)\n",
    "relevant_fuzzy = top_k_fuzzy_chunks[['original_text', 'fuzzy_score']]\n",
    "print('Relevant chunks based on fuzzy search:')\n",
    "relevant_fuzzy.head(5)"
   ]
  },
  {
   "cell_type": "markdown",
   "id": "a2277a0a",
   "metadata": {},
   "source": [
    "As we can see, the retrieved chunks from boolean search or bm25 ranking makes more sense in answering the question in the prompt. Fuzzy string matching, on the other side, yields mostly numbers. Though its stregth lies in its ability to identify some pattern mathcing, it might not be useful in this case."
   ]
  },
  {
   "cell_type": "markdown",
   "id": "c2b97052",
   "metadata": {},
   "source": [
    "## 2.2 Semantic Retrieval"
   ]
  },
  {
   "cell_type": "markdown",
   "id": "189b3f8d",
   "metadata": {},
   "source": [
    "### Goal 2: select chunks with same semantic meaning to prompt\n",
    "\n",
    "We can retrieve the chunks that contain the same semantic meaning to the given prompt. Or, we can use the ones that already have the keywords, and compare similarity score (if not, there is a disconnect on keyword and semantic search. If not, we can compare if the semantic performed better or worse from the keywprd search). Based on the chunks retrieved, we can assess whether Word2Vec or ClimateBERT performs better\n",
    "\n",
    "Method: Pure embeddings comparison of query and chunks, (reranking based on weighted score) fusion retrieval, (prompt engineering)adaptive retrieval, (reranking) RSE, langchain Q&A, Contextual compression"
   ]
  },
  {
   "cell_type": "code",
   "execution_count": 13,
   "id": "19708b2d",
   "metadata": {},
   "outputs": [],
   "source": [
    "# Vector search\n",
    "# 1. Get the embeddings of the prompt\n",
    "# 2. Get the embeddings of the chunks\n",
    "# 3. Calculate the cosine similarity between the prompt and the chunks\n",
    "# 4. Get the top k chunks with the highest cosine similarity\n",
    "# 5. Return the top k chunks with the highest cosine similarity\n",
    "\n",
    "#Make this fucntion adaptable for both transformer and word2vec embeddings"
   ]
  },
  {
   "cell_type": "code",
   "execution_count": 14,
   "id": "71d50c44",
   "metadata": {},
   "outputs": [
    {
     "name": "stdout",
     "output_type": "stream",
     "text": [
      "Top 25 results using ClimateBERT:\n",
      "                                           original_text  similarity_score\n",
      "232                  Policy context of the national plan          1.000000\n",
      "15625                                      adaptation is          0.995640\n",
      "558    Key policies are the INDC and the National Str...          0.993790\n",
      "2517   Table 11: Overview table of key policies affec...          0.992464\n",
      "12209  Table 11: Overview table of key policies affec...          0.989046\n",
      "581    Albania's RES Plan is the key policy and is ha...          0.978735\n",
      "330    National energy system and policy context of t...          0.978496\n",
      "3009                           National Energy Strategy:          0.978432\n",
      "13986  Unable to provide information on the status of...          0.977479\n",
      "1746                 No report available on the progress          0.976261\n",
      "3708                No report available on the progress.          0.973428\n",
      "297                     National Climate Change Strategy          0.971167\n",
      "1059   No report available on the progress of the mea...          0.968013\n",
      "2397   This way implementation of NECP policy measure...          0.965144\n",
      "873                        Legislation under development          0.964258\n",
      "15802                             Vision 2030 or similar          0.962176\n",
      "2921   Preliminary note aligning NECP, National Energ...          0.962008\n",
      "5822              The energy construction codes are set.          0.961184\n",
      "13735                              First progress report          0.960713\n",
      "15664                  for Albania's NAP implementation.          0.958572\n",
      "620    A sustainability regime for biofuels is still ...          0.957531\n",
      "2923    Preliminary note on the National Energy Strategy          0.957082\n",
      "1251   Albania has no nuclear power plant on its terr...          0.956254\n",
      "2278   (iii) prepare for implementation of that strat...          0.956237\n",
      "292                             National Energy Strategy          0.954355\n",
      "\n",
      "Top 25 results using Word2Vec:\n",
      "                                           original_text  similarity_score\n",
      "7801   i. Current situation in the low-carbon-technol...          1.000000\n",
      "3759   The distribution company, together with the mi...          0.999896\n",
      "5469   Setting targets for end-use energy savings, wh...          0.999891\n",
      "6486   needed for AEE due to the increase of the job ...          0.999800\n",
      "6953   - DCM which will include in the public procure...          0.999754\n",
      "1134   In the Tables below are the Policies and Measu...          0.999727\n",
      "8500   Not a single value because there are several p...          0.999677\n",
      "9861   Public Budgets can be affected by EE and RE po...          0.999663\n",
      "13892  equip stakeholders, policy-makers, the private...          0.999652\n",
      "6353   Measures identified in the SEAP (Tirana munici...          0.999646\n",
      "14680  3 On the scale from 1 to 10, 10 means the high...          0.999605\n",
      "10551  Regarding employment effects PaMs triggering b...          0.999604\n",
      "11239  Since it has regulatory issues, the budget is ...          0.999586\n",
      "8652   Albgaz and TAP adopted network codes, which we...          0.999573\n",
      "9218   The figures below show non-energy related GHG ...          0.999570\n",
      "3193   The objective is to increase the renewable ene...          0.999566\n",
      "13947  To ensure that Albania's NAP is effective and ...          0.999550\n",
      "1732   In the Tables below are the Policies and Measu...          0.999504\n",
      "2581   In the tables below are the Policies and Measu...          0.999504\n",
      "15185  The table presents an overview of the issues a...          0.999485\n",
      "2727   In a nutshell, import dependence and high dist...          0.999468\n",
      "2404   The consultation process is planned as a two-w...          0.999467\n",
      "5788   o 2% of public building stock each year to be ...          0.999459\n",
      "162    Energy poverty is not yet clearly defined and ...          0.999449\n",
      "240    According to INSTAT, the relevant energy suppl...          0.999439\n"
     ]
    }
   ],
   "source": [
    "\n",
    "climatebert_results = vector_search(\n",
    "    prompt_embeddings=np.array(prompt_climatebert_embeddings),\n",
    "    embedding_type='climatebert',\n",
    "    top_k=25\n",
    ")\n",
    "\n",
    "print(\"Top 25 results using ClimateBERT:\")\n",
    "print(climatebert_results[['original_text', 'similarity_score']].head(25))\n",
    "\n",
    "w2v_results = vector_search(\n",
    "    prompt_embeddings=np.array(prompt_w2v_embeddings),\n",
    "    embedding_type='word2vec',\n",
    "    top_k=25\n",
    ")\n",
    "\n",
    "print(\"\\nTop 25 results using Word2Vec:\")\n",
    "print(w2v_results[['original_text', 'similarity_score']].head(25))"
   ]
  },
  {
   "cell_type": "code",
   "execution_count": 15,
   "id": "3bcc6152",
   "metadata": {},
   "outputs": [
    {
     "data": {
      "text/html": [
       "<div>\n",
       "<style scoped>\n",
       "    .dataframe tbody tr th:only-of-type {\n",
       "        vertical-align: middle;\n",
       "    }\n",
       "\n",
       "    .dataframe tbody tr th {\n",
       "        vertical-align: top;\n",
       "    }\n",
       "\n",
       "    .dataframe thead th {\n",
       "        text-align: right;\n",
       "    }\n",
       "</style>\n",
       "<table border=\"1\" class=\"dataframe\">\n",
       "  <thead>\n",
       "    <tr style=\"text-align: right;\">\n",
       "      <th></th>\n",
       "      <th>document_id</th>\n",
       "      <th>country_code</th>\n",
       "      <th>document_title</th>\n",
       "      <th>original_text</th>\n",
       "      <th>source_hyperlink</th>\n",
       "      <th>w2v_score</th>\n",
       "      <th>climatebert_score</th>\n",
       "      <th>avg_score</th>\n",
       "      <th>bm25_score</th>\n",
       "    </tr>\n",
       "  </thead>\n",
       "  <tbody>\n",
       "    <tr>\n",
       "      <th>14846</th>\n",
       "      <td>CCLW.document.i00000964.n0000</td>\n",
       "      <td>ALB</td>\n",
       "      <td>Albania’s National Adaptation Plan First - pro...</td>\n",
       "      <td>While a project has first been classified as r...</td>\n",
       "      <td>https://napglobalnetwork.org/wp-content/upload...</td>\n",
       "      <td>0.998778</td>\n",
       "      <td>0.762567</td>\n",
       "      <td>0.880673</td>\n",
       "      <td>1.000000</td>\n",
       "    </tr>\n",
       "    <tr>\n",
       "      <th>145</th>\n",
       "      <td>CCLW.document.i00000002.n0000</td>\n",
       "      <td>ALB</td>\n",
       "      <td>National Energy and Climate Plan 2019 Draft</td>\n",
       "      <td>· Application of new technologies in transmiss...</td>\n",
       "      <td>https://www.energy-community.org/dam/jcr:a0c2b...</td>\n",
       "      <td>0.992594</td>\n",
       "      <td>0.748530</td>\n",
       "      <td>0.870562</td>\n",
       "      <td>0.873906</td>\n",
       "    </tr>\n",
       "    <tr>\n",
       "      <th>3541</th>\n",
       "      <td>CCLW.document.i00000002.n0000</td>\n",
       "      <td>ALB</td>\n",
       "      <td>National Energy and Climate Plan 2019 Draft</td>\n",
       "      <td>National Environmental Agency, Regional Enviro...</td>\n",
       "      <td>https://www.energy-community.org/dam/jcr:a0c2b...</td>\n",
       "      <td>0.953775</td>\n",
       "      <td>0.627351</td>\n",
       "      <td>0.790563</td>\n",
       "      <td>0.872762</td>\n",
       "    </tr>\n",
       "    <tr>\n",
       "      <th>13981</th>\n",
       "      <td>CCLW.document.i00000964.n0000</td>\n",
       "      <td>ALB</td>\n",
       "      <td>Albania’s National Adaptation Plan First - pro...</td>\n",
       "      <td>These are activities that are carried out rout...</td>\n",
       "      <td>https://napglobalnetwork.org/wp-content/upload...</td>\n",
       "      <td>0.998319</td>\n",
       "      <td>0.739317</td>\n",
       "      <td>0.868818</td>\n",
       "      <td>0.841213</td>\n",
       "    </tr>\n",
       "    <tr>\n",
       "      <th>15</th>\n",
       "      <td>CCLW.document.i00000002.n0000</td>\n",
       "      <td>ALB</td>\n",
       "      <td>National Energy and Climate Plan 2019 Draft</td>\n",
       "      <td>· Renovation of the stock of public buildings ...</td>\n",
       "      <td>https://www.energy-community.org/dam/jcr:a0c2b...</td>\n",
       "      <td>0.996294</td>\n",
       "      <td>0.799702</td>\n",
       "      <td>0.897998</td>\n",
       "      <td>0.830055</td>\n",
       "    </tr>\n",
       "  </tbody>\n",
       "</table>\n",
       "</div>"
      ],
      "text/plain": [
       "                         document_id country_code  \\\n",
       "14846  CCLW.document.i00000964.n0000          ALB   \n",
       "145    CCLW.document.i00000002.n0000          ALB   \n",
       "3541   CCLW.document.i00000002.n0000          ALB   \n",
       "13981  CCLW.document.i00000964.n0000          ALB   \n",
       "15     CCLW.document.i00000002.n0000          ALB   \n",
       "\n",
       "                                          document_title  \\\n",
       "14846  Albania’s National Adaptation Plan First - pro...   \n",
       "145         National Energy and Climate Plan 2019 Draft    \n",
       "3541        National Energy and Climate Plan 2019 Draft    \n",
       "13981  Albania’s National Adaptation Plan First - pro...   \n",
       "15          National Energy and Climate Plan 2019 Draft    \n",
       "\n",
       "                                           original_text  \\\n",
       "14846  While a project has first been classified as r...   \n",
       "145    · Application of new technologies in transmiss...   \n",
       "3541   National Environmental Agency, Regional Enviro...   \n",
       "13981  These are activities that are carried out rout...   \n",
       "15     · Renovation of the stock of public buildings ...   \n",
       "\n",
       "                                        source_hyperlink  w2v_score  \\\n",
       "14846  https://napglobalnetwork.org/wp-content/upload...   0.998778   \n",
       "145    https://www.energy-community.org/dam/jcr:a0c2b...   0.992594   \n",
       "3541   https://www.energy-community.org/dam/jcr:a0c2b...   0.953775   \n",
       "13981  https://napglobalnetwork.org/wp-content/upload...   0.998319   \n",
       "15     https://www.energy-community.org/dam/jcr:a0c2b...   0.996294   \n",
       "\n",
       "       climatebert_score  avg_score  bm25_score  \n",
       "14846           0.762567   0.880673    1.000000  \n",
       "145             0.748530   0.870562    0.873906  \n",
       "3541            0.627351   0.790563    0.872762  \n",
       "13981           0.739317   0.868818    0.841213  \n",
       "15              0.799702   0.897998    0.830055  "
      ]
     },
     "execution_count": 15,
     "metadata": {},
     "output_type": "execute_result"
    }
   ],
   "source": [
    "\n",
    "df_similarity_score = df_with_similarity_score(\n",
    "    prompt_embeddings_w2v=np.array(prompt_w2v_embeddings),\n",
    "    prompt_embeddings_climatebert=np.array(prompt_climatebert_embeddings),\n",
    "    top_k=None\n",
    ")\n",
    "df_similarity_score.head(5)\n",
    "\n",
    "bm25_df = bm25_search(all_search_terms, df_similarity_score, k=None)\n",
    "bm25_df.head(5)"
   ]
  },
  {
   "cell_type": "markdown",
   "id": "b24622af",
   "metadata": {},
   "source": [
    "Interestingly, the Word2vec model seems to retrieve more useful information than climateBERT model, contrary to our expectations. This may reflect weaknesses in embeddings generation or the model itself. \n",
    "\n",
    "However, we have yet to exactly identify is the answers make sense or not, which will be tested in the LLM evaluation phase."
   ]
  },
  {
   "cell_type": "markdown",
   "id": "e415fea3",
   "metadata": {},
   "source": [
    "(Extra: if have time)"
   ]
  },
  {
   "cell_type": "markdown",
   "id": "32d90a3a",
   "metadata": {},
   "source": [
    "### Goal 3: Rank the chunks based on their relevance to the prompt\n",
    "\n",
    "We can rerank the chunks based on their relevance to the prompt. Much like the widely knwon hybrid search, we will sum the sparse score (from the chosen keyword technique) and dense score (from embeddings) with weghted parameter alpha. \n"
   ]
  },
  {
   "cell_type": "code",
   "execution_count": 16,
   "id": "3af91919",
   "metadata": {},
   "outputs": [
    {
     "name": "stdout",
     "output_type": "stream",
     "text": [
      "Top results using hybrid scoring:\n",
      "                                           original_text  hybrid_score\n",
      "14846  While a project has first been classified as r...      0.881284\n",
      "15     · Renovation of the stock of public buildings ...      0.814878\n",
      "145    · Application of new technologies in transmiss...      0.811218\n",
      "15656  Enabling Albania to prepare its Third National...      0.791114\n",
      "13981  These are activities that are carried out rout...      0.790265\n",
      "2142   It can be summarized that there is policy and ...      0.786155\n",
      "495    · 'planned policies and measures' means option...      0.764342\n",
      "13952  · fulfill reporting requirements under the UNF...      0.762451\n",
      "15484                  The National Environmental Agency      0.761986\n",
      "166    It is the objective to transform Albania towar...      0.761645\n",
      "3541   National Environmental Agency, Regional Enviro...      0.750056\n",
      "15205  . the beneficiary ownership of project has oft...      0.747027\n",
      "15321  2. Mainstreaming climate change into other sec...      0.744713\n",
      "498    The analysis of conflicting goals and other ch...      0.744290\n",
      "873                        Legislation under development      0.744266\n",
      "815                      Policy and Legislation in place      0.736827\n",
      "15804  National Strategy on Development Integration 2...      0.736572\n",
      "581    Albania's RES Plan is the key policy and is ha...      0.734762\n",
      "1244   The targets of the security of energy supply h...      0.726710\n",
      "15957  · MoE will develop a consistent training plan ...      0.724678\n",
      "15341  \"Yes, we have the National Forest Policy; actu...      0.722830\n",
      "189    Based on the energy policy documents, sectors ...      0.722647\n",
      "14683  plans), and PA 13 (adaptation in tourism) are ...      0.721838\n",
      "7780   · The project fulfills the requirements of the...      0.716148\n",
      "6452   - Public subsidies constitute only a partial r...      0.715944\n",
      "14072  Renewable energy plants only lead to emission ...      0.713456\n",
      "1472   The Government shall ensure that there are no ...      0.711985\n",
      "5783   - To reach the target defined on 2% of public ...      0.708148\n",
      "13886  . fulfill the reporting requirements under the...      0.706931\n",
      "6191   Relevant software for the calculation of energ...      0.706613\n",
      "14867  Most of these projects seem to qualify for Rio...      0.704217\n",
      "15940  c. Does your sector have access to reliable we...      0.700868\n",
      "3905   The aim of the policy is to promote the produc...      0.699079\n",
      "15851                       Third National Communication      0.697329\n",
      "6446   - Public subsidies constitute only a partial r...      0.697024\n",
      "16000  · Include climate change knowledge in relevant...      0.695728\n",
      "558    Key policies are the INDC and the National Str...      0.695021\n",
      "15312  Only a small number of stakeholders rated any ...      0.694755\n",
      "3488   - Improvement of the legislative framework (se...      0.692258\n",
      "5821   Relevant software for the calculation of the e...      0.689943\n",
      "5776   Minimum energy requirements for energy perform...      0.689916\n",
      "1241   The MIE, together with ERE, NANR, and the AEE ...      0.689784\n",
      "14266  with which it comes into contact), and sustain...      0.688948\n",
      "1036   Some other progress and developments achieved ...      0.688534\n",
      "15963  · Provide the necessary legal basis, general o...      0.688233\n",
      "5324   17 The autonomous WEM sceario is the technical...      0.685053\n",
      "5791   - Secondary legislation that designates: (i) a...      0.685024\n",
      "3012                Outlook up to 2050 Under development      0.684758\n",
      "15763  ▪ Provide the necessary legal basis, general o...      0.684558\n",
      "6953   - DCM which will include in the public procure...      0.684544\n"
     ]
    }
   ],
   "source": [
    "# Example usage of hybrid scoring\n",
    "try:\n",
    "    hybrid_results = hybrid_scoring(bm25_df, alpha=0.5)\n",
    "    print(\"Top results using hybrid scoring:\")\n",
    "    print(hybrid_results[['original_text', 'hybrid_score']].head(50))\n",
    "except KeyError as e:\n",
    "    print(f\"Error: Missing required column - {e}\")"
   ]
  },
  {
   "cell_type": "code",
   "execution_count": 17,
   "id": "f32a3015",
   "metadata": {},
   "outputs": [],
   "source": [
    "\n",
    "# def tune_alpha():\n",
    "#     \"\"\"\n",
    "#     Tune alpha to find the best combination of sparse and dense scores\n",
    "#     \"\"\"\n",
    "#     # Create a list of alpha values to test\n",
    "#     alpha_values = [i/10 for i in range(0, 11)]\n",
    "    \n",
    "#     # Initialize a dictionary to store the results\n",
    "#     results = {}\n",
    "    \n",
    "#     # Loop through each alpha value\n",
    "#     for alpha in alpha_values:\n",
    "#         # Compute the hybrid score\n",
    "#         df = hybrid_scoring(alpha)\n",
    "        \n",
    "#         # Store the results\n",
    "#         results[alpha] = df['hybrid_score'].mean()\n",
    "    \n",
    "#     return results"
   ]
  },
  {
   "cell_type": "code",
   "execution_count": 18,
   "id": "72886a31",
   "metadata": {},
   "outputs": [],
   "source": [
    "# Score all chunks based on its similarity with the prompts (keyword score and vector score)\n",
    "# then, move on to adding them with a weighted parameter alpha"
   ]
  }
 ],
 "metadata": {
  "kernelspec": {
   "display_name": ".venv",
   "language": "python",
   "name": "python3"
  },
  "language_info": {
   "codemirror_mode": {
    "name": "ipython",
    "version": 3
   },
   "file_extension": ".py",
   "mimetype": "text/x-python",
   "name": "python",
   "nbconvert_exporter": "python",
   "pygments_lexer": "ipython3",
   "version": "3.12.0"
  }
 },
 "nbformat": 4,
 "nbformat_minor": 5
}
