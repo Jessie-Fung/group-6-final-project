{
 "cells": [
  {
   "cell_type": "markdown",
   "metadata": {},
   "source": [
    "# Demo of the Pillar Assessment Tool\n",
    "\n",
    "### 0. Setup\n",
    "\n",
    "First import neccissary modules from `scripts\\climate_policy_pipelines\\cp1`"
   ]
  },
  {
   "cell_type": "code",
   "execution_count": null,
   "metadata": {},
   "outputs": [],
   "source": [
    "# Import necessary modules\n",
    "import sys\n",
    "import os\n",
    "from pathlib import Path\n",
    "\n",
    "# Get the absolute path of the project root directory\n",
    "notebook_dir = Path(os.getcwd())  \n",
    "project_root = notebook_dir.parent.parent  # Go up TWO levels instead of one\n",
    "\n",
    "# Add project root to Python path\n",
    "if str(project_root) not in sys.path:\n",
    "    sys.path.insert(0, str(project_root))\n",
    "    print(f\"Added {project_root} to sys.path\")"
   ]
  },
  {
   "cell_type": "code",
   "execution_count": null,
   "metadata": {},
   "outputs": [],
   "source": [
    "from scripts.climate_policy_pipelines.cp1.pipeline import run_cp1a_assessment\n",
    "from scripts.climate_policy_pipelines.cp1.pipeline import run_cp1a_assessment_large_context\n",
    "from scripts.climate_policy_pipelines.cp1.pipeline import run_cp1b_assessment"
   ]
  },
  {
   "cell_type": "code",
   "execution_count": null,
   "metadata": {},
   "outputs": [],
   "source": [
    "from scripts.climate_policy_pipelines.cp1.prompts import cp1a_criterion_1_prompt\n",
    "from scripts.climate_policy_pipelines.cp1.prompts import cp1a_final_assessment_prompt\n",
    "from scripts.climate_policy_pipelines.cp1.prompts import comprehensive_assessment_prompt"
   ]
  },
  {
   "cell_type": "markdown",
   "metadata": {},
   "source": [
    "# CP1a Asessment\n",
    "\n",
    "### 1. What content does it use?\n",
    "\n",
    "Lets have a look at the chunks it retrieves in order to inform its assessment:"
   ]
  },
  {
   "cell_type": "code",
   "execution_count": null,
   "metadata": {},
   "outputs": [],
   "source": [
    "cp1a_1_content = [\n",
    "  {\n",
    "    \"chunk_content\": \"The UK’s 2035 Nationally Determined Contribution (NDC) target, announced by the Prime Minister at COP29 in November 2024, is to reduce all greenhouse gas emissions by at least 81% on 1990 levels, excluding international aviation and shipping emissions.\",\n",
    "    \"document\": \"UK’s 2035 Nationally Determined Contribution (NDC) emissions reduction target under the Paris Agreement - GOV.UK\",\n",
    "    \"page_number\": 1\n",
    "  },\n",
    "  {\n",
    "    \"chunk_content\": \"The UK’s 2035 Updated Nationally Determined Contribution confirms the topline ambition of reducing emissions by 81% (based on 1990 levels). This target is in line with advice given by the Climate Change Committee in October 2024, and represents a 1.5°C-aligned, economy-wide absolute emissions reduction target.\",\n",
    "    \"document\": \"The UK's NDC and the Seventh Carbon Budget - Chapter Zero\",\n",
    "    \"page_number\": 1\n",
    "  },\n",
    "  {\n",
    "    \"chunk_content\": \"The UK government has been advised by the independent Climate Change Committee (CCC) to commit to reducing greenhouse gas emissions by 81% by 2035 compared to 1990 levels. This recommendation aims to be both fair and ambitious in contributing to the Paris Agreement.\",\n",
    "    \"document\": \"UK must raise its climate ambition to restore global reputation, says adviser - Financial Times\",\n",
    "    \"page_number\": 1\n",
    "  },\n",
    "  {\n",
    "    \"chunk_content\": \"At COP29 in Baku, British PM Keir Starmer announced an ambitious target to reduce the UK's greenhouse gas emissions by at least 81% by 2035, compared to 1990 levels. This is an increase from the previous target of a 68% cut by 2030, with the ultimate goal of achieving carbon neutrality by 2050.\",\n",
    "    \"document\": \"COP29: British PM Starmer wants to regain 'climate leadership' - Le Monde\",\n",
    "    \"page_number\": 1\n",
    "  },\n",
    "  {\n",
    "    \"chunk_content\": \"The UK submitted its 2035 NDC to the UNFCCC on 30 January 2025. It will also be available on the UNFCCC NDC registry. The UK will produce an updated cross-economy plan in due course, outlining the policies needed to deliver carbon budgets 4-6 and the 2030 and 2035 NDCs on the pathway to net zero by 2050.\",\n",
    "    \"document\": \"UK's 2035 Nationally Determined Contribution (NDC) emissions reduction target under the Paris Agreement - GOV.UK\",\n",
    "    \"page_number\": 1\n",
    "  }\n",
    "]\n",
    "\n",
    "cp1a_2_content = [\n",
    "  {\n",
    "    \"chunk_content\": \"The Climate Change Act 2008 was the first law of its kind. It makes long-term emissions reduction targets legally-binding, opening the door to citizen lawsuits if the government misses them, and introduces interim targets or 'carbon budgets' to keep the UK on track.\",\n",
    "    \"document\": \"Climate Legislation in the United Kingdom - Canadian Climate Institute\",\n",
    "    \"page_number\": 1\n",
    "  },\n",
    "  {\n",
    "    \"chunk_content\": \"The Climate Change Act, as amended in 2019, commits the UK to ‘net zero’ by 2050. The original act, passed in 2008, committed the UK to an 80% reduction of greenhouse gas emissions by 2050, compared to 1990 levels.\",\n",
    "    \"document\": \"Climate change targets: the road to net zero? - House of Lords Library\",\n",
    "    \"page_number\": 1\n",
    "  },\n",
    "  {\n",
    "    \"chunk_content\": \"In June 2021, the government set in law the sixth carbon budget (CB6) limiting the volume of greenhouse gases emitted from 2033 to 2037. CB6 reduces emissions by approximately 78% by 2035 compared to 1990 levels.\",\n",
    "    \"document\": \"Why Net Zero - GOV.UK\",\n",
    "    \"page_number\": 1\n",
    "  },\n",
    "  {\n",
    "    \"chunk_content\": \"The UK Parliament passed The Climate Change Act 2008 (2050 Target Amendment) Order 2019, which amends Section 1 of the Climate Change Act 2008 to require the UK to reduce its GHG emissions by 100% compared to their level in 1990.\",\n",
    "    \"document\": \"UK Becomes First G7 Country to Legislate for 'Net-Zero' Emissions - WilmerHale\",\n",
    "    \"page_number\": 1\n",
    "  },\n",
    "  {\n",
    "    \"chunk_content\": \"The Climate Change Act (2008) made the UK the first country to establish a long-term legally binding framework to cut carbon emissions. It contains a target requiring emissions reductions to Net Zero by 2050.\",\n",
    "    \"document\": \"Climate action - Climate Change Committee\",\n",
    "    \"page_number\": 1\n",
    "  }\n",
    "]\n",
    "\n",
    "cp1a_3_content = [\n",
    "  {\n",
    "    \"chunk_content\": \"The UK’s Net Zero Strategy outlines a comprehensive plan to achieve net zero greenhouse gas emissions by 2050, setting legally binding carbon budgets and detailing sector-specific policies to reduce emissions.\",\n",
    "    \"document\": \"Net Zero Strategy: Build Back Greener - GOV.UK\",\n",
    "    \"page_number\": 1\n",
    "  },\n",
    "  {\n",
    "    \"chunk_content\": \"The Climate Change Act 2008 mandates the UK government to set legally binding carbon budgets, which cap the amount of greenhouse gases emitted over a five-year period, ensuring progress towards the 2050 net zero target.\",\n",
    "    \"document\": \"Climate Change Act 2008 - legislation.gov.uk\",\n",
    "    \"page_number\": 1\n",
    "  },\n",
    "  {\n",
    "    \"chunk_content\": \"The UK Emissions Trading Scheme (UK ETS), established in 2021, sets a cap on total greenhouse gas emissions and allows trading of emission allowances, providing a market-based approach to incentivize emission reductions.\",\n",
    "    \"document\": \"UK Emissions Trading Scheme - GOV.UK\",\n",
    "    \"page_number\": 1\n",
    "  },\n",
    "  {\n",
    "    \"chunk_content\": \"The Renewables Obligation requires electricity suppliers to source an increasing proportion of electricity from renewable sources, supporting the development of renewable energy technologies through financial incentives.\",\n",
    "    \"document\": \"Renewables Obligation (United Kingdom) - Wikipedia\",\n",
    "    \"page_number\": 1\n",
    "  },\n",
    "  {\n",
    "    \"chunk_content\": \"The Climate Change Levy is a tax on energy delivered to non-domestic users in the UK, designed to encourage energy efficiency and reduce carbon emissions in the industrial, commercial, and public services sectors.\",\n",
    "    \"document\": \"Climate Change Levy - GOV.UK\",\n",
    "    \"page_number\": 1\n",
    "  }\n",
    "]\n",
    "\n",
    "cp1a_4_content = [\n",
    "  {\n",
    "    \"chunk_content\": \"The Environment Act 2021 provides a broad framework through which specific environmental rules and regulation will operate. While it remains to be seen how the government will implement the Act’s provisions, it represents a significant opportunity for environmental law to drive the UK’s transition to net zero. The Act requires the Government to devise long-term legally binding targets concerning biodiversity, water, air quality, resource efficiency and waste management.\",\n",
    "    \"document\": \"Environmental Law and Climate Change - Centre for Climate Engagement\",\n",
    "    \"page_number\": 1\n",
    "  },\n",
    "  {\n",
    "    \"chunk_content\": \"The Government’s 25-year environmental plan supports the Act by requiring that all policies, programmes, and investment decisions take due consideration of climate change.\",\n",
    "    \"document\": \"Environmental Law and Climate Change - Centre for Climate Engagement\",\n",
    "    \"page_number\": 1\n",
    "  },\n",
    "  {\n",
    "    \"chunk_content\": \"The Environment Act 2021, passed in the UK, sets forth new environmental targets and establishes the Office for Environmental Protection (OEP) as an oversight body. It outlines a governance framework and mandates an environmental improvement plan for England and Wales, focusing on enhancing environmental standards and biodiversity.\",\n",
    "    \"document\": \"British environmental law - Wikipedia\",\n",
    "    \"page_number\": 1\n",
    "  },\n",
    "  {\n",
    "    \"chunk_content\": \"The UK’s Net Zero Strategy outlines a comprehensive plan to achieve net zero greenhouse gas emissions by 2050, setting legally binding carbon budgets and detailing sector-specific policies to reduce emissions.\",\n",
    "    \"document\": \"Net Zero Strategy: Build Back Greener - GOV.UK\",\n",
    "    \"page_number\": 1\n",
    "  },\n",
    "  {\n",
    "    \"chunk_content\": \"The Net Zero Strategy builds on the Government’s 10 point plan for a green industrial revolution which was published on 18 November 2020. It focuses on advancing offshore wind, driving the growth of low carbon hydrogen, delivering new and advanced nuclear power, accelerating the shift to zero emission vehicles, and other key areas.\",\n",
    "    \"document\": \"Government support for a nature and climate declaration - House of Commons Library\",\n",
    "    \"page_number\": 1\n",
    "  }\n",
    "]\n",
    "\n",
    "cp1a_retrieved_chunks = [cp1a_1_content, cp1a_2_content, cp1a_3_content, cp1a_4_content]\n"
   ]
  },
  {
   "cell_type": "markdown",
   "metadata": {},
   "source": [
    "### 2. Lets have a look at the prompts and workflow used:\n",
    "\n",
    "CP1a is defined as: **Does the country have a framework climate law or equivalent?**\n",
    "\n",
    "Individualy test the following (A country is assessed as ‘Yes’ if it has a framework climate law that fulfils all of\n",
    "the following):\n",
    "\n",
    "ASCOR brokes down CP1a into 4 criteria, which a different LLM handles:\n",
    "\n",
    "1. It sets a strategic direction for decarbonisation\n",
    "\n",
    "2. It is enshrined in law\n",
    "\n",
    "3. It sets out at least one of the following obligations\n",
    "\n",
    "4. Also check this In exceptional cases, the combination of a broad environmental law and a clearly linked executive climate strategy may be sufficient to meet these criteria\n",
    "\n",
    "We can see the prompt for criteria 1 here:"
   ]
  },
  {
   "cell_type": "code",
   "execution_count": null,
   "metadata": {},
   "outputs": [],
   "source": [
    "# Print the system message template\n",
    "print(\"System Message Template:\")\n",
    "print(cp1a_criterion_1_prompt.messages[0].prompt.template)\n",
    "\n",
    "print(\"\\n\" + \"=\"*50 + \"\\n\")\n",
    "\n",
    "# Print the human message template  \n",
    "print(\"Human Message Template:\")\n",
    "print(cp1a_criterion_1_prompt.messages[1].prompt.template)"
   ]
  },
  {
   "cell_type": "markdown",
   "metadata": {},
   "source": [
    "According to ASCOR if 1,2,3 are satisfied or 4 is satisfied, then CP1a is answered as Yes.\n",
    "\n",
    "\n",
    "We can therefore see the prompt for the model that determines the overall assessment: "
   ]
  },
  {
   "cell_type": "code",
   "execution_count": null,
   "metadata": {},
   "outputs": [],
   "source": [
    "# Print the system message template\n",
    "print(\"System Message Template:\")\n",
    "print(cp1a_final_assessment_prompt.messages[0].prompt.template)\n",
    "\n",
    "print(\"\\n\" + \"=\"*50 + \"\\n\")\n",
    "\n",
    "# Print the human message template  \n",
    "print(\"Human Message Template:\")\n",
    "print(cp1a_final_assessment_prompt.messages[1].prompt.template)"
   ]
  },
  {
   "cell_type": "markdown",
   "metadata": {},
   "source": [
    "### 3. Demo assessment \n",
    "\n",
    "Lets run an assessment for (country)"
   ]
  },
  {
   "cell_type": "code",
   "execution_count": null,
   "metadata": {},
   "outputs": [],
   "source": [
    "run_cp1a_assessment(cp1a_retrieved_chunks)"
   ]
  },
  {
   "cell_type": "markdown",
   "metadata": {},
   "source": [
    "# CP1a Large Context Window Asessment\n",
    "\n",
    "Another tool just uses a more powerful large context window LLM to assess CP1a. Here is the prompt:"
   ]
  },
  {
   "cell_type": "code",
   "execution_count": null,
   "metadata": {},
   "outputs": [],
   "source": [
    "# Print the system message template\n",
    "print(\"System Message Template:\")\n",
    "print(comprehensive_assessment_prompt.messages[0].prompt.template)\n",
    "\n",
    "print(\"\\n\" + \"=\"*50 + \"\\n\")\n",
    "\n",
    "# Print the human message template  \n",
    "print(\"Human Message Template:\")\n",
    "print(comprehensive_assessment_prompt.messages[1].prompt.template)"
   ]
  },
  {
   "cell_type": "markdown",
   "metadata": {},
   "source": [
    "Lets see how it performs on the same country:\n",
    "`"
   ]
  },
  {
   "cell_type": "code",
   "execution_count": null,
   "metadata": {},
   "outputs": [],
   "source": [
    "run_cp1a_assessment_large_context(cp1a_retrieved_chunks)\n"
   ]
  },
  {
   "cell_type": "markdown",
   "metadata": {},
   "source": [
    "# CP1b Assessment\n",
    "\n",
    "CP1b is defined by ASCOR as: **Does the country’s framework climate law specify key accountability elements?**\n",
    "\n",
    "\n",
    "A country is assessed as ‘Yes’ if its framework climate law contains all three of the following accountability elements: \n",
    "1. Specification of who is accountable to whom for at least one stated obligation (e.g. accountability of executive to parliament, or private parties to executive authorities) \n",
    "2. Specification of how compliance is assessed for at least one stated obligation (e.g. transparency mechanisms in the form of monitoring, reporting and verification, parliamentary oversight, expert assessments, court proceedings) \n",
    "3. Specification of what happens in the case of non-compliance for at least one stated obligation (e.g. parliamentary intervention, judicial orders, financial penalties). \n",
    "\n",
    "Like with CP1a, these are evaluated separately and then evaluted together by a evalutor LLM. There is additional guidence in the methodology on how to asses these criteria wich is included in the prompts. \n",
    "\n",
    "Lets see how the tool performs:"
   ]
  },
  {
   "cell_type": "code",
   "execution_count": null,
   "metadata": {},
   "outputs": [],
   "source": [
    "run_cp1b_assessment()"
   ]
  }
 ],
 "metadata": {
  "language_info": {
   "name": "python"
  }
 },
 "nbformat": 4,
 "nbformat_minor": 2
}
