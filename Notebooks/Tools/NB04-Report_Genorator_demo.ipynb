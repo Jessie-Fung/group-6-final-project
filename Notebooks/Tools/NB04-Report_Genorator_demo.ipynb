{
 "cells": [
  {
   "cell_type": "markdown",
   "id": "fe5f70da",
   "metadata": {},
   "source": [
    "# Demo of the Report Genorator Tool\n",
    "\n",
    "This tool generates a structured markdown report on any topic using climate policy tracker documents. \n",
    "\n",
    "### 0. Setup"
   ]
  },
  {
   "cell_type": "code",
   "execution_count": null,
   "id": "7e499057",
   "metadata": {},
   "outputs": [],
   "source": [
    "# Import necessary modules\n",
    "import sys\n",
    "import os\n",
    "from pathlib import Path\n",
    "\n",
    "# Get the absolute path of the project root directory\n",
    "notebook_dir = Path(os.getcwd())  \n",
    "project_root = notebook_dir.parent.parent  # Go up TWO levels instead of one\n",
    "\n",
    "# Add project root to Python path\n",
    "if str(project_root) not in sys.path:\n",
    "    sys.path.insert(0, str(project_root))\n",
    "    print(f\"Added {project_root} to sys.path\")\n",
    "\n",
    "from scripts.climate_policy_pipelines.report_generation.pipeline import \n",
    "\n",
    "from sc"
   ]
  }
 ],
 "metadata": {
  "language_info": {
   "name": "python"
  }
 },
 "nbformat": 4,
 "nbformat_minor": 5
}
