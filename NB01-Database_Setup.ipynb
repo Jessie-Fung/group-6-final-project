{
 "cells": [
  {
   "cell_type": "markdown",
   "id": "83736cf2",
   "metadata": {},
   "source": [
    "# 1. Set up the Huggingface Climate Policy Radar dataset."
   ]
  },
  {
   "cell_type": "code",
   "execution_count": null,
   "id": "0dd415c7",
   "metadata": {},
   "outputs": [],
   "source": [
    "import os\n",
    "import regex as re\n",
    "from tqdm.notebook import tqdm\n",
    "from dotenv import load_dotenv\n",
    "import pandas as pd\n",
    "import numpy as np\n",
    "import pgai\n",
    "import torch\n",
    "from transformers import AutoTokenizer, AutoModel, AutoModelForMaskedLM\n",
    "from datasets import load_dataset, Features, Value\n",
    "from functions import generate_embeddings_for_text\n",
    "import glob\n",
    "\n",
    "tqdm.pandas()"
   ]
  },
  {
   "cell_type": "code",
   "execution_count": null,
   "id": "e4b6dc7b",
   "metadata": {},
   "outputs": [],
   "source": [
    "# Login using e.g. `huggingface-cli login` in command line to access this dataset\n",
    "\n",
    "ds = load_dataset(\"ClimatePolicyRadar/all-document-text-data\")\n",
    "ds = ds[\"train\"]"
   ]
  },
  {
   "cell_type": "code",
   "execution_count": null,
   "id": "d5735275",
   "metadata": {},
   "outputs": [],
   "source": [
    "ds.features"
   ]
  },
  {
   "cell_type": "code",
   "execution_count": null,
   "id": "2ad46e40",
   "metadata": {},
   "outputs": [],
   "source": [
    "flat_ds = ds.flatten()"
   ]
  },
  {
   "cell_type": "code",
   "execution_count": null,
   "id": "a91f6e8d",
   "metadata": {},
   "outputs": [],
   "source": [
    "for key in flat_ds.features.keys():\n",
    "    print(type(flat_ds[18:19][key][0]))"
   ]
  },
  {
   "cell_type": "markdown",
   "id": "c3982d64",
   "metadata": {},
   "source": [
    "## Save 100000 chunks in Postgres"
   ]
  },
  {
   "cell_type": "code",
   "execution_count": null,
   "id": "cbf79a6c",
   "metadata": {},
   "outputs": [],
   "source": [
    "from sqlalchemy import create_engine, text\n",
    "from dotenv import load_dotenv\n",
    "import os\n",
    "\n",
    "load_dotenv # This loads the .env file into os.environ\n",
    "batch_df = pd.DataFrame(flat_ds[:100000])\n",
    "# Set up the database connection using SQLAlchemy\n",
    "engine = create_engine(os.getenv(\"DB_URL\"))\n",
    "\n",
    "# Write the pandas DataFrame to the PostgreSQL database\n",
    "batch_df.to_sql('climate_policy_radar', engine, if_exists='replace', index=False)"
   ]
  },
  {
   "cell_type": "markdown",
   "id": "069f90c8",
   "metadata": {},
   "source": [
    "## Attempt to change arrays to strings for entire dataset\n",
    "\n",
    "Just keeping this here for future reference. I don't think it's needed"
   ]
  },
  {
   "cell_type": "code",
   "execution_count": null,
   "id": "f93e9765",
   "metadata": {},
   "outputs": [],
   "source": [
    "def array_to_string(batch):\n",
    "    keys_to_process = [\n",
    "        \"document_metadata.geographies\",\n",
    "        \"document_metadata.languages\",\n",
    "        \"languages\",\n",
    "        \"pdf_data_page_metadata.dimensions\",\n",
    "        \"text_block.coords\"\n",
    "    ]\n",
    "    for key in keys_to_process:\n",
    "        # Convert numpy arrays to lists\n",
    "        batch[key] = [str(x) for x in batch[key]]\n",
    "    return batch"
   ]
  },
  {
   "cell_type": "code",
   "execution_count": null,
   "id": "1cf46f4a",
   "metadata": {},
   "outputs": [],
   "source": [
    "# Apply the function to the dataset. This takes the longest time\n",
    "flat_ds = flat_ds.map(array_to_string, batched = True)"
   ]
  }
 ],
 "metadata": {
  "kernelspec": {
   "display_name": "group_rag.venv",
   "language": "python",
   "name": "python3"
  },
  "language_info": {
   "codemirror_mode": {
    "name": "ipython",
    "version": 3
   },
   "file_extension": ".py",
   "mimetype": "text/x-python",
   "name": "python",
   "nbconvert_exporter": "python",
   "pygments_lexer": "ipython3",
   "version": "3.12.10"
  }
 },
 "nbformat": 4,
 "nbformat_minor": 5
}
