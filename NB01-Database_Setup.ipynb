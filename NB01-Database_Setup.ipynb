{
 "cells": [
  {
   "cell_type": "markdown",
   "id": "83736cf2",
   "metadata": {},
   "source": [
    "# 1. Set up the Huggingface Climate Policy Radar dataset."
   ]
  },
  {
   "cell_type": "code",
   "execution_count": 43,
   "id": "0dd415c7",
   "metadata": {},
   "outputs": [],
   "source": [
    "import os\n",
    "import regex as re\n",
    "from tqdm.notebook import tqdm\n",
    "from dotenv import load_dotenv\n",
    "import pandas as pd\n",
    "import numpy as np\n",
    "import pgai\n",
    "import torch\n",
    "from transformers import AutoTokenizer, AutoModel, AutoModelForMaskedLM\n",
    "from datasets import load_dataset, Features, Value\n",
    "from functions import generate_embeddings_for_text\n",
    "import glob\n",
    "\n",
    "tqdm.pandas()"
   ]
  },
  {
   "cell_type": "code",
   "execution_count": 2,
   "id": "e4b6dc7b",
   "metadata": {},
   "outputs": [
    {
     "data": {
      "application/vnd.jupyter.widget-view+json": {
       "model_id": "24c46f110dd54ac8b2cb29d290f83d14",
       "version_major": 2,
       "version_minor": 0
      },
      "text/plain": [
       "Resolving data files:   0%|          | 0/23 [00:00<?, ?it/s]"
      ]
     },
     "metadata": {},
     "output_type": "display_data"
    },
    {
     "data": {
      "application/vnd.jupyter.widget-view+json": {
       "model_id": "3da05ae6bec74db5acc1dbb0e1d19c61",
       "version_major": 2,
       "version_minor": 0
      },
      "text/plain": [
       "Loading dataset shards:   0%|          | 0/42 [00:00<?, ?it/s]"
      ]
     },
     "metadata": {},
     "output_type": "display_data"
    }
   ],
   "source": [
    "# Login using e.g. `huggingface-cli login` in command line to access this dataset\n",
    "\n",
    "ds = load_dataset(\"ClimatePolicyRadar/all-document-text-data\")\n",
    "ds = ds[\"train\"]"
   ]
  },
  {
   "cell_type": "code",
   "execution_count": 3,
   "id": "d5735275",
   "metadata": {},
   "outputs": [
    {
     "data": {
      "text/plain": [
       "{'document_id': Value(dtype='string', id=None),\n",
       " 'document_metadata.collection_summary': Value(dtype='string', id=None),\n",
       " 'document_metadata.collection_title': Value(dtype='string', id=None),\n",
       " 'document_metadata.corpus_type_name': Value(dtype='string', id=None),\n",
       " 'document_metadata.corpus_import_id': Value(dtype='string', id=None),\n",
       " 'document_metadata.category': Value(dtype='string', id=None),\n",
       " 'document_metadata.description': Value(dtype='string', id=None),\n",
       " 'document_metadata.document_title': Value(dtype='string', id=None),\n",
       " 'document_metadata.family_import_id': Value(dtype='string', id=None),\n",
       " 'document_metadata.family_slug': Value(dtype='string', id=None),\n",
       " 'document_metadata.geographies': Sequence(feature=Value(dtype='string', id=None), length=-1, id=None),\n",
       " 'document_metadata.import_id': Value(dtype='string', id=None),\n",
       " 'document_metadata.languages': Sequence(feature=Value(dtype='string', id=None), length=-1, id=None),\n",
       " 'document_metadata.metadata': {'author': Sequence(feature=Value(dtype='string', id=None), length=-1, id=None),\n",
       "  'author_type': Sequence(feature=Value(dtype='string', id=None), length=-1, id=None),\n",
       "  'framework': Sequence(feature=Value(dtype='string', id=None), length=-1, id=None),\n",
       "  'hazard': Sequence(feature=Value(dtype='string', id=None), length=-1, id=None),\n",
       "  'instrument': Sequence(feature=Value(dtype='string', id=None), length=-1, id=None),\n",
       "  'keyword': Sequence(feature=Value(dtype='string', id=None), length=-1, id=None),\n",
       "  'sector': Sequence(feature=Value(dtype='string', id=None), length=-1, id=None),\n",
       "  'topic': Sequence(feature=Value(dtype='string', id=None), length=-1, id=None)},\n",
       " 'document_metadata.family_title': Value(dtype='string', id=None),\n",
       " 'document_metadata.publication_ts': Value(dtype='string', id=None),\n",
       " 'document_metadata.slug': Value(dtype='string', id=None),\n",
       " 'document_metadata.source': Value(dtype='string', id=None),\n",
       " 'document_metadata.source_url': Value(dtype='string', id=None),\n",
       " 'document_metadata.type': Value(dtype='string', id=None),\n",
       " 'document_cdn_object': Value(dtype='string', id=None),\n",
       " 'document_content_type': Value(dtype='string', id=None),\n",
       " 'document_md5_sum': Value(dtype='string', id=None),\n",
       " 'languages': Sequence(feature=Value(dtype='string', id=None), length=-1, id=None),\n",
       " 'document_metadata.translated': Value(dtype='bool', id=None),\n",
       " 'pdf_data_page_metadata.dimensions': Sequence(feature=Value(dtype='float64', id=None), length=-1, id=None),\n",
       " '_html_data.detected_title': Value(dtype='string', id=None),\n",
       " '_html_data.detected_date': Value(dtype='string', id=None),\n",
       " '_html_data.has_valid_text': Value(dtype='bool', id=None),\n",
       " 'pipeline_metadata.parser_metadata': {'azure_api_version': Value(dtype='string', id=None),\n",
       "  'azure_model_id': Value(dtype='string', id=None),\n",
       "  'parsing_date': Value(dtype='string', id=None)},\n",
       " 'text_block.text_block_id': Value(dtype='string', id=None),\n",
       " 'text_block.language': Value(dtype='string', id=None),\n",
       " 'text_block.type': Value(dtype='string', id=None),\n",
       " 'text_block.type_confidence': Value(dtype='float64', id=None),\n",
       " 'text_block.coords': Sequence(feature=Sequence(feature=Value(dtype='float64', id=None), length=-1, id=None), length=-1, id=None),\n",
       " 'text_block.page_number': Value(dtype='int64', id=None),\n",
       " 'text_block.text': Value(dtype='string', id=None),\n",
       " 'text_block.index': Value(dtype='int64', id=None)}"
      ]
     },
     "execution_count": 3,
     "metadata": {},
     "output_type": "execute_result"
    }
   ],
   "source": [
    "ds.features"
   ]
  },
  {
   "cell_type": "code",
   "execution_count": 4,
   "id": "2ad46e40",
   "metadata": {},
   "outputs": [],
   "source": [
    "flat_ds = ds.flatten()"
   ]
  },
  {
   "cell_type": "code",
   "execution_count": 5,
   "id": "a91f6e8d",
   "metadata": {},
   "outputs": [
    {
     "name": "stdout",
     "output_type": "stream",
     "text": [
      "<class 'str'>\n",
      "<class 'NoneType'>\n",
      "<class 'NoneType'>\n",
      "<class 'str'>\n",
      "<class 'str'>\n",
      "<class 'str'>\n",
      "<class 'str'>\n",
      "<class 'str'>\n",
      "<class 'str'>\n",
      "<class 'str'>\n",
      "<class 'list'>\n",
      "<class 'str'>\n",
      "<class 'list'>\n",
      "<class 'NoneType'>\n",
      "<class 'NoneType'>\n",
      "<class 'NoneType'>\n",
      "<class 'NoneType'>\n",
      "<class 'NoneType'>\n",
      "<class 'NoneType'>\n",
      "<class 'NoneType'>\n",
      "<class 'NoneType'>\n",
      "<class 'str'>\n",
      "<class 'str'>\n",
      "<class 'str'>\n",
      "<class 'str'>\n",
      "<class 'str'>\n",
      "<class 'str'>\n",
      "<class 'str'>\n",
      "<class 'str'>\n",
      "<class 'str'>\n",
      "<class 'list'>\n",
      "<class 'bool'>\n",
      "<class 'list'>\n",
      "<class 'NoneType'>\n",
      "<class 'NoneType'>\n",
      "<class 'NoneType'>\n",
      "<class 'str'>\n",
      "<class 'str'>\n",
      "<class 'str'>\n",
      "<class 'str'>\n",
      "<class 'str'>\n",
      "<class 'str'>\n",
      "<class 'float'>\n",
      "<class 'list'>\n",
      "<class 'int'>\n",
      "<class 'str'>\n",
      "<class 'int'>\n"
     ]
    }
   ],
   "source": [
    "for key in flat_ds.features.keys():\n",
    "    print(type(flat_ds[18:19][key][0]))"
   ]
  },
  {
   "cell_type": "markdown",
   "id": "c3982d64",
   "metadata": {},
   "source": [
    "## Save 100000 chunks in Postgres"
   ]
  },
  {
   "cell_type": "code",
   "execution_count": null,
   "id": "cbf79a6c",
   "metadata": {},
   "outputs": [
    {
     "data": {
      "text/plain": [
       "615"
      ]
     },
     "execution_count": 6,
     "metadata": {},
     "output_type": "execute_result"
    }
   ],
   "source": [
    "from sqlalchemy import create_engine, text\n",
    "from dotenv import load_dotenv\n",
    "import os\n",
    "\n",
    "load_dotenv # This loads the .env file into os.environ\n",
    "batch_df = pd.DataFrame(flat_ds[:100000])\n",
    "# Set up the database connection using SQLAlchemy\n",
    "engine = create_engine(os.getenv(\"DB_URL\"))\n",
    "\n",
    "# Write the pandas DataFrame to the PostgreSQL database\n",
    "batch_df.to_sql('climate_policy_radar', engine, if_exists='replace', index=False)"
   ]
  },
  {
   "cell_type": "markdown",
   "id": "069f90c8",
   "metadata": {},
   "source": [
    "## Attempt to change arrays to strings for entire dataset\n",
    "\n",
    "Just keeping this here for future reference. I don't think it's needed"
   ]
  },
  {
   "cell_type": "code",
   "execution_count": 21,
   "id": "f93e9765",
   "metadata": {},
   "outputs": [],
   "source": [
    "def array_to_string(batch):\n",
    "    keys_to_process = [\n",
    "        \"document_metadata.geographies\",\n",
    "        \"document_metadata.languages\",\n",
    "        \"languages\",\n",
    "        \"pdf_data_page_metadata.dimensions\",\n",
    "        \"text_block.coords\"\n",
    "    ]\n",
    "    for key in keys_to_process:\n",
    "        # Convert numpy arrays to lists\n",
    "        batch[key] = [str(x) for x in batch[key]]\n",
    "    return batch"
   ]
  },
  {
   "cell_type": "code",
   "execution_count": null,
   "id": "1cf46f4a",
   "metadata": {},
   "outputs": [],
   "source": [
    "# Apply the function to the dataset. This takes the longest time\n",
    "flat_ds = flat_ds.map(array_to_string, batched = True)"
   ]
  }
 ],
 "metadata": {
  "kernelspec": {
   "display_name": "project-env",
   "language": "python",
   "name": "python3"
  },
  "language_info": {
   "codemirror_mode": {
    "name": "ipython",
    "version": 3
   },
   "file_extension": ".py",
   "mimetype": "text/x-python",
   "name": "python",
   "nbconvert_exporter": "python",
   "pygments_lexer": "ipython3",
   "version": "3.12.4"
  }
 },
 "nbformat": 4,
 "nbformat_minor": 5
}
